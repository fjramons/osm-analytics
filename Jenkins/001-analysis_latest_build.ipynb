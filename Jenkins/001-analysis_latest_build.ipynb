{
 "cells": [
  {
   "cell_type": "markdown",
   "metadata": {},
   "source": [
    "# Analysis of latest Robot reports per branch\r\n"
   ]
  },
  {
   "cell_type": "code",
   "execution_count": null,
   "metadata": {
    "jupyter": {
     "source_hidden": true
    }
   },
   "outputs": [],
   "source": [
    "import os\r\n",
    "import pandas as pd\r\n",
    "import numpy as np\r\n",
    "#import getpass\r\n",
    "from sqlalchemy import create_engine\r\n",
    "import seaborn as sns\r\n",
    "import matplotlib.pyplot as plt"
   ]
  },
  {
   "cell_type": "code",
   "execution_count": null,
   "metadata": {},
   "outputs": [],
   "source": [
    "######################## Input parameters ########################"
   ]
  },
  {
   "cell_type": "code",
   "execution_count": null,
   "metadata": {
    "jupyter": {
     "source_hidden": true
    }
   },
   "outputs": [],
   "source": [
    "inputs_folder = 'etl_outputs'\r\n",
    "outputs_folder = 'report_outputs'\r\n",
    "database_uri = f'sqlite:///{inputs_folder}/test_executions.db'\r\n",
    "table_known_builds = 'builds_info'  # TODO: To remove at the end of the cleanup process\r\n",
    "table_robot_reports = 'robot_reports'  # TODO: To remove at the end of the cleanup process\r\n",
    "table_robot_reports_extended = 'robot_reports_extended'  # TODO: To remove at the end of the cleanup process\r\n",
    "\r\n",
    "too_old_builds = \"2020-12-15\""
   ]
  },
  {
   "cell_type": "code",
   "execution_count": null,
   "metadata": {
    "jupyter": {
     "source_hidden": true
    }
   },
   "outputs": [],
   "source": [
    "today = pd.to_datetime(\"today\").strftime('%Y-%m-%d')\r\n",
    "print('Date: ', today)"
   ]
  },
  {
   "cell_type": "code",
   "execution_count": null,
   "metadata": {},
   "outputs": [],
   "source": [
    "###################################################################"
   ]
  },
  {
   "cell_type": "code",
   "execution_count": null,
   "metadata": {},
   "outputs": [],
   "source": [
    "############################ Load data ############################"
   ]
  },
  {
   "cell_type": "code",
   "execution_count": null,
   "metadata": {},
   "outputs": [],
   "source": [
    "def load_latest_builds_all_jobs(engine, too_old_builds='1980-12-15'):\r\n",
    "\t'''\r\n",
    "\tFrom each of the known jobs, retrieves their latest build.\r\n",
    "\tReturns a dataframe with a row per job.\r\n",
    "\r\n",
    "\tUsage:\r\n",
    "\r\n",
    "\tload_latest_builds(engine, too_old_builds='1980-12-15')\r\n",
    "\r\n",
    "\t- `engine`: Database engine to use for the connection.\r\n",
    "\t- `too_old_builds`: Limits the query to builds not older than a date. By default, it does not limit in practice (1980!).\r\n",
    "\t'''\r\n",
    "\r\n",
    "\ttable_known_builds = 'builds_info'\r\n",
    "\r\n",
    "\tquery_latest_builds = f'''\r\n",
    "\tSELECT main.*\r\n",
    "\tFROM {table_known_builds} AS main\r\n",
    "\tINNER JOIN (\r\n",
    "\t\tSELECT job, MAX(timestamp) as ts\r\n",
    "\t\tFROM {table_known_builds}\r\n",
    "\t\tWHERE timestamp>DATETIME(\"{too_old_builds}\")\r\n",
    "\t\tGROUP BY job\r\n",
    "\t) AS latest_build\r\n",
    "\tON main.job=latest_build.job AND main.timestamp=ts\r\n",
    "\t'''\r\n",
    "\r\n",
    "\twith engine.begin() as conn:\r\n",
    "\t\tdf_latest_builds = pd.read_sql(query_latest_builds, con=conn)\r\n",
    "\r\n",
    "\tdf_latest_builds['timestamp'] = pd.to_datetime(df_latest_builds.timestamp)\r\n",
    "\r\n",
    "\treturn df_latest_builds"
   ]
  },
  {
   "cell_type": "code",
   "execution_count": null,
   "metadata": {},
   "outputs": [],
   "source": [
    "def load_latest_report_all_jobs(engine, too_old_builds='1980-12-15'):\r\n",
    "\t'''\r\n",
    "\tFrom each of the known jobs, retrieves the report from their latest build.\r\n",
    "\tReturns a dataframe with a row per suite per job (in case the latest build of the job generated a report).\r\n",
    "\r\n",
    "\tUsage:\r\n",
    "\r\n",
    "\tload_latest_report_all_jobs(engine, too_old_builds='1980-12-15')\r\n",
    "\r\n",
    "\t- `engine`: Database engine to use for the connection.\r\n",
    "\t- `too_old_builds`: Limits the query to builds not older than a date. By default, it does not limit in practice (1980!).\r\n",
    "\r\n",
    "\t'''\r\n",
    "\ttable =  'robot_reports'\r\n",
    "\ttable_known_builds = 'builds_info'\r\n",
    "\r\n",
    "\tquery_robot_reports = f'''\r\n",
    "\tSELECT details.*\r\n",
    "\tFROM {table} AS details\r\n",
    "\tINNER JOIN {table_known_builds} AS main\r\n",
    "\tON details.job=main.job AND details.build=main.build\r\n",
    "\tINNER JOIN (\r\n",
    "\t\tSELECT job, MAX(timestamp) as ts\r\n",
    "\t\tFROM {table_known_builds}\r\n",
    "\t\tWHERE timestamp>DATETIME(\"{too_old_builds}\")\r\n",
    "\t\tGROUP BY job\r\n",
    "\t) AS latest_build\r\n",
    "\tON main.job=latest_build.job AND main.timestamp=ts\r\n",
    "\t'''\r\n",
    "\r\n",
    "\twith engine.begin() as conn:\r\n",
    "\t\tdf_robot_reports = pd.read_sql(query_robot_reports, con=conn)\r\n",
    "\r\n",
    "\tdf_robot_reports['starttime'] = pd.to_datetime(df_robot_reports.starttime)\r\n",
    "\tdf_robot_reports['endtime'] = pd.to_datetime(df_robot_reports.endtime)\r\n",
    "\r\n",
    "\treturn df_robot_reports"
   ]
  },
  {
   "cell_type": "code",
   "execution_count": null,
   "metadata": {},
   "outputs": [],
   "source": [
    "def load_latest_extended_report_all_jobs(engine, too_old_builds='1980-12-15'):\r\n",
    "\t'''\r\n",
    "\tFrom each of the known jobs, retrieves the extended report from their latest build.\r\n",
    "\tReturns a dataframe with a row per test per suite per job (in case the latest build of the job generated a report).\r\n",
    "\r\n",
    "\tUsage:\r\n",
    "\r\n",
    "\tload_latest_extendend_report_all_jobs(engine, too_old_builds='1980-12-15')\r\n",
    "\r\n",
    "\t- `engine`: Database engine to use for the connection.\r\n",
    "\t- `too_old_builds`: Limits the query to builds not older than a date. By default, it does not limit in practice (1980!).\r\n",
    "\t'''\r\n",
    "\r\n",
    "\ttable = 'robot_reports_extended'\r\n",
    "\ttable_known_builds = 'builds_info'\r\n",
    "\r\n",
    "\tquery_robot_reports = f'''\r\n",
    "\tSELECT details.*\r\n",
    "\tFROM {table} AS details\r\n",
    "\tINNER JOIN {table_known_builds} AS main\r\n",
    "\tON details.job=main.job AND details.build=main.build\r\n",
    "\tINNER JOIN (\r\n",
    "\t\tSELECT job, MAX(timestamp) as ts\r\n",
    "\t\tFROM {table_known_builds}\r\n",
    "\t\tWHERE timestamp>DATETIME(\"{too_old_builds}\")\r\n",
    "\t\tGROUP BY job\r\n",
    "\t) AS latest_build\r\n",
    "\tON main.job=latest_build.job AND main.timestamp=ts\r\n",
    "\t'''\r\n",
    "\r\n",
    "\twith engine.begin() as conn:\r\n",
    "\t\tdf_robot_reports_extended = pd.read_sql(query_robot_reports, con=conn)\r\n",
    "\r\n",
    "\tdf_robot_reports_extended['starttime'] = pd.to_datetime(df_robot_reports_extended.starttime)\r\n",
    "\tdf_robot_reports_extended['endtime'] = pd.to_datetime(df_robot_reports_extended.endtime)\r\n",
    "\r\n",
    "\treturn df_robot_reports_extended"
   ]
  },
  {
   "cell_type": "code",
   "execution_count": null,
   "metadata": {
    "jupyter": {
     "source_hidden": true
    }
   },
   "outputs": [],
   "source": [
    "engine = create_engine(database_uri)\r\n",
    "\r\n",
    "df_latest_builds_all_jobs = load_latest_builds_all_jobs(engine, too_old_builds=too_old_builds)\r\n",
    "df_latest_report_all_jobs = load_latest_report_all_jobs(engine, too_old_builds=too_old_builds)\r\n",
    "df_latest_extended_report_all_jobs = load_latest_extended_report_all_jobs(engine, too_old_builds=too_old_builds)"
   ]
  },
  {
   "cell_type": "code",
   "execution_count": null,
   "metadata": {},
   "outputs": [],
   "source": [
    "###################################################################"
   ]
  },
  {
   "cell_type": "markdown",
   "metadata": {},
   "source": [
    "### Latest build of each job"
   ]
  },
  {
   "cell_type": "code",
   "execution_count": null,
   "metadata": {},
   "outputs": [],
   "source": [
    "display(df_latest_builds_all_jobs)"
   ]
  },
  {
   "cell_type": "markdown",
   "metadata": {},
   "source": [
    "### Failed tests per job (if they exist):"
   ]
  },
  {
   "cell_type": "code",
   "execution_count": null,
   "metadata": {},
   "outputs": [],
   "source": [
    "relevant_jobs = ['osm-stage_3-merge/v10.0', 'osm-stage_3-merge/master', 'osm-stage_3-merge/v9.0']"
   ]
  },
  {
   "cell_type": "code",
   "execution_count": null,
   "metadata": {},
   "outputs": [],
   "source": [
    "df_failed = (\r\n",
    "    df_latest_report_all_jobs\r\n",
    "    .query(\"status=='FAIL'\")\r\n",
    ")\r\n",
    "\r\n",
    "for job_name in relevant_jobs:\r\n",
    "    display(job_name)\r\n",
    "    display(\r\n",
    "        df_failed\r\n",
    "        .query('job==@job_name')\r\n",
    "        .drop(columns=['build', 'source', 'job', 'id', 'failed_test_id'])\r\n",
    "    )"
   ]
  },
  {
   "cell_type": "markdown",
   "metadata": {},
   "source": [
    "### Details of failed tests into failing test suites (if they exist):"
   ]
  },
  {
   "cell_type": "code",
   "execution_count": null,
   "metadata": {},
   "outputs": [],
   "source": [
    "df_details_failed = (\r\n",
    "    df_latest_extended_report_all_jobs\r\n",
    "    .merge(\r\n",
    "        df_failed[['job', 'build', 'name']],\r\n",
    "        how='inner',\r\n",
    "        left_on=['job', 'build', 'suite_name'],\r\n",
    "        right_on=['job', 'build', 'name']\r\n",
    "        )\r\n",
    "    .drop(columns=['suite_id', 'test_id', 'name'])\r\n",
    "    .query('status==\"FAIL\"')\r\n",
    ")\r\n",
    "\r\n",
    "for job_name in relevant_jobs:\r\n",
    "    display(job_name)\r\n",
    "    display(\r\n",
    "        df_details_failed\r\n",
    "        .query('job==@job_name')\r\n",
    "        .drop(columns=['job', 'build'])\r\n",
    "    )"
   ]
  },
  {
   "cell_type": "code",
   "execution_count": null,
   "metadata": {},
   "outputs": [],
   "source": [
    "!jupyter nbconvert --to html --output report_outputs/analysis_latest_build.html --TemplateExporter.exclude_input=True 001-analysis_latest_build.ipynb"
   ]
  },
  {
   "cell_type": "code",
   "execution_count": null,
   "metadata": {},
   "outputs": [],
   "source": []
  }
 ],
 "metadata": {
  "interpreter": {
   "hash": "436f2814f1f12011c00cf6933038a969dd0edc275127d459a28a14c2140dfae0"
  },
  "kernelspec": {
   "display_name": "Python 3.8.5 64-bit ('osm-analytics': conda)",
   "name": "python3"
  },
  "language_info": {
   "codemirror_mode": {
    "name": "ipython",
    "version": 3
   },
   "file_extension": ".py",
   "mimetype": "text/x-python",
   "name": "python",
   "nbconvert_exporter": "python",
   "pygments_lexer": "ipython3",
   "version": "3.8.5"
  }
 },
 "nbformat": 4,
 "nbformat_minor": 4
}
