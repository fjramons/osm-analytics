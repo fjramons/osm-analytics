{
 "cells": [
  {
   "cell_type": "markdown",
   "metadata": {},
   "source": [
    " # Analysis of Robot reports from OSM Jenkins"
   ]
  },
  {
   "cell_type": "code",
   "execution_count": null,
   "metadata": {},
   "outputs": [],
   "source": [
    "import os\n",
    "import xml.etree.ElementTree as et\n",
    "import pandas as pd\n",
    "import requests\n",
    "import jenkins\n",
    "import getpass"
   ]
  },
  {
   "cell_type": "markdown",
   "metadata": {},
   "source": [
    " ## 0. Input parameters"
   ]
  },
  {
   "cell_type": "code",
   "execution_count": null,
   "metadata": {},
   "outputs": [],
   "source": [
    "inputs_folder = 'inputs'\n",
    "input_robot_file = 'output.xml'\n",
    "job_name = 'osm-stage_3-merge/v9.0'\n",
    "url_jenkins_server = 'https://osm.etsi.org/jenkins'"
   ]
  },
  {
   "cell_type": "markdown",
   "metadata": {},
   "source": [
    " Credentials:"
   ]
  },
  {
   "cell_type": "code",
   "execution_count": null,
   "metadata": {},
   "outputs": [],
   "source": [
    "# If the '.env' file exists, loads the environment variables\n",
    "try:\n",
    "    with open('.env', 'r', encoding='utf-8') as f:\n",
    "        for line in f:\n",
    "            line = line.strip()\n",
    "            key, value = line.split('=')\n",
    "            os.environ[key] = value\n",
    "except FileNotFoundError as e:\n",
    "    print(\"Environment file ('.env') does not exist. Skipping...\")"
   ]
  },
  {
   "cell_type": "code",
   "execution_count": null,
   "metadata": {},
   "outputs": [],
   "source": [
    "username = os.environ.get('JENKINS_USER', None) or input('Username: ')\n",
    "password = os.environ.get('JENKINS_PASS', None) or getpass.getpass()"
   ]
  },
  {
   "cell_type": "markdown",
   "metadata": {},
   "source": [
    "## 1. Retrieval of Jenkins jobs info and Robot reports"
   ]
  },
  {
   "cell_type": "markdown",
   "metadata": {},
   "source": [
    " Opens session with the Jenkins server:"
   ]
  },
  {
   "cell_type": "code",
   "execution_count": null,
   "metadata": {},
   "outputs": [],
   "source": [
    "server = jenkins.Jenkins(url_jenkins_server, username=username, password=password)"
   ]
  },
  {
   "cell_type": "markdown",
   "metadata": {},
   "source": [
    "Tests the connection to the Jenkins server:"
   ]
  },
  {
   "cell_type": "code",
   "execution_count": null,
   "metadata": {},
   "outputs": [],
   "source": [
    "def test_jenkins_connection(server):\n",
    "    user = server.get_whoami()\n",
    "    version = server.get_version()\n",
    "    print(f'Hello {user[\"fullName\"]} from Jenkins {version}')"
   ]
  },
  {
   "cell_type": "code",
   "execution_count": null,
   "metadata": {},
   "outputs": [],
   "source": [
    "test_jenkins_connection(server)"
   ]
  },
  {
   "cell_type": "markdown",
   "metadata": {},
   "source": [
    " ### 1.1 Jobs in the Jenkins server"
   ]
  },
  {
   "cell_type": "markdown",
   "metadata": {},
   "source": [
    "Retrieves the list of jobs that exist in the Jenkins server:"
   ]
  },
  {
   "cell_type": "code",
   "execution_count": null,
   "metadata": {},
   "outputs": [],
   "source": [
    "def get_all_jenkins_jobs_as_df(server):\n",
    "    jenkinsJobs = server.get_all_jobs()\n",
    "    df_jobs = pd.DataFrame(jenkinsJobs)\n",
    "    return df_jobs"
   ]
  },
  {
   "cell_type": "code",
   "execution_count": null,
   "metadata": {},
   "outputs": [],
   "source": [
    "get_all_jenkins_jobs_as_df(server)"
   ]
  },
  {
   "cell_type": "markdown",
   "metadata": {},
   "source": [
    "1.2 Analysis of specific jobs: e.g. v9.0 testing job (`job_name`)"
   ]
  },
  {
   "cell_type": "code",
   "execution_count": null,
   "metadata": {},
   "outputs": [],
   "source": [
    "def get_job_summary(server, job_name):\n",
    "\n",
    "    # Obtains all the raw information about the job:\n",
    "    my_job = server.get_job_info(job_name, 0, True)\n",
    "\n",
    "    job_fields = [key for key in my_job]\n",
    "\n",
    "    # Builds a summary table of the selected job:\n",
    "\n",
    "    ## Retrieves all the fields except those that embed complex structures in the JSON\n",
    "    composite_fields = ['actions', 'builds', 'firstBuild', 'healthReport', 'lastBuild', 'lastCompletedBuild', 'lastFailedBuild', 'lastStableBuild', 'lastSuccessfulBuild','lastUnstableBuild', 'lastUnsuccessfulBuild', 'property']\n",
    "    my_job.get('resumeBlocked')\n",
    "    my_job_status = {k: my_job.get(k, None) for k in my_job if k not in composite_fields}\n",
    "\n",
    "    ## Adds additional info that was nested in the JSON\n",
    "    reference_builds_of_job = ['firstBuild', 'lastBuild', 'lastCompletedBuild', 'lastFailedBuild', 'lastStableBuild', 'lastSuccessfulBuild','lastUnstableBuild', 'lastUnsuccessfulBuild']\n",
    "    for k in reference_builds_of_job:\n",
    "        item = my_job.get(k, None)\n",
    "        if item:\n",
    "            my_job_status[k + '_number'] = item.get('number', None)\n",
    "            my_job_status[k + '_url'] = item.get('url', None)\n",
    "\n",
    "    return my_job_status"
   ]
  },
  {
   "cell_type": "code",
   "execution_count": null,
   "metadata": {},
   "outputs": [],
   "source": [
    "my_job_status = get_job_summary(server, job_name)\n",
    "my_job_status"
   ]
  },
  {
   "cell_type": "markdown",
   "metadata": {},
   "source": [
    "Health report of the job:"
   ]
  },
  {
   "cell_type": "code",
   "execution_count": null,
   "metadata": {},
   "outputs": [],
   "source": [
    "def get_job_health(server, job_name):\n",
    "    my_job = server.get_job_info(job_name, 0, True)\n",
    "    return my_job.get('healthReport')"
   ]
  },
  {
   "cell_type": "code",
   "execution_count": null,
   "metadata": {},
   "outputs": [],
   "source": [
    "health = get_job_health(server, job_name)\n",
    "health"
   ]
  },
  {
   "cell_type": "markdown",
   "metadata": {},
   "source": [
    "### 1.3 Analysis of builds of the reference job (v9.0 testing job)"
   ]
  },
  {
   "cell_type": "markdown",
   "metadata": {},
   "source": [
    "List of historical builds of the job:"
   ]
  },
  {
   "cell_type": "code",
   "execution_count": null,
   "metadata": {},
   "outputs": [],
   "source": [
    "def get_all_job_builds(server, job_name):\n",
    "    my_job = server.get_job_info(job_name, 0, True)\n",
    "    return pd.DataFrame(my_job.get('builds')).drop(columns='_class')"
   ]
  },
  {
   "cell_type": "code",
   "execution_count": null,
   "metadata": {},
   "outputs": [],
   "source": [
    "df_builds_of_job = get_all_job_builds(server, job_name)\n",
    "df_builds_of_job"
   ]
  },
  {
   "cell_type": "code",
   "execution_count": null,
   "metadata": {},
   "outputs": [],
   "source": [
    "print(df_builds_of_job.number.tolist())"
   ]
  },
  {
   "cell_type": "markdown",
   "metadata": {},
   "source": [
    "Retrieves all the information about a specific build:"
   ]
  },
  {
   "cell_type": "code",
   "execution_count": null,
   "metadata": {},
   "outputs": [],
   "source": [
    "def get_build_summary(server, job_name, build_number):\n",
    "    # Retrieves raw build data\n",
    "    build_info = server.get_build_info(job_name, build_number)\n",
    "\n",
    "    # Summary of key data of the build\n",
    "    relevant_build_fields = ['id', 'number', 'result', 'duration', 'estimatedDuration', 'timestamp', 'url']\n",
    "    return {k: build_info.get(k, None) for k in relevant_build_fields}"
   ]
  },
  {
   "cell_type": "code",
   "execution_count": null,
   "metadata": {},
   "outputs": [],
   "source": [
    "# We want the info of latest complete build\n",
    "build_number = my_job_status[\"lastCompletedBuild_number\"]\n",
    "my_build_summary = get_build_summary(server, job_name, build_number)\n",
    "my_build_summary"
   ]
  },
  {
   "cell_type": "markdown",
   "metadata": {},
   "source": [
    "### 1.4 Retrieval of Robot results of latest completed build of v9.0 testing job"
   ]
  },
  {
   "cell_type": "code",
   "execution_count": null,
   "metadata": {},
   "outputs": [],
   "source": [
    "# Retrieves the contents of the report file\n",
    "def get_robot_report(server, job_name, build_number):\n",
    "    robot_results_url = get_build_summary(server, job_name, build_number)['url'] + 'robot/report/output.xml'\n",
    "    req = requests.Request('POST',  robot_results_url)\n",
    "    return server.jenkins_open(req)"
   ]
  },
  {
   "cell_type": "code",
   "execution_count": null,
   "metadata": {},
   "outputs": [],
   "source": [
    "robot_report_contents = get_robot_report(server, job_name, build_number)"
   ]
  },
  {
   "cell_type": "markdown",
   "metadata": {},
   "source": [
    "## 2. Imports info from Robot test report and cleans data"
   ]
  },
  {
   "cell_type": "code",
   "execution_count": null,
   "metadata": {},
   "outputs": [],
   "source": [
    "robot_report = os.path.join(inputs_folder, input_robot_file)\n",
    "with open(robot_report, 'w', encoding='utf-8') as f:\n",
    "    print(robot_report_contents, file=f)"
   ]
  },
  {
   "cell_type": "markdown",
   "metadata": {},
   "source": [
    "### 1.1 Numerical statistics"
   ]
  },
  {
   "cell_type": "code",
   "execution_count": null,
   "metadata": {},
   "outputs": [],
   "source": [
    "def get_stats_from_report(robot_report):\n",
    "    # Finds the root of the XML tree:\n",
    "    xtree = et.parse(robot_report)\n",
    "    xroot = xtree.getroot()\n",
    "    timestamp = xroot.attrib['generated']\n",
    "\n",
    "    # Obtains the section of numerical statistics, which includes the number of passed/failed tests per testsuite:\n",
    "    statistics = xroot.find('statistics')\n",
    "    stat_suites = statistics.find('suite')\n",
    "    fields = ['id', 'name', 'pass', 'fail']\n",
    "    rows = []\n",
    "    for stat in stat_suites:\n",
    "        rows.append( {f: stat.attrib[f] for f in fields} )\n",
    "    df_test_stats = pd.DataFrame(rows)\n",
    "\n",
    "    # Fixes the types of some columns\n",
    "    df_test_stats['pass'] = df_test_stats['pass'].astype('int64')\n",
    "    df_test_stats['fail'] = df_test_stats['fail'].astype('int64')\n",
    "\n",
    "    # Removes the first row, which is redundant (just summarizes the stats of all the testsuites)\n",
    "    df_test_stats = df_test_stats.loc[1:].reset_index(drop=True)\n",
    "\n",
    "    # Adds a new column with the overall result of the test suite\n",
    "    df_test_stats['status'] = 'PASS'\n",
    "    df_test_stats.loc[df_test_stats.fail>0, 'status'] = 'FAIL'\n",
    "    df_test_stats['status'] = df_test_stats.status.astype('category')\n",
    "\n",
    "    return df_test_stats"
   ]
  },
  {
   "cell_type": "code",
   "execution_count": null,
   "metadata": {},
   "outputs": [],
   "source": [
    "df_test_stats = get_stats_from_report(robot_report)\n",
    "df_test_stats"
   ]
  },
  {
   "cell_type": "code",
   "execution_count": null,
   "metadata": {},
   "outputs": [],
   "source": [
    "df_test_stats.info()"
   ]
  },
  {
   "cell_type": "markdown",
   "metadata": {},
   "source": [
    "### 1.2 Results per test suite"
   ]
  },
  {
   "cell_type": "code",
   "execution_count": null,
   "metadata": {},
   "outputs": [],
   "source": [
    "def get_results_from_report(robot_report):\n",
    "    # Finds the root of the XML tree:\n",
    "    xtree = et.parse(robot_report)\n",
    "    xroot = xtree.getroot()\n",
    "    timestamp = xroot.attrib['generated']\n",
    "\n",
    "    # Dataframe of results of the test suites of the tests of the day\n",
    "    all_suites = xroot.find('suite')\n",
    "\n",
    "    suite_rows = []\n",
    "    status_rows = []\n",
    "    for suite in all_suites.findall('suite'):\n",
    "        # suite\n",
    "        suite_rows.append(suite.attrib)\n",
    "\n",
    "        ## suite --> status\n",
    "        status_rows.append(suite.find('status').attrib)\n",
    "\n",
    "    df_test_suites = pd.concat([pd.DataFrame(suite_rows), pd.DataFrame(status_rows)], axis=1)\n",
    "    df_test_suites['status'] = df_test_suites.status.astype('category')\n",
    "    df_test_suites['starttime'] = pd.to_datetime(df_test_suites.starttime)\n",
    "    df_test_suites['endtime'] = pd.to_datetime(df_test_suites.endtime)\n",
    "\n",
    "    return df_test_suites"
   ]
  },
  {
   "cell_type": "code",
   "execution_count": null,
   "metadata": {},
   "outputs": [],
   "source": [
    "df_test_suites = get_results_from_report(robot_report)\n",
    "df_test_suites"
   ]
  },
  {
   "cell_type": "code",
   "execution_count": null,
   "metadata": {},
   "outputs": [],
   "source": [
    "df_test_suites.info()"
   ]
  },
  {
   "cell_type": "markdown",
   "metadata": {},
   "source": [
    "### 1.3 Details of the test suites up to the level of keyword"
   ]
  },
  {
   "cell_type": "code",
   "execution_count": null,
   "metadata": {},
   "outputs": [],
   "source": [
    "def get_detailed_results_from_report(robot_report):\n",
    "    # Finds the root of the XML tree:\n",
    "    xtree = et.parse(robot_report)\n",
    "    xroot = xtree.getroot()\n",
    "    timestamp = xroot.attrib['generated']\n",
    "\n",
    "    # Dataframe with details of each keyword run in the test\n",
    "    all_suites = xroot.find('suite')\n",
    "\n",
    "    rows = []\n",
    "    for suite in all_suites.findall('suite'):\n",
    "        # suite\n",
    "        suite_id = suite.attrib['id']\n",
    "        suite_name = suite.attrib['name']\n",
    "\n",
    "        ## tests in the suite\n",
    "        for test in suite.findall('test'):\n",
    "            test_id = test.attrib['id']\n",
    "            test_name = test.attrib['name']\n",
    "\n",
    "            for kw in test.findall('kw'):\n",
    "                keyword_name = kw.attrib['name']\n",
    "                resultado = kw.find('status').attrib\n",
    "\n",
    "                line = {'suite_id': suite_id, 'suite_name': suite_name, 'test_id': test_id, 'test_name': test_name, 'keyword_name': keyword_name, **resultado}\n",
    "                rows.append(line)\n",
    "\n",
    "    df_tests_and_keywords = pd.DataFrame(rows)\n",
    "\n",
    "    # Fixes the dtype of some columns\n",
    "    df_tests_and_keywords['status'] = df_tests_and_keywords.status.astype('category')\n",
    "    df_tests_and_keywords['starttime'] = pd.to_datetime(df_tests_and_keywords.starttime)\n",
    "    df_tests_and_keywords['endtime'] = pd.to_datetime(df_tests_and_keywords.endtime)\n",
    "\n",
    "    return df_tests_and_keywords"
   ]
  },
  {
   "cell_type": "code",
   "execution_count": null,
   "metadata": {},
   "outputs": [],
   "source": [
    "df_tests_and_keywords = get_detailed_results_from_report(robot_report)\n",
    "df_tests_and_keywords"
   ]
  },
  {
   "cell_type": "code",
   "execution_count": null,
   "metadata": {},
   "outputs": [],
   "source": [
    "df_tests_and_keywords.info()"
   ]
  },
  {
   "cell_type": "markdown",
   "metadata": {},
   "source": [
    " Finds the first failure per test suite (which is the most likely root cause):"
   ]
  },
  {
   "cell_type": "code",
   "execution_count": null,
   "metadata": {},
   "outputs": [],
   "source": [
    "df_root_cause_errors = df_tests_and_keywords.loc[df_tests_and_keywords.status=='FAIL'].groupby('suite_id').first()\n",
    "df_root_cause_errors"
   ]
  },
  {
   "cell_type": "code",
   "execution_count": null,
   "metadata": {},
   "outputs": [],
   "source": [
    "df_root_cause_errors.info()"
   ]
  }
 ],
 "metadata": {
  "kernelspec": {
   "display_name": "Python 3.8.5 64-bit ('osm-analytics': conda)",
   "name": "python385jvsc74a57bd0436f2814f1f12011c00cf6933038a969dd0edc275127d459a28a14c2140dfae0"
  },
  "language_info": {
   "codemirror_mode": {
    "name": "ipython",
    "version": 3
   },
   "file_extension": ".py",
   "mimetype": "text/x-python",
   "name": "python",
   "nbconvert_exporter": "python",
   "pygments_lexer": "ipython3",
   "version": "3.8.5"
  }
 },
 "nbformat": 4,
 "nbformat_minor": 2
}
