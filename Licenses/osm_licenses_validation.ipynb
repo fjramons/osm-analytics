{
 "cells": [
  {
   "cell_type": "code",
   "execution_count": null,
   "metadata": {
    "id": "q339sgVAHS_2"
   },
   "outputs": [],
   "source": [
    "import requests\n",
    "import collections\n",
    "import pandas as pd\n",
    "from urllib.error import HTTPError\n",
    "from urllib.parse import quote_plus\n",
    "import os"
   ]
  },
  {
   "cell_type": "markdown",
   "metadata": {
    "id": "WWODW8boFDCy"
   },
   "source": [
    "# 0. Input parameters"
   ]
  },
  {
   "cell_type": "code",
   "execution_count": null,
   "metadata": {
    "id": "fiUkj_NcUYjE"
   },
   "outputs": [],
   "source": [
    "modules_and_repos = {\n",
    "    'SA': ['MON', 'POL', 'PLA'],\n",
    "    'DevOps': ['osmclient'],\n",
    "    'N2VC': ['N2VC'],\n",
    "    'NBI': ['NBI'],\n",
    "    'IM': ['IM'],\n",
    "    'NG-UI': ['NG-UI'],\n",
    "    'RO': ['RO', 'common'],\n",
    "    'LCM': ['LCM']\n",
    "}\n",
    "\n",
    "repo_full_name_format = 'osm/{module}.git'\n",
    "git_web_url_format = 'https://osm.etsi.org/gitweb/?p={repo_full_name};a=blob_plain;f={req_file_name};hb=refs/heads/{branch}'\n",
    "\n",
    "default_branch = 'master'\n",
    "# Options: 'master', 'v12.0', 'v11.0', 'v10.0'"
   ]
  },
  {
   "cell_type": "code",
   "execution_count": null,
   "metadata": {
    "id": "U9obq6P-W8Je"
   },
   "outputs": [],
   "source": [
    "# Output spreadsheet with results of online license scan from repositories\n",
    "output_online_scan_filename = 'OUTPUT - Online License Scan - OSM Dependencies.xlsx'\n",
    "\n",
    "# Optional\n",
    "#----------\n",
    "# Input spreadsheet from static scans.\n",
    "# Needs to be available (uploaded) in the base folder of the notebook environment.\n",
    "static_input_filename = 'OSM Dependencies License Compatibility.xlsx'\n",
    "output_static_scan_filename = 'OUTPUT - Static License Scan - OSM Dependencies.xlsx'"
   ]
  },
  {
   "cell_type": "code",
   "execution_count": null,
   "metadata": {
    "id": "UNgZCIEFsi5g"
   },
   "outputs": [],
   "source": [
    "# Fixes to component licenses retrieved from online sources\n",
    "license_corrections_table_file = 'License_corrections.csv'\n",
    "license_corrections_table_url = 'https://raw.githubusercontent.com/fjramons/osm-analytics/main/Licenses/License_corrections.csv'\n",
    "\n",
    "# Mappings to normalize license names\n",
    "license_mappings_file = 'License_mappings.csv'\n",
    "license_mappings_file_url = 'https://raw.githubusercontent.com/fjramons/osm-analytics/main/Licenses/License_mappings.csv'"
   ]
  },
  {
   "cell_type": "code",
   "execution_count": null,
   "metadata": {
    "id": "m5UzBKA8tly6"
   },
   "outputs": [],
   "source": [
    "# If there is a local file, it takes it; otherwise, retrieves table from URL\n",
    "if os.path.isfile(license_corrections_table_file):\n",
    "  license_corrections_table = license_corrections_table_file\n",
    "else:\n",
    "  license_corrections_table = license_corrections_table_url\n",
    "\n",
    "if os.path.isfile(license_mappings_file):\n",
    "  license_mappings_table = license_mappings_file\n",
    "else:\n",
    "  license_mappings_table = license_mappings_file_url"
   ]
  },
  {
   "cell_type": "markdown",
   "metadata": {
    "id": "Tiu7tscml5Tk"
   },
   "source": [
    "# 1. Online analysis of merged repos"
   ]
  },
  {
   "cell_type": "markdown",
   "metadata": {
    "id": "FaQnTiTQUqdp"
   },
   "source": [
    "## Retrieve `requirements.txt` or `Package.json` from each relevant repo"
   ]
  },
  {
   "cell_type": "code",
   "execution_count": null,
   "metadata": {
    "id": "mCwACJRcnO8w"
   },
   "outputs": [],
   "source": [
    "# Uncomment for debugging pipelines, if needed\n",
    "#\n",
    "# def show_me(df):\n",
    "#   display(df)\n",
    "#   return df"
   ]
  },
  {
   "cell_type": "code",
   "execution_count": null,
   "metadata": {
    "id": "Tj7JfYvIkRpm"
   },
   "outputs": [],
   "source": [
    "def get_module_pip_components(repo, branch='master'):\n",
    "\n",
    "  repo_full_name = repo_full_name_format.format(module=repo)\n",
    "  git_web_url = git_web_url_format.format(req_file_name='requirements.txt', repo_full_name=repo_full_name, branch=branch)\n",
    "\n",
    "  try:\n",
    "    df = pd.read_table(git_web_url, header=None)\n",
    "  except HTTPError:\n",
    "    print(f'{repo} does not have a standard pip requirement list')\n",
    "    return None\n",
    "\n",
    "  return (\n",
    "      df\n",
    "      .rename(columns={0: 'component'})\n",
    "      .assign(component = lambda x: x.component.str.strip())\n",
    "      .assign(is_comment = lambda x: x.component.str.startswith('#'))\n",
    "      .query('~ is_comment')\n",
    "      .drop(columns='is_comment')\n",
    "      .reset_index()\n",
    "      ['component']\n",
    "      .str.split('==', expand=True)\n",
    "      .rename(columns={0: 'component', 1: 'version'})\n",
    "  )"
   ]
  },
  {
   "cell_type": "code",
   "execution_count": null,
   "metadata": {
    "id": "AYZ7h_eccJ0s"
   },
   "outputs": [],
   "source": [
    "# Uncomment for testing\n",
    "#\n",
    "# branch = 'master'\n",
    "# repo = 'RO'\n",
    "# #repo = 'NG-UI' # Non-Pypi components, should throw errors\n",
    "# get_module_pip_components(repo, branch)"
   ]
  },
  {
   "cell_type": "code",
   "execution_count": null,
   "metadata": {
    "id": "cAKyaHREgli2"
   },
   "outputs": [],
   "source": [
    "def get_module_npm_components(repo, branch='master'):\n",
    "\n",
    "  repo_full_name = repo_full_name_format.format(module=repo)\n",
    "\n",
    "  git_web_url = git_web_url_format.format(req_file_name='package.json', repo_full_name=repo_full_name, branch=branch)\n",
    "\n",
    "  r = requests.get(git_web_url)\n",
    "  data = r.json()\n",
    "  if r.status_code == 404:\n",
    "    print(f'{repo} does not have a standard npm requirement list')\n",
    "    return None\n",
    "\n",
    "  components, versions = list(zip(*data['dependencies'].items()))\n",
    "\n",
    "  return pd.DataFrame({'component': components, 'version': versions})"
   ]
  },
  {
   "cell_type": "code",
   "execution_count": null,
   "metadata": {
    "id": "gwtugplZnBrK"
   },
   "outputs": [],
   "source": [
    "# Uncomment for testing\n",
    "#\n",
    "# branch = 'master'\n",
    "# repo = 'NG-UI'\n",
    "# get_module_npm_components(repo, branch)"
   ]
  },
  {
   "cell_type": "code",
   "execution_count": null,
   "metadata": {
    "id": "WD8ALuCdBDE9"
   },
   "outputs": [],
   "source": [
    "def get_all_module_components(modules_and_repos, branch='master'):\n",
    "\n",
    "  empty_df = pd.DataFrame(columns=['module', 'repo', 'component', 'version', 'source_type'])\n",
    "  list_of_df = [empty_df]\n",
    "\n",
    "  for module, repos in modules_and_repos.items():\n",
    "    for repo in repos:\n",
    "      print(f\"\\nRetrieving {module}'s repo {repo}...\", end='')\n",
    "\n",
    "      df = get_module_pip_components(repo, branch=branch)\n",
    "\n",
    "      if df is not None:\n",
    "        df['source_type'] = 'pip'\n",
    "\n",
    "      else:\n",
    "        print('\\t retrying as npm package list...', end='')\n",
    "        df = get_module_npm_components(repo, branch=branch)\n",
    "\n",
    "        if df is not None:\n",
    "          df['source_type'] = 'npm'\n",
    "\n",
    "        else:\n",
    "          df = pd.DataFrame(columns=['component', 'version', 'source_type'])\n",
    "\n",
    "      df['module'] = module\n",
    "      df['repo'] = repo\n",
    "\n",
    "      list_of_df.append(df)\n",
    "\n",
    "  return (\n",
    "      pd.concat(list_of_df)\n",
    "      .reset_index(drop=True)\n",
    "  )"
   ]
  },
  {
   "cell_type": "code",
   "execution_count": null,
   "metadata": {
    "colab": {
     "base_uri": "https://localhost:8080/"
    },
    "id": "PSVP5ZCTBWwa",
    "outputId": "475c8421-b9b5-47ee-b76d-e78837f6f0d1"
   },
   "outputs": [],
   "source": [
    "df_online_scan_input = get_all_module_components(modules_and_repos, default_branch)"
   ]
  },
  {
   "cell_type": "code",
   "execution_count": null,
   "metadata": {
    "colab": {
     "base_uri": "https://localhost:8080/",
     "height": 419
    },
    "id": "Q1kSP4ApBnDv",
    "outputId": "c83dfc50-3480-4d29-9308-94b5f63e4c61"
   },
   "outputs": [],
   "source": [
    "display(df_online_scan_input)\n",
    "\n",
    "# # Removes temporarily the display limits, for convenience\n",
    "# default_max_rows = pd.options.display.max_rows\n",
    "# pd.options.display.max_rows = 999\n",
    "\n",
    "# display(df_online_scan_input.query(\"repo == 'RO'\"))\n",
    "\n",
    "# # Restores display defaults\n",
    "# pd.options.display.max_rows = default_max_rows"
   ]
  },
  {
   "cell_type": "markdown",
   "metadata": {
    "id": "WXXxjC_PF6PB"
   },
   "source": [
    "## Methods to retrieve license information"
   ]
  },
  {
   "cell_type": "code",
   "execution_count": null,
   "metadata": {
    "colab": {
     "base_uri": "https://localhost:8080/",
     "height": 419
    },
    "id": "3Qg2-35WC7JA",
    "outputId": "3ad548d4-46ef-485b-c2ae-523046f232dc"
   },
   "outputs": [],
   "source": [
    "df_online_scan_input"
   ]
  },
  {
   "cell_type": "markdown",
   "metadata": {
    "id": "dE4-4eIRzHEO"
   },
   "source": [
    "### `pip` packages"
   ]
  },
  {
   "cell_type": "code",
   "execution_count": null,
   "metadata": {
    "id": "0l0ff4Z6UcC_"
   },
   "outputs": [],
   "source": [
    "def retrieve_pip_license(component_name):\n",
    "\n",
    "  license_info = collections.OrderedDict()\n",
    "  license_info['component'] = component_name\n",
    "\n",
    "  url = f\"https://pypi.org/pypi/{component_name}/json\"\n",
    "  r = requests.get(url)\n",
    "\n",
    "  # If it does not exist in PyPi, returns unknown\n",
    "  if r.status_code == 404:\n",
    "    license_info['osi_approved'] = None\n",
    "    license_info['license'] = None\n",
    "    return license_info\n",
    "\n",
    "  data = r.json()\n",
    "  line = [c for c in data['info']['classifiers'] if 'license' in c.lower()]\n",
    "\n",
    "  if line:  # Commonest format\n",
    "    fields = line[0].split(' :: ')\n",
    "    license_info['osi_approved'] = ('OSI Approved' in fields)\n",
    "    license_info['license'] = fields[-1]\n",
    "  else:     # Alternative format\n",
    "    license_info['osi_approved'] = None\n",
    "    license_info['license'] = data['info'].get('license', None)\n",
    "\n",
    "  return license_info"
   ]
  },
  {
   "cell_type": "code",
   "execution_count": null,
   "metadata": {
    "id": "R8H8B_PIT7Mk"
   },
   "outputs": [],
   "source": [
    "# Uncomment for testing the 3 known cases\n",
    "#\n",
    "# retrieve_pip_license('Jinja2')\n",
    "# retrieve_pip_license('vcd-api-schemas-type')\n",
    "# retrieve_pip_license('emitter-component')"
   ]
  },
  {
   "cell_type": "markdown",
   "metadata": {
    "id": "P40FrA3xzSxb"
   },
   "source": [
    "### `npm` packages"
   ]
  },
  {
   "cell_type": "code",
   "execution_count": null,
   "metadata": {
    "id": "_2BBgSGR236y"
   },
   "outputs": [],
   "source": [
    "def retrieve_npm_license(component_name):\n",
    "\n",
    "  license_info = collections.OrderedDict()\n",
    "  license_info['component'] = component_name\n",
    "  license_info['osi_approved'] = None # NPMS does not provide this info\n",
    "\n",
    "  safe_component_name = quote_plus(component_name)\n",
    "  url = f\"https://api.npms.io/v2/package/{safe_component_name}\"\n",
    "\n",
    "  r = requests.get(url)\n",
    "\n",
    "  # If it does not exist in npm, returns unknown\n",
    "  if r.status_code == 404:\n",
    "    license_info['license'] = None\n",
    "  else:\n",
    "    data = r.json()\n",
    "    license_info['license'] = data['collected']['metadata'].get('license', None)\n",
    "\n",
    "  return license_info"
   ]
  },
  {
   "cell_type": "code",
   "execution_count": null,
   "metadata": {
    "id": "772L5H3p0Psp"
   },
   "outputs": [],
   "source": [
    "# Uncoment for testing\n",
    "#\n",
    "# #component_name = 'angular-notifier'\n",
    "# component_name = '@angular/flex-layout'\n",
    "\n",
    "# retrieve_npm_license(component_name)"
   ]
  },
  {
   "cell_type": "markdown",
   "metadata": {
    "id": "ONzaBgL_J253"
   },
   "source": [
    "### Common procedures for license retrieval"
   ]
  },
  {
   "cell_type": "code",
   "execution_count": null,
   "metadata": {
    "id": "F1Bn_JCnD1cC"
   },
   "outputs": [],
   "source": [
    "def retrieve_license(component_name, source_type='pip'):\n",
    "  if source_type == 'pip':\n",
    "    return retrieve_pip_license(component_name)\n",
    "  else: # We can safely try with npm (if unknown, it will return a safe dataframe)\n",
    "    return retrieve_npm_license(component_name)"
   ]
  },
  {
   "cell_type": "code",
   "execution_count": null,
   "metadata": {
    "id": "RQSipn-xFF-7"
   },
   "outputs": [],
   "source": [
    "# Uncomment for testing all known cases\n",
    "#\n",
    "# retrieve_license('Jinja2')\n",
    "# retrieve_license('vcd-api-schemas-type')\n",
    "# retrieve_license('emitter-component')\n",
    "# retrieve_license('@angular/flex-layout', 'npm')"
   ]
  },
  {
   "cell_type": "code",
   "execution_count": null,
   "metadata": {
    "id": "_XZWHvZM8MtV"
   },
   "outputs": [],
   "source": [
    "def add_license_details(row):\n",
    "\n",
    "  return (\n",
    "      row\n",
    "      .to_frame()\n",
    "      .T\n",
    "      .merge(\n",
    "          pd.DataFrame(retrieve_license(row.component, row.source_type), index=[0]),\n",
    "          how = 'left',\n",
    "          left_on = 'component',\n",
    "          right_on = 'component'\n",
    "      )\n",
    "      .iloc[0]\n",
    "  )"
   ]
  },
  {
   "cell_type": "markdown",
   "metadata": {
    "id": "FHLMscyXKIJw"
   },
   "source": [
    "## Results of online scan\n"
   ]
  },
  {
   "cell_type": "markdown",
   "metadata": {
    "id": "EvKwPAWXqBbH"
   },
   "source": [
    "### Populate and display results of online scan"
   ]
  },
  {
   "cell_type": "code",
   "execution_count": null,
   "metadata": {
    "id": "AtKWvVg57_V3"
   },
   "outputs": [],
   "source": [
    "# Fix licenses not reported to main sources, based on human-provided mapping table\n",
    "def fix_not_reported_modules(df):\n",
    "  df = df.copy()\n",
    "\n",
    "  license_corrections = (\n",
    "      pd.read_csv(license_corrections_table)\n",
    "      [['Component', 'Real license']]\n",
    "      .set_index('Component')\n",
    "      ['Real license']\n",
    "      .to_dict()\n",
    "  )\n",
    "\n",
    "  # Saves a copy of original license assessment, for trazability\n",
    "  df['license_reported_by_source'] = df['license']\n",
    "\n",
    "  # Fixes licenses that exist in the mapping\n",
    "  df['license'] = (\n",
    "      df['component']\n",
    "      .map(license_corrections)\n",
    "      .fillna(df['license'])  # Where there is no mapping, original is preserved\n",
    "  )\n",
    "\n",
    "  return df"
   ]
  },
  {
   "cell_type": "code",
   "execution_count": null,
   "metadata": {
    "id": "s9lUZGAw0Zo_"
   },
   "outputs": [],
   "source": [
    "def normalize_licenses(df):\n",
    "\n",
    "  df = df.copy()\n",
    "\n",
    "  license_mappings = (\n",
    "      pd.read_csv(license_mappings_table)\n",
    "      .set_index('License')\n",
    "      ['Mapped License']\n",
    "      .to_dict()\n",
    "  )\n",
    "\n",
    "  # Saves a copy of raw license assessment, for trazability\n",
    "  df['license_before_normalization'] = df['license']\n",
    "\n",
    "  # Normalizes licenses that exist in the mapping\n",
    "  df['license'] = (\n",
    "      df['license']\n",
    "      .replace(license_mappings)\n",
    "  )\n",
    "\n",
    "  return df"
   ]
  },
  {
   "cell_type": "code",
   "execution_count": null,
   "metadata": {
    "id": "Ym2cwzMOyyaq"
   },
   "outputs": [],
   "source": [
    "df_output_with_licenses = (\n",
    "    df_online_scan_input\n",
    "    .apply(add_license_details, axis=1)\n",
    "\n",
    "    # Fix module licenses not reported to sources:\n",
    "    .pipe(fix_not_reported_modules)\n",
    "\n",
    "    # Normalize license names\n",
    "    .pipe(normalize_licenses)\n",
    ")"
   ]
  },
  {
   "cell_type": "code",
   "execution_count": null,
   "metadata": {
    "colab": {
     "base_uri": "https://localhost:8080/",
     "height": 1000
    },
    "id": "dNuXsxI_X1ab",
    "outputId": "e3e2aa4b-98c5-414a-d217-ce63b8cbede9"
   },
   "outputs": [],
   "source": [
    "# Removes temporarily the display limits, for convenience\n",
    "default_max_rows = pd.options.display.max_rows\n",
    "pd.options.display.max_rows = 999\n",
    "\n",
    "display(df_output_with_licenses)\n",
    "\n",
    "# Restores display defaults\n",
    "pd.options.display.max_rows = default_max_rows"
   ]
  },
  {
   "cell_type": "markdown",
   "metadata": {
    "id": "z2KU4sLtGCHZ"
   },
   "source": [
    "Licenses unknown by PyPi and NPM, or not identified as unreported:"
   ]
  },
  {
   "cell_type": "code",
   "execution_count": null,
   "metadata": {
    "colab": {
     "base_uri": "https://localhost:8080/",
     "height": 49
    },
    "id": "cA0lgnSM1o0m",
    "outputId": "e02b8ef1-5b14-4dd4-ebac-c177b4332f41"
   },
   "outputs": [],
   "source": [
    "df_output_with_licenses[df_output_with_licenses.license.isna()]"
   ]
  },
  {
   "cell_type": "markdown",
   "metadata": {
    "id": "6n9csaKochdi"
   },
   "source": [
    "All detected licenses:"
   ]
  },
  {
   "cell_type": "code",
   "execution_count": null,
   "metadata": {
    "colab": {
     "base_uri": "https://localhost:8080/"
    },
    "id": "K0WWpm4fckLs",
    "outputId": "8ad0f431-9c17-4c23-a87f-d061556df614"
   },
   "outputs": [],
   "source": [
    "df_output_with_licenses.license.value_counts()"
   ]
  },
  {
   "cell_type": "markdown",
   "metadata": {},
   "source": [
    "Potentially problematic licenses:"
   ]
  },
  {
   "cell_type": "code",
   "execution_count": null,
   "metadata": {},
   "outputs": [],
   "source": [
    "problematic_licenses = ['GNU General Public License v2.0']"
   ]
  },
  {
   "cell_type": "code",
   "execution_count": null,
   "metadata": {},
   "outputs": [],
   "source": [
    "df_output_with_licenses[df_output_with_licenses.license.isin(problematic_licenses)]"
   ]
  },
  {
   "cell_type": "markdown",
   "metadata": {
    "id": "Vo8hLDWpGNKv"
   },
   "source": [
    "### Save results of online scan to spreadsheet"
   ]
  },
  {
   "cell_type": "code",
   "execution_count": null,
   "metadata": {
    "id": "NdXDjRpzDZyn"
   },
   "outputs": [],
   "source": [
    "#df_output_with_licenses.set_index(['Module', 'Repo']).to_excel(output_filename_name)\n",
    "df_output_with_licenses.to_excel(output_online_scan_filename, index=False)"
   ]
  },
  {
   "cell_type": "markdown",
   "metadata": {
    "id": "o81Kdy9Rb7sH"
   },
   "source": [
    "# 2. Process static input spreadsheet for license scan"
   ]
  },
  {
   "cell_type": "markdown",
   "metadata": {
    "id": "5SqpWc7NFxeG"
   },
   "source": [
    "## Import and clean input spreadsheet"
   ]
  },
  {
   "cell_type": "code",
   "execution_count": null,
   "metadata": {
    "id": "6Epq0gU_aIP7"
   },
   "outputs": [],
   "source": [
    "def load_input_table(filename):\n",
    "  \n",
    "  return (\n",
    "      pd.read_excel(filename)\n",
    "      .assign(Module = lambda x: x.Module.fillna(method='ffill'))\n",
    "      .assign(Repo = lambda x: x.Repo.fillna(method='ffill'))\n",
    "      .drop(columns = 'Unnamed: 6')\n",
    "  )"
   ]
  },
  {
   "cell_type": "code",
   "execution_count": null,
   "metadata": {
    "id": "VbR0Mj8Jaj--"
   },
   "outputs": [],
   "source": [
    "def tidy_input_table(df_input):\n",
    "  return(\n",
    "      df_input\n",
    "      .set_index(['Module', 'Repo'])\n",
    "      .Component\n",
    "      # .str.split('\\n|,|(and)|/', expand=True)\n",
    "      .str.split('\\n|,|(and)', expand=True)\n",
    "      .stack()\n",
    "      .reset_index()\n",
    "      .drop(columns='level_2')\n",
    "      .rename(columns={0: 'module_and_version'})\n",
    "      .set_index(['Module', 'Repo'])\n",
    "      .module_and_version\n",
    "      .str.strip()\n",
    "      .reset_index()\n",
    "      .assign(valid = lambda x: ~ x.module_and_version.str.contains('more'))\n",
    "      .query('valid')\n",
    "      .drop(columns='valid')\n",
    "      .set_index(['Module', 'Repo'])\n",
    "      .module_and_version\n",
    "      .str.split(expand=True)\n",
    "      .rename(columns={0: 'component', 1: 'version'})\n",
    "      .dropna(subset=['component'])\n",
    "      .query('component != \"and\"')\n",
    "      # .assign(component = lambda x: x.component.str.strip(to_strip='@'))\n",
    "      .assign(version = lambda x: x.version.str.strip(to_strip='()'))\n",
    "      .reset_index()\n",
    "  )"
   ]
  },
  {
   "cell_type": "code",
   "execution_count": null,
   "metadata": {
    "id": "UhYpuSkVE9kn"
   },
   "outputs": [],
   "source": [
    "# Loads input XLSX table (if available)\n",
    "# df_input = pd.DataFrame(columns=['Module', 'Repo', 'Component', 'version', 'source_type'])\n",
    "# there_is_input_file = os.path.isfile(static_input_filename)\n",
    "# if there_is_input_file:\n",
    "#   df_input = load_input_table(static_input_filename)\n",
    "\n",
    "try:\n",
    "  df_input = load_input_table(static_input_filename)\n",
    "except FileNotFoundError:\n",
    "  df_input = None"
   ]
  },
  {
   "cell_type": "code",
   "execution_count": null,
   "metadata": {
    "colab": {
     "base_uri": "https://localhost:8080/",
     "height": 504
    },
    "id": "9-xg6KdBtO_l",
    "outputId": "b88203cc-2904-415b-bbf1-04695a64c197"
   },
   "outputs": [],
   "source": [
    "df_input"
   ]
  },
  {
   "cell_type": "code",
   "execution_count": null,
   "metadata": {
    "id": "FgPv9TERsNYY"
   },
   "outputs": [],
   "source": [
    "# Tidies imported XLSX table\n",
    "try: \n",
    "  df_tidy_input = tidy_input_table(df_input)\n",
    "except AttributeError:\n",
    "  df_tidy_input = df_input"
   ]
  },
  {
   "cell_type": "code",
   "execution_count": null,
   "metadata": {
    "colab": {
     "base_uri": "https://localhost:8080/",
     "height": 419
    },
    "id": "iy4aa2J_tTRR",
    "outputId": "32fd1b1a-6519-4629-cccb-e3897c83ebaf"
   },
   "outputs": [],
   "source": [
    "df_tidy_input"
   ]
  },
  {
   "cell_type": "markdown",
   "metadata": {
    "id": "GNR00DwGCmYf"
   },
   "source": [
    "## Results of static scan"
   ]
  },
  {
   "cell_type": "markdown",
   "metadata": {
    "id": "jMpmV9fDC1vp"
   },
   "source": [
    "### Populate and display results of static scan"
   ]
  },
  {
   "cell_type": "code",
   "execution_count": null,
   "metadata": {
    "id": "-CoJ6ktrtkGn"
   },
   "outputs": [],
   "source": [
    "# First guess: Assume all come from pip by default, except NG-UI, from npm\n",
    "def assign_1st_guess_sources(df):\n",
    "  df = df.copy()\n",
    "\n",
    "  df['source_type'] = 'pip'\n",
    "  df.loc[(df.Module == 'NG-UI'), 'source_type'] = 'npm'\n",
    "\n",
    "  return df"
   ]
  },
  {
   "cell_type": "code",
   "execution_count": null,
   "metadata": {
    "id": "ElWegEOMBEVf"
   },
   "outputs": [],
   "source": [
    "try:\n",
    "  df_output_with_licenses = (\n",
    "      df_tidy_input\n",
    "\n",
    "      # Assumes the most likely sources:\n",
    "      .pipe(assign_1st_guess_sources)\n",
    "      .apply(add_license_details, axis=1)\n",
    "\n",
    "      # Fix known packages not reported to npm\n",
    "      .pipe(fix_not_reported_modules)\n",
    "\n",
    "      # Normalize license names\n",
    "      .pipe(normalize_licenses)\n",
    "  )\n",
    "except AttributeError:\n",
    "  df_output_with_licenses = None"
   ]
  },
  {
   "cell_type": "code",
   "execution_count": null,
   "metadata": {
    "colab": {
     "base_uri": "https://localhost:8080/",
     "height": 1000
    },
    "id": "ych636j3827Z",
    "outputId": "56819fa6-1590-4389-91b0-c351c5992ad1"
   },
   "outputs": [],
   "source": [
    "# Removes temporarily the display limits, for convenience\n",
    "dafault_max_rows = pd.options.display.max_rows\n",
    "pd.options.display.max_rows = 999\n",
    "\n",
    "display(df_output_with_licenses)\n",
    "\n",
    "# Restores display defaults\n",
    "pd.options.display.max_rows = dafault_max_rows"
   ]
  },
  {
   "cell_type": "markdown",
   "metadata": {
    "id": "7jCZCXW66bn4"
   },
   "source": [
    "Unknown licenses:"
   ]
  },
  {
   "cell_type": "code",
   "execution_count": null,
   "metadata": {
    "id": "5Oy67lE6yqa_"
   },
   "outputs": [],
   "source": [
    "try:\n",
    "  df_output_with_licenses[df_output_with_licenses.license.isna()]\n",
    "except AttributeError:\n",
    "  display(None)"
   ]
  },
  {
   "cell_type": "markdown",
   "metadata": {
    "id": "r8youx80DAh5"
   },
   "source": [
    "### Save results of static scan to spreadsheet"
   ]
  },
  {
   "cell_type": "code",
   "execution_count": null,
   "metadata": {
    "id": "x5_6qcEbtM0b"
   },
   "outputs": [],
   "source": [
    "try:\n",
    "  #df_output_with_licenses.set_index(['Module', 'Repo']).to_excel(output_static_scan_filename)\n",
    "  df_output_with_licenses.to_excel(output_static_scan_filename, index=False)\n",
    "except AttributeError:\n",
    "  print('Nothing to save: No input file')"
   ]
  },
  {
   "cell_type": "code",
   "execution_count": null,
   "metadata": {
    "id": "RibPErgq--T3"
   },
   "outputs": [],
   "source": []
  }
 ],
 "metadata": {
  "colab": {
   "collapsed_sections": [],
   "name": "osm-licenses-validation",
   "provenance": []
  },
  "kernelspec": {
   "display_name": "Python 3.8.5 ('osm-analytics')",
   "language": "python",
   "name": "python3"
  },
  "language_info": {
   "codemirror_mode": {
    "name": "ipython",
    "version": 3
   },
   "file_extension": ".py",
   "mimetype": "text/x-python",
   "name": "python",
   "nbconvert_exporter": "python",
   "pygments_lexer": "ipython3",
   "version": "3.8.5"
  },
  "vscode": {
   "interpreter": {
    "hash": "478c8635d9ccdf024742d92dbbde9904906f7ce5d7abe37e97f5a375bc0f5b25"
   }
  }
 },
 "nbformat": 4,
 "nbformat_minor": 2
}
