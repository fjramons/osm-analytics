{
 "cells": [
  {
   "cell_type": "code",
   "execution_count": null,
   "metadata": {
    "id": "q339sgVAHS_2"
   },
   "outputs": [],
   "source": [
    "import requests\r\n",
    "import collections\r\n",
    "import pandas as pd\r\n",
    "from urllib.error import HTTPError\r\n",
    "from urllib.parse import quote_plus\r\n",
    "import os"
   ]
  },
  {
   "cell_type": "markdown",
   "metadata": {
    "id": "WWODW8boFDCy"
   },
   "source": [
    "# 0. Input parameters"
   ]
  },
  {
   "cell_type": "code",
   "execution_count": null,
   "metadata": {
    "id": "fiUkj_NcUYjE"
   },
   "outputs": [],
   "source": [
    "modules_and_repos = {\r\n",
    "    'SA': ['MON', 'POL', 'PLA'],\r\n",
    "    'DevOps': ['osmclient'],\r\n",
    "    'N2VC': ['N2VC'],\r\n",
    "    'NBI': ['NBI'],\r\n",
    "    'IM': ['IM'],\r\n",
    "    'NG-UI': ['NG-UI'],\r\n",
    "    'RO': ['RO', 'common'],\r\n",
    "    'LCM': ['LCM']\r\n",
    "}\r\n",
    "\r\n",
    "repo_full_name_format = 'osm/{module}.git'\r\n",
    "git_web_url_format = 'https://osm.etsi.org/gitweb/?p={repo_full_name};a=blob_plain;f={req_file_name};hb=refs/heads/{branch}'\r\n",
    "\r\n",
    "default_branch = 'master'\r\n",
    "# Options: 'master', 'v10.0', 'v9.0'"
   ]
  },
  {
   "cell_type": "code",
   "execution_count": null,
   "metadata": {
    "id": "U9obq6P-W8Je"
   },
   "outputs": [],
   "source": [
    "# Output spreadsheet with results of online license scan from repositories\r\n",
    "output_online_scan_filename = 'OUTPUT - Online License Scan - OSM Dependencies.xlsx'\r\n",
    "\r\n",
    "# Optional\r\n",
    "#----------\r\n",
    "# Input spreadsheet from static scans.\r\n",
    "# Needs to be available (uploaded) in the base folder of the notebook environment.\r\n",
    "static_input_filename = 'OSM Dependencies License Compatibility.xlsx'\r\n",
    "output_static_scan_filename = 'OUTPUT - Static License Scan - OSM Dependencies.xlsx'"
   ]
  },
  {
   "cell_type": "code",
   "execution_count": null,
   "metadata": {
    "id": "UNgZCIEFsi5g"
   },
   "outputs": [],
   "source": [
    "# Fixes to component licenses retrieved from online sources\r\n",
    "license_corrections_table_file = 'License_corrections.csv'\r\n",
    "license_corrections_table_url = 'License_corrections.csv' # FIXME:\r\n",
    "\r\n",
    "# Mappings to normalize license names\r\n",
    "license_mappings_file = 'License_mappings.csv'\r\n",
    "license_mappings_file_url = 'License_mappings.csv' # FIXME"
   ]
  },
  {
   "cell_type": "code",
   "execution_count": null,
   "metadata": {
    "id": "m5UzBKA8tly6"
   },
   "outputs": [],
   "source": [
    "# If there is a local file, it takes it; otherwise, retrieves table from URL\r\n",
    "if os.path.isfile(license_corrections_table_file):\r\n",
    "  license_corrections_table = license_corrections_table_file\r\n",
    "else:\r\n",
    "  license_corrections_table = license_corrections_table_url\r\n",
    "\r\n",
    "if os.path.isfile(license_mappings_file):\r\n",
    "  license_mappings_table = license_mappings_file\r\n",
    "else:\r\n",
    "  license_mappings_table = license_mappings_url"
   ]
  },
  {
   "cell_type": "markdown",
   "metadata": {
    "id": "Tiu7tscml5Tk"
   },
   "source": [
    "# 1. Online analysis of merged repos"
   ]
  },
  {
   "cell_type": "markdown",
   "metadata": {
    "id": "FaQnTiTQUqdp"
   },
   "source": [
    "## Retrieve `requirements.txt` or `Package.json` from each relevant repo"
   ]
  },
  {
   "cell_type": "code",
   "execution_count": null,
   "metadata": {
    "id": "mCwACJRcnO8w"
   },
   "outputs": [],
   "source": [
    "# Uncomment for debugging pipelines, if needed\r\n",
    "#\r\n",
    "# def show_me(df):\r\n",
    "#   display(df)\r\n",
    "#   return df"
   ]
  },
  {
   "cell_type": "code",
   "execution_count": null,
   "metadata": {
    "id": "Tj7JfYvIkRpm"
   },
   "outputs": [],
   "source": [
    "def get_module_pip_components(repo, branch='master'):\r\n",
    "\r\n",
    "  repo_full_name = repo_full_name_format.format(module=repo)\r\n",
    "  git_web_url = git_web_url_format.format(req_file_name='requirements.txt', repo_full_name=repo_full_name, branch=branch)\r\n",
    "\r\n",
    "  try:\r\n",
    "    df = pd.read_table(git_web_url, header=None)\r\n",
    "  except HTTPError:\r\n",
    "    print(f'{repo} does not have a standard pip requirement list')\r\n",
    "    return None\r\n",
    "\r\n",
    "  return (\r\n",
    "      df\r\n",
    "      .rename(columns={0: 'component'})\r\n",
    "      .assign(component = lambda x: x.component.str.strip())\r\n",
    "      .assign(is_comment = lambda x: x.component.str.startswith('#'))\r\n",
    "      .query('~ is_comment')\r\n",
    "      .drop(columns='is_comment')\r\n",
    "      .reset_index()\r\n",
    "      ['component']\r\n",
    "      .str.split('==', expand=True)\r\n",
    "      .rename(columns={0: 'component', 1: 'version'})\r\n",
    "  )"
   ]
  },
  {
   "cell_type": "code",
   "execution_count": null,
   "metadata": {
    "id": "AYZ7h_eccJ0s"
   },
   "outputs": [],
   "source": [
    "# Uncomment for testing\r\n",
    "#\r\n",
    "# branch = 'master'\r\n",
    "# repo = 'RO'\r\n",
    "# #repo = 'NG-UI' # Non-Pypi components, should throw errors\r\n",
    "# get_module_pip_components(repo, branch)"
   ]
  },
  {
   "cell_type": "code",
   "execution_count": null,
   "metadata": {
    "id": "cAKyaHREgli2"
   },
   "outputs": [],
   "source": [
    "def get_module_npm_components(repo, branch='master'):\r\n",
    "\r\n",
    "  repo_full_name = repo_full_name_format.format(module=repo)\r\n",
    "\r\n",
    "  git_web_url = git_web_url_format.format(req_file_name='package.json', repo_full_name=repo_full_name, branch=branch)\r\n",
    "\r\n",
    "  r = requests.get(git_web_url)\r\n",
    "  data = r.json()\r\n",
    "  if r.status_code == 404:\r\n",
    "    print(f'{repo} does not have a standard npm requirement list')\r\n",
    "    return None\r\n",
    "\r\n",
    "  components, versions = list(zip(*data['dependencies'].items()))\r\n",
    "\r\n",
    "  return pd.DataFrame({'component': components, 'version': versions})"
   ]
  },
  {
   "cell_type": "code",
   "execution_count": null,
   "metadata": {
    "id": "gwtugplZnBrK"
   },
   "outputs": [],
   "source": [
    "# Uncomment for testing\r\n",
    "#\r\n",
    "# branch = 'master'\r\n",
    "# repo = 'NG-UI'\r\n",
    "# get_module_npm_components(repo, branch)"
   ]
  },
  {
   "cell_type": "code",
   "execution_count": null,
   "metadata": {
    "id": "WD8ALuCdBDE9"
   },
   "outputs": [],
   "source": [
    "def get_all_module_components(modules_and_repos, branch='master'):\r\n",
    "\r\n",
    "  empty_df = pd.DataFrame(columns=['module', 'repo', 'component', 'version', 'source_type'])\r\n",
    "  list_of_df = [empty_df]\r\n",
    "\r\n",
    "  for module, repos in modules_and_repos.items():\r\n",
    "    for repo in repos:\r\n",
    "      print(f\"\\nRetrieving {module}'s repo {repo}...\", end='')\r\n",
    "\r\n",
    "      df = get_module_pip_components(repo, branch=branch)\r\n",
    "\r\n",
    "      if df is not None:\r\n",
    "        df['source_type'] = 'pip'\r\n",
    "\r\n",
    "      else:\r\n",
    "        print('\\t retrying as npm package list...', end='')\r\n",
    "        df = get_module_npm_components(repo, branch=branch)\r\n",
    "\r\n",
    "        if df is not None:\r\n",
    "          df['source_type'] = 'npm'\r\n",
    "\r\n",
    "        else:\r\n",
    "          df = pd.DataFrame(columns=['component', 'version', 'source_type'])\r\n",
    "\r\n",
    "      df['module'] = module\r\n",
    "      df['repo'] = repo\r\n",
    "\r\n",
    "      list_of_df.append(df)\r\n",
    "\r\n",
    "  return (\r\n",
    "      pd.concat(list_of_df)\r\n",
    "      .reset_index(drop=True)\r\n",
    "  )"
   ]
  },
  {
   "cell_type": "code",
   "execution_count": null,
   "metadata": {
    "colab": {
     "base_uri": "https://localhost:8080/"
    },
    "id": "PSVP5ZCTBWwa",
    "outputId": "475c8421-b9b5-47ee-b76d-e78837f6f0d1"
   },
   "outputs": [],
   "source": [
    "df_online_scan_input = get_all_module_components(modules_and_repos, default_branch)"
   ]
  },
  {
   "cell_type": "code",
   "execution_count": null,
   "metadata": {
    "colab": {
     "base_uri": "https://localhost:8080/",
     "height": 419
    },
    "id": "Q1kSP4ApBnDv",
    "outputId": "c83dfc50-3480-4d29-9308-94b5f63e4c61"
   },
   "outputs": [],
   "source": [
    "display(df_online_scan_input)\r\n",
    "\r\n",
    "# # Removes temporarily the display limits, for convenience\r\n",
    "# default_max_rows = pd.options.display.max_rows\r\n",
    "# pd.options.display.max_rows = 999\r\n",
    "\r\n",
    "# display(df_online_scan_input.query(\"repo == 'RO'\"))\r\n",
    "\r\n",
    "# # Restores display defaults\r\n",
    "# pd.options.display.max_rows = default_max_rows"
   ]
  },
  {
   "cell_type": "markdown",
   "metadata": {
    "id": "WXXxjC_PF6PB"
   },
   "source": [
    "## Methods to retrieve license information"
   ]
  },
  {
   "cell_type": "code",
   "execution_count": null,
   "metadata": {
    "colab": {
     "base_uri": "https://localhost:8080/",
     "height": 419
    },
    "id": "3Qg2-35WC7JA",
    "outputId": "3ad548d4-46ef-485b-c2ae-523046f232dc"
   },
   "outputs": [],
   "source": [
    "df_online_scan_input"
   ]
  },
  {
   "cell_type": "markdown",
   "metadata": {
    "id": "dE4-4eIRzHEO"
   },
   "source": [
    "### `pip` packages"
   ]
  },
  {
   "cell_type": "code",
   "execution_count": null,
   "metadata": {
    "id": "0l0ff4Z6UcC_"
   },
   "outputs": [],
   "source": [
    "def retrieve_pip_license(component_name):\r\n",
    "\r\n",
    "  license_info = collections.OrderedDict()\r\n",
    "  license_info['component'] = component_name\r\n",
    "\r\n",
    "  url = f\"https://pypi.org/pypi/{component_name}/json\"\r\n",
    "  r = requests.get(url)\r\n",
    "\r\n",
    "  # If it does not exist in PyPi, returns unknown\r\n",
    "  if r.status_code == 404:\r\n",
    "    license_info['osi_approved'] = None\r\n",
    "    license_info['license'] = None\r\n",
    "    return license_info\r\n",
    "\r\n",
    "  data = r.json()\r\n",
    "  line = [c for c in data['info']['classifiers'] if 'license' in c.lower()]\r\n",
    "\r\n",
    "  if line:  # Commonest format\r\n",
    "    fields = line[0].split(' :: ')\r\n",
    "    license_info['osi_approved'] = ('OSI Approved' in fields)\r\n",
    "    license_info['license'] = fields[-1]\r\n",
    "  else:     # Alternative format\r\n",
    "    license_info['osi_approved'] = None\r\n",
    "    license_info['license'] = data['info'].get('license', None)\r\n",
    "\r\n",
    "  return license_info"
   ]
  },
  {
   "cell_type": "code",
   "execution_count": null,
   "metadata": {
    "id": "R8H8B_PIT7Mk"
   },
   "outputs": [],
   "source": [
    "# Uncomment for testing the 3 known cases\r\n",
    "#\r\n",
    "# retrieve_pip_license('Jinja2')\r\n",
    "# retrieve_pip_license('vcd-api-schemas-type')\r\n",
    "# retrieve_pip_license('emitter-component')"
   ]
  },
  {
   "cell_type": "markdown",
   "metadata": {
    "id": "P40FrA3xzSxb"
   },
   "source": [
    "### `npm` packages"
   ]
  },
  {
   "cell_type": "code",
   "execution_count": null,
   "metadata": {
    "id": "_2BBgSGR236y"
   },
   "outputs": [],
   "source": [
    "def retrieve_npm_license(component_name):\r\n",
    "\r\n",
    "  license_info = collections.OrderedDict()\r\n",
    "  license_info['component'] = component_name\r\n",
    "  license_info['osi_approved'] = None # NPMS does not provide this info\r\n",
    "\r\n",
    "  safe_component_name = quote_plus(component_name)\r\n",
    "  url = f\"https://api.npms.io/v2/package/{safe_component_name}\"\r\n",
    "\r\n",
    "  r = requests.get(url)\r\n",
    "\r\n",
    "  # If it does not exist in npm, returns unknown\r\n",
    "  if r.status_code == 404:\r\n",
    "    license_info['license'] = None\r\n",
    "  else:\r\n",
    "    data = r.json()\r\n",
    "    license_info['license'] = data['collected']['metadata'].get('license', None)\r\n",
    "\r\n",
    "  return license_info"
   ]
  },
  {
   "cell_type": "code",
   "execution_count": null,
   "metadata": {
    "id": "772L5H3p0Psp"
   },
   "outputs": [],
   "source": [
    "# Uncoment for testing\r\n",
    "#\r\n",
    "# #component_name = 'angular-notifier'\r\n",
    "# component_name = '@angular/flex-layout'\r\n",
    "\r\n",
    "# retrieve_npm_license(component_name)"
   ]
  },
  {
   "cell_type": "markdown",
   "metadata": {
    "id": "ONzaBgL_J253"
   },
   "source": [
    "### Common procedures for license retrieval"
   ]
  },
  {
   "cell_type": "code",
   "execution_count": null,
   "metadata": {
    "id": "F1Bn_JCnD1cC"
   },
   "outputs": [],
   "source": [
    "def retrieve_license(component_name, source_type='pip'):\r\n",
    "  if source_type == 'pip':\r\n",
    "    return retrieve_pip_license(component_name)\r\n",
    "  else: # We can safely try with npm (if unknown, it will return a safe dataframe)\r\n",
    "    return retrieve_npm_license(component_name)"
   ]
  },
  {
   "cell_type": "code",
   "execution_count": null,
   "metadata": {
    "id": "RQSipn-xFF-7"
   },
   "outputs": [],
   "source": [
    "# Uncomment for testing all known cases\r\n",
    "#\r\n",
    "# retrieve_license('Jinja2')\r\n",
    "# retrieve_license('vcd-api-schemas-type')\r\n",
    "# retrieve_license('emitter-component')\r\n",
    "# retrieve_license('@angular/flex-layout', 'npm')"
   ]
  },
  {
   "cell_type": "code",
   "execution_count": null,
   "metadata": {
    "id": "_XZWHvZM8MtV"
   },
   "outputs": [],
   "source": [
    "def add_license_details(row):\r\n",
    "\r\n",
    "  return (\r\n",
    "      row\r\n",
    "      .to_frame()\r\n",
    "      .T\r\n",
    "      .merge(\r\n",
    "          pd.DataFrame(retrieve_license(row.component, row.source_type), index=[0]),\r\n",
    "          how = 'left',\r\n",
    "          left_on = 'component',\r\n",
    "          right_on = 'component'\r\n",
    "      )\r\n",
    "      .iloc[0]\r\n",
    "  )"
   ]
  },
  {
   "cell_type": "markdown",
   "metadata": {
    "id": "FHLMscyXKIJw"
   },
   "source": [
    "## Results of online scan\n"
   ]
  },
  {
   "cell_type": "markdown",
   "metadata": {
    "id": "EvKwPAWXqBbH"
   },
   "source": [
    "### Populate and display results of online scan"
   ]
  },
  {
   "cell_type": "code",
   "execution_count": null,
   "metadata": {
    "id": "AtKWvVg57_V3"
   },
   "outputs": [],
   "source": [
    "# Fix licenses not reported to main sources, based on human-provided mapping table\r\n",
    "def fix_not_reported_modules(df):\r\n",
    "  df = df.copy()\r\n",
    "\r\n",
    "  license_corrections = (\r\n",
    "      pd.read_csv(license_corrections_table)\r\n",
    "      [['Component', 'Real license']]\r\n",
    "      .set_index('Component')\r\n",
    "      ['Real license']\r\n",
    "      .to_dict()\r\n",
    "  )\r\n",
    "\r\n",
    "  # Saves a copy of original license assessment, for trazability\r\n",
    "  df['license_reported_by_source'] = df['license']\r\n",
    "\r\n",
    "  # Fixes licenses that exist in the mapping\r\n",
    "  df['license'] = (\r\n",
    "      df['component']\r\n",
    "      .map(license_corrections)\r\n",
    "      .fillna(df['license'])  # Where there is no mapping, original is preserved\r\n",
    "  )\r\n",
    "\r\n",
    "  return df"
   ]
  },
  {
   "cell_type": "code",
   "execution_count": null,
   "metadata": {
    "id": "s9lUZGAw0Zo_"
   },
   "outputs": [],
   "source": [
    "def normalize_licenses(df):\r\n",
    "\r\n",
    "  df = df.copy()\r\n",
    "\r\n",
    "  license_mappings = (\r\n",
    "      pd.read_csv(license_mappings_table)\r\n",
    "      .set_index('License')\r\n",
    "      ['Mapped License']\r\n",
    "      .to_dict()\r\n",
    "  )\r\n",
    "\r\n",
    "  # Saves a copy of raw license assessment, for trazability\r\n",
    "  df['license_before_normalization'] = df['license']\r\n",
    "\r\n",
    "  # Normalizes licenses that exist in the mapping\r\n",
    "  df['license'] = (\r\n",
    "      df['license']\r\n",
    "      .replace(license_mappings)\r\n",
    "  )\r\n",
    "\r\n",
    "  return df"
   ]
  },
  {
   "cell_type": "code",
   "execution_count": null,
   "metadata": {
    "id": "Ym2cwzMOyyaq"
   },
   "outputs": [],
   "source": [
    "df_output_with_licenses = (\r\n",
    "    df_online_scan_input\r\n",
    "    .apply(add_license_details, axis=1)\r\n",
    "\r\n",
    "    # Fix module licenses not reported to sources:\r\n",
    "    .pipe(fix_not_reported_modules)\r\n",
    "\r\n",
    "    # Normalize license names\r\n",
    "    .pipe(normalize_licenses)\r\n",
    ")"
   ]
  },
  {
   "cell_type": "code",
   "execution_count": null,
   "metadata": {
    "colab": {
     "base_uri": "https://localhost:8080/",
     "height": 1000
    },
    "id": "dNuXsxI_X1ab",
    "outputId": "e3e2aa4b-98c5-414a-d217-ce63b8cbede9"
   },
   "outputs": [],
   "source": [
    "# Removes temporarily the display limits, for convenience\r\n",
    "default_max_rows = pd.options.display.max_rows\r\n",
    "pd.options.display.max_rows = 999\r\n",
    "\r\n",
    "display(df_output_with_licenses)\r\n",
    "\r\n",
    "# Restores display defaults\r\n",
    "pd.options.display.max_rows = default_max_rows"
   ]
  },
  {
   "cell_type": "markdown",
   "metadata": {
    "id": "z2KU4sLtGCHZ"
   },
   "source": [
    "Licenses unknown by PyPi and NPM, or not identified as unreported:"
   ]
  },
  {
   "cell_type": "code",
   "execution_count": null,
   "metadata": {
    "colab": {
     "base_uri": "https://localhost:8080/",
     "height": 49
    },
    "id": "cA0lgnSM1o0m",
    "outputId": "e02b8ef1-5b14-4dd4-ebac-c177b4332f41"
   },
   "outputs": [],
   "source": [
    "df_output_with_licenses[df_output_with_licenses.license.isna()]"
   ]
  },
  {
   "cell_type": "markdown",
   "metadata": {
    "id": "6n9csaKochdi"
   },
   "source": [
    "All detected licenses:"
   ]
  },
  {
   "cell_type": "code",
   "execution_count": null,
   "metadata": {
    "colab": {
     "base_uri": "https://localhost:8080/"
    },
    "id": "K0WWpm4fckLs",
    "outputId": "8ad0f431-9c17-4c23-a87f-d061556df614"
   },
   "outputs": [],
   "source": [
    "df_output_with_licenses.license.value_counts()"
   ]
  },
  {
   "cell_type": "markdown",
   "metadata": {
    "id": "Vo8hLDWpGNKv"
   },
   "source": [
    "### Save results of online scan to spreadsheet"
   ]
  },
  {
   "cell_type": "code",
   "execution_count": null,
   "metadata": {
    "id": "NdXDjRpzDZyn"
   },
   "outputs": [],
   "source": [
    "#df_output_with_licenses.set_index(['Module', 'Repo']).to_excel(output_filename_name)\r\n",
    "df_output_with_licenses.to_excel(output_online_scan_filename, index=False)"
   ]
  },
  {
   "cell_type": "markdown",
   "metadata": {
    "id": "o81Kdy9Rb7sH"
   },
   "source": [
    "# 2. Process static input spreadsheet for license scan"
   ]
  },
  {
   "cell_type": "markdown",
   "metadata": {
    "id": "5SqpWc7NFxeG"
   },
   "source": [
    "## Import and clean input spreadsheet"
   ]
  },
  {
   "cell_type": "code",
   "execution_count": null,
   "metadata": {
    "id": "6Epq0gU_aIP7"
   },
   "outputs": [],
   "source": [
    "def load_input_table(filename):\r\n",
    "  \r\n",
    "  return (\r\n",
    "      pd.read_excel(filename)\r\n",
    "      .assign(Module = lambda x: x.Module.fillna(method='ffill'))\r\n",
    "      .assign(Repo = lambda x: x.Repo.fillna(method='ffill'))\r\n",
    "      .drop(columns = 'Unnamed: 6')\r\n",
    "  )"
   ]
  },
  {
   "cell_type": "code",
   "execution_count": null,
   "metadata": {
    "id": "VbR0Mj8Jaj--"
   },
   "outputs": [],
   "source": [
    "def tidy_input_table(df_input):\r\n",
    "  return(\r\n",
    "      df_input\r\n",
    "      .set_index(['Module', 'Repo'])\r\n",
    "      .Component\r\n",
    "      # .str.split('\\n|,|(and)|/', expand=True)\r\n",
    "      .str.split('\\n|,|(and)', expand=True)\r\n",
    "      .stack()\r\n",
    "      .reset_index()\r\n",
    "      .drop(columns='level_2')\r\n",
    "      .rename(columns={0: 'module_and_version'})\r\n",
    "      .set_index(['Module', 'Repo'])\r\n",
    "      .module_and_version\r\n",
    "      .str.strip()\r\n",
    "      .reset_index()\r\n",
    "      .assign(valid = lambda x: ~ x.module_and_version.str.contains('more'))\r\n",
    "      .query('valid')\r\n",
    "      .drop(columns='valid')\r\n",
    "      .set_index(['Module', 'Repo'])\r\n",
    "      .module_and_version\r\n",
    "      .str.split(expand=True)\r\n",
    "      .rename(columns={0: 'component', 1: 'version'})\r\n",
    "      .dropna(subset=['component'])\r\n",
    "      .query('component != \"and\"')\r\n",
    "      # .assign(component = lambda x: x.component.str.strip(to_strip='@'))\r\n",
    "      .assign(version = lambda x: x.version.str.strip(to_strip='()'))\r\n",
    "      .reset_index()\r\n",
    "  )"
   ]
  },
  {
   "cell_type": "code",
   "execution_count": null,
   "metadata": {
    "id": "UhYpuSkVE9kn"
   },
   "outputs": [],
   "source": [
    "# Loads input XLSX table (if available)\r\n",
    "# df_input = pd.DataFrame(columns=['Module', 'Repo', 'Component', 'version', 'source_type'])\r\n",
    "# there_is_input_file = os.path.isfile(static_input_filename)\r\n",
    "# if there_is_input_file:\r\n",
    "#   df_input = load_input_table(static_input_filename)\r\n",
    "\r\n",
    "try:\r\n",
    "  df_input = load_input_table(static_input_filename)\r\n",
    "except FileNotFoundError:\r\n",
    "  df_input = None"
   ]
  },
  {
   "cell_type": "code",
   "execution_count": null,
   "metadata": {
    "colab": {
     "base_uri": "https://localhost:8080/",
     "height": 504
    },
    "id": "9-xg6KdBtO_l",
    "outputId": "b88203cc-2904-415b-bbf1-04695a64c197"
   },
   "outputs": [],
   "source": [
    "df_input"
   ]
  },
  {
   "cell_type": "code",
   "execution_count": null,
   "metadata": {
    "id": "FgPv9TERsNYY"
   },
   "outputs": [],
   "source": [
    "# Tidies imported XLSX table\r\n",
    "try: \r\n",
    "  df_tidy_input = tidy_input_table(df_input)\r\n",
    "except AttributeError:\r\n",
    "  df_tidy_input = df_input"
   ]
  },
  {
   "cell_type": "code",
   "execution_count": null,
   "metadata": {
    "colab": {
     "base_uri": "https://localhost:8080/",
     "height": 419
    },
    "id": "iy4aa2J_tTRR",
    "outputId": "32fd1b1a-6519-4629-cccb-e3897c83ebaf"
   },
   "outputs": [],
   "source": [
    "df_tidy_input"
   ]
  },
  {
   "cell_type": "markdown",
   "metadata": {
    "id": "GNR00DwGCmYf"
   },
   "source": [
    "## Results of static scan"
   ]
  },
  {
   "cell_type": "markdown",
   "metadata": {
    "id": "jMpmV9fDC1vp"
   },
   "source": [
    "### Populate and display results of static scan"
   ]
  },
  {
   "cell_type": "code",
   "execution_count": null,
   "metadata": {
    "id": "-CoJ6ktrtkGn"
   },
   "outputs": [],
   "source": [
    "# First guess: Assume all come from pip by default, except NG-UI, from npm\r\n",
    "def assign_1st_guess_sources(df):\r\n",
    "  df = df.copy()\r\n",
    "\r\n",
    "  df['source_type'] = 'pip'\r\n",
    "  df.loc[(df.Module == 'NG-UI'), 'source_type'] = 'npm'\r\n",
    "\r\n",
    "  return df"
   ]
  },
  {
   "cell_type": "code",
   "execution_count": null,
   "metadata": {
    "id": "ElWegEOMBEVf"
   },
   "outputs": [],
   "source": [
    "try:\r\n",
    "  df_output_with_licenses = (\r\n",
    "      df_tidy_input\r\n",
    "\r\n",
    "      # Assumes the most likely sources:\r\n",
    "      .pipe(assign_1st_guess_sources)\r\n",
    "      .apply(add_license_details, axis=1)\r\n",
    "\r\n",
    "      # Fix known packages not reported to npm\r\n",
    "      .pipe(fix_not_reported_modules)\r\n",
    "\r\n",
    "      # Normalize license names\r\n",
    "      .pipe(normalize_licenses)\r\n",
    "  )\r\n",
    "except AttributeError:\r\n",
    "  df_output_with_licenses = None"
   ]
  },
  {
   "cell_type": "code",
   "execution_count": null,
   "metadata": {
    "colab": {
     "base_uri": "https://localhost:8080/",
     "height": 1000
    },
    "id": "ych636j3827Z",
    "outputId": "56819fa6-1590-4389-91b0-c351c5992ad1"
   },
   "outputs": [],
   "source": [
    "# Removes temporarily the display limits, for convenience\r\n",
    "dafault_max_rows = pd.options.display.max_rows\r\n",
    "pd.options.display.max_rows = 999\r\n",
    "\r\n",
    "display(df_output_with_licenses)\r\n",
    "\r\n",
    "# Restores display defaults\r\n",
    "pd.options.display.max_rows = dafault_max_rows"
   ]
  },
  {
   "cell_type": "markdown",
   "metadata": {
    "id": "7jCZCXW66bn4"
   },
   "source": [
    "Unknown licenses:"
   ]
  },
  {
   "cell_type": "code",
   "execution_count": null,
   "metadata": {
    "id": "5Oy67lE6yqa_"
   },
   "outputs": [],
   "source": [
    "try:\r\n",
    "  df_output_with_licenses[df_output_with_licenses.license.isna()]\r\n",
    "except AttributeError:\r\n",
    "  display(None)"
   ]
  },
  {
   "cell_type": "markdown",
   "metadata": {
    "id": "r8youx80DAh5"
   },
   "source": [
    "### Save results of static scan to spreadsheet"
   ]
  },
  {
   "cell_type": "code",
   "execution_count": null,
   "metadata": {
    "id": "x5_6qcEbtM0b"
   },
   "outputs": [],
   "source": [
    "try:\r\n",
    "  #df_output_with_licenses.set_index(['Module', 'Repo']).to_excel(output_static_scan_filename)\r\n",
    "  df_output_with_licenses.to_excel(output_static_scan_filename, index=False)\r\n",
    "except AttributeError:\r\n",
    "  print('Nothing to save: No input file')"
   ]
  },
  {
   "cell_type": "code",
   "execution_count": null,
   "metadata": {
    "id": "RibPErgq--T3"
   },
   "outputs": [],
   "source": []
  }
 ],
 "metadata": {
  "colab": {
   "collapsed_sections": [],
   "name": "osm-licenses-validation",
   "provenance": []
  },
  "interpreter": {
   "hash": "436f2814f1f12011c00cf6933038a969dd0edc275127d459a28a14c2140dfae0"
  },
  "kernelspec": {
   "display_name": "Python 3.8.5 64-bit ('osm-analytics': conda)",
   "name": "python3"
  },
  "language_info": {
   "codemirror_mode": {
    "name": "ipython",
    "version": 3
   },
   "file_extension": ".py",
   "mimetype": "text/x-python",
   "name": "python",
   "nbconvert_exporter": "python",
   "pygments_lexer": "ipython3",
   "version": "3.8.5"
  }
 },
 "nbformat": 4,
 "nbformat_minor": 2
}
