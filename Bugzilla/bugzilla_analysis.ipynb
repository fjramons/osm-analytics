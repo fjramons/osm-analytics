{
 "cells": [
  {
   "cell_type": "markdown",
   "metadata": {},
   "source": [
    "# Analysis of OSM events in Bugzilla"
   ]
  },
  {
   "cell_type": "code",
   "execution_count": null,
   "metadata": {},
   "outputs": [],
   "source": [
    "import os\n",
    "import pandas as pd\n",
    "import numpy as np\n",
    "import matplotlib.pyplot as plt\n",
    "%matplotlib inline\n",
    "import seaborn as sns"
   ]
  },
  {
   "cell_type": "code",
   "execution_count": null,
   "metadata": {},
   "outputs": [],
   "source": [
    "# Sets a bigger default size for figures\n",
    "plt.rcParams['figure.figsize'] = [12, 8]\n",
    "plt.rcParams['figure.dpi'] = 80 # 100 gives great resolution and 200 gives optimal resolution, but much slower\n",
    "sns.set(rc={'figure.figsize':(12,8)})"
   ]
  },
  {
   "cell_type": "markdown",
   "metadata": {},
   "source": [
    "## 0. Input parameters"
   ]
  },
  {
   "cell_type": "code",
   "execution_count": null,
   "metadata": {},
   "outputs": [],
   "source": [
    "inputs_folder = 'inputs'\r\n",
    "outputs_folder = 'outputs'\r\n",
    "#bugzilla_csv = os.path.join(inputs_folder, 'bugs.csv')\r\n",
    "bugzilla_csv = 'https://osm.etsi.org/stats/bugs.csv'\r\n",
    "\r\n",
    "date_for_bug_deprecation = '2020-07-01'\r\n",
    "date_for_very_recent_bug = '2021-04-15'\r\n",
    "\r\n",
    "former_mdl_assessments_file = 'former_mdl_assessments.xlsx' # If it does not exist, it will be ignored"
   ]
  },
  {
   "cell_type": "markdown",
   "metadata": {},
   "source": [
    "## 1. Imports and cleans source data"
   ]
  },
  {
   "cell_type": "code",
   "execution_count": null,
   "metadata": {},
   "outputs": [],
   "source": [
    "header_list = [\"BUG_ID\", \"BUG_DESCRIPTION\", \"RELEASE\", \"MODULE\", \"OPERATION\", \"VALUE\", \"TIMESTAMP\"]\r\n",
    "df_bug_full = pd.read_csv(bugzilla_csv, encoding='utf-8', header=None, names=header_list)\r\n",
    "df_bug_full"
   ]
  },
  {
   "cell_type": "code",
   "execution_count": null,
   "metadata": {},
   "outputs": [],
   "source": [
    "df_bug_full.info()"
   ]
  },
  {
   "cell_type": "markdown",
   "metadata": {},
   "source": [
    "Fixes the timestamp type:"
   ]
  },
  {
   "cell_type": "code",
   "execution_count": null,
   "metadata": {},
   "outputs": [],
   "source": [
    "df_bug_full[\"TIMESTAMP\"] = df_bug_full.TIMESTAMP.astype('datetime64')\n",
    "df_bug_full.info()"
   ]
  },
  {
   "cell_type": "markdown",
   "metadata": {},
   "source": [
    "Fixes the `OPERATION` field to make it a categorical type.\n",
    "\n",
    "First, we check what \"operations\" are possible (and checks if any has wrong data):"
   ]
  },
  {
   "cell_type": "code",
   "execution_count": null,
   "metadata": {},
   "outputs": [],
   "source": [
    "types_of_operations = df_bug_full.OPERATION.unique().tolist()\n",
    "list(enumerate(types_of_operations))"
   ]
  },
  {
   "cell_type": "code",
   "execution_count": null,
   "metadata": {},
   "outputs": [],
   "source": [
    "df_bug_full.OPERATION.value_counts()"
   ]
  },
  {
   "cell_type": "code",
   "execution_count": null,
   "metadata": {},
   "outputs": [],
   "source": [
    "df_bug_full[\"OPERATION\"] = df_bug_full.OPERATION.astype('category')\n",
    "df_bug_full[\"RELEASE\"] = df_bug_full.RELEASE.astype('category')\n",
    "df_bug_full[\"MODULE\"] = df_bug_full.MODULE.astype('category')\n",
    "df_bug_full.info()"
   ]
  },
  {
   "cell_type": "markdown",
   "metadata": {},
   "source": [
    "Checks the different types of values allowed for some of these operations:"
   ]
  },
  {
   "cell_type": "code",
   "execution_count": null,
   "metadata": {},
   "outputs": [],
   "source": [
    "df_bug_full.loc[ (df_bug_full.OPERATION=='resolution'), \"VALUE\" ].value_counts()"
   ]
  },
  {
   "cell_type": "code",
   "execution_count": null,
   "metadata": {},
   "outputs": [],
   "source": [
    "df_bug_full.loc[ (df_bug_full.OPERATION=='bug_status'), \"VALUE\" ].value_counts()"
   ]
  },
  {
   "cell_type": "code",
   "execution_count": null,
   "metadata": {},
   "outputs": [],
   "source": [
    "df_bug_full.RELEASE.value_counts()"
   ]
  },
  {
   "cell_type": "code",
   "execution_count": null,
   "metadata": {},
   "outputs": [],
   "source": [
    "df_bug_full.loc[ (df_bug_full.OPERATION=='version'), \"VALUE\" ].value_counts()"
   ]
  },
  {
   "cell_type": "code",
   "execution_count": null,
   "metadata": {},
   "outputs": [],
   "source": [
    "df_bug_full.MODULE.value_counts()"
   ]
  },
  {
   "cell_type": "markdown",
   "metadata": {},
   "source": [
    "Summary of the most relevant operations:\n",
    "\n",
    "- `assigned_to`: (Re)assignment of the bug to a **person**.\n",
    "- `version`: Explicit assignment to OSM Release: `master`, `v9.0`, etc.\n",
    "- `component`: (Re)assigment of the bug to an **OSM module**.\n",
    "- `bug_status`: Change of bug state. Possible values:\n",
    "  - `RESOLVED`\n",
    "  - `CONFIRMED`\n",
    "  - `IN_PROGRESS`\n",
    "  - `VERIFIED`\n",
    "  - `UNCONFIRMED`\n",
    "- `resolution`: Change of resolution state of the bug (related to `bug_status` when `RESOLVED`). Possible values:\n",
    "  - `FIXED`\n",
    "  - `WONTFIX`\n",
    "  - `INVALID`\n",
    "  - `DUPLICATE`\n",
    "  - `WORKSFORME`\n",
    "- `comment`: New comment to the bug. The first one is the event that **opens** the bug:\n",
    "- `priority`: Change of bug priority.\n",
    "- `bug_severity`: Change of bug severity."
   ]
  },
  {
   "cell_type": "markdown",
   "metadata": {},
   "source": [
    "Characterizes malformed types of `operations`, if any:"
   ]
  },
  {
   "cell_type": "code",
   "execution_count": null,
   "metadata": {},
   "outputs": [],
   "source": [
    "#i = 15\n",
    "#print(types_of_operations[i])\n",
    "#wrong1 = df_bug_full[ df_bug_full[\"OPERATION\"]==types_of_operations[i] ]\n",
    "#wrong1"
   ]
  },
  {
   "cell_type": "code",
   "execution_count": null,
   "metadata": {},
   "outputs": [],
   "source": [
    "#i = 20\n",
    "#print(types_of_operations[i])\n",
    "#wrong2 = df_bug_full[ df_bug_full[\"OPERATION\"]==types_of_operations[i] ]\n",
    "#wrong2"
   ]
  },
  {
   "cell_type": "code",
   "execution_count": null,
   "metadata": {},
   "outputs": [],
   "source": [
    "## Extracts the line numbers where there are errors\n",
    "#wrong_lines = pd.concat([wrong1, wrong2, wrong3])\n",
    "#wrong_lines_num = wrong_lines.index.to_list()\n",
    "#print(wrong_lines_num)\n",
    "#wrong_lines"
   ]
  },
  {
   "cell_type": "code",
   "execution_count": null,
   "metadata": {},
   "outputs": [],
   "source": [
    "## Saves the wrong lines\n",
    "#wrong_lines.reset_index(inplace=True)\n",
    "#wrong_lines = wrong_lines.rename(columns = {'index':'Row no. in original file'})\n",
    "#wrong_lines.to_excel(\"wrong_lines.xlsx\", encoding=\"utf-8\", index=False)\n",
    "#\n",
    "#with open(os.path.join(inputs_folder, 'bugs.csv'), 'r', encoding='utf-8') as fin:\n",
    "#    with open('original_wrong_lines.csv', 'w', encoding='utf-8') as fout:\n",
    "#        for n, line in enumerate(fin):\n",
    "#            if n in wrong_lines_num:\n",
    "#                print(line.strip(), file=fout)"
   ]
  },
  {
   "cell_type": "markdown",
   "metadata": {},
   "source": [
    "Creates a fixed CSV file from a manually created XLSX"
   ]
  },
  {
   "cell_type": "code",
   "execution_count": null,
   "metadata": {},
   "outputs": [],
   "source": [
    "#df = pd.read_excel('20210507 Importación de CSV de bugzilla.xlsx', sheet_name='fixed_wrong_lines')\n",
    "#df.to_csv('fixed_wrong_lines.csv', encoding='utf-8', index=False, header=None)"
   ]
  },
  {
   "cell_type": "markdown",
   "metadata": {},
   "source": [
    "Processes a fixed CSV file (escaping the comma):"
   ]
  },
  {
   "cell_type": "code",
   "execution_count": null,
   "metadata": {},
   "outputs": [],
   "source": [
    "#bugzilla_csv = os.path.join(inputs_folder, 'bugs.csv')\n",
    "#df_bug_full = pd.read_csv(bugzilla_csv, encoding='utf-8', names=header_list, escapechar='\\\\')"
   ]
  },
  {
   "cell_type": "code",
   "execution_count": null,
   "metadata": {},
   "outputs": [],
   "source": [
    "#types_of_operations = df_bug_full.OPERATION.unique().tolist()\n",
    "#list(enumerate(types_of_operations))"
   ]
  },
  {
   "cell_type": "markdown",
   "metadata": {},
   "source": [
    "### 1.1 Sorts by timestamp, then by bug id"
   ]
  },
  {
   "cell_type": "code",
   "execution_count": null,
   "metadata": {},
   "outputs": [],
   "source": [
    "df_bug_full.sort_values(by=['TIMESTAMP', 'BUG_ID'], inplace=True)\n",
    "df_bug_full.head()"
   ]
  },
  {
   "cell_type": "markdown",
   "metadata": {},
   "source": [
    "Resets the index and adds the former index as a new column (`ROW_NUMBER`):"
   ]
  },
  {
   "cell_type": "code",
   "execution_count": null,
   "metadata": {},
   "outputs": [],
   "source": [
    "df_bug_full.reset_index(inplace=True)\n",
    "df_bug_full.rename(columns={'index': 'ROW_NUMBER'}, inplace=True)\n",
    "df_bug_full.head()"
   ]
  },
  {
   "cell_type": "markdown",
   "metadata": {},
   "source": [
    "### 1.2 Reorders the columns to make them more convenient"
   ]
  },
  {
   "cell_type": "code",
   "execution_count": null,
   "metadata": {},
   "outputs": [],
   "source": [
    "#df_bug_full = df_bug_full[['TIMESTAMP', 'BUG_ID', 'OPERATION', 'VALUE', 'BUG_DESCRIPTION', 'ROW_NUMBER']]\n",
    "new_column_order = ['TIMESTAMP', 'BUG_ID', 'OPERATION', 'VALUE', 'RELEASE', 'MODULE', 'BUG_DESCRIPTION', 'ROW_NUMBER']\n",
    "df_bug_full = df_bug_full.reindex(columns=new_column_order)\n",
    "df_bug_full.head()"
   ]
  },
  {
   "cell_type": "markdown",
   "metadata": {},
   "source": [
    "### 1.3 Tags events by age\n",
    "\n",
    "To the list of events related to status changes, we add a new column with a qualitative tag about the age of the event:"
   ]
  },
  {
   "cell_type": "code",
   "execution_count": null,
   "metadata": {},
   "outputs": [],
   "source": [
    "df_bug_full[\"AGE\"] = \"CURRENT\"  # By default, they should be relevant\n",
    "df_bug_full.loc[ df_bug_full['TIMESTAMP']<date_for_bug_deprecation, \"AGE\" ] = \"OLD\"\n",
    "df_bug_full.loc[ df_bug_full['TIMESTAMP']>date_for_very_recent_bug, \"AGE\" ] = \"RECENT\"\n",
    "\n",
    "df_bug_full[\"AGE\"] = df_bug_full.AGE.astype('category')   # To save RAM\n",
    "df_bug_full.AGE.cat.reorder_categories(['RECENT', 'CURRENT', 'OLD'], ordered=True)\n",
    "df_bug_full.tail()"
   ]
  },
  {
   "cell_type": "markdown",
   "metadata": {},
   "source": [
    "## 2. Analysis of the lifecycle of a bug"
   ]
  },
  {
   "cell_type": "markdown",
   "metadata": {},
   "source": [
    "Example of the typical lifecycle of a bug:"
   ]
  },
  {
   "cell_type": "code",
   "execution_count": null,
   "metadata": {},
   "outputs": [],
   "source": [
    "df_bug_full[ df_bug_full.BUG_ID==1513 ]"
   ]
  },
  {
   "cell_type": "markdown",
   "metadata": {},
   "source": [
    "Examples of bugs that change of release:"
   ]
  },
  {
   "cell_type": "code",
   "execution_count": null,
   "metadata": {},
   "outputs": [],
   "source": [
    "df_bug_full.loc[ (df_bug_full.OPERATION=='version'), [\"BUG_ID\", \"VALUE\"] ].tail()"
   ]
  },
  {
   "cell_type": "code",
   "execution_count": null,
   "metadata": {},
   "outputs": [],
   "source": [
    "# Finding examples of bugs that changed of release\n",
    "df_op_version_changes = df_bug_full.loc[ (df_bug_full.OPERATION=='version'), [\"BUG_ID\", \"VALUE\"] ]\n",
    "bug_ids_with_change_of_version = df_op_version_changes.BUG_ID.unique()\n",
    "df_initial_version = df_bug_full.loc[ df_bug_full.BUG_ID.isin(bug_ids_with_change_of_version) ].groupby(by='BUG_ID').first().reset_index().loc[:, ['BUG_ID', 'RELEASE']]\n",
    "df_bugs_with_version_changes = pd.merge(df_op_version_changes, df_initial_version, on='BUG_ID')\n",
    "df_bugs_with_version_changes[ df_bugs_with_version_changes.VALUE!=df_bugs_with_version_changes.RELEASE ]"
   ]
  },
  {
   "cell_type": "code",
   "execution_count": null,
   "metadata": {},
   "outputs": [],
   "source": [
    "# Example of lifecycle\n",
    "df_bug_full[ df_bug_full.BUG_ID==510 ]"
   ]
  },
  {
   "cell_type": "markdown",
   "metadata": {},
   "source": [
    "Interpretation:\n",
    "\n",
    "- `RELEASE` reflects the **latest** state **even from the first row**.\n",
    "- `VALUE` in a `version` operation reflects **the new state at that time**. It may not be the latest state."
   ]
  },
  {
   "cell_type": "markdown",
   "metadata": {},
   "source": [
    "### 2.1 Comments per bug"
   ]
  },
  {
   "cell_type": "code",
   "execution_count": null,
   "metadata": {},
   "outputs": [],
   "source": [
    "df_comments_by_bug = df_bug_full[ df_bug_full.OPERATION=='comment' ]\n",
    "df_comments_by_bug.head()"
   ]
  },
  {
   "cell_type": "markdown",
   "metadata": {},
   "source": [
    "Obtains the first comment of each bug, i.e. the event by which it was open:"
   ]
  },
  {
   "cell_type": "code",
   "execution_count": null,
   "metadata": {},
   "outputs": [],
   "source": [
    "# Finds the lowest index where each bug appears and converts it to a list:\n",
    "#\n",
    "# 1. Converts the index in a regular column\n",
    "# 2. Groups by BUG_ID\n",
    "# 3. Gets the minimum value of the remaining columns. In this case, the minimal index\n",
    "# 4. Extracts the 'index' Series from the Dataframe\n",
    "# 5. Converts the Series in a regular Python list\n",
    "bug_openings_index = df_comments_by_bug.reset_index()[['BUG_ID', 'index']].groupby('BUG_ID').min()['index'].tolist()\n",
    "df_bug_openings = df_comments_by_bug.loc[bug_openings_index]\n",
    "df_bug_openings"
   ]
  },
  {
   "cell_type": "markdown",
   "metadata": {},
   "source": [
    "### 2.2 Bug status"
   ]
  },
  {
   "cell_type": "markdown",
   "metadata": {},
   "source": [
    "#### 2.2.1 Changes of status of each bug"
   ]
  },
  {
   "cell_type": "code",
   "execution_count": null,
   "metadata": {},
   "outputs": [],
   "source": [
    "df_status_changes_by_bug = df_bug_full[ df_bug_full.OPERATION=='bug_status' ]\n",
    "df_status_changes_by_bug.head(20)"
   ]
  },
  {
   "cell_type": "markdown",
   "metadata": {},
   "source": [
    "Since there is no explicit \"bug creation\" event, we need to add it using the first comment received.\n",
    "\n",
    "First, we isolate the line of the first comment and reformat it to become a sort of change of bug status:"
   ]
  },
  {
   "cell_type": "code",
   "execution_count": null,
   "metadata": {},
   "outputs": [],
   "source": [
    "df_bug_openings_events = df_bug_openings.copy()\n",
    "df_bug_openings_events[\"OPERATION\"] = \"bug_status\"\n",
    "df_bug_openings_events[\"ISSUER\"] = df_bug_openings_events[\"VALUE\"]\n",
    "df_bug_openings_events[\"VALUE\"] = \"OPEN-UNCONFIRMED\"\n",
    "df_bug_openings_events"
   ]
  },
  {
   "cell_type": "markdown",
   "metadata": {},
   "source": [
    "\n",
    "Then, we concatenate it with the rest of bug status changes:"
   ]
  },
  {
   "cell_type": "code",
   "execution_count": null,
   "metadata": {},
   "outputs": [],
   "source": [
    "df_status_changes_by_bug = pd.concat([df_status_changes_by_bug, df_bug_openings_events]).sort_index()\n",
    "df_status_changes_by_bug"
   ]
  },
  {
   "cell_type": "code",
   "execution_count": null,
   "metadata": {},
   "outputs": [],
   "source": [
    "df_status_changes_by_bug.VALUE.value_counts()"
   ]
  },
  {
   "cell_type": "markdown",
   "metadata": {},
   "source": [
    "Now we can make the field `VALUE` of type category and even set the expected ordering for that category:"
   ]
  },
  {
   "cell_type": "code",
   "execution_count": null,
   "metadata": {},
   "outputs": [],
   "source": [
    "df_status_changes_by_bug['VALUE'] = df_status_changes_by_bug.VALUE.astype('category')\n",
    "df_status_changes_by_bug.VALUE.cat.reorder_categories(['OPEN-UNCONFIRMED', 'UNCONFIRMED', 'CONFIRMED', 'IN_PROGRESS', 'VERIFIED', 'RESOLVED'], ordered=True)\n",
    "df_status_changes_by_bug.head()"
   ]
  },
  {
   "cell_type": "code",
   "execution_count": null,
   "metadata": {},
   "outputs": [],
   "source": [
    "# Example\n",
    "df_status_changes_by_bug[ df_status_changes_by_bug.BUG_ID==1513 ]"
   ]
  },
  {
   "cell_type": "markdown",
   "metadata": {},
   "source": [
    "#### 2.2.2 Tags each bug event by its age"
   ]
  },
  {
   "cell_type": "markdown",
   "metadata": {},
   "source": []
  },
  {
   "cell_type": "code",
   "execution_count": null,
   "metadata": {},
   "outputs": [],
   "source": [
    "df_status_changes_by_bug[\"AGE\"].value_counts()"
   ]
  },
  {
   "cell_type": "markdown",
   "metadata": {},
   "source": [
    "#### 2.2.3 Finds the current state of each bug"
   ]
  },
  {
   "cell_type": "markdown",
   "metadata": {},
   "source": [
    "For each bug, we find the latest known change of state, which should be the current state of the bug:"
   ]
  },
  {
   "cell_type": "code",
   "execution_count": null,
   "metadata": {},
   "outputs": [],
   "source": [
    "current_bug_state_index = df_status_changes_by_bug.reset_index()[['BUG_ID', 'index']].groupby('BUG_ID').max()['index'].tolist()\n",
    "df_current_bug_state = df_status_changes_by_bug.loc[current_bug_state_index].sort_index()\n",
    "df_current_bug_state"
   ]
  },
  {
   "cell_type": "code",
   "execution_count": null,
   "metadata": {},
   "outputs": [],
   "source": [
    "df_current_bug_state.VALUE.value_counts()"
   ]
  },
  {
   "cell_type": "markdown",
   "metadata": {},
   "source": [
    "Finds the list of unresolved bugs:"
   ]
  },
  {
   "cell_type": "code",
   "execution_count": null,
   "metadata": {},
   "outputs": [],
   "source": [
    "#df_unresolved_bugs = df_current_bug_state[ df_current_bug_state['VALUE']!='RESOLVED' ]\n",
    "df_unresolved_bugs = df_current_bug_state[ ~df_current_bug_state['VALUE'].isin(['RESOLVED', 'VERIFIED']) ]\n",
    "df_unresolved_bugs"
   ]
  },
  {
   "cell_type": "markdown",
   "metadata": {},
   "source": [
    "Too old bugs that remain open (candidates for administrative closing):"
   ]
  },
  {
   "cell_type": "code",
   "execution_count": null,
   "metadata": {},
   "outputs": [],
   "source": [
    "df_deprecated_bugs = df_unresolved_bugs[ df_unresolved_bugs['AGE']=='OLD' ]\n",
    "df_deprecated_bugs.tail()"
   ]
  },
  {
   "cell_type": "code",
   "execution_count": null,
   "metadata": {},
   "outputs": [],
   "source": [
    "deprecated_bugs_id = df_deprecated_bugs.BUG_ID.sort_values().to_list()\n",
    "print(deprecated_bugs_id)"
   ]
  },
  {
   "cell_type": "code",
   "execution_count": null,
   "metadata": {},
   "outputs": [],
   "source": [
    "df_deprecated_bugs.VALUE.value_counts()"
   ]
  },
  {
   "cell_type": "markdown",
   "metadata": {},
   "source": [
    "#### 2.2.4 Current bug status vs. age"
   ]
  },
  {
   "cell_type": "code",
   "execution_count": null,
   "metadata": {},
   "outputs": [],
   "source": [
    "pd.crosstab(df_current_bug_state.VALUE, df_current_bug_state.AGE, margins=True, margins_name='Total')"
   ]
  },
  {
   "cell_type": "markdown",
   "metadata": {},
   "source": [
    "With a more convenient rearrangement for rows and columns of the crosstab, and addition of \"totals\" per row and column:"
   ]
  },
  {
   "cell_type": "code",
   "execution_count": null,
   "metadata": {},
   "outputs": [],
   "source": [
    "# Ordered crosstab (absolute figures)\n",
    "by_maturity = ['OPEN-UNCONFIRMED', 'UNCONFIRMED', 'CONFIRMED', 'IN_PROGRESS', 'VERIFIED', 'RESOLVED', 'Total']\n",
    "by_age = ['RECENT', 'CURRENT', 'OLD', 'Total']\n",
    "df_status_vs_age = pd.crosstab(df_current_bug_state.VALUE, df_current_bug_state.AGE, margins=True, margins_name='Total')\n",
    "df_status_vs_age.index.rename('STATUS', inplace=True)\n",
    "df_status_vs_age.loc[by_maturity, by_age]"
   ]
  },
  {
   "cell_type": "code",
   "execution_count": null,
   "metadata": {},
   "outputs": [],
   "source": [
    "# Ordered crosstab (%)\n",
    "by_maturity = ['OPEN-UNCONFIRMED', 'UNCONFIRMED', 'CONFIRMED', 'IN_PROGRESS', 'VERIFIED', 'RESOLVED', 'Total']\n",
    "by_age = ['RECENT', 'CURRENT', 'OLD', 'Total']\n",
    "df_status_vs_age_pct = pd.crosstab(df_current_bug_state.VALUE, df_current_bug_state.AGE, margins=True, margins_name='Total', normalize=True)\n",
    "df_status_vs_age_pct.index.rename('STATUS', inplace=True)\n",
    "df_status_vs_age_pct.loc[by_maturity, by_age]"
   ]
  },
  {
   "cell_type": "markdown",
   "metadata": {},
   "source": [
    "### 2.3 OSM Release (`version`) referred in the bug"
   ]
  },
  {
   "cell_type": "markdown",
   "metadata": {},
   "source": [
    "Sequence of events where a release was assigned to a bug:"
   ]
  },
  {
   "cell_type": "code",
   "execution_count": null,
   "metadata": {},
   "outputs": [],
   "source": [
    "df_release_events_by_bug = df_bug_full[ df_bug_full.OPERATION=='version' ]\n",
    "df_release_events_by_bug"
   ]
  },
  {
   "cell_type": "markdown",
   "metadata": {},
   "source": [
    "Finds which bugs have been reassigned to more than one release during their lifetime:"
   ]
  },
  {
   "cell_type": "code",
   "execution_count": null,
   "metadata": {},
   "outputs": [],
   "source": [
    "df_releases_per_bug = df_release_events_by_bug.loc[:, ['BUG_ID', 'VALUE']]\n",
    "n_changes_of_release_per_bug = df_releases_per_bug.groupby('BUG_ID').count()\n",
    "bugs_reassigned_to_several_releases = n_changes_of_release_per_bug[ n_changes_of_release_per_bug.VALUE>1 ].reset_index().BUG_ID.tolist()\n",
    "bugs_reassigned_to_several_releases\n",
    "df_release_events_by_bug[ df_release_events_by_bug.BUG_ID.isin(bugs_reassigned_to_several_releases) ]"
   ]
  },
  {
   "cell_type": "code",
   "execution_count": null,
   "metadata": {},
   "outputs": [],
   "source": [
    "len(bugs_reassigned_to_several_releases)"
   ]
  },
  {
   "cell_type": "markdown",
   "metadata": {},
   "source": [
    "Determines which bugs experienced at least one explicit event of change of release:"
   ]
  },
  {
   "cell_type": "code",
   "execution_count": null,
   "metadata": {},
   "outputs": [],
   "source": [
    "# Bugs assigned to a release\n",
    "bugs_with_release = df_release_events_by_bug.BUG_ID.unique()\n",
    "bugs_with_release"
   ]
  },
  {
   "cell_type": "markdown",
   "metadata": {},
   "source": [
    "_**FIXME:**_ Esto no es cierto ya. Habría que tener en cuenta la release\n",
    "\n",
    "Bugs which do not have a a release explicitly associated to them (**we should assume they refer to the latest known stable release**):"
   ]
  },
  {
   "cell_type": "code",
   "execution_count": null,
   "metadata": {},
   "outputs": [],
   "source": [
    "# # All bug IDs\n",
    "# all_bug_ids = df_bug_full.BUG_ID.unique()\n",
    "# all_bug_ids"
   ]
  },
  {
   "cell_type": "code",
   "execution_count": null,
   "metadata": {},
   "outputs": [],
   "source": [
    "# # Bug not assigned to any release\n",
    "# bugs_without_release = np.delete(all_bug_ids, bugs_with_release)\n",
    "# bugs_without_release"
   ]
  },
  {
   "cell_type": "markdown",
   "metadata": {},
   "source": [
    "List of bugs with no specific release assigned:"
   ]
  },
  {
   "cell_type": "code",
   "execution_count": null,
   "metadata": {},
   "outputs": [],
   "source": [
    "# df_bugs_without_release = df_bug_full[ df_bug_full.BUG_ID.isin(bugs_without_release) ]\n",
    "# df_bugs_without_release.tail()"
   ]
  },
  {
   "cell_type": "code",
   "execution_count": null,
   "metadata": {},
   "outputs": [],
   "source": [
    "# df_bug_full[ df_bug_full.BUG_ID==1522 ]"
   ]
  },
  {
   "cell_type": "markdown",
   "metadata": {},
   "source": [
    "Determines the last release to which the bug has been explicitly assigned:"
   ]
  },
  {
   "cell_type": "code",
   "execution_count": null,
   "metadata": {},
   "outputs": [],
   "source": [
    "# current_bug_release_index = df_release_events_by_bug.reset_index()[['BUG_ID', 'index']].groupby('BUG_ID').max()['index'].tolist()\n",
    "# df_current_bug_release = df_release_events_by_bug.loc[current_bug_release_index].sort_index()\n",
    "# df_current_bug_release.tail(20)"
   ]
  },
  {
   "cell_type": "markdown",
   "metadata": {},
   "source": [
    "### 2.4 MDG (`component`) associated to each bug"
   ]
  },
  {
   "cell_type": "code",
   "execution_count": null,
   "metadata": {},
   "outputs": [],
   "source": [
    "# df_mdg_events_by_bug = df_bug_full[ df_bug_full.OPERATION=='component' ]\n",
    "# df_mdg_events_by_bug"
   ]
  },
  {
   "cell_type": "code",
   "execution_count": null,
   "metadata": {},
   "outputs": [],
   "source": [
    "# df_mdg_events_by_bug.VALUE.value_counts()"
   ]
  },
  {
   "cell_type": "markdown",
   "metadata": {},
   "source": [
    "Determines the last MDG to which the bug has been explicitly assigned:"
   ]
  },
  {
   "cell_type": "code",
   "execution_count": null,
   "metadata": {},
   "outputs": [],
   "source": [
    "# current_bug_mdg_index = df_mdg_events_by_bug.reset_index()[['BUG_ID', 'index']].groupby('BUG_ID').max()['index'].tolist()\n",
    "# df_current_bug_mdg = df_mdg_events_by_bug.loc[current_bug_mdg_index].sort_index()\n",
    "# df_current_bug_mdg.tail(20)"
   ]
  },
  {
   "cell_type": "markdown",
   "metadata": {},
   "source": [
    "### 2.5 Bug owner (`assigned_to`)"
   ]
  },
  {
   "cell_type": "code",
   "execution_count": null,
   "metadata": {},
   "outputs": [],
   "source": [
    "df_owner_events_by_bug = df_bug_full[ df_bug_full.OPERATION=='assigned_to' ]\n",
    "df_owner_events_by_bug"
   ]
  },
  {
   "cell_type": "code",
   "execution_count": null,
   "metadata": {},
   "outputs": [],
   "source": [
    "df_owner_events_by_bug.VALUE.value_counts()"
   ]
  },
  {
   "cell_type": "markdown",
   "metadata": {},
   "source": [
    "Determines the last owner to which the bug has been explicitly assigned:"
   ]
  },
  {
   "cell_type": "code",
   "execution_count": null,
   "metadata": {},
   "outputs": [],
   "source": [
    "current_owner_bug_index = df_owner_events_by_bug.reset_index()[['BUG_ID', 'index']].groupby('BUG_ID').max()['index'].tolist()\n",
    "df_current_owner_bug = df_owner_events_by_bug.loc[current_owner_bug_index].sort_index()\n",
    "df_current_owner_bug.tail(20)"
   ]
  },
  {
   "cell_type": "markdown",
   "metadata": {},
   "source": [
    "## 3. Summary table per bug"
   ]
  },
  {
   "cell_type": "markdown",
   "metadata": {},
   "source": [
    "The summary table (`df_bug_summmary`) should collect, at least:\n",
    "\n",
    "- Basic bug details:\n",
    "  - Bug id\n",
    "  - Bug description\n",
    "  - Issuer (reporter of the bug)\n",
    "- Latest states of the bug:\n",
    "  - Currently assigned status\n",
    "  - Currently assigned Release\n",
    "  - Currently assigned MDG\n",
    "  - Currently assigned owner\n",
    "- Relevant timestamps:\n",
    "  - Date of creation.\n",
    "  - Date of latest change of state.\n",
    "  - Date of latest event.\n",
    "- Age tags:\n",
    "  - Date of creation\n",
    "  - Date of last event.\n",
    "- Other relevant summary statistics, such as:\n",
    "  - No. Release reassignments.\n",
    "  - No. State reassignments.\n",
    "  - No. State reassignments to `RESOLVED`."
   ]
  },
  {
   "cell_type": "markdown",
   "metadata": {},
   "source": [
    "### 3.1 Extracts data from the list of events to build the main series of the summary"
   ]
  },
  {
   "cell_type": "markdown",
   "metadata": {},
   "source": [
    "Auxiliary functions to find easily the first and last ocurrences of a certain type of event per bug or make basic accountings:"
   ]
  },
  {
   "cell_type": "code",
   "execution_count": null,
   "metadata": {},
   "outputs": [],
   "source": [
    "def first_event_by_bug(df_filtered):\n",
    "    index = df_filtered.reset_index()[['BUG_ID', 'index']].groupby('BUG_ID').min()['index'].tolist()\n",
    "    return df_filtered.loc[index].sort_index()\n",
    "\n",
    "def last_event_by_bug(df_filtered):\n",
    "    index = df_filtered.reset_index()[['BUG_ID', 'index']].groupby('BUG_ID').max()['index'].tolist()\n",
    "    return df_filtered.loc[index].sort_index()\n",
    "\n",
    "def count_event_by_bug(df_filtered):\n",
    "    summary = df_filtered.reset_index()[['BUG_ID', 'index']].groupby('BUG_ID').count()\n",
    "    return summary.rename(columns={'index': 'COUNT'})\n",
    "\n",
    "# Some handy shortcuts\n",
    "\n",
    "def first_event_by_bug_and_type(df, event_type):\n",
    "    return first_event_by_bug( df[df.OPERATION==event_type] )\n",
    "\n",
    "def last_event_by_bug_and_type(df, event_type):\n",
    "    return last_event_by_bug( df[df.OPERATION==event_type] )\n",
    "\n",
    "def count_event_by_bug_and_type(df, event_type):\n",
    "    return count_event_by_bug( df[df.OPERATION==event_type] )"
   ]
  },
  {
   "cell_type": "code",
   "execution_count": null,
   "metadata": {},
   "outputs": [],
   "source": [
    "# Testing:\n",
    "last_event_by_bug_and_type(df_status_changes_by_bug, 'bug_status').VALUE.value_counts()"
   ]
  },
  {
   "cell_type": "code",
   "execution_count": null,
   "metadata": {},
   "outputs": [],
   "source": [
    "# Obtains all basic bug details + bug creation details\n",
    "df_bug_summary = first_event_by_bug(df_status_changes_by_bug).set_index('BUG_ID')\n",
    "df_bug_summary.drop(columns=['OPERATION', 'VALUE', 'ROW_NUMBER'], inplace=True)\n",
    "df_bug_summary = df_bug_summary.reindex(columns=['BUG_DESCRIPTION', 'ISSUER', 'TIMESTAMP', 'AGE'])\n",
    "df_bug_summary.rename(columns={'TIMESTAMP': 'CREATION_TIME', 'AGE': 'CREATION_AGE'}, inplace=True)\n",
    "df_bug_summary"
   ]
  },
  {
   "cell_type": "code",
   "execution_count": null,
   "metadata": {},
   "outputs": [],
   "source": [
    "# Obtains last known state of the bug\n",
    "last_status = last_event_by_bug(df_status_changes_by_bug).set_index('BUG_ID')\n",
    "last_status.drop(columns=['OPERATION', 'BUG_DESCRIPTION', 'ROW_NUMBER', 'ISSUER'], inplace=True)\n",
    "last_status.rename(columns={'TIMESTAMP': 'STATE_UPDATE_TIME', 'VALUE': 'STATE', 'AGE': 'STATE_UPDATE_AGE'}, inplace=True)\n",
    "last_status = last_status.reindex(columns=['STATE', 'STATE_UPDATE_TIME', 'STATE_UPDATE_AGE'])\n",
    "df_bug_summary = pd.merge(df_bug_summary, last_status, left_index=True, right_index=True, how='left')\n",
    "df_bug_summary"
   ]
  },
  {
   "cell_type": "code",
   "execution_count": null,
   "metadata": {},
   "outputs": [],
   "source": [
    "# Adds the total number of changes of state\n",
    "n_changes_of_state = count_event_by_bug_and_type(df_status_changes_by_bug, 'bug_status')\n",
    "n_changes_of_state.rename(columns={'COUNT': 'STATE_CHANGES'}, inplace=True)\n",
    "df_bug_summary = pd.merge(df_bug_summary, n_changes_of_state, left_index=True, right_index=True, how='left')\n",
    "df_bug_summary"
   ]
  },
  {
   "cell_type": "code",
   "execution_count": null,
   "metadata": {},
   "outputs": [],
   "source": [
    "# Adds how many times it has changed to `RESOLVED` (useful to detect ineffective resolutions)\n",
    "df = df_status_changes_by_bug\n",
    "\n",
    "# Checks strictly changes to `RESOLVED` (`VERIFIED` would be redundant)\n",
    "n_changes_to_resolved = count_event_by_bug( df[ (df.OPERATION=='bug_status') & (df.VALUE=='RESOLVED')] )\n",
    "n_changes_to_resolved.rename(columns={'COUNT': 'CHANGES_TO_RESOLVED'}, inplace=True)\n",
    "df_bug_summary = pd.merge(df_bug_summary, n_changes_to_resolved, left_index=True, right_index=True, how='left')\n",
    "df_bug_summary"
   ]
  },
  {
   "cell_type": "code",
   "execution_count": null,
   "metadata": {},
   "outputs": [],
   "source": [
    "# Replaces NA in count of changes to `RESOLVED` state\n",
    "df_bug_summary['CHANGES_TO_RESOLVED'] = df_bug_summary['CHANGES_TO_RESOLVED'].fillna(0)\n",
    "df_bug_summary['CHANGES_TO_RESOLVED'] = df_bug_summary.CHANGES_TO_RESOLVED.astype('int64')\n",
    "df_bug_summary['CHANGES_TO_RESOLVED']"
   ]
  },
  {
   "cell_type": "code",
   "execution_count": null,
   "metadata": {},
   "outputs": [],
   "source": [
    "# Obtains last known Release and MDG of the bug\n",
    "df_bug_summary = pd.merge(df_bug_summary, \n",
    "                          df_bug_full.groupby('BUG_ID').last()[['RELEASE', 'MODULE']], \n",
    "                          how='outer', left_index=True, right_index=True)\n",
    "df_bug_summary"
   ]
  },
  {
   "cell_type": "code",
   "execution_count": null,
   "metadata": {},
   "outputs": [],
   "source": [
    "# # Obtains last known Release of the bug\n",
    "# last_release = last_event_by_bug_and_type(df_bug_full, 'version').set_index('BUG_ID')\n",
    "# last_release.drop(columns=['TIMESTAMP', 'OPERATION', 'BUG_DESCRIPTION', 'ROW_NUMBER', 'AGE'], inplace=True)\n",
    "# last_release.rename(columns={'VALUE': 'RELEASE'}, inplace=True)\n",
    "# df_bug_summmary = pd.merge(df_bug_summmary, last_release, left_index=True, right_index=True, how='left')\n",
    "# df_bug_summmary"
   ]
  },
  {
   "cell_type": "code",
   "execution_count": null,
   "metadata": {},
   "outputs": [],
   "source": [
    "# Adds how many times the Release assignment has changed (useful to detect situations that persist or revive across releases)\n",
    "n_release_assignment = count_event_by_bug_and_type(df_bug_full, 'version')\n",
    "n_release_assignment.rename(columns={'COUNT': 'RELEASE_CHANGES'}, inplace=True)\n",
    "df_bug_summary = pd.merge(df_bug_summary, n_release_assignment, left_index=True, right_index=True, how='left')\n",
    "df_bug_summary"
   ]
  },
  {
   "cell_type": "code",
   "execution_count": null,
   "metadata": {},
   "outputs": [],
   "source": [
    "# Replaces NA in count of changes to zero\n",
    "df_bug_summary['RELEASE_CHANGES'] = df_bug_summary['RELEASE_CHANGES'].fillna(0)\n",
    "df_bug_summary['RELEASE_CHANGES'] = df_bug_summary.CHANGES_TO_RESOLVED.astype('int64')\n",
    "df_bug_summary['RELEASE_CHANGES']"
   ]
  },
  {
   "cell_type": "code",
   "execution_count": null,
   "metadata": {},
   "outputs": [],
   "source": [
    "# # Obtains last assigned MDG\n",
    "# last_mdg = last_event_by_bug_and_type(df_bug_full, 'component').set_index('BUG_ID')\n",
    "# last_mdg.drop(columns=['TIMESTAMP', 'OPERATION', 'BUG_DESCRIPTION', 'ROW_NUMBER', 'AGE'], inplace=True)\n",
    "# last_mdg.rename(columns={'VALUE': 'MODULE'}, inplace=True)\n",
    "# df_bug_summmary = pd.merge(df_bug_summmary, last_mdg, left_index=True, right_index=True, how='left')\n",
    "# df_bug_summmary"
   ]
  },
  {
   "cell_type": "code",
   "execution_count": null,
   "metadata": {},
   "outputs": [],
   "source": [
    "# bugs_ids_with_missing_data = df_bug_summmary.loc[df_bug_summmary.MODULE.isna() | df_bug_summmary.RELEASE.isna()].index.values\n",
    "\n",
    "# # bugs_with_missing_data = df_bug_full.loc[df_bug_full.BUG_ID.isin(bugs_ids_with_missing_data.index.values), ['BUG_ID', 'BUG_DESCRIPTION', 'ROW_NUMBER', 'TIMESTAMP']].set_index('ROW_NUMBER')\n",
    "# bugs_with_missing_data = df_bug_full.loc[df_bug_full.BUG_ID.isin(bugs_ids_with_missing_data), ['BUG_ID', 'BUG_DESCRIPTION']].groupby('BUG_ID').first()\n",
    "# bugs_with_missing_data"
   ]
  },
  {
   "cell_type": "code",
   "execution_count": null,
   "metadata": {},
   "outputs": [],
   "source": [
    "# # Saves bugs with missing data\n",
    "# bugs_with_missing_data.to_excel(os.path.join(outputs_folder, 'bugs_with_missing_events.xlsx'))"
   ]
  },
  {
   "cell_type": "markdown",
   "metadata": {},
   "source": [
    "---"
   ]
  },
  {
   "cell_type": "code",
   "execution_count": null,
   "metadata": {},
   "outputs": [],
   "source": [
    "# # Replaces NA in MDG assignment to \"Not assigned\"\n",
    "# df_bug_summmary['MODULE'] = df_bug_summmary['MODULE'].fillna('Not assigned')\n",
    "# df_bug_summmary['MODULE']"
   ]
  },
  {
   "cell_type": "code",
   "execution_count": null,
   "metadata": {},
   "outputs": [],
   "source": [
    "df_bug_summary.MODULE.value_counts(dropna=False)"
   ]
  },
  {
   "cell_type": "code",
   "execution_count": null,
   "metadata": {},
   "outputs": [],
   "source": [
    "# Adds how many times the MDG assignment has changed (useful to detect \"hot potato\" situations)\n",
    "n_mdg_assignment = count_event_by_bug_and_type(df_bug_full, 'component')\n",
    "n_mdg_assignment.rename(columns={'COUNT': 'MODULE_CHANGES'}, inplace=True)\n",
    "df_bug_summary = pd.merge(df_bug_summary, n_mdg_assignment, left_index=True, right_index=True, how='left')\n",
    "df_bug_summary"
   ]
  },
  {
   "cell_type": "code",
   "execution_count": null,
   "metadata": {},
   "outputs": [],
   "source": [
    "# Replaces NA in count of changes to zero\n",
    "df_bug_summary['MODULE_CHANGES'] = df_bug_summary['MODULE_CHANGES'].fillna(0)\n",
    "df_bug_summary['MODULE_CHANGES'] = df_bug_summary.CHANGES_TO_RESOLVED.astype('int64')\n",
    "df_bug_summary['MODULE_CHANGES']"
   ]
  },
  {
   "cell_type": "code",
   "execution_count": null,
   "metadata": {},
   "outputs": [],
   "source": [
    "# Obtains last assigned owner\n",
    "last_owner = last_event_by_bug_and_type(df_bug_full, 'assigned_to').set_index('BUG_ID')\n",
    "last_owner.drop(columns=['OPERATION', 'BUG_DESCRIPTION', 'ROW_NUMBER', 'AGE', 'RELEASE', 'MODULE'], inplace=True)\n",
    "last_owner.rename(columns={'VALUE': 'OWNER', 'TIMESTAMP': 'LAST_ASSIGMENT_TIME'}, inplace=True)\n",
    "df_bug_summary = pd.merge(df_bug_summary, last_owner, left_index=True, right_index=True, how='left')\n",
    "df_bug_summary"
   ]
  },
  {
   "cell_type": "code",
   "execution_count": null,
   "metadata": {},
   "outputs": [],
   "source": [
    "# Adds to the dataframe how many times the owner assignment has changed (useful to detect \"hot potato\" situations)\n",
    "n_owner_assignment = count_event_by_bug_and_type(df_bug_full, 'assigned_to')\n",
    "n_owner_assignment.rename(columns={'COUNT': 'OWNER_CHANGES'}, inplace=True)\n",
    "n_owner_assignment\n",
    "df_bug_summary = pd.merge(df_bug_summary, n_owner_assignment, left_index=True, right_index=True, how='left')\n",
    "df_bug_summary"
   ]
  },
  {
   "cell_type": "code",
   "execution_count": null,
   "metadata": {},
   "outputs": [],
   "source": [
    "# Replaces NA in count of changes to zero\n",
    "df_bug_summary['OWNER_CHANGES'] = df_bug_summary['OWNER_CHANGES'].fillna(0)\n",
    "df_bug_summary['OWNER_CHANGES'] = df_bug_summary.CHANGES_TO_RESOLVED.astype('int64')\n",
    "df_bug_summary['OWNER_CHANGES']"
   ]
  },
  {
   "cell_type": "code",
   "execution_count": null,
   "metadata": {},
   "outputs": [],
   "source": [
    "# Obtains the last event that has happened to the bug so far\n",
    "last_event = last_event_by_bug(df_bug_full).set_index('BUG_ID')\n",
    "last_event.drop(columns=['BUG_DESCRIPTION', 'VALUE', 'ROW_NUMBER'], inplace=True)\n",
    "last_event.rename(columns={'OPERATION': 'LAST_EVENT', 'TIMESTAMP': 'LAST_EVENT_TIME', 'AGE': 'LAST_EVENT_AGE'}, inplace=True)\n",
    "last_event = last_event.reindex(columns=['LAST_EVENT', 'LAST_EVENT_TIME', 'LAST_EVENT_AGE'])\n",
    "df_bug_summary = pd.merge(df_bug_summary, last_event, left_index=True, right_index=True, how='left')\n",
    "df_bug_summary"
   ]
  },
  {
   "cell_type": "code",
   "execution_count": null,
   "metadata": {},
   "outputs": [],
   "source": [
    "df_bug_summary.info()"
   ]
  },
  {
   "cell_type": "code",
   "execution_count": null,
   "metadata": {},
   "outputs": [],
   "source": [
    "df_bug_summary.STATE.value_counts()"
   ]
  },
  {
   "cell_type": "markdown",
   "metadata": {},
   "source": [
    "### 3.2 Addition of series based on calculations"
   ]
  },
  {
   "cell_type": "code",
   "execution_count": null,
   "metadata": {},
   "outputs": [],
   "source": [
    "# Convenient shortcut to know if a bug was solved or it is still open\n",
    "df_bug_summary[\"SOLVED\"] = False\n",
    "df_bug_summary.loc[ df_bug_summary.STATE.isin([\"RESOLVED\", \"VERIFIED\"]), \"SOLVED\" ] = True\n",
    "df_bug_summary"
   ]
  },
  {
   "cell_type": "code",
   "execution_count": null,
   "metadata": {},
   "outputs": [],
   "source": [
    "# df_bug_summary.loc[df_bug_summary.STATE.isin([\"RESOLVED\", \"VERIFIED\"]), \"BUG_RESOLUTION_TIME\"] = df_bug_summary.loc[df_bug_summary.STATE.isin([\"RESOLVED\", \"VERIFIED\"]), \"STATE_UPDATE_TIME\"] - df_bug_summary.loc[df_bug_summary.STATE.isin([\"RESOLVED\", \"VERIFIED\"]), \"CREATION_TIME\"]\n",
    "# df_bug_summary.loc[df_bug_summary.STATE.isin([\"RESOLVED\", \"VERIFIED\"]), \"BUG_RESOLUTION_TIME\"]\n",
    "df_bug_summary.loc[df_bug_summary.SOLVED, \"BUG_RESOLUTION_TIME\"] = df_bug_summary.loc[df_bug_summary.SOLVED, \"STATE_UPDATE_TIME\"] - df_bug_summary.loc[df_bug_summary.SOLVED, \"CREATION_TIME\"]\n",
    "df_bug_summary.loc[df_bug_summary.SOLVED, \"BUG_RESOLUTION_TIME\"]"
   ]
  },
  {
   "cell_type": "code",
   "execution_count": null,
   "metadata": {},
   "outputs": [],
   "source": [
    "df_bug_summary"
   ]
  },
  {
   "cell_type": "markdown",
   "metadata": {},
   "source": [
    "## 4. Reports and graphical representations"
   ]
  },
  {
   "cell_type": "markdown",
   "metadata": {},
   "source": [
    "### 4.1 Analysis of state of bugs, per module"
   ]
  },
  {
   "cell_type": "markdown",
   "metadata": {},
   "source": [
    "Prepares a dataframe slice, better suited for representation:"
   ]
  },
  {
   "cell_type": "code",
   "execution_count": null,
   "metadata": {},
   "outputs": [],
   "source": [
    "bug_solved_or_open = df_bug_summary.loc[df_bug_summary.CREATION_AGE!=\"OLD\", [\"SOLVED\", \"CREATION_AGE\", \"RELEASE\", \"MODULE\"]]\n",
    "\n",
    "# Replaces N/A by \"Unknown\" in \"Module\" column\n",
    "bug_solved_or_open.loc[:, 'MODULE'] = bug_solved_or_open.MODULE.fillna(\"Unknown\")\n",
    "\n",
    "#bug_solved_or_open['MODULE'] = bug_solved_or_open.MODULE.astype('str')\n",
    "#bug_solved_or_open['MODULE'] = bug_solved_or_open.MODULE.astype('category')\n",
    "\n",
    "# Replaces N/A by \"Unknown\" in \"RELEASE\" column\n",
    "bug_solved_or_open['RELEASE'] = bug_solved_or_open.RELEASE.astype('str')\n",
    "bug_solved_or_open.loc[:, 'RELEASE'] = bug_solved_or_open.RELEASE.fillna(\"Unknown\")\n",
    "bug_solved_or_open['RELEASE'] = bug_solved_or_open.RELEASE.astype('category')\n",
    "\n",
    "# Renames the names of the columns\n",
    "bug_solved_or_open.rename(columns={'CREATION_AGE': 'Age', 'RELEASE': 'OSM Release', 'MODULE': 'Module', 'SOLVED': 'Solved'}, inplace=True)\n",
    "\n",
    "bug_solved_or_open"
   ]
  },
  {
   "cell_type": "code",
   "execution_count": null,
   "metadata": {},
   "outputs": [],
   "source": [
    "bug_solved_or_open.info()"
   ]
  },
  {
   "cell_type": "code",
   "execution_count": null,
   "metadata": {},
   "outputs": [],
   "source": [
    "# Statistics open by age\n",
    "bugs_per_module = pd.crosstab(bug_solved_or_open.Module, bug_solved_or_open.Solved)\n",
    "bugs_per_module.columns.name = None\n",
    "bugs_per_module.rename(columns={True: 'Solved', False: 'Open'}, inplace=True)\n",
    "bugs_per_module"
   ]
  },
  {
   "cell_type": "code",
   "execution_count": null,
   "metadata": {},
   "outputs": [],
   "source": [
    "# Statistics open by age\n",
    "bugs_per_module_detailed = pd.crosstab(bug_solved_or_open.Module, [bug_solved_or_open.Solved, bug_solved_or_open.Age])\n",
    "bugs_per_module_detailed.columns = [str(col[0]) + '_' + col[1] for col in bugs_per_module_detailed.columns]\n",
    "bugs_per_module_detailed.rename(columns={'False_CURRENT': 'Open', 'False_RECENT': 'Open last cycle', 'True_CURRENT': 'Solved', 'True_RECENT': 'Solved last cycle'}, inplace=True)\n",
    "bugs_per_module_detailed"
   ]
  },
  {
   "cell_type": "code",
   "execution_count": null,
   "metadata": {},
   "outputs": [],
   "source": [
    "cat_order = bug_solved_or_open.Module.unique()\n",
    "cat_order = np.delete(cat_order, np.where(cat_order=='Unknown'))\n",
    "cat_order = np.append(cat_order, 'Unknown')\n",
    "\n",
    "ax = sns.countplot(data=bug_solved_or_open,\n",
    "                   y=\"Module\",\n",
    "                   hue=\"Solved\",\n",
    "                   order=cat_order)\n",
    "#plt.xticks(rotation=45)\n",
    "plt.show()"
   ]
  },
  {
   "cell_type": "code",
   "execution_count": null,
   "metadata": {},
   "outputs": [],
   "source": [
    "labels = bugs_per_module.reset_index().Module\n",
    "\n",
    "solved_bugs = bugs_per_module.Solved\n",
    "open_bugs = bugs_per_module.Open\n",
    "width = 0.35       # the width of the bars: can also be len(x) sequence\n",
    "\n",
    "fig, ax = plt.subplots()\n",
    "\n",
    "ax.barh(labels, solved_bugs, width, label='Solved')\n",
    "ax.barh(labels, open_bugs, width, left=solved_bugs, label='Open')\n",
    "\n",
    "ax.set_ylabel('Number of bugs')\n",
    "ax.set_title('Status of non-deprecated bugs per module')\n",
    "ax.legend()\n",
    "\n",
    "filename = os.path.join(outputs_folder, 'open_bugs_per_module')\n",
    "fig.savefig(filename + '.png', dpi=300)\n",
    "fig.savefig(filename + '.svg')\n",
    "\n",
    "plt.show()"
   ]
  },
  {
   "cell_type": "code",
   "execution_count": null,
   "metadata": {},
   "outputs": [],
   "source": [
    "# 'Open', 'Open last cycle', 'Solved', 'Solved last cycle'}\n",
    "#bugs_per_module_detailed"
   ]
  },
  {
   "cell_type": "code",
   "execution_count": null,
   "metadata": {},
   "outputs": [],
   "source": [
    "# labels = bugs_per_module_detailed.reset_index().Module\n",
    "\n",
    "# solved_bugs = bugs_per_module_detailed.Solved\n",
    "# solved_bugs_cycle = bugs_per_module_detailed['Solved last cycle']\n",
    "# open_bugs = bugs_per_module_detailed.Open\n",
    "# open_bugs_cycle = bugs_per_module_detailed['Open last cycle']\n",
    "# #width = 0.35       # the width of the bars: can also be len(x) sequence\n",
    "\n",
    "# fig, ax = plt.subplots()\n",
    "\n",
    "# ax.barh(labels, solved_bugs, width, label='Solved', color='royalblue')\n",
    "# ax.barh(labels, solved_bugs_cycle, width, left=solved_bugs, label='Solved last cycle', color='cornflowerblue')\n",
    "# ax.barh(labels, open_bugs, width, left=solved_bugs+solved_bugs_cycle, label='Open', color='firebrick')\n",
    "# ax.barh(labels, open_bugs_cycle, width, left=solved_bugs+solved_bugs_cycle+open_bugs, label='Open last cycle', color='lightcoral')\n",
    "\n",
    "# ax.set_ylabel('Number of bugs')\n",
    "# ax.set_title('Status of non-deprecated bugs per module')\n",
    "# ax.legend()\n",
    "\n",
    "# filename = os.path.join(outputs_folder, 'open_bugs_per_module_detailed')\n",
    "# fig.savefig(filename + '.png', dpi=300)\n",
    "# fig.savefig(filename + '.svg')\n",
    "\n",
    "# plt.show()"
   ]
  },
  {
   "cell_type": "code",
   "execution_count": null,
   "metadata": {},
   "outputs": [],
   "source": [
    "bugs_per_module_detailed['total_open'] = bugs_per_module_detailed.Open + bugs_per_module_detailed['Open last cycle']\n",
    "bugs_per_module_detailed.sort_values(by='total_open', inplace=True)\n",
    "\n",
    "labels = bugs_per_module_detailed.reset_index().Module\n",
    "\n",
    "solved_bugs = bugs_per_module_detailed.Solved\n",
    "solved_bugs_cycle = bugs_per_module_detailed['Solved last cycle']\n",
    "open_bugs = bugs_per_module_detailed.Open\n",
    "open_bugs_cycle = bugs_per_module_detailed['Open last cycle']\n",
    "#width = 0.35       # the width of the bars: can also be len(x) sequence\n",
    "\n",
    "fig, ax = plt.subplots(figsize = (12,16))\n",
    "\n",
    "ax.barh(labels, solved_bugs, width, label='Solved', color='royalblue')\n",
    "ax.barh(labels, solved_bugs_cycle, width, left=solved_bugs, label='Solved last cycle', color='cornflowerblue')\n",
    "ax.barh(labels, open_bugs, width, left=solved_bugs+solved_bugs_cycle, label='Open', color='firebrick')\n",
    "ax.barh(labels, open_bugs_cycle, width, left=solved_bugs+solved_bugs_cycle+open_bugs, label='Open last cycle', color='lightcoral')\n",
    "\n",
    "ax.set_ylabel('Number of bugs')\n",
    "ax.set_title('Status of non-deprecated bugs per module', fontsize=20)\n",
    "ax.legend()\n",
    "\n",
    "filename = os.path.join(outputs_folder, 'open_bugs_per_module_detailed')\n",
    "fig.savefig(filename + '.png', dpi=300)\n",
    "fig.savefig(filename + '.svg')\n",
    "\n",
    "plt.show()"
   ]
  },
  {
   "cell_type": "markdown",
   "metadata": {},
   "source": [
    "### 4.2 Analysis of bug resolution times"
   ]
  },
  {
   "cell_type": "markdown",
   "metadata": {},
   "source": [
    "Prepares a dataframe slice, better suited for representation:"
   ]
  },
  {
   "cell_type": "code",
   "execution_count": null,
   "metadata": {},
   "outputs": [],
   "source": [
    "bug_resolution_times = df_bug_summary.loc[df_bug_summary.SOLVED, [\"CREATION_AGE\", \"RELEASE\", \"MODULE\"]]\n",
    "\n",
    "# Converts the timediff to days\n",
    "bug_resolution_times[\"Bug resolution time (days)\"] = df_bug_summary.loc[df_bug_summary.SOLVED, \"BUG_RESOLUTION_TIME\"].dt.days\n",
    "\n",
    "# Replaces N/A by \"Unknown\" in \"Module\" column\n",
    "bug_resolution_times.loc[:, 'MODULE'] = bug_resolution_times.MODULE.fillna(\"Unknown\")\n",
    "\n",
    "# Replaces N/A by \"Unknown\" in \"RELEASE\" column\n",
    "bug_resolution_times['RELEASE'] = bug_resolution_times.RELEASE.astype('str')\n",
    "bug_resolution_times.loc[:, 'RELEASE'] = bug_resolution_times.RELEASE.fillna(\"Unknown\")\n",
    "bug_resolution_times['RELEASE'] = bug_resolution_times.RELEASE.astype('category')\n",
    "\n",
    "# Renames the names of the columns\n",
    "bug_resolution_times.rename(columns={'CREATION_AGE': 'Age', 'RELEASE': 'OSM Release', 'MODULE': 'Module'}, inplace=True)\n",
    "bug_resolution_times"
   ]
  },
  {
   "cell_type": "code",
   "execution_count": null,
   "metadata": {},
   "outputs": [],
   "source": [
    "bug_resolution_times.describe()"
   ]
  },
  {
   "cell_type": "code",
   "execution_count": null,
   "metadata": {},
   "outputs": [],
   "source": [
    "# Histogram (all)\n",
    "g = sns.displot(data=bug_resolution_times, x=\"Bug resolution time (days)\")\n",
    "g.ax.set_title(\"Distribution of time to solve a bug\")\n",
    "g.ax.set_ylabel('No. resolved bugs')\n",
    "plt.show()"
   ]
  },
  {
   "cell_type": "markdown",
   "metadata": {},
   "source": [
    "#### 4.2.1 Time to resolve a bug, by age"
   ]
  },
  {
   "cell_type": "code",
   "execution_count": null,
   "metadata": {},
   "outputs": [],
   "source": [
    "# Statistics open by age\n",
    "group = bug_resolution_times.groupby('Age')\n",
    "group.agg('describe')"
   ]
  },
  {
   "cell_type": "code",
   "execution_count": null,
   "metadata": {},
   "outputs": [],
   "source": [
    "# Violin plot (per age)\n",
    "ax = sns.violinplot(data=bug_resolution_times,\n",
    "                   x=\"Age\",\n",
    "                   y=\"Bug resolution time (days)\",\n",
    "                   cut=0,\n",
    "                   order=['OLD', 'CURRENT', 'RECENT'])\n",
    "ax.set_title(\"Time for bug resolution, per age\")\n",
    "#ax.set_ylabel('No. resolved bugs')\n",
    "plt.show()"
   ]
  },
  {
   "cell_type": "code",
   "execution_count": null,
   "metadata": {},
   "outputs": [],
   "source": [
    "# Boxplot (per age)\n",
    "ax = sns.boxplot(data=bug_resolution_times,\n",
    "                 x=\"Age\",\n",
    "                 y=\"Bug resolution time (days)\",\n",
    "                 order=['OLD', 'CURRENT', 'RECENT'])\n",
    "ax.set_title(\"Time for bug resolution, per age\")\n",
    "plt.show()"
   ]
  },
  {
   "cell_type": "markdown",
   "metadata": {},
   "source": [
    "---\n",
    "\n",
    "**IMPORTANT:** From here, we will **remove the OLD samples**, since they have numerous and huge outliers which skew the analysis."
   ]
  },
  {
   "cell_type": "code",
   "execution_count": null,
   "metadata": {},
   "outputs": [],
   "source": [
    "# Removes old samples\n",
    "bug_resolution_times = bug_resolution_times.loc[ bug_resolution_times['Age']!='OLD' ]\n",
    "bug_resolution_times.loc[:, 'Age'] = bug_resolution_times.Age.astype('string').astype('category')\n",
    "bug_resolution_times.head()"
   ]
  },
  {
   "cell_type": "code",
   "execution_count": null,
   "metadata": {},
   "outputs": [],
   "source": [
    "bug_resolution_times.describe()"
   ]
  },
  {
   "cell_type": "code",
   "execution_count": null,
   "metadata": {},
   "outputs": [],
   "source": [
    "# Histogram (aggregated, excluding OLD)\n",
    "g = sns.displot(data=bug_resolution_times, x=\"Bug resolution time (days)\", stat='density', common_norm=False, kde=True)\n",
    "g.ax.set_title(\"Distribution of time to solve a bug (excluding OLD)\")\n",
    "plt.show()"
   ]
  },
  {
   "cell_type": "code",
   "execution_count": null,
   "metadata": {},
   "outputs": [],
   "source": [
    "# Histogram (per age)\n",
    "g = sns.displot(data=bug_resolution_times, x=\"Bug resolution time (days)\", hue='Age', stat='density', common_norm=False, kde=True)\n",
    "g.ax.set_title(\"Distribution of time to solve a bug\")\n",
    "plt.show()"
   ]
  },
  {
   "cell_type": "code",
   "execution_count": null,
   "metadata": {},
   "outputs": [],
   "source": [
    "# Violin plot (per age, excluding OLD)\n",
    "ax = sns.violinplot(data=bug_resolution_times,\n",
    "                   x=\"Age\",\n",
    "                   y=\"Bug resolution time (days)\",\n",
    "                   cut=0,\n",
    "                   order=['CURRENT', 'RECENT'])\n",
    "ax.set_title(\"Time for bug resolution, per age\")\n",
    "plt.show()"
   ]
  },
  {
   "cell_type": "code",
   "execution_count": null,
   "metadata": {},
   "outputs": [],
   "source": [
    "# Boxplot (per age, excluding OLD)\n",
    "ax = sns.boxplot(data=bug_resolution_times,\n",
    "                 x=\"Age\",\n",
    "                 y=\"Bug resolution time (days)\",\n",
    "                 order=['CURRENT', 'RECENT'])\n",
    "ax.set_title(\"Time for bug resolution, per age\")\n",
    "plt.show()"
   ]
  },
  {
   "cell_type": "markdown",
   "metadata": {},
   "source": [
    "Here we find the outliers in the bugs of \"Current\" age to try to resolve them as soon as possible:"
   ]
  },
  {
   "cell_type": "code",
   "execution_count": null,
   "metadata": {},
   "outputs": [],
   "source": [
    "# Shortcut for the series of the bug resolution times that are candidates for deprecation (i.e. 'OLD' age)\n",
    "times = bug_resolution_times.loc[bug_resolution_times.Age=='CURRENT', \"Bug resolution time (days)\"]\n",
    "\n",
    "# Stats, including main quantiles\n",
    "times.describe()"
   ]
  },
  {
   "cell_type": "code",
   "execution_count": null,
   "metadata": {},
   "outputs": [],
   "source": [
    "q025 = times.quantile(0.25)\n",
    "q075 = times.quantile(0.75)\n",
    "threshold_outliers = q075 + 1.5*(q075-q025)\n",
    "threshold_outliers"
   ]
  },
  {
   "cell_type": "code",
   "execution_count": null,
   "metadata": {},
   "outputs": [],
   "source": [
    "# Outliers\n",
    "bug_resolution_outliers = bug_resolution_times.loc[(bug_resolution_times.Age=='CURRENT') & (bug_resolution_times[\"Bug resolution time (days)\"]>threshold_outliers)]\n",
    "bug_resolution_outliers"
   ]
  },
  {
   "cell_type": "code",
   "execution_count": null,
   "metadata": {},
   "outputs": [],
   "source": [
    "# Histogram (current but not recent)\n",
    "g = sns.displot(data=bug_resolution_times[ bug_resolution_times.Age=='CURRENT' ], x=\"Bug resolution time (days)\", stat='density', common_norm=False, kde=True)\n",
    "g.ax.set_title(\"Distribution of time to solve a bug (Age=CURRENT)\")\n",
    "plt.show()"
   ]
  },
  {
   "cell_type": "code",
   "execution_count": null,
   "metadata": {},
   "outputs": [],
   "source": [
    "# Histogram (recent)\n",
    "g = sns.displot(data=bug_resolution_times[ bug_resolution_times.Age=='RECENT' ], x=\"Bug resolution time (days)\", stat='density', common_norm=False, kde=True)\n",
    "g.ax.set_title(\"Distribution of time to solve a bug (Age=RECENT)\")\n",
    "plt.show()"
   ]
  },
  {
   "cell_type": "markdown",
   "metadata": {},
   "source": [
    "#### 4.2.2 Time to resolve a bug, by module"
   ]
  },
  {
   "cell_type": "code",
   "execution_count": null,
   "metadata": {},
   "outputs": [],
   "source": [
    "# Statistics open by module\n",
    "group = bug_resolution_times.groupby('Module')\n",
    "group.agg('describe')"
   ]
  },
  {
   "cell_type": "code",
   "execution_count": null,
   "metadata": {},
   "outputs": [],
   "source": [
    "# Violin plot of times to resolve a bug (per module)\n",
    "\n",
    "# Fixes the order of the categories to put 'Unknown' at the end\n",
    "cat_order = bug_resolution_times.Module.unique()\n",
    "cat_order = np.delete(cat_order, np.where(cat_order=='Unknown'))\n",
    "cat_order = np.append(cat_order, 'Unknown')\n",
    "\n",
    "# ax = sns.violinplot(data=bug_resolution_times,\n",
    "#                    x=\"Module\",\n",
    "#                    y=\"Bug resolution time (days)\",\n",
    "#                    cut=0,\n",
    "#                    order=cat_order)\n",
    "ax = sns.violinplot(data=bug_resolution_times,\n",
    "                   y=\"Module\",\n",
    "                   x=\"Bug resolution time (days)\",\n",
    "                   cut=0,\n",
    "                   order=cat_order)\n",
    "ax.set_title(\"Time for bug resolution, per module\")\n",
    "\n",
    "plt.show()"
   ]
  },
  {
   "cell_type": "code",
   "execution_count": null,
   "metadata": {},
   "outputs": [],
   "source": [
    "# # Boxplot of times to resolve a bug (per module, excluding OLD)\n",
    "\n",
    "# # Fixes the order of the categories to put 'Unknown' at the end\n",
    "# cat_order = bug_resolution_times.Module.unique()\n",
    "# cat_order = np.delete(cat_order, np.where(cat_order=='Unknown'))\n",
    "# cat_order = np.append(cat_order, 'Unknown')\n",
    "\n",
    "# ax = sns.boxplot(data=bug_resolution_times,\n",
    "#                  y=\"Module\",\n",
    "#                  x=\"Bug resolution time (days)\",\n",
    "#                  order=cat_order)\n",
    "# ax.set_title(\"Time for bug resolution, per module\")\n",
    "\n",
    "# filename = os.path.join(outputs_folder, 'time_bug_resolution_per_module')\n",
    "# fig.savefig(filename + '.png', dpi=300)\n",
    "# fig.savefig(filename + '.svg')\n",
    "\n",
    "# plt.show()"
   ]
  },
  {
   "cell_type": "code",
   "execution_count": null,
   "metadata": {},
   "outputs": [],
   "source": [
    "# Boxplot of times to resolve a bug (per module, excluding OLD)\n",
    "\n",
    "# Fixes the order of the categories to put 'Unknown' at the end\n",
    "cat_order = bug_resolution_times.groupby('Module').median().dropna().sort_values('Bug resolution time (days)', ascending=False).reset_index().Module.unique()\n",
    "#cat_order = np.delete(cat_order, np.where(cat_order=='Unknown'))\n",
    "#cat_order = np.append(cat_order, 'Unknown')\n",
    "\n",
    "fig, ax = plt.subplots(figsize = (12,16))\n",
    "\n",
    "# ax = sns.boxplot(data=bug_resolution_times,\n",
    "#                  y=\"Module\",\n",
    "#                  x=\"Bug resolution time (days)\",\n",
    "#                  order=cat_order)\n",
    "sns.boxplot(data=bug_resolution_times,\n",
    "            y=\"Module\",\n",
    "            x=\"Bug resolution time (days)\",\n",
    "            order=cat_order,\n",
    "            ax=ax)\n",
    "ax.set_title(\"Time for bug resolution, per module\", fontsize=20)\n",
    "\n",
    "filename = os.path.join(outputs_folder, 'time_bug_resolution_per_module')\n",
    "fig.savefig(filename + '.png', dpi=300)\n",
    "fig.savefig(filename + '.svg')\n",
    "\n",
    "plt.show()"
   ]
  },
  {
   "cell_type": "markdown",
   "metadata": {},
   "source": [
    "#### 4.2.3 Time of open bugs, by age"
   ]
  },
  {
   "cell_type": "markdown",
   "metadata": {},
   "source": [
    "First, creates a new dataframe more suitable for this analysis and its visualisation:"
   ]
  },
  {
   "cell_type": "code",
   "execution_count": null,
   "metadata": {},
   "outputs": [],
   "source": [
    "# Selects the right data: unresolved bugs and not too old\n",
    "#bug_open_times = df_bug_summary.loc[(~df_bug_summary.STATE.isin([\"RESOLVED\", \"VERIFIED\"])) & (df_bug_summary.CREATION_AGE!=\"OLD\"), [\"CREATION_AGE\", \"RELEASE\", \"MODULE\", \"LAST_EVENT_TIME\"]]\n",
    "bug_open_times = df_bug_summary.loc[(~df_bug_summary.SOLVED) & (df_bug_summary.CREATION_AGE!=\"OLD\"), [\"CREATION_AGE\", \"RELEASE\", \"MODULE\", \"LAST_EVENT_TIME\"]]\n",
    "\n",
    "# Removes \"OLD\" from the \"CREATION_AGE\" category\n",
    "bug_open_times['CREATION_AGE'] = bug_open_times.CREATION_AGE.astype('string').astype('category')\n",
    "\n",
    "# Calculates timediff between creation time and today, in days (for Seaborn to work smoothly)\n",
    "#time_open = np.datetime64('now') - df_bug_summary.loc[~df_bug_summary.STATE.isin([\"RESOLVED\", \"VERIFIED\"]), \"CREATION_TIME\"]\n",
    "time_open = np.datetime64('now') - df_bug_summary.loc[~df_bug_summary.SOLVED, \"CREATION_TIME\"]\n",
    "bug_open_times[\"Time bug open (days)\"] = time_open.dt.days\n",
    "\n",
    "# Replaces N/A by \"Unknown\" in \"Module\" column\n",
    "bug_open_times.loc[:, 'MODULE'] = bug_open_times.MODULE.fillna(\"Unknown\")\n",
    "\n",
    "# Replaces N/A by \"Unknown\" in \"RELEASE\" column\n",
    "bug_open_times['RELEASE'] = bug_open_times.RELEASE.astype('str')\n",
    "bug_open_times.loc[:, 'RELEASE'] = bug_open_times.RELEASE.fillna(\"Unknown\")\n",
    "bug_open_times['RELEASE'] = bug_open_times.RELEASE.astype('category')\n",
    "\n",
    "# Renames the names of the columns\n",
    "bug_open_times.rename(columns={'CREATION_AGE': 'Age', 'RELEASE': 'OSM Release', 'MODULE': 'Module'}, inplace=True)\n",
    "bug_open_times"
   ]
  },
  {
   "cell_type": "code",
   "execution_count": null,
   "metadata": {},
   "outputs": [],
   "source": [
    "# Aggregated statistics\n",
    "bug_open_times.describe()"
   ]
  },
  {
   "cell_type": "code",
   "execution_count": null,
   "metadata": {},
   "outputs": [],
   "source": [
    "# Statistics open by age\n",
    "group = bug_open_times.groupby('Age')\n",
    "group.agg('describe')"
   ]
  },
  {
   "cell_type": "markdown",
   "metadata": {},
   "source": [
    "4.2.4 Time of open bugs, by module"
   ]
  },
  {
   "cell_type": "code",
   "execution_count": null,
   "metadata": {},
   "outputs": [],
   "source": [
    "# Violin plot of times of bugs still open (per module)\n",
    "\n",
    "# Fixes the order of the categories to put 'Unknown' at the end\n",
    "cat_order = bug_open_times.Module.unique()\n",
    "cat_order = np.delete(cat_order, np.where(cat_order=='Unknown'))\n",
    "cat_order = np.append(cat_order, 'Unknown')\n",
    "\n",
    "# ax = sns.violinplot(data=bug_open_times,\n",
    "#                    x=\"Module\",\n",
    "#                    y=\"Time bug open (days)\",\n",
    "#                    cut=0,\n",
    "#                    order=cat_order)\n",
    "ax = sns.violinplot(data=bug_open_times,\n",
    "                   y=\"Module\",\n",
    "                   x=\"Time bug open (days)\",\n",
    "                   cut=0,\n",
    "                   order=cat_order)\n",
    "ax.set_title(\"Duration of bugs still open, per module\")\n",
    "plt.show()"
   ]
  },
  {
   "cell_type": "code",
   "execution_count": null,
   "metadata": {},
   "outputs": [],
   "source": [
    "# # Box plot of times of bugs still open (per module)\n",
    "\n",
    "# # Fixes the order of the categories to put 'Unknown' at the end\n",
    "# cat_order = bug_open_times.Module.unique()\n",
    "# cat_order = np.delete(cat_order, np.where(cat_order=='Unknown'))\n",
    "# cat_order = np.append(cat_order, 'Unknown')\n",
    "\n",
    "# # ax = sns.boxplot(data=bug_open_times,\n",
    "# #                  x=\"Module\",\n",
    "# #                  y=\"Time bug open (days)\",\n",
    "# #                  order=cat_order)\n",
    "# ax = sns.boxplot(data=bug_open_times,\n",
    "#                  y=\"Module\",\n",
    "#                  x=\"Time bug open (days)\",\n",
    "#                  order=cat_order)\n",
    "# ax.set_title(\"Duration of bugs still open, per module\")\n",
    "\n",
    "# filename = os.path.join(outputs_folder, 'time_bugs_open_per_module')\n",
    "# fig.savefig(filename + '.png', dpi=300)\n",
    "# fig.savefig(filename + '.svg')\n",
    "\n",
    "# plt.show()"
   ]
  },
  {
   "cell_type": "code",
   "execution_count": null,
   "metadata": {},
   "outputs": [],
   "source": [
    "# Box plot of times of bugs still open (per module)\n",
    "\n",
    "# Fixes the order of the categories to put 'Unknown' at the end\n",
    "cat_order = bug_open_times.groupby('Module').median().dropna().sort_values('Time bug open (days)', ascending=False).reset_index().Module.unique()\n",
    "#cat_order = np.delete(cat_order, np.where(cat_order=='Unknown'))\n",
    "#cat_order = np.append(cat_order, 'Unknown')\n",
    "\n",
    "fig, ax = plt.subplots(figsize = (12,16))\n",
    "\n",
    "# ax = sns.boxplot(data=bug_open_times,\n",
    "#                  y=\"Module\",\n",
    "#                  x=\"Time bug open (days)\",\n",
    "#                  order=cat_order)\n",
    "\n",
    "sns.boxplot(data=bug_open_times,\n",
    "            y=\"Module\",\n",
    "            x=\"Time bug open (days)\",\n",
    "            ax=ax,\n",
    "            order=cat_order)\n",
    "ax.set_title(\"Duration of bugs still open, per module\", fontsize=20)\n",
    "\n",
    "filename = os.path.join(outputs_folder, 'time_bugs_open_per_module')\n",
    "fig.savefig(filename + '.png', dpi=300)\n",
    "fig.savefig(filename + '.svg')\n",
    "\n",
    "plt.show()"
   ]
  },
  {
   "cell_type": "markdown",
   "metadata": {},
   "source": [
    "## 5. Bugs per module worth a review"
   ]
  },
  {
   "cell_type": "markdown",
   "metadata": {},
   "source": [
    "### 5.1 Old bugs still open _(prior to Rel NINE cycle)_\n",
    "\n",
    "**PROPOSAL:** MDL to confirm if the bug can be safely closed or it is still relevant for any special reason (or if it should be re-created referring to newer releases)."
   ]
  },
  {
   "cell_type": "code",
   "execution_count": null,
   "metadata": {},
   "outputs": [],
   "source": [
    "df_bug_summary.head()"
   ]
  },
  {
   "cell_type": "code",
   "execution_count": null,
   "metadata": {},
   "outputs": [],
   "source": [
    "df_bug_summary.info()"
   ]
  },
  {
   "cell_type": "code",
   "execution_count": null,
   "metadata": {},
   "outputs": [],
   "source": [
    "df_bug_summary.columns"
   ]
  },
  {
   "cell_type": "code",
   "execution_count": null,
   "metadata": {},
   "outputs": [],
   "source": [
    "df_old_still_open = df_bug_summary.loc[ (df_bug_summary.CREATION_AGE=='OLD') & (~df_bug_summary.STATE.isin(['RESOLVED', 'VERIFIED'])) ].reset_index().sort_values(by=['MODULE', 'BUG_ID'])\n",
    "df_old_still_open.head()"
   ]
  },
  {
   "cell_type": "code",
   "execution_count": null,
   "metadata": {},
   "outputs": [],
   "source": [
    "df_old_still_open.MODULE.value_counts()"
   ]
  },
  {
   "cell_type": "markdown",
   "metadata": {},
   "source": [
    "### 5.2 Bugs open for too much time _(only Rel NINE cycle or later)_\n",
    "\n",
    "Three types:\n",
    "\n",
    "1. Outliers: Beyond Q3+1.5IQR for the MDG.\n",
    "2. Beyond Q3\n",
    "3. Beyond 2 months\n",
    "\n",
    "![boxplot clarification](https://miro.medium.com/max/18000/1*2c21SkzJMf3frPXPAR_gZA.png)\n",
    "\n",
    "MDL to confirm their status and if:\n",
    "\n",
    "- The bug still exist (if not, should be closed).\n",
    "- In case the bugs is still valid, determine its severity and the complexity for addressing it."
   ]
  },
  {
   "cell_type": "code",
   "execution_count": null,
   "metadata": {},
   "outputs": [],
   "source": [
    "bug_open_times.info()"
   ]
  },
  {
   "cell_type": "code",
   "execution_count": null,
   "metadata": {},
   "outputs": [],
   "source": [
    "quantiles_bug_open_times = bug_open_times.groupby(['Module', 'OSM Release'])[['Time bug open (days)']].agg('describe').reset_index()\n",
    "quantiles_bug_open_times.columns = [col[1] if col[1] else col[0] for col in quantiles_bug_open_times.columns]\n",
    "quantiles_bug_open_times['IQR'] = quantiles_bug_open_times['75%'] - quantiles_bug_open_times['25%']\n",
    "quantiles_bug_open_times['outliers_th'] = quantiles_bug_open_times['75%'] + 1.5*quantiles_bug_open_times['IQR']\n",
    "quantiles_bug_open_times.tail()"
   ]
  },
  {
   "cell_type": "code",
   "execution_count": null,
   "metadata": {},
   "outputs": [],
   "source": [
    "bug_open_times_with_thresholds = pd.merge(bug_open_times.reset_index(), quantiles_bug_open_times, how='left', left_on=['Module', 'OSM Release'], right_on=['Module', 'OSM Release'])\n",
    "bug_open_times_with_thresholds = pd.merge(df_bug_summary.reset_index(),\n",
    "                                          bug_open_times_with_thresholds,\n",
    "                                          how='right',\n",
    "                                          left_on=['BUG_ID'],\n",
    "                                          right_on=['BUG_ID'])\n",
    "bug_open_times_with_thresholds.rename(columns={'LAST_EVENT_TIME_x': 'LAST_EVENT_TIME'}, inplace=True)\n",
    "bug_open_times_with_thresholds.drop(columns=['Age', 'OSM Release', 'Module', 'LAST_EVENT_TIME_y'], inplace=True)\n",
    "bug_open_times_with_thresholds.sort_values(by=['MODULE', 'BUG_ID'])\n",
    "bug_open_times_with_thresholds.tail()"
   ]
  },
  {
   "cell_type": "code",
   "execution_count": null,
   "metadata": {},
   "outputs": [],
   "source": [
    "bug_open_times_with_thresholds.info()"
   ]
  },
  {
   "cell_type": "markdown",
   "metadata": {},
   "source": [
    "#### 5.2.1 Outliers"
   ]
  },
  {
   "cell_type": "code",
   "execution_count": null,
   "metadata": {},
   "outputs": [],
   "source": [
    "bug_open_outliers = bug_open_times_with_thresholds[ bug_open_times_with_thresholds['Time bug open (days)']>bug_open_times_with_thresholds.outliers_th ]\n",
    "bug_open_outliers"
   ]
  },
  {
   "cell_type": "markdown",
   "metadata": {},
   "source": [
    "#### 5.2.2 Beyond Q3"
   ]
  },
  {
   "cell_type": "code",
   "execution_count": null,
   "metadata": {},
   "outputs": [],
   "source": [
    "bug_open_q3 = bug_open_times_with_thresholds[ (bug_open_times_with_thresholds['Time bug open (days)']>bug_open_times_with_thresholds['75%']) &\n",
    "                                              (bug_open_times_with_thresholds['Time bug open (days)']<=bug_open_times_with_thresholds.outliers_th) ]\n",
    "bug_open_q3"
   ]
  },
  {
   "cell_type": "markdown",
   "metadata": {},
   "source": [
    "#### 5.2.3 Beyond 2 months"
   ]
  },
  {
   "cell_type": "code",
   "execution_count": null,
   "metadata": {},
   "outputs": [],
   "source": [
    "bug_open_2_months = bug_open_times_with_thresholds[ (bug_open_times_with_thresholds['Time bug open (days)']>60) &\n",
    "                                                     (bug_open_times_with_thresholds['Time bug open (days)']<=bug_open_times_with_thresholds['75%'])]\n",
    "bug_open_2_months"
   ]
  },
  {
   "cell_type": "markdown",
   "metadata": {},
   "source": [
    "### 5.3 Saves bug lists in spreadsheet"
   ]
  },
  {
   "cell_type": "code",
   "execution_count": null,
   "metadata": {},
   "outputs": [],
   "source": [
    "bugs_sheet_names = ['0. Too old bugs still open',\r\n",
    "                    '1. Open outliers',\r\n",
    "                    '2. Open beyond q3',\r\n",
    "                    '3. Open beyond 2 months']"
   ]
  },
  {
   "cell_type": "markdown",
   "metadata": {},
   "source": [
    "Imports latest MDLs recommentations, if they exist:"
   ]
  },
  {
   "cell_type": "code",
   "execution_count": null,
   "metadata": {},
   "outputs": [],
   "source": [
    "former_mdl_assessments_cols = ['RECOMMENDATION', 'BUG_ID']\r\n",
    "f_assess = os.path.join(inputs_folder, former_mdl_assessments_file)\r\n",
    "\r\n",
    "df_list = []\r\n",
    "\r\n",
    "try:\r\n",
    "    for sheet in bugs_sheet_names:\r\n",
    "        df = pd.read_excel(f_assess, sheet_name=sheet, usecols=former_mdl_assessments_cols)\r\n",
    "        df_list.append(df)\r\n",
    "    df_recommendations = pd.concat(df_list, ignore_index=True)\r\n",
    "except FileNotFoundError:\r\n",
    "    df_recommendations = pd.DataFrame(columns=former_mdl_assessments_cols)\r\n",
    "\r\n",
    "df_recommendations.head()"
   ]
  },
  {
   "cell_type": "markdown",
   "metadata": {},
   "source": [
    "Adds the recommendation to existing tables:"
   ]
  },
  {
   "cell_type": "code",
   "execution_count": null,
   "metadata": {},
   "outputs": [],
   "source": [
    "df_old_still_open = pd.merge(df_recommendations, df_old_still_open, on='BUG_ID', how='right')\r\n",
    "bug_open_outliers = pd.merge(df_recommendations, bug_open_outliers, on='BUG_ID', how='right')\r\n",
    "bug_open_q3 = pd.merge(df_recommendations, bug_open_q3, on='BUG_ID', how='right')\r\n",
    "bug_open_2_months = pd.merge(df_recommendations, bug_open_2_months, on='BUG_ID', how='right')"
   ]
  },
  {
   "cell_type": "markdown",
   "metadata": {},
   "source": [
    "Exports to spreadsheet:"
   ]
  },
  {
   "cell_type": "code",
   "execution_count": null,
   "metadata": {},
   "outputs": [],
   "source": [
    "columns = ['RECOMMENDATION', 'MODULE', 'BUG_ID', 'BUG_DESCRIPTION', 'RELEASE', 'STATE', 'ISSUER', 'OWNER', 'CREATION_TIME', 'CREATION_AGE',\r\n",
    "           'STATE_UPDATE_TIME', 'STATE_UPDATE_AGE', 'LAST_ASSIGMENT_TIME', 'LAST_EVENT', 'LAST_EVENT_TIME', 'LAST_EVENT_AGE',\r\n",
    "           'STATE_CHANGES', 'CHANGES_TO_RESOLVED', 'RELEASE_CHANGES', 'MODULE_CHANGES', 'OWNER_CHANGES']"
   ]
  },
  {
   "cell_type": "code",
   "execution_count": null,
   "metadata": {},
   "outputs": [],
   "source": [
    "today = pd.to_datetime(\"today\")"
   ]
  },
  {
   "cell_type": "code",
   "execution_count": null,
   "metadata": {},
   "outputs": [],
   "source": [
    "filename = os.path.join(outputs_folder, today.strftime('%Y%m%d') + '_bugs_for_mdl_review.xlsx')\r\n",
    "with pd.ExcelWriter(filename, engine='xlsxwriter') as writer:\r\n",
    "    df_old_still_open.to_excel(writer, columns=columns, index=False, sheet_name='0. Too old bugs still open')\r\n",
    "    bug_open_outliers[columns].to_excel(writer, index=False, sheet_name='1. Open outliers')\r\n",
    "    bug_open_q3[columns].to_excel(writer, index=False, sheet_name='2. Open beyond q3')\r\n",
    "    bug_open_2_months[columns].to_excel(writer, index=False, sheet_name='3. Open beyond 2 months')"
   ]
  },
  {
   "cell_type": "code",
   "execution_count": null,
   "metadata": {},
   "outputs": [],
   "source": [
    "bug_open_outliers[columns]"
   ]
  }
 ],
 "metadata": {
  "interpreter": {
   "hash": "436f2814f1f12011c00cf6933038a969dd0edc275127d459a28a14c2140dfae0"
  },
  "kernelspec": {
   "display_name": "Python 3.8.5 64-bit ('osm-analytics': conda)",
   "name": "python3"
  },
  "language_info": {
   "codemirror_mode": {
    "name": "ipython",
    "version": 3
   },
   "file_extension": ".py",
   "mimetype": "text/x-python",
   "name": "python",
   "nbconvert_exporter": "python",
   "pygments_lexer": "ipython3",
   "version": "3.8.5"
  }
 },
 "nbformat": 4,
 "nbformat_minor": 4
}