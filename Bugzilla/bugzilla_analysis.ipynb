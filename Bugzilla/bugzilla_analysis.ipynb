{
 "cells": [
  {
   "cell_type": "markdown",
   "metadata": {},
   "source": [
    "# Analysis of OSM events in Bugzilla"
   ]
  },
  {
   "cell_type": "code",
   "execution_count": null,
   "metadata": {},
   "outputs": [],
   "source": [
    "import os\r\n",
    "import pandas as pd\r\n",
    "import numpy as np\r\n",
    "import datetime as dt\r\n",
    "import matplotlib.pyplot as plt\r\n",
    "%matplotlib inline\r\n",
    "import seaborn as sns\r\n",
    "from IPython.display import display, Markdown"
   ]
  },
  {
   "cell_type": "code",
   "execution_count": null,
   "metadata": {},
   "outputs": [],
   "source": [
    "# Sets a bigger default size for figures\r\n",
    "plt.rcParams['figure.figsize'] = [12, 8]\r\n",
    "plt.rcParams['figure.dpi'] = 80 # 100 gives great resolution and 200 gives optimal resolution, but much slower\r\n",
    "sns.set(rc={'figure.figsize':(12,8)})"
   ]
  },
  {
   "cell_type": "markdown",
   "metadata": {},
   "source": [
    "## 0. Input parameters"
   ]
  },
  {
   "cell_type": "code",
   "execution_count": null,
   "metadata": {},
   "outputs": [],
   "source": [
    "inputs_folder = 'inputs'\r\n",
    "outputs_folder = 'outputs'\r\n",
    "\r\n",
    "#bugzilla_csv = os.path.join(inputs_folder, 'bugs.csv')\r\n",
    "bugzilla_csv = 'https://osm.etsi.org/stats/bugs.csv'\r\n",
    "\r\n",
    "most_relevant_modules = ['IM-NBI', 'NBI', 'RO', 'DEVOPS', 'Robot-tests', 'Descriptor-packages', 'N2VC', 'OSMClient', 'LCM', 'common', 'MON', 'POL', 'PLA', 'NG-UI', 'Any', 'Unknown', 'Other', 'Documentation / Wiki']\r\n",
    "\r\n",
    "former_mdl_assessments_file = 'former_mdl_assessments.xlsx' # If it does not exist, it will be ignored"
   ]
  },
  {
   "cell_type": "code",
   "execution_count": null,
   "metadata": {},
   "outputs": [],
   "source": [
    "date_for_bug_deprecation = '2020-07-01'\r\n",
    "\r\n",
    "# Comment to set the interval of recent bugs manually\r\n",
    "#\r\n",
    "days_4_recent_bugs = 21"
   ]
  },
  {
   "cell_type": "code",
   "execution_count": null,
   "metadata": {},
   "outputs": [],
   "source": [
    "\r\n",
    "# Uncomment to set the interval of recent bugs manually\r\n",
    "#\r\n",
    "# date_for_very_recent_bug = '2021-04-15'"
   ]
  },
  {
   "cell_type": "code",
   "execution_count": null,
   "metadata": {
    "jupyter": {
     "source_hidden": true
    }
   },
   "outputs": [],
   "source": [
    "today_as_datetime = pd.to_datetime(\"today\")\r\n",
    "today = today_as_datetime.strftime('%Y-%m-%d')\r\n",
    "\r\n",
    "display(Markdown(f'**Date and time of the report:** {today_as_datetime}'))"
   ]
  },
  {
   "cell_type": "markdown",
   "metadata": {},
   "source": [
    "Window of analysis:"
   ]
  },
  {
   "cell_type": "code",
   "execution_count": null,
   "metadata": {},
   "outputs": [],
   "source": [
    "last_date = today\r\n",
    "\r\n",
    "if 'days_4_recent_bugs' in locals():\r\n",
    "    date_for_very_recent_bug = today_as_datetime - dt.timedelta(days=days_4_recent_bugs)\r\n",
    "    date_for_very_recent_bug = date_for_very_recent_bug.strftime('%Y-%m-%d')"
   ]
  },
  {
   "cell_type": "code",
   "execution_count": null,
   "metadata": {},
   "outputs": [],
   "source": [
    "display(Markdown(f'**Analysed period:** {date_for_bug_deprecation} to {today} - Bugs are considered _recent_ since {date_for_very_recent_bug}.'))"
   ]
  },
  {
   "cell_type": "markdown",
   "metadata": {},
   "source": [
    "## 1. Imports and cleans raw source data with all the events"
   ]
  },
  {
   "cell_type": "code",
   "execution_count": null,
   "metadata": {},
   "outputs": [],
   "source": [
    "initial_header_list = [\"BUG_ID\", \"BUG_DESCRIPTION\", \"RELEASE\", \"MODULE\", \"OPERATION\", \"VALUE\", \"TIMESTAMP\"]\r\n",
    "new_column_order = ['TIMESTAMP', 'BUG_ID', 'OPERATION', 'VALUE', 'RELEASE', 'MODULE', 'BUG_DESCRIPTION', 'ROW_NUMBER']\r\n",
    "\r\n",
    "def classify_by_age(df):\r\n",
    "    df = df.copy()\r\n",
    "\r\n",
    "    df[\"AGE\"] = \"CURRENT\"  # By default, they should be relevant\r\n",
    "    df.loc[ df['TIMESTAMP']<date_for_bug_deprecation, \"AGE\" ] = \"OLD\"\r\n",
    "    df.loc[ df['TIMESTAMP']>date_for_very_recent_bug, \"AGE\" ] = \"RECENT\"\r\n",
    "\r\n",
    "    possible_ages_sorted = [\r\n",
    "        'OLD',\r\n",
    "        'CURRENT',\r\n",
    "        'RECENT'\r\n",
    "    ]\r\n",
    "    df[\"AGE\"] = pd.Categorical(df.AGE, categories=possible_ages_sorted, ordered=True)\r\n",
    "\r\n",
    "    return df\r\n",
    "\r\n",
    "def load_bug_full():\r\n",
    "\r\n",
    "    return (\r\n",
    "        pd.read_csv(bugzilla_csv, encoding='utf-8', header=None, names=initial_header_list)\r\n",
    "        .astype(\r\n",
    "            {\r\n",
    "                'TIMESTAMP': 'datetime64',\r\n",
    "                'OPERATION': 'category',\r\n",
    "                'RELEASE': 'category',\r\n",
    "                'MODULE': 'category'\r\n",
    "            }\r\n",
    "        )\r\n",
    "        .sort_values(by=['TIMESTAMP', 'BUG_ID'])\r\n",
    "\r\n",
    "        # Saves the original index as 'ROW_NUMBER' (useful for tracing back to initial data)\r\n",
    "        .reset_index()\r\n",
    "        .rename(columns={'index': 'ROW_NUMBER'})\r\n",
    "\r\n",
    "        # Reorders the columns to ease inspection\r\n",
    "        .reindex(columns=new_column_order)\r\n",
    "\r\n",
    "        # Adds column that allows to aggregate per months\r\n",
    "        # - Gets the last day of the month, so it \r\n",
    "        #.assign(MONTH = lambda x: x.TIMESTAMP.dt.to_period('M'))\r\n",
    "        .assign(MONTH = lambda x: pd.to_datetime(x.TIMESTAMP.dt.to_period('M').astype(str)) + pd.tseries.offsets.MonthEnd(1) + dt.timedelta(hours=23, minutes=59, seconds=59) )\r\n",
    "\r\n",
    "        # Classifies events by age: 'OLD', 'CURRENT', or 'RECENT'\r\n",
    "        .pipe(classify_by_age)\r\n",
    "    )"
   ]
  },
  {
   "cell_type": "code",
   "execution_count": null,
   "metadata": {},
   "outputs": [],
   "source": [
    "# Imports and cleans raw source data with all the events\r\n",
    "df_bug_full = load_bug_full()"
   ]
  },
  {
   "cell_type": "code",
   "execution_count": null,
   "metadata": {},
   "outputs": [],
   "source": [
    "df_bug_full.info()"
   ]
  },
  {
   "cell_type": "code",
   "execution_count": null,
   "metadata": {},
   "outputs": [],
   "source": [
    "df_bug_full.tail()"
   ]
  },
  {
   "cell_type": "markdown",
   "metadata": {},
   "source": [
    "## 2. Analysis of the lifecycle of a bug"
   ]
  },
  {
   "cell_type": "markdown",
   "metadata": {},
   "source": [
    "### 2.1 Changes of status per bug"
   ]
  },
  {
   "cell_type": "code",
   "execution_count": null,
   "metadata": {},
   "outputs": [],
   "source": [
    "# Utility function to create a sorted category for bug states\r\n",
    "def bug_states_as_category(df):\r\n",
    "\r\n",
    "    df = df.copy()\r\n",
    "\r\n",
    "    possible_bug_states_sorted = [\r\n",
    "        'OPEN-UNCONFIRMED',\r\n",
    "        'UNCONFIRMED',\r\n",
    "        'CONFIRMED',\r\n",
    "        'IN_PROGRESS',\r\n",
    "        'RESOLVED',\r\n",
    "        'VERIFIED'\r\n",
    "    ]\r\n",
    "\r\n",
    "    df['VALUE'] = pd.Categorical(df.VALUE, categories=possible_bug_states_sorted, ordered=True)\r\n",
    "\r\n",
    "    return df\r\n",
    "\r\n",
    "# Extracts the events where bugs change of state and concatenates them with the bug openings\r\n",
    "def get_status_changes_by_bug(df):\r\n",
    "\r\n",
    "    df_bug_openings = (\r\n",
    "        df\r\n",
    "        .query(\"OPERATION=='comment'\")\r\n",
    "        .groupby(['BUG_ID']).first()\r\n",
    "        .reset_index()\r\n",
    "        .assign(OPERATION = 'bug_status')\r\n",
    "        .assign(ISSUER = lambda x: x.VALUE)\r\n",
    "        .assign(VALUE = 'OPEN-UNCONFIRMED')\r\n",
    "        .sort_values(by=['TIMESTAMP', 'BUG_ID'])\r\n",
    "        .reset_index(drop=True)\r\n",
    "    )\r\n",
    "\r\n",
    "    return (\r\n",
    "        pd.concat(\r\n",
    "            [\r\n",
    "                df.query(\"OPERATION=='bug_status'\"),\r\n",
    "                df_bug_openings\r\n",
    "            ]\r\n",
    "        )\r\n",
    "        .sort_index()\r\n",
    "\r\n",
    "        # Makes 'VALUE' categorical and sorts its categories properly\r\n",
    "        .pipe(bug_states_as_category)\r\n",
    "\r\n",
    "        .sort_values(by=['TIMESTAMP', 'BUG_ID'])\r\n",
    "        .reset_index(drop=True)\r\n",
    "\r\n",
    "        # Boolean to know if the bug is solved or remains open at that time\r\n",
    "        .assign(SOLVED = lambda x: x.VALUE.isin([\"RESOLVED\", \"VERIFIED\"]))\r\n",
    "    )"
   ]
  },
  {
   "cell_type": "code",
   "execution_count": null,
   "metadata": {},
   "outputs": [],
   "source": [
    "# Obtains all the changes of state per bug\r\n",
    "df_status_changes_by_bug = get_status_changes_by_bug(df_bug_full)"
   ]
  },
  {
   "cell_type": "code",
   "execution_count": null,
   "metadata": {},
   "outputs": [],
   "source": [
    "df_status_changes_by_bug.info()"
   ]
  },
  {
   "cell_type": "code",
   "execution_count": null,
   "metadata": {},
   "outputs": [],
   "source": [
    "#df_status_changes_by_bug.tail(10)\r\n",
    "df_status_changes_by_bug.query(\"BUG_ID==1647\")"
   ]
  },
  {
   "cell_type": "markdown",
   "metadata": {},
   "source": [
    "### 2.2 Latest status of each bug"
   ]
  },
  {
   "cell_type": "code",
   "execution_count": null,
   "metadata": {},
   "outputs": [],
   "source": [
    "def remove_index_name(df):\r\n",
    "    df.index.name = ''\r\n",
    "    return df\r\n",
    "\r\n",
    "def get_current_bug_state(df):\r\n",
    "    return (\r\n",
    "        df\r\n",
    "        .reset_index()\r\n",
    "        .groupby('BUG_ID')\r\n",
    "        .last()\r\n",
    "        .reset_index()\r\n",
    "        .set_index('index')\r\n",
    "        .pipe(remove_index_name)\r\n",
    "    )"
   ]
  },
  {
   "cell_type": "code",
   "execution_count": null,
   "metadata": {},
   "outputs": [],
   "source": [
    "df_current_bug_state = get_current_bug_state(df_status_changes_by_bug)"
   ]
  },
  {
   "cell_type": "code",
   "execution_count": null,
   "metadata": {},
   "outputs": [],
   "source": [
    "df_current_bug_state.info()"
   ]
  },
  {
   "cell_type": "markdown",
   "metadata": {},
   "source": [
    "#### 2.3.1 Open bugs"
   ]
  },
  {
   "cell_type": "code",
   "execution_count": null,
   "metadata": {},
   "outputs": [],
   "source": [
    "df_open_bugs = df_current_bug_state[ ~df_current_bug_state['VALUE'].isin(['RESOLVED', 'VERIFIED']) ]"
   ]
  },
  {
   "cell_type": "code",
   "execution_count": null,
   "metadata": {},
   "outputs": [],
   "source": [
    "df_open_bugs.info()"
   ]
  },
  {
   "cell_type": "markdown",
   "metadata": {},
   "source": [
    "#### 2.3.2 Current bug status vs. age"
   ]
  },
  {
   "cell_type": "code",
   "execution_count": null,
   "metadata": {},
   "outputs": [],
   "source": [
    "pd.crosstab(\r\n",
    "    df_current_bug_state.VALUE,\r\n",
    "    df_current_bug_state.AGE,\r\n",
    "    margins=True,\r\n",
    "    margins_name='Total'\r\n",
    ")"
   ]
  },
  {
   "cell_type": "code",
   "execution_count": null,
   "metadata": {},
   "outputs": [],
   "source": [
    "# df_current_bug_state[['VALUE', 'AGE', 'BUG_ID']].pivot_table(\r\n",
    "#     index = 'VALUE',\r\n",
    "#     columns = 'AGE',\r\n",
    "#     values = 'BUG_ID',\r\n",
    "#     aggfunc = 'count',\r\n",
    "#     margins = True\r\n",
    "# )"
   ]
  },
  {
   "cell_type": "code",
   "execution_count": null,
   "metadata": {},
   "outputs": [],
   "source": [
    "pd.crosstab(\r\n",
    "    df_open_bugs.VALUE,\r\n",
    "    df_open_bugs.AGE,\r\n",
    "    margins=True,\r\n",
    "    margins_name='Total'\r\n",
    ")"
   ]
  },
  {
   "cell_type": "code",
   "execution_count": null,
   "metadata": {},
   "outputs": [],
   "source": [
    "# TODO: Heatmap"
   ]
  },
  {
   "cell_type": "code",
   "execution_count": null,
   "metadata": {},
   "outputs": [],
   "source": [
    "pd.crosstab(\r\n",
    "    df_open_bugs.MODULE,\r\n",
    "    df_open_bugs.AGE,\r\n",
    "    margins=True,\r\n",
    "    margins_name='Total'\r\n",
    ")"
   ]
  },
  {
   "cell_type": "code",
   "execution_count": null,
   "metadata": {},
   "outputs": [],
   "source": [
    "plt.figure(figsize=(12, 20))\r\n",
    "\r\n",
    "ct_open_bugs = pd.crosstab(\r\n",
    "    df_open_bugs.MODULE,\r\n",
    "    df_open_bugs.AGE,\r\n",
    "    margins_name='Total'\r\n",
    ")\r\n",
    "\r\n",
    "ct_open_bugs.plot(kind='barh', stacked=True)\r\n",
    "\r\n",
    "plt.title(f'Open Bugs per Module ({today})', fontsize=20)\r\n",
    "plt.ylabel('')\r\n",
    "\r\n",
    "width = ct_open_bugs.sum(axis=1)\r\n",
    "plt.xticks(\r\n",
    "    np.arange(min(width), max(width) + 1, 1.0)\r\n",
    ")\r\n",
    "\r\n",
    "plt.tight_layout()\r\n",
    "\r\n",
    "filename = os.path.join(outputs_folder, 'n_bugs_open_per_module')\r\n",
    "plt.savefig(filename + '.png', dpi=300)\r\n",
    "plt.savefig(filename + '.svg')\r\n",
    "\r\n",
    "plt.show()"
   ]
  },
  {
   "cell_type": "code",
   "execution_count": null,
   "metadata": {},
   "outputs": [],
   "source": [
    "ct_open_bugs_selected = (\r\n",
    "    ct_open_bugs\r\n",
    "    .loc[ct_open_bugs.index.isin(most_relevant_modules)]\r\n",
    ")\r\n",
    "\r\n",
    "ct_open_bugs_selected.plot(kind='barh', stacked=True)\r\n",
    "\r\n",
    "plt.title(f'Open Bugs per Module - Selected ({today})', fontsize=20)\r\n",
    "plt.ylabel('')\r\n",
    "\r\n",
    "width = ct_open_bugs_selected.sum(axis=1)\r\n",
    "plt.xticks(\r\n",
    "    np.arange(min(width), max(width) + 1, 1.0)\r\n",
    ")\r\n",
    "\r\n",
    "plt.tight_layout()\r\n",
    "\r\n",
    "filename = os.path.join(outputs_folder, 'n_bugs_open_per_key_module')\r\n",
    "plt.savefig(filename + '.png', dpi=300)\r\n",
    "plt.savefig(filename + '.svg')\r\n",
    "\r\n",
    "plt.show()"
   ]
  },
  {
   "cell_type": "markdown",
   "metadata": {},
   "source": [
    "#### 2.3.3 Bug owner (`assigned_to`)"
   ]
  },
  {
   "cell_type": "code",
   "execution_count": null,
   "metadata": {},
   "outputs": [],
   "source": [
    "df_owner_events_by_bug = df_bug_full[ df_bug_full.OPERATION=='assigned_to' ]"
   ]
  },
  {
   "cell_type": "code",
   "execution_count": null,
   "metadata": {},
   "outputs": [],
   "source": [
    "# df_owner_events_by_bug"
   ]
  },
  {
   "cell_type": "markdown",
   "metadata": {},
   "source": [
    "Determines the last owner to which the bug has been explicitly assigned:"
   ]
  },
  {
   "cell_type": "code",
   "execution_count": null,
   "metadata": {},
   "outputs": [],
   "source": [
    "# df_current_owner_bug = (\r\n",
    "#     df_owner_events_by_bug\r\n",
    "def get_current_owner_bug(df):\r\n",
    "    return (\r\n",
    "        df\r\n",
    "        .reset_index()\r\n",
    "        .groupby('BUG_ID')\r\n",
    "        .last()\r\n",
    "        .reset_index()\r\n",
    "        .set_index('index')\r\n",
    "        .pipe(remove_index_name)\r\n",
    "    )"
   ]
  },
  {
   "cell_type": "code",
   "execution_count": null,
   "metadata": {},
   "outputs": [],
   "source": [
    "df_current_owner_bug = get_current_owner_bug(df_owner_events_by_bug)"
   ]
  },
  {
   "cell_type": "code",
   "execution_count": null,
   "metadata": {},
   "outputs": [],
   "source": [
    "df_current_owner_bug.tail()"
   ]
  },
  {
   "cell_type": "markdown",
   "metadata": {},
   "source": [
    "## 3. Summary table per bug"
   ]
  },
  {
   "cell_type": "markdown",
   "metadata": {},
   "source": [
    "### 3.1 Extracts data from the list of events to build the main series of the summary"
   ]
  },
  {
   "cell_type": "markdown",
   "metadata": {},
   "source": [
    "Auxiliary functions to find easily the first and last ocurrences of a certain type of event per bug or make basic accountings:"
   ]
  },
  {
   "cell_type": "code",
   "execution_count": null,
   "metadata": {},
   "outputs": [],
   "source": [
    "%whos DataFrame"
   ]
  },
  {
   "cell_type": "code",
   "execution_count": null,
   "metadata": {},
   "outputs": [],
   "source": [
    "# Gets all basic bug details + bug creation details\r\n",
    "def get_basic_bug_details(df):\r\n",
    "\r\n",
    "    return (\r\n",
    "        df\r\n",
    "        .groupby('BUG_ID')\r\n",
    "        .first()\r\n",
    "        .drop(columns=['OPERATION', 'VALUE', 'ROW_NUMBER'])\r\n",
    "        .reindex(columns=['BUG_DESCRIPTION', 'ISSUER', 'TIMESTAMP', 'AGE', 'MONTH'])\r\n",
    "        .rename(\r\n",
    "            columns={\r\n",
    "                'TIMESTAMP': 'CREATION_TIME',\r\n",
    "                'AGE': 'CREATION_AGE'\r\n",
    "            }\r\n",
    "        )\r\n",
    "    )"
   ]
  },
  {
   "cell_type": "code",
   "execution_count": null,
   "metadata": {},
   "outputs": [],
   "source": [
    "# Gets the last known state of the bug\r\n",
    "def get_last_known_state(df):\r\n",
    "    return (\r\n",
    "        df\r\n",
    "        .groupby('BUG_ID')\r\n",
    "        .last()\r\n",
    "        .drop(columns=['OPERATION', 'BUG_DESCRIPTION', 'ROW_NUMBER', 'ISSUER'])\r\n",
    "        .rename(\r\n",
    "            columns={\r\n",
    "                'TIMESTAMP': 'STATE_UPDATE_TIME',\r\n",
    "                'VALUE': 'STATE',\r\n",
    "                'AGE': 'STATE_UPDATE_AGE',\r\n",
    "                'MONTH': 'STATE_UPDATE_MONTH'\r\n",
    "            }\r\n",
    "        )\r\n",
    "        .reindex(columns=['STATE', 'STATE_UPDATE_TIME', 'STATE_UPDATE_AGE', 'STATE_UPDATE_MONTH'])\r\n",
    "    )"
   ]
  },
  {
   "cell_type": "code",
   "execution_count": null,
   "metadata": {},
   "outputs": [],
   "source": [
    "# Gets the total number of changes of state\r\n",
    "def get_number_changes_of_state(df):\r\n",
    "    return (\r\n",
    "        df\r\n",
    "        .query(\"OPERATION=='bug_status'\")\r\n",
    "        .reset_index()\r\n",
    "        .loc[:, ['BUG_ID', 'index']]\r\n",
    "        .groupby('BUG_ID').count()\r\n",
    "        .rename(columns={'index': 'STATE_CHANGES'})\r\n",
    "    )"
   ]
  },
  {
   "cell_type": "code",
   "execution_count": null,
   "metadata": {},
   "outputs": [],
   "source": [
    "# Gets how many times it has changed to `RESOLVED` (useful to detect ineffective resolutions)\r\n",
    "def get_number_changes_to_resolved(df):\r\n",
    "    return (\r\n",
    "        df\r\n",
    "        .query(\"(OPERATION=='bug_status') & (VALUE=='RESOLVED')\")\r\n",
    "        .reset_index()\r\n",
    "        .loc[:, ['BUG_ID', 'index']]\r\n",
    "        .groupby('BUG_ID').count()\r\n",
    "        .rename(columns={'index': 'CHANGES_TO_RESOLVED'})\r\n",
    "        .fillna(0)\r\n",
    "        .astype({'CHANGES_TO_RESOLVED': 'int'})\r\n",
    "    )"
   ]
  },
  {
   "cell_type": "code",
   "execution_count": null,
   "metadata": {},
   "outputs": [],
   "source": [
    "# Gets how many times the Release assignment has changed (useful to detect situations that persist or revive across releases)\r\n",
    "def get_number_release_assignments(df):\r\n",
    "    return (\r\n",
    "        df\r\n",
    "        .query(\"OPERATION=='version'\")\r\n",
    "        .reset_index()\r\n",
    "        .loc[:, ['BUG_ID', 'index']]\r\n",
    "        .groupby('BUG_ID').count()\r\n",
    "        .rename(columns={'index': 'RELEASE_CHANGES'})\r\n",
    "        .fillna(0)\r\n",
    "        .astype({'RELEASE_CHANGES': 'int'})\r\n",
    "    )"
   ]
  },
  {
   "cell_type": "code",
   "execution_count": null,
   "metadata": {},
   "outputs": [],
   "source": [
    "# Gets how many times the MDG assignment has changed (useful to detect \"hot potato\" situations)\r\n",
    "def get_number_module_assignments(df):\r\n",
    "    return (\r\n",
    "        df\r\n",
    "        .query(\"OPERATION=='component'\")\r\n",
    "        .reset_index()\r\n",
    "        .loc[:, ['BUG_ID', 'index']]\r\n",
    "        .groupby('BUG_ID').count()\r\n",
    "        .rename(columns={'index': 'MODULE_CHANGES'})\r\n",
    "        .fillna(0)\r\n",
    "        .astype({'MODULE_CHANGES': 'int'})\r\n",
    "    )"
   ]
  },
  {
   "cell_type": "code",
   "execution_count": null,
   "metadata": {},
   "outputs": [],
   "source": [
    "# Gets last assigned owner\r\n",
    "def get_last_owner(df):\r\n",
    "    return (\r\n",
    "        df\r\n",
    "        .query(\"OPERATION=='assigned_to'\")\r\n",
    "        .groupby('BUG_ID')\r\n",
    "        .last()\r\n",
    "        .drop(columns=['OPERATION', 'BUG_DESCRIPTION', 'ROW_NUMBER', 'RELEASE', 'MODULE'])\r\n",
    "        .rename(\r\n",
    "            columns={\r\n",
    "                'VALUE': 'OWNER',\r\n",
    "                'TIMESTAMP': 'LAST_ASSIGNMENT_TIME',\r\n",
    "                'AGE': 'LAST_ASSIGNMENT_AGE',\r\n",
    "                'MONTH': 'LAST_ASSIGNMENT_MONTH'\r\n",
    "            }\r\n",
    "        )\r\n",
    "    )"
   ]
  },
  {
   "cell_type": "code",
   "execution_count": null,
   "metadata": {},
   "outputs": [],
   "source": [
    "# Gets how many times the owner assignment has changed (useful to detect \"hot potato\" situations)\r\n",
    "def get_number_owner_assignments(df):\r\n",
    "    return (\r\n",
    "        df\r\n",
    "        .query(\"OPERATION=='assigned_to'\")\r\n",
    "        .reset_index()\r\n",
    "        .loc[:, ['BUG_ID', 'index']]\r\n",
    "        .groupby('BUG_ID').count()\r\n",
    "        .rename(columns={'index': 'OWNER_CHANGES'})\r\n",
    "        .fillna(0)\r\n",
    "        .astype({'OWNER_CHANGES': 'int'})\r\n",
    "    )"
   ]
  },
  {
   "cell_type": "code",
   "execution_count": null,
   "metadata": {},
   "outputs": [],
   "source": [
    "# Gets last event that has happened to the bug so far\r\n",
    "def get_last_event(df):\r\n",
    "    return (\r\n",
    "        df\r\n",
    "        .groupby('BUG_ID')\r\n",
    "        .last()\r\n",
    "        .drop(columns=['BUG_DESCRIPTION', 'VALUE', 'ROW_NUMBER'])\r\n",
    "        .rename(\r\n",
    "            columns={\r\n",
    "                'OPERATION': 'LAST_EVENT',\r\n",
    "                'TIMESTAMP': 'LAST_EVENT_TIME',\r\n",
    "                'AGE': 'LAST_EVENT_AGE',\r\n",
    "                'MONTH': 'LAST_EVENT_MONTH'\r\n",
    "            }\r\n",
    "        )\r\n",
    "        .reindex(columns=['LAST_EVENT', 'LAST_EVENT_TIME', 'LAST_EVENT_AGE', 'LAST_EVENT_MONTH'])\r\n",
    "    )"
   ]
  },
  {
   "cell_type": "code",
   "execution_count": null,
   "metadata": {},
   "outputs": [],
   "source": [
    "def get_bug_summary(df_status_changes_by_bug, df_bug_full):\r\n",
    "\r\n",
    "    return (\r\n",
    "        # All basic bug details + bug creation details\r\n",
    "        get_basic_bug_details(df_status_changes_by_bug)\r\n",
    "\r\n",
    "        # Adds last known state of the bug\r\n",
    "        .merge(\r\n",
    "            get_last_known_state(df_status_changes_by_bug),\r\n",
    "            how='left',\r\n",
    "            left_index=True, right_index=True\r\n",
    "        )\r\n",
    "\r\n",
    "        # Adds the total number of changes of state\r\n",
    "        .merge(\r\n",
    "            get_number_changes_of_state(df_status_changes_by_bug),\r\n",
    "            how='left',\r\n",
    "            left_index=True, right_index=True\r\n",
    "        )\r\n",
    "\r\n",
    "        # Adds how many times it has changed to `RESOLVED` (useful to detect ineffective resolutions)\r\n",
    "        .merge(\r\n",
    "            get_number_changes_to_resolved(df_status_changes_by_bug),\r\n",
    "            how='left',\r\n",
    "            left_index=True, right_index=True\r\n",
    "        )\r\n",
    "        .fillna({'CHANGES_TO_RESOLVED': 0})\r\n",
    "\r\n",
    "        # Adds last known Release and Module for each bug\r\n",
    "        .merge(\r\n",
    "            (\r\n",
    "                df_bug_full\r\n",
    "                .groupby('BUG_ID').last()\r\n",
    "                .loc[:, ['RELEASE', 'MODULE']]\r\n",
    "            ),\r\n",
    "            how='left', # how='outer'\r\n",
    "            left_index=True, right_index=True\r\n",
    "        )\r\n",
    "\r\n",
    "        # Adds how many times the Release assignment has changed (useful to detect situations that persist or revive across releases)\r\n",
    "        .merge(\r\n",
    "            get_number_release_assignments(df_bug_full),\r\n",
    "            how='left',\r\n",
    "            left_index=True, right_index=True\r\n",
    "        )\r\n",
    "\r\n",
    "        # Adds how many times the module assignment has changed (useful to detect \"hot potato\" situations)\r\n",
    "        .merge(\r\n",
    "            get_number_module_assignments(df_bug_full),\r\n",
    "            how='left',\r\n",
    "            left_index=True, right_index=True\r\n",
    "        )\r\n",
    "\r\n",
    "        # Adds last assigned owner\r\n",
    "        .merge(\r\n",
    "            get_last_owner(df_bug_full),\r\n",
    "            how='left',\r\n",
    "            left_index=True, right_index=True\r\n",
    "        )\r\n",
    "\r\n",
    "        # Adds how many times the owner has changed (useful to detect \"hot potato\" situations)\r\n",
    "        .merge(\r\n",
    "            get_number_owner_assignments(df_bug_full),\r\n",
    "            how='left',\r\n",
    "            left_index=True, right_index=True\r\n",
    "        )\r\n",
    "\r\n",
    "        # Adds the last event that has happened to the bug so far\r\n",
    "        .merge(\r\n",
    "            get_last_event(df_bug_full),\r\n",
    "            how='left',\r\n",
    "            left_index=True, right_index=True\r\n",
    "        )\r\n",
    "\r\n",
    "        # Boolean to know if the bug was solved\r\n",
    "        .assign(SOLVED = lambda x: x.STATE.isin([\"RESOLVED\", \"VERIFIED\"]))\r\n",
    "\r\n",
    "        # Calculates the bug resolution time (when applicable)\r\n",
    "        .assign(BUG_RESOLUTION_TIME = lambda x: (x.STATE_UPDATE_TIME - x.CREATION_TIME).dt.days)\r\n",
    "\r\n",
    "        # Calculates the time since the bug was open\r\n",
    "        .assign(TIME_SINCE_CREATION = lambda x: (pd.to_datetime(\"now\") - x.CREATION_TIME).dt.days)\r\n",
    "    )"
   ]
  },
  {
   "cell_type": "code",
   "execution_count": null,
   "metadata": {},
   "outputs": [],
   "source": [
    "df_bug_summary = get_bug_summary(df_status_changes_by_bug, df_bug_full)"
   ]
  },
  {
   "cell_type": "code",
   "execution_count": null,
   "metadata": {},
   "outputs": [],
   "source": [
    "df_bug_summary.info()"
   ]
  },
  {
   "cell_type": "code",
   "execution_count": null,
   "metadata": {},
   "outputs": [],
   "source": [
    "# Exploratory table - Time open bugs\r\n",
    "df_bug_summary.query('(SOLVED==False)').groupby('MODULE').TIME_SINCE_CREATION.describe().query('count>0')"
   ]
  },
  {
   "cell_type": "code",
   "execution_count": null,
   "metadata": {},
   "outputs": [],
   "source": [
    "fig, ax = plt.subplots(figsize = (10, 20))\r\n",
    "\r\n",
    "sns.boxenplot(\r\n",
    "    data = df_bug_summary.query('SOLVED==False'),\r\n",
    "    y = 'MODULE',\r\n",
    "    x = 'TIME_SINCE_CREATION',\r\n",
    "    ax=ax\r\n",
    ")\r\n",
    "\r\n",
    "ax.set_title(f'Age of Open Bugs ({today})\\n', fontsize=20)\r\n",
    "ax.set_xlabel('Time since creation (days)', fontsize=14)\r\n",
    "ax.set_ylabel(None)\r\n",
    "\r\n",
    "fig.tight_layout()\r\n",
    "\r\n",
    "filename = os.path.join(outputs_folder, 'time_bugs_open_per_module')\r\n",
    "fig.savefig(filename + '.png', dpi=300)\r\n",
    "fig.savefig(filename + '.svg')\r\n",
    "\r\n",
    "plt.show()"
   ]
  },
  {
   "cell_type": "code",
   "execution_count": null,
   "metadata": {},
   "outputs": [],
   "source": [
    "# Function to remove categories not in use in a given column\r\n",
    "def clean_categorical_columns(col):\r\n",
    "    if str(col.dtype)=='category':  # Checks if the column of 'category' type\r\n",
    "        return col.cat.remove_unused_categories()\r\n",
    "    else:   # Otherwise, returns the series verbatim\r\n",
    "        return col"
   ]
  },
  {
   "cell_type": "code",
   "execution_count": null,
   "metadata": {},
   "outputs": [],
   "source": [
    "fig, ax = plt.subplots(figsize = (10, 10))\r\n",
    "\r\n",
    "df_open_bugs_selected = (\r\n",
    "    df_bug_summary\r\n",
    "    .loc[df_bug_summary.MODULE.isin(most_relevant_modules)]\r\n",
    "    .assign(MODULE = lambda x: clean_categorical_columns(x.MODULE))\r\n",
    "    .query('SOLVED==False')\r\n",
    ")\r\n",
    "\r\n",
    "sns.boxenplot(\r\n",
    "    data = df_open_bugs_selected,\r\n",
    "    y = 'MODULE',\r\n",
    "    x = 'TIME_SINCE_CREATION',\r\n",
    "    ax=ax\r\n",
    ")\r\n",
    "\r\n",
    "ax.set_title(f'Age of Open Bugs - Selected ({today})\\n', fontsize=20)\r\n",
    "ax.set_xlabel('Time since creation (days)', fontsize=14)\r\n",
    "ax.set_ylabel(None)\r\n",
    "\r\n",
    "fig.tight_layout()\r\n",
    "\r\n",
    "filename = os.path.join(outputs_folder, 'time_bugs_open_per_key_module')\r\n",
    "fig.savefig(filename + '.png', dpi=300)\r\n",
    "fig.savefig(filename + '.svg')\r\n",
    "\r\n",
    "plt.show()"
   ]
  },
  {
   "cell_type": "markdown",
   "metadata": {},
   "source": [
    "## 4. Temporal evolution"
   ]
  },
  {
   "cell_type": "code",
   "execution_count": null,
   "metadata": {},
   "outputs": [],
   "source": [
    "df_status_changes_by_bug.tail()"
   ]
  },
  {
   "cell_type": "code",
   "execution_count": null,
   "metadata": {},
   "outputs": [],
   "source": [
    "df_status_changes_by_bug.query(\"BUG_ID==1433\")"
   ]
  },
  {
   "cell_type": "code",
   "execution_count": null,
   "metadata": {},
   "outputs": [],
   "source": [
    "# Auxiliary function to add extra columns with effective timestamps of the event:\r\n",
    "# - If the event closes the bug, TIMESTAMP_4_EVENT = TIMESTAMP\r\n",
    "# - If the event opens the bug, TIMESTAMP_4_EVENT = end of current month\r\n",
    "# - Drops rows of events that do not open/close any bug.\r\n",
    "def add_effective_timestamps(df):\r\n",
    "    '''Function to add extra columns with effective timestamps of the event:\r\n",
    "\r\n",
    "    - If the event closes the bug, TIMESTAMP_4_EVENT = TIMESTAMP\r\n",
    "    - If the event opens the bug, TIMESTAMP_4_EVENT = end of current month\r\n",
    "    - Drops rows of events that do not open/close any bug.\r\n",
    "    '''\r\n",
    "\r\n",
    "    return (\r\n",
    "        df\r\n",
    "\r\n",
    "        # Adds column with timestamp of opening of each bug\r\n",
    "        .assign(\r\n",
    "            TIMESTAMP_OPENING = lambda x:\r\n",
    "            (\r\n",
    "                x\r\n",
    "                .groupby('BUG_ID')\r\n",
    "                ['TIMESTAMP']\r\n",
    "                #.transform(lambda col: col.min())\r\n",
    "                .transform('first')\r\n",
    "            )\r\n",
    "        )\r\n",
    "\r\n",
    "        # Adds column of effective timestamp of each event\r\n",
    "        .assign(\r\n",
    "            TIMESTAMP_4_EVENT = lambda x: (\r\n",
    "                x.MONTH\r\n",
    "                .where(x.OPENED)\r\n",
    "                .fillna(\r\n",
    "                    x.TIMESTAMP\r\n",
    "                    .where(x.CLOSED)\r\n",
    "                )\r\n",
    "            )\r\n",
    "        )\r\n",
    "        .dropna(subset=['TIMESTAMP_4_EVENT'])   # Drops rows that do not open or close any bug\r\n",
    "\r\n",
    "        # Fixes attributed timestamps that are \"in the future\"\r\n",
    "        .assign(\r\n",
    "            TIMESTAMP_4_EVENT = lambda x: (\r\n",
    "                x.TIMESTAMP_4_EVENT\r\n",
    "                .where(x.TIMESTAMP_4_EVENT <= today_as_datetime)\r\n",
    "                .fillna(today_as_datetime)\r\n",
    "            )\r\n",
    "        )\r\n",
    "\r\n",
    "        # Adds column with the difference\r\n",
    "        .assign(TIME = lambda x: x.TIMESTAMP_4_EVENT - x.TIMESTAMP_OPENING)\r\n",
    "    )\r\n",
    "\r\n",
    "# MAIN FUNCTION:\r\n",
    "# Function to add extra columns to status changes that allow to determine if the event results in a bug opening or a bug closing\r\n",
    "def get_status_changes_by_bug_extended(df):\r\n",
    "    '''Columns added by this stage:\r\n",
    "\r\n",
    "    - `SOLVED`: Is the bug currently considered solved?\r\n",
    "    - `WAS_SOLVED`: Right before this event, was the bug considered solved?\r\n",
    "    - `JUST_OPENED`: Has the bug been just opened for the first time in this event?\r\n",
    "    - `REOPENED`: Is this event a reopening?\r\n",
    "    - `OPENED`: Is this event opening or reopening the bug? (`JUST_OPENED` or `REOPENED`)\r\n",
    "    - `CLOSED`: Is this event closed by this event?\r\n",
    "    '''\r\n",
    "\r\n",
    "    was_solved = (\r\n",
    "        df\r\n",
    "        .groupby('BUG_ID')\r\n",
    "        ['SOLVED']\r\n",
    "        .transform(lambda x: x.shift())\r\n",
    "        .fillna(method='bfill')\r\n",
    "    )\r\n",
    "\r\n",
    "    return (\r\n",
    "        df\r\n",
    "        .assign(WAS_SOLVED = was_solved)\r\n",
    "        .assign(JUST_OPENED = lambda x: (x.VALUE=='OPEN-UNCONFIRMED'))\r\n",
    "        .assign(REOPENED = lambda x: (x.WAS_SOLVED > x.SOLVED))\r\n",
    "        .assign(OPENED = lambda x: (x.JUST_OPENED | x.REOPENED))\r\n",
    "        .assign(CLOSED = lambda x: (x.WAS_SOLVED < x.SOLVED))\r\n",
    "\r\n",
    "        # Adds columns with effective timestamps of open/close events\r\n",
    "        .pipe(add_effective_timestamps)\r\n",
    "    )"
   ]
  },
  {
   "cell_type": "code",
   "execution_count": null,
   "metadata": {},
   "outputs": [],
   "source": [
    "# Status changes with added information to track the dynamics per bug\r\n",
    "df_status_changes_by_bug_extended = get_status_changes_by_bug_extended(df_status_changes_by_bug)"
   ]
  },
  {
   "cell_type": "code",
   "execution_count": null,
   "metadata": {},
   "outputs": [],
   "source": [
    "# Useful example to check that everything is in place\r\n",
    "df_status_changes_by_bug_extended.query(\"BUG_ID==1433\")"
   ]
  },
  {
   "cell_type": "code",
   "execution_count": null,
   "metadata": {},
   "outputs": [],
   "source": []
  },
  {
   "cell_type": "code",
   "execution_count": null,
   "metadata": {},
   "outputs": [],
   "source": []
  },
  {
   "cell_type": "code",
   "execution_count": null,
   "metadata": {},
   "outputs": [],
   "source": [
    "# TODO: Definir cómo agregar tiempos por mes\r\n",
    "#\r\n",
    "# - Separa\r\n",
    "#   - Tiempos de bugs todavía abiertos ese mes\r\n",
    "#   - Tiempos de bugs que se han cerrado ese mismo mes\r\n",
    "# - Medias y varianzas"
   ]
  },
  {
   "cell_type": "code",
   "execution_count": null,
   "metadata": {},
   "outputs": [],
   "source": [
    "# (\r\n",
    "#     df_status_changes_by_bug_extended\r\n",
    "\r\n",
    "#     # Keeps only the last relevant event of each month per bug\r\n",
    "#     .groupby(['BUG_ID', 'MONTH'])\r\n",
    "#     .last()\r\n",
    "\r\n",
    "#     # Forces to include one sample per month of each known bug\r\n",
    "#     .unstack()\r\n",
    "#     .stack(dropna=False)\r\n",
    "#     .assign(\r\n",
    "#         SOLVED = lambda x: (\r\n",
    "#             x.groupby('BUG_ID').SOLVED.ffill().astype('bool')\r\n",
    "#         ),\r\n",
    "#         VALUE = lambda x: (\r\n",
    "#             x.groupby('BUG_ID').VALUE.ffill().astype('bool')\r\n",
    "#         ),\r\n",
    "#         TIMESTAMP_OPENING = lambda x: (\r\n",
    "#             x.groupby('BUG_ID').TIMESTAMP_OPENING.ffill()\r\n",
    "#         ),\r\n",
    "#         RELEASE = lambda x: (\r\n",
    "#             x.groupby('BUG_ID').RELEASE.ffill()\r\n",
    "#         ),\r\n",
    "#         MODULE = lambda x: (\r\n",
    "#             x.groupby('BUG_ID').MODULE.ffill()\r\n",
    "#         )\r\n",
    "#     )\r\n",
    "\r\n",
    "#     # Drops rows in months before the bug was created\r\n",
    "#     # (we have filled NA forward, not backwards)\r\n",
    "#     .dropna(subset=['TIMESTAMP_OPENING'])\r\n",
    "\r\n",
    "#     # If effective timestamp is NA and the bug is still open,\r\n",
    "#     # it should be assigned the end of the corresponding month\r\n",
    "#     .reset_index()\r\n",
    "#     .assign(\r\n",
    "#         TIMESTAMP_4_EVENT = lambda x: (\r\n",
    "#             x.TIMESTAMP_4_EVENT\r\n",
    "#             .fillna(\r\n",
    "#                 x.MONTH.where(~ x.SOLVED)\r\n",
    "#             )\r\n",
    "#         )\r\n",
    "#     )\r\n",
    "\r\n",
    "#     # Drops samples of bugs already solved in prior months (not current)\r\n",
    "#     # since they do not add relevant information\r\n",
    "#     # (they are the ones where 'TIMESTAMP_4_EVENT' is still NA)\r\n",
    "#     .dropna(subset=['TIMESTAMP_4_EVENT'])\r\n",
    "\r\n",
    "#     # Recalculates times since opening, to fill N/A\r\n",
    "#     .assign(TIME = lambda x: x.TIMESTAMP_4_EVENT - x.TIMESTAMP_OPENING)\r\n",
    "# ).query(\"BUG_ID==1598\")\r\n",
    "# #.query(\"BUG_ID==1433\")\r\n",
    "# # df[df.TIMESTAMP_4_EVENT.isna()].SOLVED.value_counts()\r\n",
    "# #.query(\"BUG_ID==1433\")#.dropna(subset=['TIMESTAMP_OPENING'])\r\n",
    "# #.groupby('BUG_ID').last().query('~SOLVED').query('MODULE==\"RO\"')"
   ]
  },
  {
   "cell_type": "code",
   "execution_count": null,
   "metadata": {},
   "outputs": [],
   "source": [
    "# Oversamples the dataframe of bug events to add to each month\r\n",
    "# rows that represent the bugs that remain open by that time\r\n",
    "def get_monthly_time_samples_per_bug(df):\r\n",
    "    return (\r\n",
    "        df\r\n",
    "\r\n",
    "        # Keeps only the last relevant event of each month per bug\r\n",
    "        .groupby(['BUG_ID', 'MONTH'])\r\n",
    "        .last()\r\n",
    "\r\n",
    "        # Forces to include one sample per month of each known bug\r\n",
    "        .unstack()\r\n",
    "        .stack(dropna=False)\r\n",
    "\r\n",
    "        # Extends the values of key columns, per bug\r\n",
    "        .assign(\r\n",
    "            SOLVED = lambda x: (\r\n",
    "                x.groupby('BUG_ID').SOLVED.ffill().astype('bool')\r\n",
    "            ),\r\n",
    "            VALUE = lambda x: (\r\n",
    "                x.groupby('BUG_ID').VALUE.ffill().astype('bool')\r\n",
    "            ),\r\n",
    "            TIMESTAMP_OPENING = lambda x: (\r\n",
    "                x.groupby('BUG_ID').TIMESTAMP_OPENING.ffill()\r\n",
    "            ),\r\n",
    "            RELEASE = lambda x: (\r\n",
    "                x.groupby('BUG_ID').RELEASE.ffill()\r\n",
    "            ),\r\n",
    "            MODULE = lambda x: (\r\n",
    "                x.groupby('BUG_ID').MODULE.ffill()\r\n",
    "            )\r\n",
    "        )\r\n",
    "\r\n",
    "        # Drops rows in months before the bug was created\r\n",
    "        # (we have filled NA forward, not backwards)\r\n",
    "        .dropna(subset=['TIMESTAMP_OPENING'])\r\n",
    "\r\n",
    "        # If effective timestamp is NA and the bug is still open,\r\n",
    "        # it should be assigned the end of the corresponding month\r\n",
    "        .reset_index()\r\n",
    "        .assign(\r\n",
    "            TIMESTAMP_4_EVENT = lambda x: (\r\n",
    "                x.TIMESTAMP_4_EVENT\r\n",
    "                .fillna(\r\n",
    "                    x.MONTH.where(~ x.SOLVED)\r\n",
    "                )\r\n",
    "            )\r\n",
    "        )\r\n",
    "\r\n",
    "        # Drops samples of bugs already solved in prior months (not current)\r\n",
    "        # since they do not add relevant information\r\n",
    "        # (they are the ones where 'TIMESTAMP_4_EVENT' is still NA)\r\n",
    "        .dropna(subset=['TIMESTAMP_4_EVENT'])\r\n",
    "\r\n",
    "        # Recalculates times since opening, to fill N/A\r\n",
    "        .assign(TIME = lambda x: x.TIMESTAMP_4_EVENT - x.TIMESTAMP_OPENING)\r\n",
    "\r\n",
    "        # Expresses TIME in days\r\n",
    "        .assign(TIME = lambda x: (x.TIME / pd.Timedelta(days=1)))\r\n",
    "    )"
   ]
  },
  {
   "cell_type": "code",
   "execution_count": null,
   "metadata": {},
   "outputs": [],
   "source": [
    "# Table will all bugs still open each month\r\n",
    "df_monthly_time_samples_per_bug = get_monthly_time_samples_per_bug(df_status_changes_by_bug_extended)"
   ]
  },
  {
   "cell_type": "code",
   "execution_count": null,
   "metadata": {},
   "outputs": [],
   "source": [
    "df_monthly_time_samples_per_bug.query(\"BUG_ID==1433\")"
   ]
  },
  {
   "cell_type": "code",
   "execution_count": null,
   "metadata": {},
   "outputs": [],
   "source": [
    "df_monthly_time_samples_per_bug.query(\"BUG_ID==1598\")"
   ]
  },
  {
   "cell_type": "code",
   "execution_count": null,
   "metadata": {},
   "outputs": [],
   "source": [
    "df_stats_monthly_time_samples_per_bug = (\r\n",
    "    df_monthly_time_samples_per_bug\r\n",
    "    .groupby(['MONTH'])\r\n",
    "    .TIME\r\n",
    "    .describe()\r\n",
    ")"
   ]
  },
  {
   "cell_type": "code",
   "execution_count": null,
   "metadata": {},
   "outputs": [],
   "source": [
    "df_stats_monthly_time_samples_per_bug.tail()"
   ]
  },
  {
   "cell_type": "code",
   "execution_count": null,
   "metadata": {},
   "outputs": [],
   "source": [
    "# Evolution of average age of open bugs\r\n",
    "\r\n",
    "sns.lineplot(\r\n",
    "    data = df_monthly_time_samples_per_bug,\r\n",
    "    x = 'MONTH',\r\n",
    "    y = 'TIME',\r\n",
    "    # ci = None\r\n",
    "    linewidth = 3\r\n",
    ")\r\n",
    "\r\n",
    "plt.title(f'Evolution of Age of Open Bugs ({today})', fontsize=20)\r\n",
    "plt.ylabel('Age (days)')\r\n",
    "plt.xlabel('Time')\r\n",
    "\r\n",
    "plt.tight_layout()\r\n",
    "\r\n",
    "filename = os.path.join(outputs_folder, 'age_open_bugs_per_month')\r\n",
    "plt.savefig(filename + '.png', dpi=300)\r\n",
    "plt.savefig(filename + '.svg')\r\n",
    "\r\n",
    "plt.show()"
   ]
  },
  {
   "cell_type": "code",
   "execution_count": null,
   "metadata": {},
   "outputs": [],
   "source": [
    "# # FIXME: Exploratory figure\r\n",
    "\r\n",
    "# sns.relplot(\r\n",
    "#     data=df_monthly_time_samples_per_bug,\r\n",
    "#     x = 'MONTH',\r\n",
    "#     y = 'TIME',\r\n",
    "#     col = 'MODULE',\r\n",
    "#     col_wrap = 4,\r\n",
    "#     kind = 'line',\r\n",
    "#     # ci = None\r\n",
    "#     facet_kws={'sharey': True, 'sharex': False}\r\n",
    "# )"
   ]
  },
  {
   "cell_type": "code",
   "execution_count": null,
   "metadata": {},
   "outputs": [],
   "source": [
    "# Evolution of average age of open bugs, per module\r\n",
    "\r\n",
    "g = sns.relplot(\r\n",
    "    data = (\r\n",
    "            df_monthly_time_samples_per_bug\r\n",
    "            .loc[df_monthly_time_samples_per_bug.MODULE.isin(most_relevant_modules)]\r\n",
    "            .assign(MODULE = lambda x: clean_categorical_columns(x.MODULE))\r\n",
    "    ),\r\n",
    "    x = 'MONTH',\r\n",
    "    y = 'TIME',\r\n",
    "    col = 'MODULE',\r\n",
    "    col_wrap = 4,\r\n",
    "    kind = 'line',\r\n",
    "    # ci = None\r\n",
    "    facet_kws={'sharey': True, 'sharex': False}\r\n",
    ")\r\n",
    "\r\n",
    "# Rotates the labels\r\n",
    "for ax in g.axes.ravel():\r\n",
    "    ax.set_xticklabels(ax.get_xticklabels(), rotation=30)\r\n",
    "\r\n",
    "g.fig.suptitle(f'Evolution of Age of Open Bugs, per Module ({today})\\n\\n', fontsize=20)\r\n",
    "\r\n",
    "# To avoid overlaps\r\n",
    "g.fig.tight_layout()\r\n",
    "plt.tight_layout()\r\n",
    "\r\n",
    "filename = os.path.join(outputs_folder, 'age_open_bugs_per_month_and_module')\r\n",
    "plt.savefig(filename + '.png', dpi=300)\r\n",
    "plt.savefig(filename + '.svg')\r\n",
    "\r\n",
    "plt.show()"
   ]
  },
  {
   "cell_type": "code",
   "execution_count": null,
   "metadata": {},
   "outputs": [],
   "source": [
    "def agg_reopenings(df):\r\n",
    "\r\n",
    "    df = df.copy()\r\n",
    "\r\n",
    "    df['REAL_CLOSED'] = df.CLOSED - df.REOPENED\r\n",
    "    df.loc[(df.REAL_CLOSED < 0), 'REAL_CLOSED'] = 0\r\n",
    "    df['FALSE_CLOSED'] = df.CLOSED - df.REAL_CLOSED\r\n",
    "\r\n",
    "    # Net contribution\r\n",
    "    df['BUG_VARIATION'] = df.OPENED - df.CLOSED\r\n",
    "\r\n",
    "    return df\r\n",
    "\r\n",
    "def get_open_reopen_closed(df):\r\n",
    "    return (\r\n",
    "        df\r\n",
    "        .groupby(['MONTH', 'BUG_ID'])\r\n",
    "        [['OPENED', 'JUST_OPENED', 'REOPENED', 'CLOSED']]\r\n",
    "        .sum()\r\n",
    "        .pipe(agg_reopenings)\r\n",
    "        .reset_index()\r\n",
    "    )\r\n",
    "\r\n",
    "def get_bug_summary_per_month(df):\r\n",
    "    '''Aggregates opening/closing events per month per bug\r\n",
    "    '''\r\n",
    "\r\n",
    "    return (\r\n",
    "        df\r\n",
    "        .groupby(['MONTH', 'BUG_ID'])\r\n",
    "        .last()\r\n",
    "        .drop(columns=['OPENED', 'JUST_OPENED', 'REOPENED', 'CLOSED'])\r\n",
    "        .reset_index()\r\n",
    "        .merge(\r\n",
    "            get_open_reopen_closed(df),\r\n",
    "            how = 'left',\r\n",
    "            left_on = ['MONTH', 'BUG_ID'],\r\n",
    "            right_on = ['MONTH', 'BUG_ID']\r\n",
    "    )\r\n",
    ")"
   ]
  },
  {
   "cell_type": "code",
   "execution_count": null,
   "metadata": {},
   "outputs": [],
   "source": [
    "# Obtains, per month and per bug, how many times it has been opened, reopened and closed (for real or false)\r\n",
    "df_bug_summary_per_month = get_bug_summary_per_month(df_status_changes_by_bug_extended)"
   ]
  },
  {
   "cell_type": "code",
   "execution_count": null,
   "metadata": {},
   "outputs": [],
   "source": [
    "df_bug_summary_per_month.query(\"BUG_ID==1433\")"
   ]
  },
  {
   "cell_type": "code",
   "execution_count": null,
   "metadata": {},
   "outputs": [],
   "source": [
    "# Net contributions per month\r\n",
    "sns.lineplot(\r\n",
    "    data = df_bug_summary_per_month,\r\n",
    "    x = 'MONTH',\r\n",
    "    y = 'BUG_VARIATION',\r\n",
    "    #hue = 'MODULE',\r\n",
    "    estimator = sum,\r\n",
    "    ci = False,\r\n",
    "    linewidth = 3\r\n",
    ")\r\n",
    "\r\n",
    "plt.title(f'Net Variation Open Bugs per Month ({today})', fontsize=20)\r\n",
    "plt.ylabel('No. Net Bugs')\r\n",
    "plt.xlabel('Time')\r\n",
    "\r\n",
    "plt.tight_layout()\r\n",
    "\r\n",
    "filename = os.path.join(outputs_folder, 'net_variation_open_bugs_per_month')\r\n",
    "plt.savefig(filename + '.png', dpi=300)\r\n",
    "plt.savefig(filename + '.svg')\r\n",
    "\r\n",
    "plt.show()"
   ]
  },
  {
   "cell_type": "code",
   "execution_count": null,
   "metadata": {},
   "outputs": [],
   "source": [
    "# (\r\n",
    "#     df_bug_summary_per_month\r\n",
    "#     .melt(\r\n",
    "#         id_vars=['MONTH', 'BUG_ID', 'MODULE'],\r\n",
    "#         value_vars=['OPENED', 'JUST_OPENED', 'REOPENED', 'CLOSED', 'REAL_CLOSED', 'FALSE_CLOSED', 'BUG_VARIATION']\r\n",
    "#     )\r\n",
    "# )"
   ]
  },
  {
   "cell_type": "code",
   "execution_count": null,
   "metadata": {},
   "outputs": [],
   "source": [
    "# (\r\n",
    "#     df_bug_summary_per_month\r\n",
    "#     .melt(\r\n",
    "#         id_vars=['MONTH', 'BUG_ID', 'MODULE'],\r\n",
    "#         value_vars=['OPENED', 'JUST_OPENED', 'REOPENED', 'CLOSED', 'REAL_CLOSED', 'FALSE_CLOSED', 'BUG_VARIATION']\r\n",
    "#     )\r\n",
    "# )"
   ]
  },
  {
   "cell_type": "code",
   "execution_count": null,
   "metadata": {},
   "outputs": [],
   "source": [
    "# Adapts series for easier visualization:\r\n",
    "# - New + reopen bugs are positive\r\n",
    "# - Solved (true or false) are made negative (for convetion)\r\n",
    "# - Keeps the \"false\" changes ('REOPENED' and 'FALSE_CLOSED') to compare them with totals\r\n",
    "# - 'JUST_OPEN' and 'REAL_CLOSED' are dropt for being redundant\r\n",
    "# - 'TOTAL_OPEN' is also dropt\r\n",
    "\r\n",
    "temporal_bug_data_for_plots = (\r\n",
    "    df_bug_summary_per_month\r\n",
    "\r\n",
    "    .assign(\r\n",
    "        CLOSED = lambda x: (- x.CLOSED),\r\n",
    "        FALSE_CLOSED = lambda x: (- x.FALSE_CLOSED),\r\n",
    "    )\r\n",
    "    .drop(columns=['JUST_OPENED', 'REAL_CLOSED'])\r\n",
    "    .melt(\r\n",
    "        id_vars=['MONTH', 'BUG_ID', 'MODULE'],\r\n",
    "        value_vars=['OPENED', 'REOPENED', 'FALSE_CLOSED', 'CLOSED']\r\n",
    "    )\r\n",
    ")\r\n",
    "\r\n",
    "sns.lineplot(\r\n",
    "    data = temporal_bug_data_for_plots,\r\n",
    "    x = 'MONTH',\r\n",
    "    y = 'value',\r\n",
    "    hue = 'variable',\r\n",
    "    estimator = sum,\r\n",
    "    ci = False,\r\n",
    "    linewidth = 3\r\n",
    ")\r\n",
    "\r\n",
    "plt.title(f'Contributions to Variation of Open Bugs per Month ({today})', fontsize=20)\r\n",
    "plt.ylabel('No. Net Bugs')\r\n",
    "plt.xlabel('Time')\r\n",
    "\r\n",
    "plt.tight_layout()\r\n",
    "\r\n",
    "filename = os.path.join(outputs_folder, 'contribs_variation_open_bugs_per_month')\r\n",
    "plt.savefig(filename + '.png', dpi=300)\r\n",
    "plt.savefig(filename + '.svg')\r\n",
    "\r\n",
    "plt.show()"
   ]
  },
  {
   "cell_type": "code",
   "execution_count": null,
   "metadata": {},
   "outputs": [],
   "source": [
    "temporal_bug_data_for_plots"
   ]
  },
  {
   "cell_type": "code",
   "execution_count": null,
   "metadata": {},
   "outputs": [],
   "source": [
    "# # Function to remove categories not in use in a given column\r\n",
    "# def clean_categorical_columns(col):\r\n",
    "#     if str(col.dtype)=='category':  # Checks if the column of 'category' type\r\n",
    "#         return col.cat.remove_unused_categories()\r\n",
    "#     else:   # Otherwise, returns the series verbatim\r\n",
    "#         return col"
   ]
  },
  {
   "cell_type": "code",
   "execution_count": null,
   "metadata": {},
   "outputs": [],
   "source": [
    "g = sns.relplot(\r\n",
    "    data = (\r\n",
    "        temporal_bug_data_for_plots\r\n",
    "        .loc[temporal_bug_data_for_plots.MODULE.isin(most_relevant_modules)]\r\n",
    "        .assign(MODULE = lambda x: clean_categorical_columns(x.MODULE))\r\n",
    "    ),\r\n",
    "    x = 'MONTH',\r\n",
    "    y = 'value',\r\n",
    "    hue = 'variable',\r\n",
    "    col = \"MODULE\",\r\n",
    "    col_wrap = 4,\r\n",
    "    kind=\"line\",\r\n",
    "    estimator = sum,\r\n",
    "    ci = False,\r\n",
    "    facet_kws={'sharey': True, 'sharex': False}\r\n",
    ")\r\n",
    "\r\n",
    "# Rotates the labels\r\n",
    "for ax in g.axes.ravel():\r\n",
    "    ax.set_xticklabels(ax.get_xticklabels(), rotation=30)\r\n",
    "\r\n",
    "g.fig.suptitle(f'Contributions to Variation of Open Bugs per Month and Module ({today})\\n\\n', fontsize=20)\r\n",
    "\r\n",
    "# To avoid overlaps\r\n",
    "g.fig.tight_layout()\r\n",
    "plt.tight_layout()\r\n",
    "\r\n",
    "filename = os.path.join(outputs_folder, 'contribs_variation_open_bugs_per_month_and_module')\r\n",
    "plt.savefig(filename + '.png', dpi=300)\r\n",
    "plt.savefig(filename + '.svg')\r\n",
    "\r\n",
    "plt.show()"
   ]
  },
  {
   "cell_type": "code",
   "execution_count": null,
   "metadata": {},
   "outputs": [],
   "source": [
    "# Calculates cumulative sum of open bugs per module\r\n",
    "\r\n",
    "def get_cummulative_bug_summary_per_month(df):\r\n",
    "\r\n",
    "    return (\r\n",
    "        df\r\n",
    "        .groupby(['MODULE', 'MONTH'])\r\n",
    "        ['BUG_VARIATION']\r\n",
    "        .sum()\r\n",
    "        .reset_index()\r\n",
    "        .assign(OPEN_BUGS = lambda x: (\r\n",
    "            x\r\n",
    "            .groupby(['MODULE'])\r\n",
    "            ['BUG_VARIATION']\r\n",
    "            .transform(lambda x: x.cumsum())\r\n",
    "        ))\r\n",
    "    )"
   ]
  },
  {
   "cell_type": "code",
   "execution_count": null,
   "metadata": {},
   "outputs": [],
   "source": [
    "# Dataframe with the temporal evolution of the open bugs per module\r\n",
    "df_cummulative_bug_summary_per_month = get_cummulative_bug_summary_per_month(df_bug_summary_per_month)"
   ]
  },
  {
   "cell_type": "code",
   "execution_count": null,
   "metadata": {},
   "outputs": [],
   "source": [
    "# Example to inspect the temporal evolution\r\n",
    "df_cummulative_bug_summary_per_month.query('MODULE == \"RO\"').tail()"
   ]
  },
  {
   "cell_type": "code",
   "execution_count": null,
   "metadata": {},
   "outputs": [],
   "source": [
    "sns.lineplot(\r\n",
    "    data = (\r\n",
    "        df_cummulative_bug_summary_per_month\r\n",
    "        .loc[df_cummulative_bug_summary_per_month.MODULE.isin(most_relevant_modules)]\r\n",
    "    ),\r\n",
    "    x = 'MONTH',\r\n",
    "    y = 'OPEN_BUGS',\r\n",
    "    estimator = sum,\r\n",
    "    ci = False,\r\n",
    "    linewidth = 3\r\n",
    ")\r\n",
    "\r\n",
    "plt.title(f'Evolution of Number of Open Bugs ({today})', fontsize=20)\r\n",
    "plt.ylabel('No. Net Bugs')\r\n",
    "plt.xlabel('Time')\r\n",
    "\r\n",
    "plt.tight_layout()\r\n",
    "\r\n",
    "filename = os.path.join(outputs_folder, 'open_bugs_per_month')\r\n",
    "plt.savefig(filename + '.png', dpi=300)\r\n",
    "plt.savefig(filename + '.svg')\r\n",
    "\r\n",
    "plt.show()"
   ]
  },
  {
   "cell_type": "code",
   "execution_count": null,
   "metadata": {},
   "outputs": [],
   "source": [
    "g = sns.relplot(\r\n",
    "    data = (\r\n",
    "        df_cummulative_bug_summary_per_month\r\n",
    "        .loc[df_cummulative_bug_summary_per_month.MODULE.isin(most_relevant_modules)]\r\n",
    "        .assign(MODULE = lambda x: clean_categorical_columns(x.MODULE))\r\n",
    "    ),\r\n",
    "    x = 'MONTH',\r\n",
    "    y = 'OPEN_BUGS',\r\n",
    "    col = \"MODULE\",\r\n",
    "    col_wrap = 4,\r\n",
    "    kind = \"line\",\r\n",
    "    estimator = sum,\r\n",
    "    ci = False,\r\n",
    "    facet_kws={'sharey': True, 'sharex': False}\r\n",
    ")\r\n",
    "\r\n",
    "# Rotates the labels\r\n",
    "for ax in g.axes.ravel():\r\n",
    "    ax.set_xticklabels(ax.get_xticklabels(), rotation=30)\r\n",
    "\r\n",
    "g.fig.suptitle(f'Open Bugs per Month and Module ({today})\\n\\n', fontsize=20)\r\n",
    "\r\n",
    "# To avoid overlaps\r\n",
    "g.fig.tight_layout()\r\n",
    "plt.tight_layout()\r\n",
    "\r\n",
    "filename = os.path.join(outputs_folder, 'open_bugs_per_month_and_module')\r\n",
    "plt.savefig(filename + '.png', dpi=300)\r\n",
    "plt.savefig(filename + '.svg')\r\n",
    "\r\n",
    "plt.show()"
   ]
  },
  {
   "cell_type": "code",
   "execution_count": null,
   "metadata": {},
   "outputs": [],
   "source": [
    "# Evolution of the number of open bugs per module in the last 6 months\r\n",
    "\r\n",
    "for module, df_module in df_cummulative_bug_summary_per_month.groupby(['MODULE']):\r\n",
    "    display(Markdown(f'**{module}:**'))\r\n",
    "    display(df_module.tail())"
   ]
  },
  {
   "cell_type": "code",
   "execution_count": null,
   "metadata": {},
   "outputs": [],
   "source": []
  },
  {
   "cell_type": "markdown",
   "metadata": {},
   "source": [
    "## 5. Bugs per module worth a review"
   ]
  },
  {
   "cell_type": "markdown",
   "metadata": {},
   "source": [
    "### 5.1 Old bugs still open _(prior to Rel NINE cycle)_\n",
    "\n",
    "**PROPOSAL:** MDL to confirm if the bug can be safely closed or it is still relevant for any special reason (or if it should be re-created referring to newer releases)."
   ]
  },
  {
   "cell_type": "code",
   "execution_count": null,
   "metadata": {},
   "outputs": [],
   "source": [
    "df_bug_summary.head()"
   ]
  },
  {
   "cell_type": "code",
   "execution_count": null,
   "metadata": {},
   "outputs": [],
   "source": [
    "df_bug_summary.info()"
   ]
  },
  {
   "cell_type": "code",
   "execution_count": null,
   "metadata": {},
   "outputs": [],
   "source": [
    "df_old_still_open = df_bug_summary.loc[ (df_bug_summary.CREATION_AGE=='OLD') & (~df_bug_summary.STATE.isin(['RESOLVED', 'VERIFIED'])) ].reset_index().sort_values(by=['MODULE', 'BUG_ID'])"
   ]
  },
  {
   "cell_type": "code",
   "execution_count": null,
   "metadata": {},
   "outputs": [],
   "source": [
    "df_old_still_open.head()"
   ]
  },
  {
   "cell_type": "code",
   "execution_count": null,
   "metadata": {},
   "outputs": [],
   "source": [
    "df_old_still_open.MODULE.value_counts().sum()"
   ]
  },
  {
   "cell_type": "markdown",
   "metadata": {},
   "source": [
    "### 5.2 Bugs open for too much time _(only Rel NINE cycle or later)_\r\n",
    "\r\n",
    "Three types:\r\n",
    "\r\n",
    "1. Outliers: Beyond Q3+1.5IQR for the MDG.\r\n",
    "2. Beyond Q3\r\n",
    "3. Beyond 2 months\r\n",
    "\r\n",
    "![boxplot clarification](https://miro.medium.com/max/18000/1*2c21SkzJMf3frPXPAR_gZA.png)\r\n",
    "\r\n",
    "MDL to confirm their status and if:\r\n",
    "\r\n",
    "- The bug still exist (if not, should be closed).\r\n",
    "- In case the bugs is still valid, determine its severity and the complexity for addressing it."
   ]
  },
  {
   "cell_type": "code",
   "execution_count": null,
   "metadata": {},
   "outputs": [],
   "source": [
    "# # Function to remove categories not in use in a given column\r\n",
    "# def clean_categorical_columns(col):\r\n",
    "#     if str(col.dtype)=='category':  # Checks if the column of 'category' type\r\n",
    "#         return col.cat.remove_unused_categories()\r\n",
    "#     else:   # Otherwise, returns the series verbatim\r\n",
    "#         return col\r\n",
    "\r\n",
    "bug_open_times = (\r\n",
    "    df_bug_summary\r\n",
    "    .query('(~SOLVED) & (CREATION_AGE!=\"OLD\")')\r\n",
    "    .loc[:, [\"CREATION_AGE\", \"RELEASE\", \"MODULE\", \"LAST_EVENT_TIME\", \"TIME_SINCE_CREATION\"]]\r\n",
    "    .assign(CREATION_AGE = lambda x: clean_categorical_columns(x.CREATION_AGE))\r\n",
    "    .fillna({'MODULE': 'Unknown'})\r\n",
    "    .assign(RELEASE = lambda x: x.RELEASE.cat.add_categories('Unknown'))\r\n",
    "    .fillna({'RELEASE': 'Unknown'})\r\n",
    "    .rename(\r\n",
    "        columns={\r\n",
    "            'CREATION_AGE': 'Age',\r\n",
    "            'RELEASE': 'OSM Release',\r\n",
    "            'MODULE': 'Module',\r\n",
    "            'TIME_SINCE_CREATION': 'Time bug open (days)'\r\n",
    "        }\r\n",
    "    )\r\n",
    ")"
   ]
  },
  {
   "cell_type": "code",
   "execution_count": null,
   "metadata": {},
   "outputs": [],
   "source": [
    "bug_open_times.info()"
   ]
  },
  {
   "cell_type": "code",
   "execution_count": null,
   "metadata": {},
   "outputs": [],
   "source": [
    "# quantiles_bug_open_times = bug_open_times.groupby(['Module', 'OSM Release'])[['Time bug open (days)']].agg('describe').reset_index()\r\n",
    "# quantiles_bug_open_times.columns = [col[1] if col[1] else col[0] for col in quantiles_bug_open_times.columns]\r\n",
    "# quantiles_bug_open_times['IQR'] = quantiles_bug_open_times['75%'] - quantiles_bug_open_times['25%']\r\n",
    "# quantiles_bug_open_times['outliers_th'] = quantiles_bug_open_times['75%'] + 1.5*quantiles_bug_open_times['IQR']"
   ]
  },
  {
   "cell_type": "code",
   "execution_count": null,
   "metadata": {},
   "outputs": [],
   "source": [
    "def flatten_multilevel_columns(df):\r\n",
    "    df.columns = [col[1] if col[1] else col[0] for col in df.columns]\r\n",
    "    return df\r\n",
    "\r\n",
    "quantiles_bug_open_times = (\r\n",
    "    bug_open_times\r\n",
    "    .groupby(['Module', 'OSM Release'])[['Time bug open (days)']]\r\n",
    "    .agg('describe')\r\n",
    "    .reset_index()\r\n",
    "    .pipe(flatten_multilevel_columns)\r\n",
    "    .assign(IQR = lambda x: (x['75%'] - x['25%']))\r\n",
    "    .assign(outliers_th = lambda x: (x['75%'] + 1.5*x['IQR']))\r\n",
    ")"
   ]
  },
  {
   "cell_type": "code",
   "execution_count": null,
   "metadata": {},
   "outputs": [],
   "source": [
    "quantiles_bug_open_times.query(\"Module=='RO'\").tail()"
   ]
  },
  {
   "cell_type": "code",
   "execution_count": null,
   "metadata": {},
   "outputs": [],
   "source": [
    "# bug_open_times_with_thresholds = pd.merge(\r\n",
    "#     bug_open_times.reset_index(),\r\n",
    "#     quantiles_bug_open_times,\r\n",
    "#     how='left',\r\n",
    "#     left_on=['Module', 'OSM Release'],\r\n",
    "#     right_on=['Module', 'OSM Release']\r\n",
    "# )\r\n",
    "# bug_open_times_with_thresholds = pd.merge(\r\n",
    "#     bug_open_times_with_thresholds,\r\n",
    "#     df_bug_summary.reset_index(),\r\n",
    "#     how='left',\r\n",
    "#     left_on=['BUG_ID'],\r\n",
    "#     right_on=['BUG_ID']\r\n",
    "# )\r\n",
    "# bug_open_times_with_thresholds.rename(columns={'LAST_EVENT_TIME_x': 'LAST_EVENT_TIME'}, inplace=True)\r\n",
    "# bug_open_times_with_thresholds.drop(columns=['Age', 'OSM Release', 'Module', 'LAST_EVENT_TIME_y'], inplace=True)\r\n",
    "\r\n",
    "bug_open_times_with_thresholds = (\r\n",
    "    bug_open_times\r\n",
    "    .reset_index()\r\n",
    "    .merge(\r\n",
    "        quantiles_bug_open_times,\r\n",
    "        how='left',\r\n",
    "        left_on=['Module', 'OSM Release'],\r\n",
    "        right_on=['Module', 'OSM Release']\r\n",
    "    )\r\n",
    "    .merge(\r\n",
    "        df_bug_summary.reset_index(),\r\n",
    "        how='left',\r\n",
    "        left_on=['BUG_ID'],\r\n",
    "        right_on=['BUG_ID']\r\n",
    "    )\r\n",
    "    .rename(columns={'LAST_EVENT_TIME_x': 'LAST_EVENT_TIME'})\r\n",
    "    .drop(columns=['Age', 'OSM Release', 'Module', 'LAST_EVENT_TIME_y'])\r\n",
    ")"
   ]
  },
  {
   "cell_type": "code",
   "execution_count": null,
   "metadata": {},
   "outputs": [],
   "source": [
    "# bug_open_times_with_thresholds.sort_values(by=['MODULE', 'BUG_ID'])"
   ]
  },
  {
   "cell_type": "code",
   "execution_count": null,
   "metadata": {},
   "outputs": [],
   "source": [
    "#bug_open_times_with_thresholds.tail()"
   ]
  },
  {
   "cell_type": "code",
   "execution_count": null,
   "metadata": {},
   "outputs": [],
   "source": [
    "bug_open_times_with_thresholds.info()"
   ]
  },
  {
   "cell_type": "markdown",
   "metadata": {},
   "source": [
    "#### 5.2.1 Outliers"
   ]
  },
  {
   "cell_type": "code",
   "execution_count": null,
   "metadata": {},
   "outputs": [],
   "source": [
    "bug_open_outliers = (\r\n",
    "    bug_open_times_with_thresholds\r\n",
    "    .query('`Time bug open (days)` > outliers_th')\r\n",
    ")"
   ]
  },
  {
   "cell_type": "code",
   "execution_count": null,
   "metadata": {},
   "outputs": [],
   "source": [
    "bug_open_outliers"
   ]
  },
  {
   "cell_type": "markdown",
   "metadata": {},
   "source": [
    "#### 5.2.2 Beyond Q3"
   ]
  },
  {
   "cell_type": "code",
   "execution_count": null,
   "metadata": {},
   "outputs": [],
   "source": [
    "bug_open_q3 = (\r\n",
    "    bug_open_times_with_thresholds\r\n",
    "    .query(\"(`Time bug open (days)` > `75%`) & (`Time bug open (days)` <= outliers_th)\")\r\n",
    ")"
   ]
  },
  {
   "cell_type": "code",
   "execution_count": null,
   "metadata": {},
   "outputs": [],
   "source": [
    "bug_open_q3"
   ]
  },
  {
   "cell_type": "markdown",
   "metadata": {},
   "source": [
    "#### 5.2.3 Beyond 2 months"
   ]
  },
  {
   "cell_type": "code",
   "execution_count": null,
   "metadata": {},
   "outputs": [],
   "source": [
    "bug_open_2_months = (\r\n",
    "    bug_open_times_with_thresholds\r\n",
    "    .query(\"(`Time bug open (days)` > 60) & (`Time bug open (days)` <= `75%`)\")\r\n",
    ")"
   ]
  },
  {
   "cell_type": "code",
   "execution_count": null,
   "metadata": {},
   "outputs": [],
   "source": [
    "bug_open_2_months"
   ]
  },
  {
   "cell_type": "markdown",
   "metadata": {},
   "source": [
    "### 5.3 Saves bug lists in spreadsheet"
   ]
  },
  {
   "cell_type": "code",
   "execution_count": null,
   "metadata": {},
   "outputs": [],
   "source": [
    "bugs_sheet_names = ['0. Too old bugs still open',\r\n",
    "                    '1. Open outliers',\r\n",
    "                    '2. Open beyond q3',\r\n",
    "                    '3. Open beyond 2 months']"
   ]
  },
  {
   "cell_type": "markdown",
   "metadata": {},
   "source": [
    "Imports latest MDLs recommentations, if they exist:"
   ]
  },
  {
   "cell_type": "code",
   "execution_count": null,
   "metadata": {},
   "outputs": [],
   "source": [
    "former_mdl_assessments_cols = ['RECOMMENDATION', 'BUG_ID']\r\n",
    "f_assess = os.path.join(inputs_folder, former_mdl_assessments_file)\r\n",
    "\r\n",
    "df_list = []\r\n",
    "\r\n",
    "try:\r\n",
    "    for sheet in bugs_sheet_names:\r\n",
    "        df = pd.read_excel(f_assess, sheet_name=sheet, usecols=former_mdl_assessments_cols)\r\n",
    "        df_list.append(df)\r\n",
    "    df_recommendations = pd.concat(df_list, ignore_index=True)\r\n",
    "except FileNotFoundError:\r\n",
    "    print('Recommendations file does not exist.')\r\n",
    "    df_recommendations = pd.DataFrame(columns=former_mdl_assessments_cols)"
   ]
  },
  {
   "cell_type": "code",
   "execution_count": null,
   "metadata": {},
   "outputs": [],
   "source": [
    "df_recommendations.info()"
   ]
  },
  {
   "cell_type": "markdown",
   "metadata": {},
   "source": [
    "Adds the recommendation to existing tables:"
   ]
  },
  {
   "cell_type": "code",
   "execution_count": null,
   "metadata": {},
   "outputs": [],
   "source": [
    "df_old_still_open = pd.merge(df_recommendations, df_old_still_open, on='BUG_ID', how='right')\r\n",
    "bug_open_outliers = pd.merge(df_recommendations, bug_open_outliers, on='BUG_ID', how='right')\r\n",
    "bug_open_q3 = pd.merge(df_recommendations, bug_open_q3, on='BUG_ID', how='right')\r\n",
    "bug_open_2_months = pd.merge(df_recommendations, bug_open_2_months, on='BUG_ID', how='right')"
   ]
  },
  {
   "cell_type": "markdown",
   "metadata": {},
   "source": [
    "Exports to spreadsheet:"
   ]
  },
  {
   "cell_type": "code",
   "execution_count": null,
   "metadata": {},
   "outputs": [],
   "source": [
    "# df_old_still_open.info()"
   ]
  },
  {
   "cell_type": "code",
   "execution_count": null,
   "metadata": {},
   "outputs": [],
   "source": [
    "# [c for c in columns if c not in df_old_still_open.columns.to_list()]"
   ]
  },
  {
   "cell_type": "code",
   "execution_count": null,
   "metadata": {},
   "outputs": [],
   "source": [
    "columns = ['RECOMMENDATION', 'MODULE', 'BUG_ID', 'BUG_DESCRIPTION', 'RELEASE', 'STATE', 'ISSUER', 'OWNER', 'CREATION_TIME', 'CREATION_AGE',\r\n",
    "           'STATE_UPDATE_TIME', 'STATE_UPDATE_AGE', 'LAST_ASSIGNMENT_TIME', 'LAST_EVENT', 'LAST_EVENT_TIME', 'LAST_EVENT_AGE',\r\n",
    "           'STATE_CHANGES', 'CHANGES_TO_RESOLVED', 'RELEASE_CHANGES', 'MODULE_CHANGES', 'OWNER_CHANGES']\r\n",
    "\r\n",
    "timestamp = today_as_datetime.strftime('%Y%m%d')\r\n",
    "\r\n",
    "filename = os.path.join(outputs_folder, timestamp + '_bugs_for_mdl_review.xlsx')\r\n",
    "with pd.ExcelWriter(filename, engine='xlsxwriter') as writer:\r\n",
    "    df_old_still_open.to_excel(writer, columns=columns, index=False, sheet_name='0. Too old bugs still open')\r\n",
    "    bug_open_outliers[columns].to_excel(writer, index=False, sheet_name='1. Open outliers')\r\n",
    "    bug_open_q3[columns].to_excel(writer, index=False, sheet_name='2. Open beyond q3')\r\n",
    "    bug_open_2_months[columns].to_excel(writer, index=False, sheet_name='3. Open beyond 2 months')"
   ]
  },
  {
   "cell_type": "code",
   "execution_count": null,
   "metadata": {},
   "outputs": [],
   "source": [
    "bug_open_outliers[columns]"
   ]
  },
  {
   "cell_type": "markdown",
   "metadata": {},
   "source": [
    "Summary table of bug status:"
   ]
  },
  {
   "cell_type": "code",
   "execution_count": null,
   "metadata": {},
   "outputs": [],
   "source": [
    "keys = ['0. Too old bugs still open', '1. Open outliers', '2. Open beyond q3', '3. Open beyond 2 months']\r\n",
    "tables = [df_old_still_open, bug_open_outliers, bug_open_q3, bug_open_2_months]\r\n",
    "summary_table_outliers = ( pd.concat(tables, keys=keys)\r\n",
    "                           .reset_index()\r\n",
    "                           .rename(columns={'level_0': 'AGE'})\r\n",
    "                           .pivot_table(index='MODULE', columns='AGE', values='BUG_ID', aggfunc='count', margins=True)\r\n",
    "                           .fillna(0)\r\n",
    "                           .query('All>0')\r\n",
    "                         )\r\n",
    "\r\n",
    "filename = os.path.join(outputs_folder, timestamp + '_SUMMARY_bug_outliers.xlsx')\r\n",
    "summary_table_outliers.to_excel(filename)\r\n",
    "summary_table_outliers"
   ]
  },
  {
   "cell_type": "markdown",
   "metadata": {},
   "source": [
    "## 5. Reports and graphical representations"
   ]
  },
  {
   "cell_type": "code",
   "execution_count": null,
   "metadata": {},
   "outputs": [],
   "source": [
    "\r\n"
   ]
  },
  {
   "cell_type": "code",
   "execution_count": null,
   "metadata": {},
   "outputs": [],
   "source": [
    "!jupyter nbconvert --to html --output outputs/bugzilla_analysis.html --TemplateExporter.exclude_input=True bugzilla_analysis.ipynb"
   ]
  },
  {
   "cell_type": "markdown",
   "metadata": {},
   "source": [
    "---\r\n",
    "\r\n",
    "---\r\n"
   ]
  },
  {
   "cell_type": "markdown",
   "metadata": {},
   "source": [
    "### 4.1 Analysis of state of bugs, per module"
   ]
  },
  {
   "cell_type": "markdown",
   "metadata": {},
   "source": [
    "Prepares a dataframe slice, better suited for representation:"
   ]
  },
  {
   "cell_type": "code",
   "execution_count": null,
   "metadata": {},
   "outputs": [],
   "source": [
    "bug_solved_or_open = df_bug_summary.loc[df_bug_summary.CREATION_AGE!=\"OLD\", [\"SOLVED\", \"CREATION_AGE\", \"RELEASE\", \"MODULE\"]]\r\n",
    "\r\n",
    "# Replaces N/A by \"Unknown\" in \"Module\" column\r\n",
    "bug_solved_or_open.loc[:, 'MODULE'] = bug_solved_or_open.MODULE.fillna(\"Unknown\")\r\n",
    "\r\n",
    "#bug_solved_or_open['MODULE'] = bug_solved_or_open.MODULE.astype('str')\r\n",
    "#bug_solved_or_open['MODULE'] = bug_solved_or_open.MODULE.astype('category')\r\n",
    "\r\n",
    "# Replaces N/A by \"Unknown\" in \"RELEASE\" column\r\n",
    "bug_solved_or_open['RELEASE'] = bug_solved_or_open.RELEASE.astype('str')\r\n",
    "bug_solved_or_open.loc[:, 'RELEASE'] = bug_solved_or_open.RELEASE.fillna(\"Unknown\")\r\n",
    "bug_solved_or_open['RELEASE'] = bug_solved_or_open.RELEASE.astype('category')\r\n",
    "\r\n",
    "# Renames the names of the columns\r\n",
    "bug_solved_or_open.rename(columns={'CREATION_AGE': 'Age', 'RELEASE': 'OSM Release', 'MODULE': 'Module', 'SOLVED': 'Solved'}, inplace=True)"
   ]
  },
  {
   "cell_type": "code",
   "execution_count": null,
   "metadata": {},
   "outputs": [],
   "source": [
    "bug_solved_or_open.info()"
   ]
  },
  {
   "cell_type": "code",
   "execution_count": null,
   "metadata": {},
   "outputs": [],
   "source": [
    "# Statistics open by age\r\n",
    "bugs_per_module = pd.crosstab(bug_solved_or_open.Module, bug_solved_or_open.Solved)\r\n",
    "bugs_per_module.columns.name = None\r\n",
    "bugs_per_module.rename(columns={True: 'Solved', False: 'Open'}, inplace=True)\r\n",
    "bugs_per_module"
   ]
  },
  {
   "cell_type": "code",
   "execution_count": null,
   "metadata": {},
   "outputs": [],
   "source": [
    "# Statistics open by age\r\n",
    "bugs_per_module_detailed = pd.crosstab(bug_solved_or_open.Module, [bug_solved_or_open.Solved, bug_solved_or_open.Age])\r\n",
    "bugs_per_module_detailed.columns = [str(col[0]) + '_' + col[1] for col in bugs_per_module_detailed.columns]\r\n",
    "bugs_per_module_detailed.rename(columns={'False_CURRENT': 'Open', 'False_RECENT': 'Open last cycle', 'True_CURRENT': 'Solved', 'True_RECENT': 'Solved last cycle'}, inplace=True)\r\n",
    "bugs_per_module_detailed"
   ]
  },
  {
   "cell_type": "code",
   "execution_count": null,
   "metadata": {},
   "outputs": [],
   "source": [
    "cat_order = bug_solved_or_open.Module.unique()\r\n",
    "cat_order = np.delete(cat_order, np.where(cat_order=='Unknown'))\r\n",
    "cat_order = np.append(cat_order, 'Unknown')\r\n",
    "\r\n",
    "ax = sns.countplot(data=bug_solved_or_open,\r\n",
    "                   y=\"Module\",\r\n",
    "                   hue=\"Solved\",\r\n",
    "                   order=cat_order)\r\n",
    "#plt.xticks(rotation=45)\r\n",
    "plt.show()"
   ]
  },
  {
   "cell_type": "code",
   "execution_count": null,
   "metadata": {},
   "outputs": [],
   "source": [
    "labels = bugs_per_module.reset_index().Module\r\n",
    "\r\n",
    "solved_bugs = bugs_per_module.Solved\r\n",
    "open_bugs = bugs_per_module.Open\r\n",
    "width = 0.35       # the width of the bars: can also be len(x) sequence\r\n",
    "\r\n",
    "fig, ax = plt.subplots()\r\n",
    "\r\n",
    "ax.barh(labels, solved_bugs, width, label='Solved')\r\n",
    "ax.barh(labels, open_bugs, width, left=solved_bugs, label='Open')\r\n",
    "\r\n",
    "ax.set_ylabel('Number of bugs')\r\n",
    "ax.set_title('Status of non-deprecated bugs per module')\r\n",
    "ax.legend()\r\n",
    "\r\n",
    "filename = os.path.join(outputs_folder, 'OLD_open_bugs_per_module')\r\n",
    "fig.savefig(filename + '.png', dpi=300)\r\n",
    "fig.savefig(filename + '.svg')\r\n",
    "\r\n",
    "plt.show()"
   ]
  },
  {
   "cell_type": "code",
   "execution_count": null,
   "metadata": {},
   "outputs": [],
   "source": [
    "# 'Open', 'Open last cycle', 'Solved', 'Solved last cycle'}\r\n",
    "#bugs_per_module_detailed"
   ]
  },
  {
   "cell_type": "code",
   "execution_count": null,
   "metadata": {},
   "outputs": [],
   "source": [
    "# labels = bugs_per_module_detailed.reset_index().Module\r\n",
    "\r\n",
    "# solved_bugs = bugs_per_module_detailed.Solved\r\n",
    "# solved_bugs_cycle = bugs_per_module_detailed['Solved last cycle']\r\n",
    "# open_bugs = bugs_per_module_detailed.Open\r\n",
    "# open_bugs_cycle = bugs_per_module_detailed['Open last cycle']\r\n",
    "# #width = 0.35       # the width of the bars: can also be len(x) sequence\r\n",
    "\r\n",
    "# fig, ax = plt.subplots()\r\n",
    "\r\n",
    "# ax.barh(labels, solved_bugs, width, label='Solved', color='royalblue')\r\n",
    "# ax.barh(labels, solved_bugs_cycle, width, left=solved_bugs, label='Solved last cycle', color='cornflowerblue')\r\n",
    "# ax.barh(labels, open_bugs, width, left=solved_bugs+solved_bugs_cycle, label='Open', color='firebrick')\r\n",
    "# ax.barh(labels, open_bugs_cycle, width, left=solved_bugs+solved_bugs_cycle+open_bugs, label='Open last cycle', color='lightcoral')\r\n",
    "\r\n",
    "# ax.set_ylabel('Number of bugs')\r\n",
    "# ax.set_title('Status of non-deprecated bugs per module')\r\n",
    "# ax.legend()\r\n",
    "\r\n",
    "# filename = os.path.join(outputs_folder, 'open_bugs_per_module_detailed')\r\n",
    "# fig.savefig(filename + '.png', dpi=300)\r\n",
    "# fig.savefig(filename + '.svg')\r\n",
    "\r\n",
    "# plt.show()"
   ]
  },
  {
   "cell_type": "code",
   "execution_count": null,
   "metadata": {},
   "outputs": [],
   "source": [
    "bugs_per_module_detailed['total_open'] = bugs_per_module_detailed.Open + bugs_per_module_detailed['Open last cycle']\r\n",
    "bugs_per_module_detailed.sort_values(by='total_open', inplace=True)\r\n",
    "\r\n",
    "labels = bugs_per_module_detailed.reset_index().Module\r\n",
    "\r\n",
    "solved_bugs = bugs_per_module_detailed.Solved\r\n",
    "solved_bugs_cycle = bugs_per_module_detailed['Solved last cycle']\r\n",
    "open_bugs = bugs_per_module_detailed.Open\r\n",
    "open_bugs_cycle = bugs_per_module_detailed['Open last cycle']\r\n",
    "#width = 0.35       # the width of the bars: can also be len(x) sequence\r\n",
    "\r\n",
    "fig, ax = plt.subplots(figsize = (12,16))\r\n",
    "\r\n",
    "ax.barh(labels, solved_bugs, width, label='Solved', color='royalblue')\r\n",
    "ax.barh(labels, solved_bugs_cycle, width, left=solved_bugs, label='Solved last cycle', color='cornflowerblue')\r\n",
    "ax.barh(labels, open_bugs, width, left=solved_bugs+solved_bugs_cycle, label='Open', color='firebrick')\r\n",
    "ax.barh(labels, open_bugs_cycle, width, left=solved_bugs+solved_bugs_cycle+open_bugs, label='Open last cycle', color='lightcoral')\r\n",
    "\r\n",
    "ax.set_ylabel('Number of bugs')\r\n",
    "ax.set_title('Status of non-deprecated bugs per module', fontsize=20)\r\n",
    "ax.legend()\r\n",
    "\r\n",
    "filename = os.path.join(outputs_folder, 'OLD_open_bugs_per_module_detailed')\r\n",
    "fig.savefig(filename + '.png', dpi=300)\r\n",
    "fig.savefig(filename + '.svg')\r\n",
    "\r\n",
    "plt.show()"
   ]
  },
  {
   "cell_type": "markdown",
   "metadata": {},
   "source": [
    "### 4.2 Analysis of bug resolution times"
   ]
  },
  {
   "cell_type": "markdown",
   "metadata": {},
   "source": [
    "Prepares a dataframe slice, better suited for representation:"
   ]
  },
  {
   "cell_type": "code",
   "execution_count": null,
   "metadata": {},
   "outputs": [],
   "source": [
    "bug_resolution_times = df_bug_summary.loc[df_bug_summary.SOLVED, [\"CREATION_AGE\", \"RELEASE\", \"MODULE\"]]\r\n",
    "\r\n",
    "# Converts the timediff to days\r\n",
    "#bug_resolution_times[\"Bug resolution time (days)\"] = df_bug_summary.loc[df_bug_summary.SOLVED, \"BUG_RESOLUTION_TIME\"].dt.days\r\n",
    "bug_resolution_times[\"Bug resolution time (days)\"] = df_bug_summary.loc[df_bug_summary.SOLVED, \"BUG_RESOLUTION_TIME\"]\r\n",
    "\r\n",
    "# Replaces N/A by \"Unknown\" in \"Module\" column\r\n",
    "bug_resolution_times.loc[:, 'MODULE'] = bug_resolution_times.MODULE.fillna(\"Unknown\")\r\n",
    "\r\n",
    "# Replaces N/A by \"Unknown\" in \"RELEASE\" column\r\n",
    "bug_resolution_times['RELEASE'] = bug_resolution_times.RELEASE.astype('str')\r\n",
    "bug_resolution_times.loc[:, 'RELEASE'] = bug_resolution_times.RELEASE.fillna(\"Unknown\")\r\n",
    "bug_resolution_times['RELEASE'] = bug_resolution_times.RELEASE.astype('category')\r\n",
    "\r\n",
    "# Renames the names of the columns\r\n",
    "bug_resolution_times.rename(columns={'CREATION_AGE': 'Age', 'RELEASE': 'OSM Release', 'MODULE': 'Module'}, inplace=True)"
   ]
  },
  {
   "cell_type": "code",
   "execution_count": null,
   "metadata": {},
   "outputs": [],
   "source": [
    "#bug_resolution_times"
   ]
  },
  {
   "cell_type": "code",
   "execution_count": null,
   "metadata": {},
   "outputs": [],
   "source": [
    "bug_resolution_times.describe()"
   ]
  },
  {
   "cell_type": "code",
   "execution_count": null,
   "metadata": {},
   "outputs": [],
   "source": [
    "# Histogram (all)\r\n",
    "g = sns.displot(data=bug_resolution_times, x=\"Bug resolution time (days)\")\r\n",
    "g.ax.set_title(\"Distribution of time to solve a bug\")\r\n",
    "g.ax.set_ylabel('No. resolved bugs')\r\n",
    "plt.show()"
   ]
  },
  {
   "cell_type": "markdown",
   "metadata": {},
   "source": [
    "#### 4.2.1 Time to resolve a bug, by age"
   ]
  },
  {
   "cell_type": "code",
   "execution_count": null,
   "metadata": {},
   "outputs": [],
   "source": [
    "# Statistics open by age\r\n",
    "group = bug_resolution_times.groupby('Age')\r\n",
    "group.agg('describe')"
   ]
  },
  {
   "cell_type": "code",
   "execution_count": null,
   "metadata": {},
   "outputs": [],
   "source": [
    "# Violin plot (per age)\r\n",
    "ax = sns.violinplot(data=bug_resolution_times,\r\n",
    "                   x=\"Age\",\r\n",
    "                   y=\"Bug resolution time (days)\",\r\n",
    "                   cut=0,\r\n",
    "                   order=['OLD', 'CURRENT', 'RECENT'])\r\n",
    "ax.set_title(\"Time for bug resolution, per age\")\r\n",
    "#ax.set_ylabel('No. resolved bugs')\r\n",
    "plt.show()"
   ]
  },
  {
   "cell_type": "code",
   "execution_count": null,
   "metadata": {},
   "outputs": [],
   "source": [
    "# Boxplot (per age)\r\n",
    "ax = sns.boxplot(data=bug_resolution_times,\r\n",
    "                 x=\"Age\",\r\n",
    "                 y=\"Bug resolution time (days)\",\r\n",
    "                 order=['OLD', 'CURRENT', 'RECENT'])\r\n",
    "ax.set_title(\"Time for bug resolution, per age\")\r\n",
    "plt.show()"
   ]
  },
  {
   "cell_type": "markdown",
   "metadata": {},
   "source": [
    "---\r\n",
    "\r\n",
    "**IMPORTANT:** From here, we will **remove the OLD samples**, since they have numerous and huge outliers which skew the analysis."
   ]
  },
  {
   "cell_type": "code",
   "execution_count": null,
   "metadata": {},
   "outputs": [],
   "source": [
    "# Removes old samples\r\n",
    "bug_resolution_times = bug_resolution_times.loc[ bug_resolution_times['Age']!='OLD' ]\r\n",
    "bug_resolution_times.loc[:, 'Age'] = bug_resolution_times.Age.astype('string').astype('category')\r\n",
    "bug_resolution_times.head()"
   ]
  },
  {
   "cell_type": "code",
   "execution_count": null,
   "metadata": {},
   "outputs": [],
   "source": [
    "bug_resolution_times.describe()"
   ]
  },
  {
   "cell_type": "code",
   "execution_count": null,
   "metadata": {},
   "outputs": [],
   "source": [
    "# Histogram (aggregated, excluding OLD)\r\n",
    "g = sns.displot(data=bug_resolution_times, x=\"Bug resolution time (days)\", stat='density', common_norm=False, kde=True)\r\n",
    "g.ax.set_title(\"Distribution of time to solve a bug (excluding OLD)\")\r\n",
    "plt.show()"
   ]
  },
  {
   "cell_type": "code",
   "execution_count": null,
   "metadata": {},
   "outputs": [],
   "source": [
    "# Histogram (per age)\r\n",
    "g = sns.displot(data=bug_resolution_times, x=\"Bug resolution time (days)\", hue='Age', stat='density', common_norm=False, kde=True)\r\n",
    "g.ax.set_title(\"Distribution of time to solve a bug\")\r\n",
    "plt.show()"
   ]
  },
  {
   "cell_type": "code",
   "execution_count": null,
   "metadata": {},
   "outputs": [],
   "source": [
    "# Violin plot (per age, excluding OLD)\r\n",
    "ax = sns.violinplot(data=bug_resolution_times,\r\n",
    "                   x=\"Age\",\r\n",
    "                   y=\"Bug resolution time (days)\",\r\n",
    "                   cut=0,\r\n",
    "                   order=['CURRENT', 'RECENT'])\r\n",
    "ax.set_title(\"Time for bug resolution, per age\")\r\n",
    "plt.show()"
   ]
  },
  {
   "cell_type": "code",
   "execution_count": null,
   "metadata": {},
   "outputs": [],
   "source": [
    "# Boxplot (per age, excluding OLD)\r\n",
    "ax = sns.boxplot(data=bug_resolution_times,\r\n",
    "                 x=\"Age\",\r\n",
    "                 y=\"Bug resolution time (days)\",\r\n",
    "                 order=['CURRENT', 'RECENT'])\r\n",
    "ax.set_title(\"Time for bug resolution, per age\")\r\n",
    "plt.show()"
   ]
  },
  {
   "cell_type": "markdown",
   "metadata": {},
   "source": [
    "Here we find the outliers in the bugs of \"Current\" age to try to resolve them as soon as possible:"
   ]
  },
  {
   "cell_type": "code",
   "execution_count": null,
   "metadata": {},
   "outputs": [],
   "source": [
    "# Shortcut for the series of the bug resolution times that are candidates for deprecation (i.e. 'OLD' age)\r\n",
    "times = bug_resolution_times.loc[bug_resolution_times.Age=='CURRENT', \"Bug resolution time (days)\"]\r\n",
    "\r\n",
    "# Stats, including main quantiles\r\n",
    "times.describe()"
   ]
  },
  {
   "cell_type": "code",
   "execution_count": null,
   "metadata": {},
   "outputs": [],
   "source": [
    "q025 = times.quantile(0.25)\r\n",
    "q075 = times.quantile(0.75)\r\n",
    "threshold_outliers = q075 + 1.5*(q075-q025)\r\n",
    "threshold_outliers"
   ]
  },
  {
   "cell_type": "code",
   "execution_count": null,
   "metadata": {},
   "outputs": [],
   "source": [
    "# Outliers\r\n",
    "bug_resolution_outliers = bug_resolution_times.loc[(bug_resolution_times.Age=='CURRENT') & (bug_resolution_times[\"Bug resolution time (days)\"]>threshold_outliers)]"
   ]
  },
  {
   "cell_type": "code",
   "execution_count": null,
   "metadata": {},
   "outputs": [],
   "source": [
    "# bug_resolution_outliers"
   ]
  },
  {
   "cell_type": "code",
   "execution_count": null,
   "metadata": {},
   "outputs": [],
   "source": [
    "# Histogram (current but not recent)\r\n",
    "g = sns.displot(data=bug_resolution_times[ bug_resolution_times.Age=='CURRENT' ], x=\"Bug resolution time (days)\", stat='density', common_norm=False, kde=True)\r\n",
    "g.ax.set_title(\"Distribution of time to solve a bug (Age=CURRENT)\")\r\n",
    "plt.show()"
   ]
  },
  {
   "cell_type": "code",
   "execution_count": null,
   "metadata": {},
   "outputs": [],
   "source": [
    "# Histogram (recent)\r\n",
    "g = sns.displot(data=bug_resolution_times[ bug_resolution_times.Age=='RECENT' ], x=\"Bug resolution time (days)\", stat='density', common_norm=False, kde=True)\r\n",
    "g.ax.set_title(\"Distribution of time to solve a bug (Age=RECENT)\")\r\n",
    "plt.show()"
   ]
  },
  {
   "cell_type": "markdown",
   "metadata": {},
   "source": [
    "#### 4.2.2 Time to resolve a bug, by module"
   ]
  },
  {
   "cell_type": "code",
   "execution_count": null,
   "metadata": {},
   "outputs": [],
   "source": [
    "# Statistics open by module\r\n",
    "group = bug_resolution_times.groupby('Module')\r\n",
    "group.agg('describe')"
   ]
  },
  {
   "cell_type": "code",
   "execution_count": null,
   "metadata": {},
   "outputs": [],
   "source": [
    "# Violin plot of times to resolve a bug (per module)\r\n",
    "\r\n",
    "# Fixes the order of the categories to put 'Unknown' at the end\r\n",
    "cat_order = bug_resolution_times.Module.unique()\r\n",
    "cat_order = np.delete(cat_order, np.where(cat_order=='Unknown'))\r\n",
    "cat_order = np.append(cat_order, 'Unknown')\r\n",
    "\r\n",
    "# ax = sns.violinplot(data=bug_resolution_times,\r\n",
    "#                    x=\"Module\",\r\n",
    "#                    y=\"Bug resolution time (days)\",\r\n",
    "#                    cut=0,\r\n",
    "#                    order=cat_order)\r\n",
    "ax = sns.violinplot(data=bug_resolution_times,\r\n",
    "                   y=\"Module\",\r\n",
    "                   x=\"Bug resolution time (days)\",\r\n",
    "                   cut=0,\r\n",
    "                   order=cat_order)\r\n",
    "ax.set_title(\"Time for bug resolution, per module\")\r\n",
    "\r\n",
    "plt.show()"
   ]
  },
  {
   "cell_type": "code",
   "execution_count": null,
   "metadata": {},
   "outputs": [],
   "source": [
    "# FIXME: Comprobar si aporta información\r\n",
    "\r\n",
    "# # Boxplot of times to resolve a bug (per module, excluding OLD)\r\n",
    "\r\n",
    "# # Fixes the order of the categories to put 'Unknown' at the end\r\n",
    "# cat_order = bug_resolution_times.Module.unique()\r\n",
    "# cat_order = np.delete(cat_order, np.where(cat_order=='Unknown'))\r\n",
    "# cat_order = np.append(cat_order, 'Unknown')\r\n",
    "\r\n",
    "# ax = sns.boxplot(data=bug_resolution_times,\r\n",
    "#                  y=\"Module\",\r\n",
    "#                  x=\"Bug resolution time (days)\",\r\n",
    "#                  order=cat_order)\r\n",
    "# ax.set_title(\"Time for bug resolution, per module\")\r\n",
    "\r\n",
    "# filename = os.path.join(outputs_folder, 'time_bug_resolution_per_module')\r\n",
    "# fig.savefig(filename + '.png', dpi=300)\r\n",
    "# fig.savefig(filename + '.svg')\r\n",
    "\r\n",
    "# plt.show()"
   ]
  },
  {
   "cell_type": "code",
   "execution_count": null,
   "metadata": {},
   "outputs": [],
   "source": [
    "# Boxplot of times to resolve a bug (per module, excluding OLD)\r\n",
    "\r\n",
    "# Fixes the order of the categories to put 'Unknown' at the end\r\n",
    "cat_order = bug_resolution_times.groupby('Module').median().dropna().sort_values('Bug resolution time (days)', ascending=False).reset_index().Module.unique()\r\n",
    "#cat_order = np.delete(cat_order, np.where(cat_order=='Unknown'))\r\n",
    "#cat_order = np.append(cat_order, 'Unknown')\r\n",
    "\r\n",
    "fig, ax = plt.subplots(figsize = (12,16))\r\n",
    "\r\n",
    "# ax = sns.boxplot(data=bug_resolution_times,\r\n",
    "#                  y=\"Module\",\r\n",
    "#                  x=\"Bug resolution time (days)\",\r\n",
    "#                  order=cat_order)\r\n",
    "sns.boxenplot(data=bug_resolution_times,\r\n",
    "            y=\"Module\",\r\n",
    "            x=\"Bug resolution time (days)\",\r\n",
    "            order=cat_order,\r\n",
    "            ax=ax)\r\n",
    "ax.set_title(\"Time for bug resolution, per module\", fontsize=20)\r\n",
    "\r\n",
    "filename = os.path.join(outputs_folder, 'OLD_time_bug_resolution_per_module')\r\n",
    "fig.savefig(filename + '.png', dpi=300)\r\n",
    "fig.savefig(filename + '.svg')\r\n",
    "\r\n",
    "plt.show()"
   ]
  },
  {
   "cell_type": "markdown",
   "metadata": {},
   "source": [
    "#### 4.2.3 Time of open bugs, by age"
   ]
  },
  {
   "cell_type": "markdown",
   "metadata": {},
   "source": [
    "First, creates a new dataframe more suitable for this analysis and its visualisation:"
   ]
  },
  {
   "cell_type": "code",
   "execution_count": null,
   "metadata": {},
   "outputs": [],
   "source": [
    "# Selects the right data: unresolved bugs and not too old\r\n",
    "#bug_open_times = df_bug_summary.loc[(~df_bug_summary.STATE.isin([\"RESOLVED\", \"VERIFIED\"])) & (df_bug_summary.CREATION_AGE!=\"OLD\"), [\"CREATION_AGE\", \"RELEASE\", \"MODULE\", \"LAST_EVENT_TIME\"]]\r\n",
    "bug_open_times = df_bug_summary.loc[(~df_bug_summary.SOLVED) & (df_bug_summary.CREATION_AGE!=\"OLD\"), [\"CREATION_AGE\", \"RELEASE\", \"MODULE\", \"LAST_EVENT_TIME\"]]\r\n",
    "\r\n",
    "# Removes \"OLD\" from the \"CREATION_AGE\" category\r\n",
    "bug_open_times['CREATION_AGE'] = bug_open_times.CREATION_AGE.astype('string').astype('category')\r\n",
    "\r\n",
    "# Calculates timediff between creation time and today, in days (for Seaborn to work smoothly)\r\n",
    "#time_open = np.datetime64('now') - df_bug_summary.loc[~df_bug_summary.STATE.isin([\"RESOLVED\", \"VERIFIED\"]), \"CREATION_TIME\"]\r\n",
    "time_open = np.datetime64('now') - df_bug_summary.loc[~df_bug_summary.SOLVED, \"CREATION_TIME\"]\r\n",
    "bug_open_times[\"Time bug open (days)\"] = time_open.dt.days\r\n",
    "\r\n",
    "# Replaces N/A by \"Unknown\" in \"Module\" column\r\n",
    "bug_open_times.loc[:, 'MODULE'] = bug_open_times.MODULE.fillna(\"Unknown\")\r\n",
    "\r\n",
    "# Replaces N/A by \"Unknown\" in \"RELEASE\" column\r\n",
    "bug_open_times['RELEASE'] = bug_open_times.RELEASE.astype('str')\r\n",
    "bug_open_times.loc[:, 'RELEASE'] = bug_open_times.RELEASE.fillna(\"Unknown\")\r\n",
    "bug_open_times['RELEASE'] = bug_open_times.RELEASE.astype('category')\r\n",
    "\r\n",
    "# Renames the names of the columns\r\n",
    "bug_open_times.rename(columns={'CREATION_AGE': 'Age', 'RELEASE': 'OSM Release', 'MODULE': 'Module'}, inplace=True)"
   ]
  },
  {
   "cell_type": "code",
   "execution_count": null,
   "metadata": {},
   "outputs": [],
   "source": [
    "#bug_open_times"
   ]
  },
  {
   "cell_type": "code",
   "execution_count": null,
   "metadata": {},
   "outputs": [],
   "source": [
    "# Aggregated statistics\r\n",
    "bug_open_times.describe()"
   ]
  },
  {
   "cell_type": "code",
   "execution_count": null,
   "metadata": {},
   "outputs": [],
   "source": [
    "# Statistics open by age\r\n",
    "group = bug_open_times.groupby('Age')\r\n",
    "group.agg('describe')"
   ]
  },
  {
   "cell_type": "markdown",
   "metadata": {},
   "source": [
    "4.2.4 Time of open bugs, by module"
   ]
  },
  {
   "cell_type": "code",
   "execution_count": null,
   "metadata": {},
   "outputs": [],
   "source": [
    "# Violin plot of times of bugs still open (per module)\r\n",
    "\r\n",
    "# Fixes the order of the categories to put 'Unknown' at the end\r\n",
    "cat_order = bug_open_times.Module.unique()\r\n",
    "cat_order = np.delete(cat_order, np.where(cat_order=='Unknown'))\r\n",
    "cat_order = np.append(cat_order, 'Unknown')\r\n",
    "\r\n",
    "# ax = sns.violinplot(data=bug_open_times,\r\n",
    "#                    x=\"Module\",\r\n",
    "#                    y=\"Time bug open (days)\",\r\n",
    "#                    cut=0,\r\n",
    "#                    order=cat_order)\r\n",
    "ax = sns.violinplot(data=bug_open_times,\r\n",
    "                   y=\"Module\",\r\n",
    "                   x=\"Time bug open (days)\",\r\n",
    "                   cut=0,\r\n",
    "                   order=cat_order)\r\n",
    "ax.set_title(\"Duration of bugs still open, per module\")\r\n",
    "plt.show()"
   ]
  },
  {
   "cell_type": "code",
   "execution_count": null,
   "metadata": {},
   "outputs": [],
   "source": [
    "# FIXME: Determinar si sigue siendo válido o puede borrarse\r\n",
    "\r\n",
    "# # Box plot of times of bugs still open (per module)\r\n",
    "\r\n",
    "# # Fixes the order of the categories to put 'Unknown' at the end\r\n",
    "# cat_order = bug_open_times.Module.unique()\r\n",
    "# cat_order = np.delete(cat_order, np.where(cat_order=='Unknown'))\r\n",
    "# cat_order = np.append(cat_order, 'Unknown')\r\n",
    "\r\n",
    "# # ax = sns.boxplot(data=bug_open_times,\r\n",
    "# #                  x=\"Module\",\r\n",
    "# #                  y=\"Time bug open (days)\",\r\n",
    "# #                  order=cat_order)\r\n",
    "# ax = sns.boxplot(data=bug_open_times,\r\n",
    "#                  y=\"Module\",\r\n",
    "#                  x=\"Time bug open (days)\",\r\n",
    "#                  order=cat_order)\r\n",
    "# ax.set_title(\"Duration of bugs still open, per module\")\r\n",
    "\r\n",
    "# filename = os.path.join(outputs_folder, 'time_bugs_open_per_module')\r\n",
    "# fig.savefig(filename + '.png', dpi=300)\r\n",
    "# fig.savefig(filename + '.svg')\r\n",
    "\r\n",
    "# plt.show()"
   ]
  },
  {
   "cell_type": "code",
   "execution_count": null,
   "metadata": {},
   "outputs": [],
   "source": [
    "# Box plot of times of bugs still open (per module)\r\n",
    "\r\n",
    "# Fixes the order of the categories to put 'Unknown' at the end\r\n",
    "cat_order = bug_open_times.groupby('Module').median().dropna().sort_values('Time bug open (days)', ascending=False).reset_index().Module.unique()\r\n",
    "#cat_order = np.delete(cat_order, np.where(cat_order=='Unknown'))\r\n",
    "#cat_order = np.append(cat_order, 'Unknown')\r\n",
    "\r\n",
    "fig, ax = plt.subplots(figsize = (12,16))\r\n",
    "\r\n",
    "# ax = sns.boxplot(data=bug_open_times,\r\n",
    "#                  y=\"Module\",\r\n",
    "#                  x=\"Time bug open (days)\",\r\n",
    "#                  order=cat_order)\r\n",
    "\r\n",
    "sns.boxplot(data=bug_open_times,\r\n",
    "            y=\"Module\",\r\n",
    "            x=\"Time bug open (days)\",\r\n",
    "            ax=ax,\r\n",
    "            order=cat_order)\r\n",
    "ax.set_title(\"Duration of bugs still open, per module\", fontsize=20)\r\n",
    "\r\n",
    "filename = os.path.join(outputs_folder, 'OLD_time_bugs_open_per_module')\r\n",
    "fig.savefig(filename + '.png', dpi=300)\r\n",
    "fig.savefig(filename + '.svg')\r\n",
    "\r\n",
    "plt.show()"
   ]
  }
 ],
 "metadata": {
  "interpreter": {
   "hash": "436f2814f1f12011c00cf6933038a969dd0edc275127d459a28a14c2140dfae0"
  },
  "kernelspec": {
   "display_name": "Python 3.8.5 64-bit ('osm-analytics': conda)",
   "name": "python3"
  },
  "language_info": {
   "codemirror_mode": {
    "name": "ipython",
    "version": 3
   },
   "file_extension": ".py",
   "mimetype": "text/x-python",
   "name": "python",
   "nbconvert_exporter": "python",
   "pygments_lexer": "ipython3",
   "version": "3.8.5"
  }
 },
 "nbformat": 4,
 "nbformat_minor": 4
}
