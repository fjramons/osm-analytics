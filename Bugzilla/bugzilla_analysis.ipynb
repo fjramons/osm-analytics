{
 "cells": [
  {
   "cell_type": "markdown",
   "metadata": {},
   "source": [
    "# Analysis of OSM events in Bugzilla"
   ]
  },
  {
   "cell_type": "code",
   "execution_count": null,
   "metadata": {},
   "outputs": [],
   "source": [
    "import os\n",
    "import pandas as pd\n",
    "import numpy as np\n",
    "import datetime as dt\n",
    "import matplotlib.pyplot as plt\n",
    "%matplotlib inline\n",
    "import seaborn as sns\n",
    "from IPython.display import display, Markdown"
   ]
  },
  {
   "cell_type": "code",
   "execution_count": null,
   "metadata": {},
   "outputs": [],
   "source": [
    "# Sets a bigger default size for figures\n",
    "plt.rcParams['figure.figsize'] = [12, 8]\n",
    "plt.rcParams['figure.dpi'] = 80 # 100 gives great resolution and 200 gives optimal resolution, but much slower\n",
    "sns.set(rc={'figure.figsize':(12,8)})"
   ]
  },
  {
   "cell_type": "code",
   "execution_count": null,
   "metadata": {},
   "outputs": [],
   "source": [
    "plt.style.use('fivethirtyeight')"
   ]
  },
  {
   "cell_type": "markdown",
   "metadata": {},
   "source": [
    "## 0. Input parameters"
   ]
  },
  {
   "cell_type": "code",
   "execution_count": null,
   "metadata": {},
   "outputs": [],
   "source": [
    "inputs_folder = 'inputs'\n",
    "outputs_folder = 'outputs'\n",
    "\n",
    "#bugzilla_csv = os.path.join(inputs_folder, 'bugs.csv')\n",
    "bugzilla_csv = 'https://osm.etsi.org/stats/bugs.csv'\n",
    "\n",
    "most_relevant_modules = ['IM-NBI', 'NBI', 'RO', 'DEVOPS', 'Robot-tests', 'Descriptor-packages', 'N2VC', 'OSMClient', 'LCM', 'common', 'MON', 'POL', 'PLA', 'NG-UI', 'Any', 'Unknown', 'Other', 'Documentation / Wiki']\n",
    "\n",
    "former_mdl_assessments_file = 'former_mdl_assessments.xlsx' # If it does not exist, it will be ignored"
   ]
  },
  {
   "cell_type": "code",
   "execution_count": null,
   "metadata": {},
   "outputs": [],
   "source": [
    "date_for_bug_deprecation = '2020-07-01'\n",
    "\n",
    "# Comment to set the interval of recent bugs manually\n",
    "#\n",
    "days_4_recent_bugs = 21"
   ]
  },
  {
   "cell_type": "code",
   "execution_count": null,
   "metadata": {},
   "outputs": [],
   "source": [
    "# Uncomment to set the interval of recent bugs manually\n",
    "#\n",
    "# date_for_very_recent_bug = '2021-04-15'"
   ]
  },
  {
   "cell_type": "code",
   "execution_count": null,
   "metadata": {
    "jupyter": {
     "source_hidden": true
    }
   },
   "outputs": [],
   "source": [
    "today_as_datetime = pd.to_datetime(\"today\")\n",
    "today = today_as_datetime.strftime('%Y-%m-%d')\n",
    "\n",
    "display(Markdown(f'**Date and time of the report:** {today_as_datetime}'))"
   ]
  },
  {
   "cell_type": "code",
   "execution_count": null,
   "metadata": {},
   "outputs": [],
   "source": [
    "last_date = today\n",
    "\n",
    "if 'days_4_recent_bugs' in locals():\n",
    "    date_for_very_recent_bug = today_as_datetime - dt.timedelta(days=days_4_recent_bugs)\n",
    "    date_for_very_recent_bug = date_for_very_recent_bug.strftime('%Y-%m-%d')"
   ]
  },
  {
   "cell_type": "code",
   "execution_count": null,
   "metadata": {},
   "outputs": [],
   "source": [
    "display(\n",
    "    Markdown(\n",
    "        f'''**Analysed period:** {date_for_bug_deprecation} to {today}.\n",
    "\n",
    "Bugs considered **_recent_**: Since {date_for_very_recent_bug}.'''\n",
    "    )\n",
    ")"
   ]
  },
  {
   "cell_type": "markdown",
   "metadata": {},
   "source": [
    "## 1. Imports and cleans raw source data with all Bugzilla events"
   ]
  },
  {
   "cell_type": "code",
   "execution_count": null,
   "metadata": {},
   "outputs": [],
   "source": [
    "now = pd.to_datetime(\"now\")\n",
    "initial_header_list = [\"BUG_ID\", \"BUG_DESCRIPTION\", \"RELEASE\", \"MODULE\", \"OPERATION\", \"VALUE\", \"TIMESTAMP\"]\n",
    "new_column_order = ['TIMESTAMP', 'BUG_ID', 'OPERATION', 'VALUE', 'RELEASE', 'MODULE', 'BUG_DESCRIPTION', 'ROW_NUMBER']\n",
    "\n",
    "def classify_by_age(df):\n",
    "    df = df.copy()\n",
    "\n",
    "    df[\"AGE\"] = \"CURRENT\"  # By default, they should be relevant\n",
    "    df.loc[ df['TIMESTAMP']<date_for_bug_deprecation, \"AGE\" ] = \"OLD\"\n",
    "    df.loc[ df['TIMESTAMP']>date_for_very_recent_bug, \"AGE\" ] = \"RECENT\"\n",
    "\n",
    "    possible_ages_sorted = [\n",
    "        'OLD',\n",
    "        'CURRENT',\n",
    "        'RECENT'\n",
    "    ]\n",
    "    df[\"AGE\"] = pd.Categorical(df.AGE, categories=possible_ages_sorted, ordered=True)\n",
    "\n",
    "    return df\n",
    "\n",
    "def load_bug_full():\n",
    "\n",
    "    return (\n",
    "        pd.read_csv(bugzilla_csv, encoding='utf-8', header=None, names=initial_header_list)\n",
    "        .astype(\n",
    "            {\n",
    "                'TIMESTAMP': 'datetime64',\n",
    "                'OPERATION': 'category',\n",
    "                'RELEASE': 'category',\n",
    "                'MODULE': 'category'\n",
    "            }\n",
    "        )\n",
    "        .sort_values(by=['TIMESTAMP', 'BUG_ID'])\n",
    "\n",
    "        # Saves the original index as 'ROW_NUMBER' (useful for tracing back to initial data)\n",
    "        .reset_index()\n",
    "        .rename(columns={'index': 'ROW_NUMBER'})\n",
    "\n",
    "        # Reorders the columns to ease inspection\n",
    "        .reindex(columns=new_column_order)\n",
    "\n",
    "        # Adds column that allows to aggregate per months\n",
    "        # - Gets the last day (and second) of the month, so it is assigned as representative of the month\n",
    "        .assign(MONTH = lambda x: pd.to_datetime(x.TIMESTAMP.dt.to_period('M').astype(str)) + pd.tseries.offsets.MonthEnd(1) + dt.timedelta(hours=23, minutes=59, seconds=59) )\n",
    "\n",
    "        # Prevents dates in the future in \"MONTH\"\n",
    "        .assign(MONTH = lambda x: (x.MONTH.where(x.MONTH < now, now)))\n",
    "\n",
    "        # Classifies events by age: 'OLD', 'CURRENT', or 'RECENT'\n",
    "        .pipe(classify_by_age)\n",
    "    )"
   ]
  },
  {
   "cell_type": "code",
   "execution_count": null,
   "metadata": {},
   "outputs": [],
   "source": [
    "# Imports and cleans raw source data with all the events\n",
    "df_bug_full = load_bug_full()"
   ]
  },
  {
   "cell_type": "code",
   "execution_count": null,
   "metadata": {},
   "outputs": [],
   "source": [
    "print('DONE')"
   ]
  },
  {
   "cell_type": "markdown",
   "metadata": {},
   "source": [
    "## 2. Current state of open bugs"
   ]
  },
  {
   "cell_type": "code",
   "execution_count": null,
   "metadata": {},
   "outputs": [],
   "source": [
    "############### Analysis of the lifecycle of a bug ###############"
   ]
  },
  {
   "cell_type": "code",
   "execution_count": null,
   "metadata": {},
   "outputs": [],
   "source": [
    "#--- Changes of status per bug -----------------------------------"
   ]
  },
  {
   "cell_type": "code",
   "execution_count": null,
   "metadata": {},
   "outputs": [],
   "source": [
    "# Utility function to create a sorted category for bug states\n",
    "def bug_states_as_category(df):\n",
    "\n",
    "    df = df.copy()\n",
    "\n",
    "    possible_bug_states_sorted = [\n",
    "        'OPEN-UNCONFIRMED',\n",
    "        'UNCONFIRMED',\n",
    "        'CONFIRMED',\n",
    "        'IN_PROGRESS',\n",
    "        'RESOLVED',\n",
    "        'VERIFIED'\n",
    "    ]\n",
    "\n",
    "    df['VALUE'] = pd.Categorical(df.VALUE, categories=possible_bug_states_sorted, ordered=True)\n",
    "\n",
    "    return df\n",
    "\n",
    "# Extracts the events where bugs change of state and concatenates them with the bug openings\n",
    "def get_status_changes_by_bug(df):\n",
    "\n",
    "    df_bug_openings = (\n",
    "        df\n",
    "        .query(\"OPERATION=='comment'\")\n",
    "        .groupby(['BUG_ID']).first()\n",
    "        .reset_index()\n",
    "        .assign(OPERATION = 'bug_status')\n",
    "        .assign(ISSUER = lambda x: x.VALUE)\n",
    "        .assign(VALUE = 'OPEN-UNCONFIRMED')\n",
    "        .sort_values(by=['TIMESTAMP', 'BUG_ID'])\n",
    "        .reset_index(drop=True)\n",
    "    )\n",
    "\n",
    "    return (\n",
    "        pd.concat(\n",
    "            [\n",
    "                df.query(\"OPERATION=='bug_status'\"),\n",
    "                df_bug_openings\n",
    "            ]\n",
    "        )\n",
    "        .sort_index()\n",
    "\n",
    "        # Makes 'VALUE' categorical and sorts its categories properly\n",
    "        .pipe(bug_states_as_category)\n",
    "\n",
    "        .sort_values(by=['TIMESTAMP', 'BUG_ID'])\n",
    "        .reset_index(drop=True)\n",
    "\n",
    "        # Boolean to know if the bug is solved or remains open at that time\n",
    "        .assign(SOLVED = lambda x: x.VALUE.isin([\"RESOLVED\", \"VERIFIED\"]))\n",
    "    )"
   ]
  },
  {
   "cell_type": "code",
   "execution_count": null,
   "metadata": {},
   "outputs": [],
   "source": [
    "# Obtains all the changes of state per bug\n",
    "df_status_changes_by_bug = get_status_changes_by_bug(df_bug_full)"
   ]
  },
  {
   "cell_type": "code",
   "execution_count": null,
   "metadata": {},
   "outputs": [],
   "source": [
    "# Uncomment to interpret results per bug\n",
    "# df_status_changes_by_bug.query(\"BUG_ID==1647\")"
   ]
  },
  {
   "cell_type": "code",
   "execution_count": null,
   "metadata": {},
   "outputs": [],
   "source": [
    "#--- Latest status of each bug -----------------------------------"
   ]
  },
  {
   "cell_type": "code",
   "execution_count": null,
   "metadata": {},
   "outputs": [],
   "source": [
    "def remove_index_name(df):\n",
    "    df.index.name = ''\n",
    "    return df\n",
    "\n",
    "def get_current_bug_state(df):\n",
    "    return (\n",
    "        df\n",
    "        .reset_index()\n",
    "        .groupby('BUG_ID')\n",
    "        .last()\n",
    "        .reset_index()\n",
    "        .set_index('index')\n",
    "        .pipe(remove_index_name)\n",
    "    )"
   ]
  },
  {
   "cell_type": "code",
   "execution_count": null,
   "metadata": {},
   "outputs": [],
   "source": [
    "df_current_bug_state = get_current_bug_state(df_status_changes_by_bug)"
   ]
  },
  {
   "cell_type": "code",
   "execution_count": null,
   "metadata": {},
   "outputs": [],
   "source": [
    "############### Summary table per bug ############################\n",
    "\n",
    "#--- Extracts data from the list of events to build the main series of the summary ---"
   ]
  },
  {
   "cell_type": "code",
   "execution_count": null,
   "metadata": {},
   "outputs": [],
   "source": [
    "# Auxiliary functions to find easily the first and last ocurrences of a certain type of event per bug or make basic accountings:"
   ]
  },
  {
   "cell_type": "code",
   "execution_count": null,
   "metadata": {},
   "outputs": [],
   "source": [
    "# Gets all basic bug details + bug creation details\n",
    "def get_basic_bug_details(df):\n",
    "\n",
    "    return (\n",
    "        df\n",
    "        .groupby('BUG_ID')\n",
    "        .first()\n",
    "        .drop(columns=['OPERATION', 'VALUE', 'ROW_NUMBER'])\n",
    "        .reindex(columns=['BUG_DESCRIPTION', 'ISSUER', 'TIMESTAMP', 'AGE', 'MONTH'])\n",
    "        .rename(\n",
    "            columns={\n",
    "                'TIMESTAMP': 'CREATION_TIME',\n",
    "                'AGE': 'CREATION_AGE'\n",
    "            }\n",
    "        )\n",
    "    )"
   ]
  },
  {
   "cell_type": "code",
   "execution_count": null,
   "metadata": {},
   "outputs": [],
   "source": [
    "# Gets the last known state of the bug\n",
    "def get_last_known_state(df):\n",
    "    return (\n",
    "        df\n",
    "        .groupby('BUG_ID')\n",
    "        .last()\n",
    "        .drop(columns=['OPERATION', 'BUG_DESCRIPTION', 'ROW_NUMBER', 'ISSUER'])\n",
    "        .rename(\n",
    "            columns={\n",
    "                'TIMESTAMP': 'STATE_UPDATE_TIME',\n",
    "                'VALUE': 'STATE',\n",
    "                'AGE': 'STATE_UPDATE_AGE',\n",
    "                'MONTH': 'STATE_UPDATE_MONTH'\n",
    "            }\n",
    "        )\n",
    "        .reindex(columns=['STATE', 'STATE_UPDATE_TIME', 'STATE_UPDATE_AGE', 'STATE_UPDATE_MONTH'])\n",
    "    )"
   ]
  },
  {
   "cell_type": "code",
   "execution_count": null,
   "metadata": {},
   "outputs": [],
   "source": [
    "# Gets the total number of changes of state\n",
    "def get_number_changes_of_state(df):\n",
    "    return (\n",
    "        df\n",
    "        .query(\"OPERATION=='bug_status'\")\n",
    "        .reset_index()\n",
    "        .loc[:, ['BUG_ID', 'index']]\n",
    "        .groupby('BUG_ID').count()\n",
    "        .rename(columns={'index': 'STATE_CHANGES'})\n",
    "    )"
   ]
  },
  {
   "cell_type": "code",
   "execution_count": null,
   "metadata": {},
   "outputs": [],
   "source": [
    "# Gets how many times it has changed to `RESOLVED` (useful to detect ineffective resolutions)\n",
    "def get_number_changes_to_resolved(df):\n",
    "    return (\n",
    "        df\n",
    "        .query(\"(OPERATION=='bug_status') & (VALUE=='RESOLVED')\")\n",
    "        .reset_index()\n",
    "        .loc[:, ['BUG_ID', 'index']]\n",
    "        .groupby('BUG_ID').count()\n",
    "        .rename(columns={'index': 'CHANGES_TO_RESOLVED'})\n",
    "        .fillna(0)\n",
    "        .astype({'CHANGES_TO_RESOLVED': 'int'})\n",
    "    )"
   ]
  },
  {
   "cell_type": "code",
   "execution_count": null,
   "metadata": {},
   "outputs": [],
   "source": [
    "# Gets how many times the Release assignment has changed (useful to detect situations that persist or revive across releases)\n",
    "def get_number_release_assignments(df):\n",
    "    return (\n",
    "        df\n",
    "        .query(\"OPERATION=='version'\")\n",
    "        .reset_index()\n",
    "        .loc[:, ['BUG_ID', 'index']]\n",
    "        .groupby('BUG_ID').count()\n",
    "        .rename(columns={'index': 'RELEASE_CHANGES'})\n",
    "        .fillna(0)\n",
    "        .astype({'RELEASE_CHANGES': 'int'})\n",
    "    )"
   ]
  },
  {
   "cell_type": "code",
   "execution_count": null,
   "metadata": {},
   "outputs": [],
   "source": [
    "# Gets how many times the MDG assignment has changed (useful to detect \"hot potato\" situations)\n",
    "def get_number_module_assignments(df):\n",
    "    return (\n",
    "        df\n",
    "        .query(\"OPERATION=='component'\")\n",
    "        .reset_index()\n",
    "        .loc[:, ['BUG_ID', 'index']]\n",
    "        .groupby('BUG_ID').count()\n",
    "        .rename(columns={'index': 'MODULE_CHANGES'})\n",
    "        .fillna(0)\n",
    "        .astype({'MODULE_CHANGES': 'int'})\n",
    "    )"
   ]
  },
  {
   "cell_type": "code",
   "execution_count": null,
   "metadata": {},
   "outputs": [],
   "source": [
    "# Gets last assigned owner\n",
    "def get_last_owner(df):\n",
    "    return (\n",
    "        df\n",
    "        .query(\"OPERATION=='assigned_to'\")\n",
    "        .groupby('BUG_ID')\n",
    "        .last()\n",
    "        .drop(columns=['OPERATION', 'BUG_DESCRIPTION', 'ROW_NUMBER', 'RELEASE', 'MODULE'])\n",
    "        .rename(\n",
    "            columns={\n",
    "                'VALUE': 'OWNER',\n",
    "                'TIMESTAMP': 'LAST_ASSIGNMENT_TIME',\n",
    "                'AGE': 'LAST_ASSIGNMENT_AGE',\n",
    "                'MONTH': 'LAST_ASSIGNMENT_MONTH'\n",
    "            }\n",
    "        )\n",
    "    )"
   ]
  },
  {
   "cell_type": "code",
   "execution_count": null,
   "metadata": {},
   "outputs": [],
   "source": [
    "# Gets how many times the owner assignment has changed (useful to detect \"hot potato\" situations)\n",
    "def get_number_owner_assignments(df):\n",
    "    return (\n",
    "        df\n",
    "        .query(\"OPERATION=='assigned_to'\")\n",
    "        .reset_index()\n",
    "        .loc[:, ['BUG_ID', 'index']]\n",
    "        .groupby('BUG_ID').count()\n",
    "        .rename(columns={'index': 'OWNER_CHANGES'})\n",
    "        .fillna(0)\n",
    "        .astype({'OWNER_CHANGES': 'int'})\n",
    "    )"
   ]
  },
  {
   "cell_type": "code",
   "execution_count": null,
   "metadata": {},
   "outputs": [],
   "source": [
    "# Gets last event that has happened to the bug so far\n",
    "def get_last_event(df):\n",
    "    return (\n",
    "        df\n",
    "        .groupby('BUG_ID')\n",
    "        .last()\n",
    "        .drop(columns=['BUG_DESCRIPTION', 'VALUE', 'ROW_NUMBER'])\n",
    "        .rename(\n",
    "            columns={\n",
    "                'OPERATION': 'LAST_EVENT',\n",
    "                'TIMESTAMP': 'LAST_EVENT_TIME',\n",
    "                'AGE': 'LAST_EVENT_AGE',\n",
    "                'MONTH': 'LAST_EVENT_MONTH'\n",
    "            }\n",
    "        )\n",
    "        .reindex(columns=['LAST_EVENT', 'LAST_EVENT_TIME', 'LAST_EVENT_AGE', 'LAST_EVENT_MONTH'])\n",
    "    )"
   ]
  },
  {
   "cell_type": "code",
   "execution_count": null,
   "metadata": {},
   "outputs": [],
   "source": [
    "# Creates bug summary"
   ]
  },
  {
   "cell_type": "code",
   "execution_count": null,
   "metadata": {},
   "outputs": [],
   "source": [
    "def get_bug_summary(df_status_changes_by_bug, df_bug_full):\n",
    "\n",
    "    return (\n",
    "        # All basic bug details + bug creation details\n",
    "        get_basic_bug_details(df_status_changes_by_bug)\n",
    "\n",
    "        # Adds last known state of the bug\n",
    "        .merge(\n",
    "            get_last_known_state(df_status_changes_by_bug),\n",
    "            how='left',\n",
    "            left_index=True, right_index=True\n",
    "        )\n",
    "\n",
    "        # Adds the total number of changes of state\n",
    "        .merge(\n",
    "            get_number_changes_of_state(df_status_changes_by_bug),\n",
    "            how='left',\n",
    "            left_index=True, right_index=True\n",
    "        )\n",
    "\n",
    "        # Adds how many times it has changed to `RESOLVED` (useful to detect ineffective resolutions)\n",
    "        .merge(\n",
    "            get_number_changes_to_resolved(df_status_changes_by_bug),\n",
    "            how='left',\n",
    "            left_index=True, right_index=True\n",
    "        )\n",
    "        .fillna({'CHANGES_TO_RESOLVED': 0})\n",
    "\n",
    "        # Adds last known Release and Module for each bug\n",
    "        .merge(\n",
    "            (\n",
    "                df_bug_full\n",
    "                .groupby('BUG_ID').last()\n",
    "                .loc[:, ['RELEASE', 'MODULE']]\n",
    "            ),\n",
    "            how='left', # how='outer'\n",
    "            left_index=True, right_index=True\n",
    "        )\n",
    "\n",
    "        # Adds how many times the Release assignment has changed (useful to detect situations that persist or revive across releases)\n",
    "        .merge(\n",
    "            get_number_release_assignments(df_bug_full),\n",
    "            how='left',\n",
    "            left_index=True, right_index=True\n",
    "        )\n",
    "\n",
    "        # Adds how many times the module assignment has changed (useful to detect \"hot potato\" situations)\n",
    "        .merge(\n",
    "            get_number_module_assignments(df_bug_full),\n",
    "            how='left',\n",
    "            left_index=True, right_index=True\n",
    "        )\n",
    "\n",
    "        # Adds last assigned owner\n",
    "        .merge(\n",
    "            get_last_owner(df_bug_full),\n",
    "            how='left',\n",
    "            left_index=True, right_index=True\n",
    "        )\n",
    "\n",
    "        # Adds how many times the owner has changed (useful to detect \"hot potato\" situations)\n",
    "        .merge(\n",
    "            get_number_owner_assignments(df_bug_full),\n",
    "            how='left',\n",
    "            left_index=True, right_index=True\n",
    "        )\n",
    "\n",
    "        # Adds the last event that has happened to the bug so far\n",
    "        .merge(\n",
    "            get_last_event(df_bug_full),\n",
    "            how='left',\n",
    "            left_index=True, right_index=True\n",
    "        )\n",
    "\n",
    "        # Boolean to know if the bug was solved\n",
    "        .assign(SOLVED = lambda x: x.STATE.isin([\"RESOLVED\", \"VERIFIED\"]))\n",
    "\n",
    "        # Calculates the bug resolution time (when applicable)\n",
    "        .assign(BUG_RESOLUTION_TIME = lambda x: (x.STATE_UPDATE_TIME - x.CREATION_TIME).dt.days)\n",
    "\n",
    "        # Calculates the time since the bug was open\n",
    "        .assign(TIME_SINCE_CREATION = lambda x: (pd.to_datetime(\"now\") - x.CREATION_TIME).dt.days)\n",
    "    )"
   ]
  },
  {
   "cell_type": "code",
   "execution_count": null,
   "metadata": {},
   "outputs": [],
   "source": [
    "df_bug_summary = get_bug_summary(df_status_changes_by_bug, df_bug_full)"
   ]
  },
  {
   "cell_type": "markdown",
   "metadata": {},
   "source": [
    "### 2.1 Number of open bugs"
   ]
  },
  {
   "cell_type": "code",
   "execution_count": null,
   "metadata": {},
   "outputs": [],
   "source": [
    "df_open_bugs = df_current_bug_state[ ~df_current_bug_state['VALUE'].isin(['RESOLVED', 'VERIFIED']) ]"
   ]
  },
  {
   "cell_type": "code",
   "execution_count": null,
   "metadata": {},
   "outputs": [],
   "source": [
    "# df_open_bugs.tail()"
   ]
  },
  {
   "cell_type": "code",
   "execution_count": null,
   "metadata": {},
   "outputs": [],
   "source": [
    "# df_open_bugs.info()"
   ]
  },
  {
   "cell_type": "markdown",
   "metadata": {},
   "source": [
    "#### Total number of open bugs:"
   ]
  },
  {
   "cell_type": "code",
   "execution_count": null,
   "metadata": {},
   "outputs": [],
   "source": [
    "df_open_bugs.shape[0]"
   ]
  },
  {
   "cell_type": "code",
   "execution_count": null,
   "metadata": {},
   "outputs": [],
   "source": [
    "# display(\n",
    "#     Markdown(\n",
    "#         f'''#### Total number of open bugs:\n",
    "\n",
    "# {df_open_bugs.shape[0]}'''\n",
    "#     )\n",
    "# )"
   ]
  },
  {
   "cell_type": "markdown",
   "metadata": {},
   "source": [
    "#### Number of bugs per module"
   ]
  },
  {
   "cell_type": "code",
   "execution_count": null,
   "metadata": {},
   "outputs": [],
   "source": [
    "ct_open_bugs = pd.crosstab(\n",
    "    df_open_bugs.MODULE,\n",
    "    df_open_bugs.AGE,\n",
    "    margins_name='Total'\n",
    ")"
   ]
  },
  {
   "cell_type": "code",
   "execution_count": null,
   "metadata": {},
   "outputs": [],
   "source": [
    "ct_open_bugs_selected = (\n",
    "    ct_open_bugs\n",
    "    .loc[ct_open_bugs.index.isin(most_relevant_modules)]\n",
    ")"
   ]
  },
  {
   "cell_type": "code",
   "execution_count": null,
   "metadata": {},
   "outputs": [],
   "source": [
    "ct_open_bugs_selected.plot(kind='barh', stacked=True)\n",
    "\n",
    "plt.title(f'Open Bugs per Module - Selected Modules ({today})', fontsize=20)\n",
    "plt.ylabel('')\n",
    "\n",
    "width = ct_open_bugs_selected.sum(axis=1)\n",
    "plt.xticks(\n",
    "    np.arange(min(width), max(width) + 1, 1.0)\n",
    ")\n",
    "\n",
    "plt.tight_layout()\n",
    "\n",
    "filename = os.path.join(outputs_folder, 'n_bugs_open_per_key_module')\n",
    "plt.savefig(filename + '.png', dpi=300)\n",
    "plt.savefig(filename + '.svg')\n",
    "\n",
    "plt.show()"
   ]
  },
  {
   "cell_type": "code",
   "execution_count": null,
   "metadata": {},
   "outputs": [],
   "source": [
    "# plt.figure(figsize=(12, 20))\n",
    "\n",
    "ct_open_bugs.plot(kind='barh', stacked=True)\n",
    "\n",
    "plt.title(f'Open Bugs per Module - All Modules ({today})', fontsize=20)\n",
    "plt.ylabel('')\n",
    "\n",
    "width = ct_open_bugs.sum(axis=1)\n",
    "plt.xticks(\n",
    "    np.arange(min(width), max(width) + 1, 1.0)\n",
    ")\n",
    "\n",
    "plt.tight_layout()\n",
    "\n",
    "filename = os.path.join(outputs_folder, 'n_bugs_open_per_module')\n",
    "plt.savefig(filename + '.png', dpi=300)\n",
    "plt.savefig(filename + '.svg')\n",
    "\n",
    "plt.show()"
   ]
  },
  {
   "cell_type": "code",
   "execution_count": null,
   "metadata": {},
   "outputs": [],
   "source": [
    "pd.crosstab(\n",
    "    df_open_bugs.MODULE,\n",
    "    df_open_bugs.AGE,\n",
    "    margins=True,\n",
    "    margins_name='Total'\n",
    ")"
   ]
  },
  {
   "cell_type": "markdown",
   "metadata": {},
   "source": [
    "### 2.2 Age of open bugs"
   ]
  },
  {
   "cell_type": "markdown",
   "metadata": {},
   "source": [
    "#### Age vs. state of open bugs (global)"
   ]
  },
  {
   "cell_type": "code",
   "execution_count": null,
   "metadata": {},
   "outputs": [],
   "source": [
    "# pd.crosstab(\n",
    "#     df_current_bug_state.VALUE,\n",
    "#     df_current_bug_state.AGE,\n",
    "#     margins=True,\n",
    "#     margins_name='Total'\n",
    "# )"
   ]
  },
  {
   "cell_type": "code",
   "execution_count": null,
   "metadata": {},
   "outputs": [],
   "source": [
    "ct_open_bugs_age_vs_state = pd.crosstab(\n",
    "    df_open_bugs.VALUE,\n",
    "    df_open_bugs.AGE,\n",
    "    margins=True,\n",
    "    margins_name='Total'\n",
    ")"
   ]
  },
  {
   "cell_type": "code",
   "execution_count": null,
   "metadata": {},
   "outputs": [],
   "source": [
    "(\n",
    "    ct_open_bugs_age_vs_state\n",
    "    .query('VALUE != \"Total\"')\n",
    "    .drop(columns=['Total'])\n",
    "    .plot(kind='barh', stacked=True)\n",
    ")\n",
    "\n",
    "\n",
    "n = 10\n",
    "\n",
    "# ax = locks.plot(kind='bar', y='SUM')\n",
    "# ticks = ax.xaxis.get_ticklocs()\n",
    "# ticklabels = [l.get_text() for l in ax.xaxis.get_ticklabels()]\n",
    "# ax.xaxis.set_ticks(ticks[::n])\n",
    "# ax.xaxis.set_ticklabels(ticklabels[::n])\n",
    "\n",
    "# ax.figure.show()\n",
    "\n",
    "\n",
    "plt.title(f'Global Number of bugs per State and Age ({today})', fontsize=20)\n",
    "plt.ylabel('')\n",
    "\n",
    "# width = ct_open_bugs_age_vs_state.sum(axis=1)\n",
    "width = ct_open_bugs_age_vs_state.Total\n",
    "plt.xticks(\n",
    "    # np.arange(min(width), max(width) + 1, 23)\n",
    "    np.arange(0, max(width) + 1, 25)\n",
    ")\n",
    "\n",
    "plt.tight_layout()\n",
    "\n",
    "filename = os.path.join(outputs_folder, 'n_bugs_open_per_state_and_age')\n",
    "plt.savefig(filename + '.png', dpi=300)\n",
    "plt.savefig(filename + '.svg')\n",
    "\n",
    "plt.show()"
   ]
  },
  {
   "cell_type": "code",
   "execution_count": null,
   "metadata": {},
   "outputs": [],
   "source": [
    "ct_open_bugs_age_vs_state"
   ]
  },
  {
   "cell_type": "markdown",
   "metadata": {},
   "source": [
    "#### Age distribution per module"
   ]
  },
  {
   "cell_type": "code",
   "execution_count": null,
   "metadata": {},
   "outputs": [],
   "source": [
    "# Function to remove categories not in use in a given column\n",
    "def clean_categorical_columns(col):\n",
    "    if str(col.dtype)=='category':  # Checks if the column of 'category' type\n",
    "        return col.cat.remove_unused_categories()\n",
    "    else:   # Otherwise, returns the series verbatim\n",
    "        return col"
   ]
  },
  {
   "cell_type": "code",
   "execution_count": null,
   "metadata": {},
   "outputs": [],
   "source": [
    "# Style 'fivethirtyeight' creates thick boxplots\n",
    "# To avoid it, we may change to 'default' style temporarily\n",
    "#plt.style.use('default')"
   ]
  },
  {
   "cell_type": "code",
   "execution_count": null,
   "metadata": {},
   "outputs": [],
   "source": [
    "fig, ax = plt.subplots(figsize = (10, 10))\n",
    "\n",
    "df_open_bugs_selected = (\n",
    "    df_bug_summary\n",
    "    .loc[df_bug_summary.MODULE.isin(most_relevant_modules)]\n",
    "    .assign(MODULE = lambda x: clean_categorical_columns(x.MODULE))\n",
    "    .query('SOLVED==False')\n",
    ")\n",
    "\n",
    "sns.boxplot(\n",
    "    data = df_open_bugs_selected,\n",
    "    y = 'MODULE',\n",
    "    x = 'TIME_SINCE_CREATION',\n",
    "    ax=ax\n",
    ")\n",
    "\n",
    "ax.set_title(f'Age of Open Bugs - Selected Modules ({today})\\n', fontsize=20)\n",
    "ax.set_xlabel('Time since creation (days)', fontsize=14)\n",
    "ax.set_ylabel(None)\n",
    "\n",
    "fig.tight_layout()\n",
    "\n",
    "filename = os.path.join(outputs_folder, 'time_bugs_open_per_key_module')\n",
    "fig.savefig(filename + '.png', dpi=300)\n",
    "fig.savefig(filename + '.svg')\n",
    "\n",
    "plt.show()"
   ]
  },
  {
   "cell_type": "code",
   "execution_count": null,
   "metadata": {},
   "outputs": [],
   "source": [
    "fig, ax = plt.subplots(figsize = (10, 20))\n",
    "\n",
    "sns.boxplot(\n",
    "    data = df_bug_summary.query('SOLVED==False'),\n",
    "    y = 'MODULE',\n",
    "    x = 'TIME_SINCE_CREATION',\n",
    "    ax=ax\n",
    ")\n",
    "\n",
    "ax.set_title(f'Age of Open Bugs - All Modules ({today})\\n', fontsize=20)\n",
    "ax.set_xlabel('Time since creation (days)', fontsize=14)\n",
    "ax.set_ylabel(None)\n",
    "\n",
    "fig.tight_layout()\n",
    "\n",
    "filename = os.path.join(outputs_folder, 'time_bugs_open_per_module')\n",
    "fig.savefig(filename + '.png', dpi=300)\n",
    "fig.savefig(filename + '.svg')\n",
    "\n",
    "plt.show()"
   ]
  },
  {
   "cell_type": "markdown",
   "metadata": {},
   "source": [
    "**NOTE:** To see how a boxplot representation works, you may refer [to this article](https://towardsdatascience.com/understanding-boxplots-5e2df7bcbd51)."
   ]
  },
  {
   "cell_type": "code",
   "execution_count": null,
   "metadata": {},
   "outputs": [],
   "source": [
    "print('Table with distributions of ages of currently open bugs:')\n",
    "display(\n",
    "    # Exploratory table - Time open bugs\n",
    "    df_bug_summary.query('(SOLVED==False)').groupby('MODULE').TIME_SINCE_CREATION.describe().query('count>0').reset_index()\n",
    ")"
   ]
  },
  {
   "cell_type": "code",
   "execution_count": null,
   "metadata": {},
   "outputs": [],
   "source": [
    "plt.style.use('fivethirtyeight')"
   ]
  },
  {
   "cell_type": "markdown",
   "metadata": {},
   "source": [
    "\n",
    "### 2.3 Outliers\n"
   ]
  },
  {
   "cell_type": "markdown",
   "metadata": {},
   "source": [
    "Four types of bug age outliers are identified:\n",
    "\n",
    "1. Too old bugs.\n",
    "2. Pure outliers for boxplot: Beyond Q3+1.5IQR for the MDG.\n",
    "3. Beyond 3rd quartile of ages.\n",
    "4. Age beyond 2 months."
   ]
  },
  {
   "cell_type": "code",
   "execution_count": null,
   "metadata": {},
   "outputs": [],
   "source": [
    "bug_open_times = (\n",
    "    df_bug_summary\n",
    "    .query('(~SOLVED) & (CREATION_AGE!=\"OLD\")')\n",
    "    .loc[:, [\"CREATION_AGE\", \"RELEASE\", \"MODULE\", \"LAST_EVENT_TIME\", \"TIME_SINCE_CREATION\"]]\n",
    "    .assign(CREATION_AGE = lambda x: clean_categorical_columns(x.CREATION_AGE))\n",
    "    .fillna({'MODULE': 'Unknown'})\n",
    "    .assign(RELEASE = lambda x: x.RELEASE.cat.add_categories('Unknown'))\n",
    "    .fillna({'RELEASE': 'Unknown'})\n",
    "    .rename(\n",
    "        columns={\n",
    "            'CREATION_AGE': 'Age',\n",
    "            'RELEASE': 'OSM Release',\n",
    "            'MODULE': 'Module',\n",
    "            'TIME_SINCE_CREATION': 'Time bug open (days)'\n",
    "        }\n",
    "    )\n",
    ")"
   ]
  },
  {
   "cell_type": "code",
   "execution_count": null,
   "metadata": {},
   "outputs": [],
   "source": [
    "def flatten_multilevel_columns(df):\n",
    "    df.columns = [col[1] if col[1] else col[0] for col in df.columns]\n",
    "    return df\n",
    "\n",
    "quantiles_bug_open_times = (\n",
    "    bug_open_times\n",
    "    .groupby(['Module', 'OSM Release'])[['Time bug open (days)']]\n",
    "    .agg('describe')\n",
    "    .reset_index()\n",
    "    .pipe(flatten_multilevel_columns)\n",
    "    .assign(IQR = lambda x: (x['75%'] - x['25%']))\n",
    "    .assign(outliers_th = lambda x: (x['75%'] + 1.5*x['IQR']))\n",
    ")"
   ]
  },
  {
   "cell_type": "code",
   "execution_count": null,
   "metadata": {},
   "outputs": [],
   "source": [
    "bug_open_times_with_thresholds = (\n",
    "    bug_open_times\n",
    "    .reset_index()\n",
    "    .merge(\n",
    "        quantiles_bug_open_times,\n",
    "        how='left',\n",
    "        left_on=['Module', 'OSM Release'],\n",
    "        right_on=['Module', 'OSM Release']\n",
    "    )\n",
    "    .merge(\n",
    "        df_bug_summary.reset_index(),\n",
    "        how='left',\n",
    "        left_on=['BUG_ID'],\n",
    "        right_on=['BUG_ID']\n",
    "    )\n",
    "    .rename(columns={'LAST_EVENT_TIME_x': 'LAST_EVENT_TIME'})\n",
    "    .drop(columns=['Age', 'OSM Release', 'Module', 'LAST_EVENT_TIME_y'])\n",
    ")"
   ]
  },
  {
   "cell_type": "code",
   "execution_count": null,
   "metadata": {},
   "outputs": [],
   "source": [
    "#### 1. Too old bugs still open\n",
    "\n",
    "df_old_still_open = df_bug_summary.loc[ (df_bug_summary.CREATION_AGE=='OLD') & (~df_bug_summary.STATE.isin(['RESOLVED', 'VERIFIED'])) ].reset_index().sort_values(by=['MODULE', 'BUG_ID'])"
   ]
  },
  {
   "cell_type": "code",
   "execution_count": null,
   "metadata": {},
   "outputs": [],
   "source": [
    "#### 2. Pure outliers:\n",
    "\n",
    "bug_open_outliers = (\n",
    "    bug_open_times_with_thresholds\n",
    "    .query('`Time bug open (days)` > outliers_th')\n",
    ")"
   ]
  },
  {
   "cell_type": "code",
   "execution_count": null,
   "metadata": {},
   "outputs": [],
   "source": [
    "#### 3. Beyond Q3:\n",
    "\n",
    "bug_open_q3 = (\n",
    "    bug_open_times_with_thresholds\n",
    "    .query(\"(`Time bug open (days)` > `75%`) & (`Time bug open (days)` <= outliers_th)\")\n",
    ")"
   ]
  },
  {
   "cell_type": "code",
   "execution_count": null,
   "metadata": {},
   "outputs": [],
   "source": [
    "#### 4. Beyond 2 months:\n",
    "\n",
    "bug_open_2_months = (\n",
    "    bug_open_times_with_thresholds\n",
    "    .query(\"(`Time bug open (days)` > 60) & (`Time bug open (days)` <= `75%`)\")\n",
    ")"
   ]
  },
  {
   "cell_type": "code",
   "execution_count": null,
   "metadata": {},
   "outputs": [],
   "source": [
    "######################## Saves bug lists in spreadsheet ########################"
   ]
  },
  {
   "cell_type": "code",
   "execution_count": null,
   "metadata": {},
   "outputs": [],
   "source": [
    "bugs_sheet_names = ['0. Too old bugs still open',\n",
    "                    '1. Open outliers',\n",
    "                    '2. Open beyond q3',\n",
    "                    '3. Open beyond 2 months']"
   ]
  },
  {
   "cell_type": "code",
   "execution_count": null,
   "metadata": {},
   "outputs": [],
   "source": [
    "# Imports latest MDLs recommendations, if they exist:\n",
    "\n",
    "former_mdl_assessments_cols = ['RECOMMENDATION', 'BUG_ID']\n",
    "f_assess = os.path.join(inputs_folder, former_mdl_assessments_file)\n",
    "\n",
    "df_list = []\n",
    "\n",
    "try:\n",
    "    for sheet in bugs_sheet_names:\n",
    "        df = pd.read_excel(f_assess, sheet_name=sheet, usecols=former_mdl_assessments_cols)\n",
    "        df_list.append(df)\n",
    "    df_recommendations = pd.concat(df_list, ignore_index=True)\n",
    "except FileNotFoundError:\n",
    "    print('Recommendations file does not exist.')\n",
    "    df_recommendations = pd.DataFrame(columns=former_mdl_assessments_cols)"
   ]
  },
  {
   "cell_type": "code",
   "execution_count": null,
   "metadata": {},
   "outputs": [],
   "source": [
    "# Adds the recommendation to existing tables:\n",
    "\n",
    "df_old_still_open = pd.merge(df_recommendations, df_old_still_open, on='BUG_ID', how='right')\n",
    "bug_open_outliers = pd.merge(df_recommendations, bug_open_outliers, on='BUG_ID', how='right')\n",
    "bug_open_q3 = pd.merge(df_recommendations, bug_open_q3, on='BUG_ID', how='right')\n",
    "bug_open_2_months = pd.merge(df_recommendations, bug_open_2_months, on='BUG_ID', how='right')"
   ]
  },
  {
   "cell_type": "code",
   "execution_count": null,
   "metadata": {},
   "outputs": [],
   "source": [
    "# Exports to spreadsheet:\n",
    "\n",
    "columns = ['RECOMMENDATION', 'MODULE', 'BUG_ID', 'BUG_DESCRIPTION', 'RELEASE', 'STATE', 'ISSUER', 'OWNER', 'CREATION_TIME', 'CREATION_AGE',\n",
    "           'STATE_UPDATE_TIME', 'STATE_UPDATE_AGE', 'LAST_ASSIGNMENT_TIME', 'LAST_EVENT', 'LAST_EVENT_TIME', 'LAST_EVENT_AGE',\n",
    "           'STATE_CHANGES', 'CHANGES_TO_RESOLVED', 'RELEASE_CHANGES', 'MODULE_CHANGES', 'OWNER_CHANGES']\n",
    "\n",
    "timestamp = today_as_datetime.strftime('%Y%m%d')\n",
    "\n",
    "filename = os.path.join(outputs_folder, timestamp + '_bugs_for_mdl_review.xlsx')\n",
    "with pd.ExcelWriter(filename, engine='xlsxwriter') as writer:\n",
    "    df_old_still_open.to_excel(writer, columns=columns, index=False, sheet_name='0. Too old bugs still open')\n",
    "    bug_open_outliers[columns].to_excel(writer, index=False, sheet_name='1. Open outliers')\n",
    "    bug_open_q3[columns].to_excel(writer, index=False, sheet_name='2. Open beyond q3')\n",
    "    bug_open_2_months[columns].to_excel(writer, index=False, sheet_name='3. Open beyond 2 months')"
   ]
  },
  {
   "cell_type": "markdown",
   "metadata": {},
   "source": [
    "#### Summary table of outliers:"
   ]
  },
  {
   "cell_type": "code",
   "execution_count": null,
   "metadata": {},
   "outputs": [],
   "source": [
    "keys = ['0. Too old bugs still open', '1. Open outliers', '2. Open beyond q3', '3. Open beyond 2 months']\n",
    "tables = [df_old_still_open, bug_open_outliers, bug_open_q3, bug_open_2_months]\n",
    "summary_table_outliers = (\n",
    "  pd.concat(tables, keys=keys)\n",
    "  .reset_index()\n",
    "  .rename(columns={'level_0': 'AGE'})\n",
    "  .pivot_table(index='MODULE', columns='AGE', values='BUG_ID', aggfunc='count', margins=True)\n",
    "  .fillna(0)\n",
    "  .query('All>0')\n",
    ")\n",
    "\n",
    "filename = os.path.join(outputs_folder, timestamp + '_SUMMARY_bug_outliers.xlsx')\n",
    "summary_table_outliers.to_excel(filename)"
   ]
  },
  {
   "cell_type": "code",
   "execution_count": null,
   "metadata": {},
   "outputs": [],
   "source": [
    "summary_table_outliers"
   ]
  },
  {
   "cell_type": "markdown",
   "metadata": {},
   "source": [
    "#### Outlier details"
   ]
  },
  {
   "cell_type": "markdown",
   "metadata": {},
   "source": [
    "Too old bugs:"
   ]
  },
  {
   "cell_type": "code",
   "execution_count": null,
   "metadata": {},
   "outputs": [],
   "source": [
    "df_old_still_open"
   ]
  },
  {
   "cell_type": "markdown",
   "metadata": {},
   "source": [
    "Pure outliers:"
   ]
  },
  {
   "cell_type": "code",
   "execution_count": null,
   "metadata": {},
   "outputs": [],
   "source": [
    "bug_open_outliers"
   ]
  },
  {
   "cell_type": "markdown",
   "metadata": {},
   "source": [
    "Beyond Q3:"
   ]
  },
  {
   "cell_type": "code",
   "execution_count": null,
   "metadata": {},
   "outputs": [],
   "source": [
    "bug_open_q3"
   ]
  },
  {
   "cell_type": "markdown",
   "metadata": {},
   "source": [
    "Beyond 2 months:"
   ]
  },
  {
   "cell_type": "code",
   "execution_count": null,
   "metadata": {},
   "outputs": [],
   "source": [
    "bug_open_2_months"
   ]
  },
  {
   "cell_type": "markdown",
   "metadata": {},
   "source": [
    "## 3. Temporal evolution"
   ]
  },
  {
   "cell_type": "code",
   "execution_count": null,
   "metadata": {},
   "outputs": [],
   "source": [
    "# Uncomment to see example of data per bug:\n",
    "#\n",
    "# df_status_changes_by_bug.query(\"BUG_ID==1433\")"
   ]
  },
  {
   "cell_type": "code",
   "execution_count": null,
   "metadata": {},
   "outputs": [],
   "source": [
    "# Auxiliary function to add extra columns with effective timestamps of the event:\n",
    "# - If the event closes the bug, TIMESTAMP_4_EVENT = TIMESTAMP\n",
    "# - If the event opens the bug, TIMESTAMP_4_EVENT = end of current month\n",
    "# - Drops rows of events that do not open/close any bug.\n",
    "def add_effective_timestamps(df):\n",
    "    '''Function to add extra columns with effective timestamps of the event:\n",
    "\n",
    "    - If the event closes the bug, TIMESTAMP_4_EVENT = TIMESTAMP\n",
    "    - If the event opens the bug, TIMESTAMP_4_EVENT = end of current month\n",
    "    - Drops rows of events that do not open/close any bug.\n",
    "    '''\n",
    "\n",
    "    return (\n",
    "        df\n",
    "\n",
    "        # Adds column with timestamp of opening of each bug\n",
    "        .assign(\n",
    "            TIMESTAMP_OPENING = lambda x:\n",
    "            (\n",
    "                x\n",
    "                .groupby('BUG_ID')\n",
    "                ['TIMESTAMP']\n",
    "                #.transform(lambda col: col.min())\n",
    "                .transform('first')\n",
    "            )\n",
    "        )\n",
    "\n",
    "        # Adds column of effective timestamp of each event\n",
    "        .assign(\n",
    "            TIMESTAMP_4_EVENT = lambda x: (\n",
    "                x.MONTH\n",
    "                .where(x.OPENED)\n",
    "                .fillna(\n",
    "                    x.TIMESTAMP\n",
    "                    .where(x.CLOSED)\n",
    "                )\n",
    "            )\n",
    "        )\n",
    "        .dropna(subset=['TIMESTAMP_4_EVENT'])   # Drops rows that do not open or close any bug\n",
    "\n",
    "        # Fixes attributed timestamps that are \"in the future\"\n",
    "        .assign(\n",
    "            TIMESTAMP_4_EVENT = lambda x: (\n",
    "                x.TIMESTAMP_4_EVENT\n",
    "                .where(x.TIMESTAMP_4_EVENT <= today_as_datetime)\n",
    "                .fillna(today_as_datetime)\n",
    "            )\n",
    "        )\n",
    "\n",
    "        # Adds column with the difference\n",
    "        .assign(TIME = lambda x: x.TIMESTAMP_4_EVENT - x.TIMESTAMP_OPENING)\n",
    "    )\n",
    "\n",
    "# MAIN FUNCTION:\n",
    "# Function to add extra columns to status changes that allow to determine if the event results in a bug opening or a bug closing\n",
    "def get_status_changes_by_bug_extended(df):\n",
    "    '''Columns added by this stage:\n",
    "\n",
    "    - `SOLVED`: Is the bug currently considered solved?\n",
    "    - `WAS_SOLVED`: Right before this event, was the bug considered solved?\n",
    "    - `JUST_OPENED`: Has the bug been just opened for the first time in this event?\n",
    "    - `REOPENED`: Is this event a reopening?\n",
    "    - `OPENED`: Is this event opening or reopening the bug? (`JUST_OPENED` or `REOPENED`)\n",
    "    - `CLOSED`: Is this event closed by this event?\n",
    "    '''\n",
    "\n",
    "    was_solved = (\n",
    "        df\n",
    "        .groupby('BUG_ID')\n",
    "        ['SOLVED']\n",
    "        .transform(lambda x: x.shift())\n",
    "        .fillna(method='bfill')\n",
    "    )\n",
    "\n",
    "    return (\n",
    "        df\n",
    "        .assign(WAS_SOLVED = was_solved)\n",
    "        .assign(JUST_OPENED = lambda x: (x.VALUE=='OPEN-UNCONFIRMED'))\n",
    "        .assign(REOPENED = lambda x: (x.WAS_SOLVED > x.SOLVED))\n",
    "        .assign(OPENED = lambda x: (x.JUST_OPENED | x.REOPENED))\n",
    "        .assign(CLOSED = lambda x: (x.WAS_SOLVED < x.SOLVED))\n",
    "\n",
    "        # Adds columns with effective timestamps of open/close events\n",
    "        .pipe(add_effective_timestamps)\n",
    "    )"
   ]
  },
  {
   "cell_type": "code",
   "execution_count": null,
   "metadata": {},
   "outputs": [],
   "source": [
    "# Status changes with added information to track the dynamics per bug\n",
    "df_status_changes_by_bug_extended = get_status_changes_by_bug_extended(df_status_changes_by_bug)"
   ]
  },
  {
   "cell_type": "code",
   "execution_count": null,
   "metadata": {},
   "outputs": [],
   "source": [
    "# Uncomment to see example of data per bug:\n",
    "#\n",
    "# df_status_changes_by_bug_extended.query(\"BUG_ID==1433\")"
   ]
  },
  {
   "cell_type": "code",
   "execution_count": null,
   "metadata": {},
   "outputs": [],
   "source": [
    "# Oversamples the dataframe of bug events to add to each month\n",
    "# rows that represent the bugs that remain open by that time\n",
    "def get_monthly_time_samples_per_bug(df):\n",
    "    return (\n",
    "        df\n",
    "\n",
    "        # Keeps only the last relevant event of each month per bug\n",
    "        .groupby(['BUG_ID', 'MONTH'])\n",
    "        .last()\n",
    "\n",
    "        # Forces to include one sample per month of each known bug\n",
    "        .unstack()\n",
    "        .stack(dropna=False)\n",
    "\n",
    "        # Extends the values of key columns, per bug\n",
    "        .assign(\n",
    "            SOLVED = lambda x: (\n",
    "                x.groupby('BUG_ID').SOLVED.ffill().astype('bool')\n",
    "            ),\n",
    "            VALUE = lambda x: (\n",
    "                x.groupby('BUG_ID').VALUE.ffill().astype('bool')\n",
    "            ),\n",
    "            TIMESTAMP_OPENING = lambda x: (\n",
    "                x.groupby('BUG_ID').TIMESTAMP_OPENING.ffill()\n",
    "            ),\n",
    "            RELEASE = lambda x: (\n",
    "                x.groupby('BUG_ID').RELEASE.ffill()\n",
    "            ),\n",
    "            MODULE = lambda x: (\n",
    "                x.groupby('BUG_ID').MODULE.ffill()\n",
    "            )\n",
    "        )\n",
    "\n",
    "        # Drops rows in months before the bug was created\n",
    "        # (we have filled NA forward, not backwards)\n",
    "        .dropna(subset=['TIMESTAMP_OPENING'])\n",
    "\n",
    "        # If effective timestamp is NA and the bug is still open,\n",
    "        # it should be assigned the end of the corresponding month\n",
    "        .reset_index()\n",
    "        .assign(\n",
    "            TIMESTAMP_4_EVENT = lambda x: (\n",
    "                x.TIMESTAMP_4_EVENT\n",
    "                .fillna(\n",
    "                    x.MONTH.where(~ x.SOLVED)\n",
    "                )\n",
    "            )\n",
    "        )\n",
    "\n",
    "        # Drops samples of bugs already solved in prior months (not current)\n",
    "        # since they do not add relevant information\n",
    "        # (they are the ones where 'TIMESTAMP_4_EVENT' is still NA)\n",
    "        .dropna(subset=['TIMESTAMP_4_EVENT'])\n",
    "\n",
    "        # Recalculates times since opening, to fill N/A\n",
    "        .assign(TIME = lambda x: x.TIMESTAMP_4_EVENT - x.TIMESTAMP_OPENING)\n",
    "\n",
    "        # Expresses TIME in days\n",
    "        .assign(TIME = lambda x: (x.TIME / pd.Timedelta(days=1)))\n",
    "    )"
   ]
  },
  {
   "cell_type": "code",
   "execution_count": null,
   "metadata": {},
   "outputs": [],
   "source": [
    "# Table will all bugs still open each month\n",
    "df_monthly_time_samples_per_bug = get_monthly_time_samples_per_bug(df_status_changes_by_bug_extended)"
   ]
  },
  {
   "cell_type": "code",
   "execution_count": null,
   "metadata": {},
   "outputs": [],
   "source": [
    "# Uncomment to see example of data per bug:\n",
    "#\n",
    "# df_monthly_time_samples_per_bug.query(\"BUG_ID==1433\")"
   ]
  },
  {
   "cell_type": "code",
   "execution_count": null,
   "metadata": {},
   "outputs": [],
   "source": [
    "# Uncomment to see another example of data per bug:\n",
    "#\n",
    "# df_monthly_time_samples_per_bug.query(\"BUG_ID==1598\")"
   ]
  },
  {
   "cell_type": "code",
   "execution_count": null,
   "metadata": {},
   "outputs": [],
   "source": [
    "df_stats_monthly_time_samples_per_bug = (\n",
    "    df_monthly_time_samples_per_bug\n",
    "    .groupby(['MONTH'])\n",
    "    .TIME\n",
    "    .describe()\n",
    ")"
   ]
  },
  {
   "cell_type": "code",
   "execution_count": null,
   "metadata": {},
   "outputs": [],
   "source": [
    "# df_stats_monthly_time_samples_per_bug.tail()"
   ]
  },
  {
   "cell_type": "code",
   "execution_count": null,
   "metadata": {},
   "outputs": [],
   "source": [
    "########################### Net variation of open bugs ##########################"
   ]
  },
  {
   "cell_type": "code",
   "execution_count": null,
   "metadata": {},
   "outputs": [],
   "source": [
    "#----------------------- Quantification of bug reopenings -----------------------"
   ]
  },
  {
   "cell_type": "code",
   "execution_count": null,
   "metadata": {},
   "outputs": [],
   "source": [
    "def agg_reopenings(df):\n",
    "\n",
    "    df = df.copy()\n",
    "\n",
    "    df['REAL_CLOSED'] = df.CLOSED - df.REOPENED\n",
    "    df.loc[(df.REAL_CLOSED < 0), 'REAL_CLOSED'] = 0\n",
    "    df['FALSE_CLOSED'] = df.CLOSED - df.REAL_CLOSED\n",
    "\n",
    "    # Net contribution\n",
    "    df['BUG_VARIATION'] = df.OPENED - df.CLOSED\n",
    "\n",
    "    return df\n",
    "\n",
    "def get_open_reopen_closed(df):\n",
    "    return (\n",
    "        df\n",
    "        .groupby(['MONTH', 'BUG_ID'])\n",
    "        [['OPENED', 'JUST_OPENED', 'REOPENED', 'CLOSED']]\n",
    "        .sum()\n",
    "        .pipe(agg_reopenings)\n",
    "        .reset_index()\n",
    "    )\n",
    "\n",
    "def get_bug_summary_per_month(df):\n",
    "    '''Aggregates opening/closing events per month per bug\n",
    "    '''\n",
    "\n",
    "    return (\n",
    "        df\n",
    "        .groupby(['MONTH', 'BUG_ID'])\n",
    "        .last()\n",
    "        .drop(columns=['OPENED', 'JUST_OPENED', 'REOPENED', 'CLOSED'])\n",
    "        .reset_index()\n",
    "        .merge(\n",
    "            get_open_reopen_closed(df),\n",
    "            how = 'left',\n",
    "            left_on = ['MONTH', 'BUG_ID'],\n",
    "            right_on = ['MONTH', 'BUG_ID']\n",
    "    )\n",
    ")"
   ]
  },
  {
   "cell_type": "code",
   "execution_count": null,
   "metadata": {},
   "outputs": [],
   "source": [
    "# Obtains, per month and per bug, how many times it has been opened, reopened and closed (for real or false)\n",
    "df_bug_summary_per_month = get_bug_summary_per_month(df_status_changes_by_bug_extended)"
   ]
  },
  {
   "cell_type": "code",
   "execution_count": null,
   "metadata": {},
   "outputs": [],
   "source": [
    "# Uncomment to see example of data per bug:\n",
    "#\n",
    "# df_bug_summary_per_month.query(\"BUG_ID==1433\")"
   ]
  },
  {
   "cell_type": "code",
   "execution_count": null,
   "metadata": {},
   "outputs": [],
   "source": [
    "############### Calculates no. open bugs per module each month ###############"
   ]
  },
  {
   "cell_type": "code",
   "execution_count": null,
   "metadata": {},
   "outputs": [],
   "source": [
    "# Calculates cumulative sum of open bugs per module\n",
    "\n",
    "def get_cummulative_bug_summary_per_month(df):\n",
    "\n",
    "    return (\n",
    "        df\n",
    "        .groupby(['MODULE', 'MONTH'])\n",
    "        ['BUG_VARIATION']\n",
    "        .sum()\n",
    "        .reset_index()\n",
    "        .assign(OPEN_BUGS = lambda x: (\n",
    "            x\n",
    "            .groupby(['MODULE'])\n",
    "            ['BUG_VARIATION']\n",
    "            .transform(lambda x: x.cumsum())\n",
    "        ))\n",
    "    )"
   ]
  },
  {
   "cell_type": "code",
   "execution_count": null,
   "metadata": {},
   "outputs": [],
   "source": [
    "# Dataframe with the temporal evolution of the open bugs per module\n",
    "df_cummulative_bug_summary_per_month = get_cummulative_bug_summary_per_month(df_bug_summary_per_month)"
   ]
  },
  {
   "cell_type": "code",
   "execution_count": null,
   "metadata": {},
   "outputs": [],
   "source": [
    "# Example to inspect the temporal evolution in a module\n",
    "#\n",
    "# df_cummulative_bug_summary_per_month.query('MODULE == \"RO\"').tail()"
   ]
  },
  {
   "cell_type": "markdown",
   "metadata": {},
   "source": [
    "### 3.1 Number of open bugs"
   ]
  },
  {
   "cell_type": "code",
   "execution_count": null,
   "metadata": {},
   "outputs": [],
   "source": [
    "sns.lineplot(\n",
    "    data = (\n",
    "        df_cummulative_bug_summary_per_month\n",
    "        .loc[df_cummulative_bug_summary_per_month.MODULE.isin(most_relevant_modules)]\n",
    "    ),\n",
    "    x = 'MONTH',\n",
    "    y = 'OPEN_BUGS',\n",
    "    estimator = sum,\n",
    "    ci = False,\n",
    "    linewidth = 3\n",
    ")\n",
    "\n",
    "plt.title(f'Evolution of Number of Open Bugs ({today})', fontsize=20)\n",
    "plt.ylabel('No. Net Bugs')\n",
    "plt.xlabel('Time')\n",
    "\n",
    "plt.tight_layout()\n",
    "\n",
    "filename = os.path.join(outputs_folder, 'open_bugs_per_month')\n",
    "plt.savefig(filename + '.png', dpi=300)\n",
    "plt.savefig(filename + '.svg')\n",
    "\n",
    "plt.show()"
   ]
  },
  {
   "cell_type": "code",
   "execution_count": null,
   "metadata": {},
   "outputs": [],
   "source": [
    "g = sns.relplot(\n",
    "    data = (\n",
    "        df_cummulative_bug_summary_per_month\n",
    "        .loc[df_cummulative_bug_summary_per_month.MODULE.isin(most_relevant_modules)]\n",
    "        .assign(MODULE = lambda x: clean_categorical_columns(x.MODULE))\n",
    "    ),\n",
    "    x = 'MONTH',\n",
    "    y = 'OPEN_BUGS',\n",
    "    col = \"MODULE\",\n",
    "    col_wrap = 4,\n",
    "    kind = \"line\",\n",
    "    estimator = sum,\n",
    "    ci = False,\n",
    "    facet_kws={'sharey': True, 'sharex': False}\n",
    ")\n",
    "\n",
    "# Rotates the labels\n",
    "for ax in g.axes.ravel():\n",
    "    ax.set_xticklabels(ax.get_xticklabels(), rotation=30)\n",
    "\n",
    "g.fig.suptitle(f'Open Bugs per Month and Module ({today})\\n\\n', fontsize=20)\n",
    "\n",
    "# To avoid overlaps\n",
    "g.fig.tight_layout()\n",
    "plt.tight_layout()\n",
    "\n",
    "filename = os.path.join(outputs_folder, 'open_bugs_per_month_and_module')\n",
    "plt.savefig(filename + '.png', dpi=300)\n",
    "plt.savefig(filename + '.svg')\n",
    "\n",
    "plt.show()"
   ]
  },
  {
   "cell_type": "code",
   "execution_count": null,
   "metadata": {},
   "outputs": [],
   "source": [
    "# FIXME:\n",
    "\n",
    "# Evolution of the number of open bugs per module in the last 6 months\n",
    "\n",
    "# for module, df_module in df_cummulative_bug_summary_per_month.groupby(['MODULE']):\n",
    "#     display(Markdown(f'**{module}:**'))\n",
    "#     display(df_module.tail())"
   ]
  },
  {
   "cell_type": "markdown",
   "metadata": {},
   "source": [
    "### 3.2 Age of open bugs"
   ]
  },
  {
   "cell_type": "code",
   "execution_count": null,
   "metadata": {},
   "outputs": [],
   "source": [
    "# Evolution of average age of open bugs\n",
    "\n",
    "sns.lineplot(\n",
    "    data = df_monthly_time_samples_per_bug,\n",
    "    x = 'MONTH',\n",
    "    y = 'TIME',\n",
    "    # ci = None\n",
    "    linewidth = 3\n",
    ")\n",
    "\n",
    "plt.title(f'Evolution of Age of Open Bugs ({today})', fontsize=20)\n",
    "plt.ylabel('Age (days)')\n",
    "plt.xlabel('Time')\n",
    "\n",
    "plt.tight_layout()\n",
    "\n",
    "filename = os.path.join(outputs_folder, 'age_open_bugs_per_month')\n",
    "plt.savefig(filename + '.png', dpi=300)\n",
    "plt.savefig(filename + '.svg')\n",
    "\n",
    "plt.show()"
   ]
  },
  {
   "cell_type": "code",
   "execution_count": null,
   "metadata": {},
   "outputs": [],
   "source": [
    "# # FIXME: Exploratory figure\n",
    "\n",
    "# sns.relplot(\n",
    "#     data=df_monthly_time_samples_per_bug,\n",
    "#     x = 'MONTH',\n",
    "#     y = 'TIME',\n",
    "#     col = 'MODULE',\n",
    "#     col_wrap = 4,\n",
    "#     kind = 'line',\n",
    "#     # ci = None\n",
    "#     facet_kws={'sharey': True, 'sharex': False}\n",
    "# )"
   ]
  },
  {
   "cell_type": "code",
   "execution_count": null,
   "metadata": {},
   "outputs": [],
   "source": [
    "# Evolution of average age of open bugs, per module\n",
    "\n",
    "g = sns.relplot(\n",
    "    data = (\n",
    "            df_monthly_time_samples_per_bug\n",
    "            .loc[df_monthly_time_samples_per_bug.MODULE.isin(most_relevant_modules)]\n",
    "            .assign(MODULE = lambda x: clean_categorical_columns(x.MODULE))\n",
    "    ),\n",
    "    x = 'MONTH',\n",
    "    y = 'TIME',\n",
    "    col = 'MODULE',\n",
    "    col_wrap = 4,\n",
    "    kind = 'line',\n",
    "    # ci = None\n",
    "    facet_kws={'sharey': True, 'sharex': False}\n",
    ")\n",
    "\n",
    "# Rotates the labels\n",
    "for ax in g.axes.ravel():\n",
    "    ax.set_xticklabels(ax.get_xticklabels(), rotation=30)\n",
    "\n",
    "g.fig.suptitle(f'Evolution of Age of Open Bugs, per Module ({today})\\n\\n', fontsize=20)\n",
    "\n",
    "# To avoid overlaps\n",
    "g.fig.tight_layout()\n",
    "plt.tight_layout()\n",
    "\n",
    "filename = os.path.join(outputs_folder, 'age_open_bugs_per_month_and_module')\n",
    "plt.savefig(filename + '.png', dpi=300)\n",
    "plt.savefig(filename + '.svg')\n",
    "\n",
    "plt.show()"
   ]
  },
  {
   "cell_type": "markdown",
   "metadata": {},
   "source": [
    "### 3.3 Monthly activity"
   ]
  },
  {
   "cell_type": "code",
   "execution_count": null,
   "metadata": {},
   "outputs": [],
   "source": [
    "# Net contributions per month\n",
    "sns.lineplot(\n",
    "    data = df_bug_summary_per_month,\n",
    "    x = 'MONTH',\n",
    "    y = 'BUG_VARIATION',\n",
    "    #hue = 'MODULE',\n",
    "    estimator = sum,\n",
    "    ci = False,\n",
    "    linewidth = 3\n",
    ")\n",
    "\n",
    "plt.title(f'Net Variation Open Bugs per Month ({today})', fontsize=20)\n",
    "plt.ylabel('No. Net Bugs')\n",
    "plt.xlabel('Time')\n",
    "\n",
    "plt.tight_layout()\n",
    "\n",
    "filename = os.path.join(outputs_folder, 'net_variation_open_bugs_per_month')\n",
    "plt.savefig(filename + '.png', dpi=300)\n",
    "plt.savefig(filename + '.svg')\n",
    "\n",
    "plt.show()"
   ]
  },
  {
   "cell_type": "code",
   "execution_count": null,
   "metadata": {},
   "outputs": [],
   "source": [
    "# Adapts series for easier visualization:\n",
    "# - New + reopen bugs are positive\n",
    "# - Solved (true or false) are made negative (for convetion)\n",
    "# - Keeps the \"false\" changes ('REOPENED' and 'FALSE_CLOSED') to compare them with totals\n",
    "# - 'JUST_OPEN' and 'REAL_CLOSED' are dropt for being redundant\n",
    "# - 'TOTAL_OPEN' is also dropt\n",
    "\n",
    "temporal_bug_data_for_plots = (\n",
    "    df_bug_summary_per_month\n",
    "\n",
    "    .assign(\n",
    "        CLOSED = lambda x: (- x.CLOSED),\n",
    "        FALSE_CLOSED = lambda x: (- x.FALSE_CLOSED),\n",
    "    )\n",
    "    .drop(columns=['JUST_OPENED', 'REAL_CLOSED'])\n",
    "    .melt(\n",
    "        id_vars=['MONTH', 'BUG_ID', 'MODULE'],\n",
    "        value_vars=['OPENED', 'REOPENED', 'FALSE_CLOSED', 'CLOSED']\n",
    "    )\n",
    ")\n",
    "\n",
    "sns.lineplot(\n",
    "    data = temporal_bug_data_for_plots,\n",
    "    x = 'MONTH',\n",
    "    y = 'value',\n",
    "    hue = 'variable',\n",
    "    estimator = sum,\n",
    "    ci = False,\n",
    "    linewidth = 3\n",
    ")\n",
    "\n",
    "plt.title(f'Contributions to Variation of Open Bugs per Month ({today})', fontsize=20)\n",
    "plt.ylabel('No. Net Bugs')\n",
    "plt.xlabel('Time')\n",
    "\n",
    "plt.tight_layout()\n",
    "\n",
    "filename = os.path.join(outputs_folder, 'contribs_variation_open_bugs_per_month')\n",
    "plt.savefig(filename + '.png', dpi=300)\n",
    "plt.savefig(filename + '.svg')\n",
    "\n",
    "plt.show()"
   ]
  },
  {
   "cell_type": "code",
   "execution_count": null,
   "metadata": {},
   "outputs": [],
   "source": [
    "g = sns.relplot(\n",
    "    data = (\n",
    "        temporal_bug_data_for_plots\n",
    "        .loc[temporal_bug_data_for_plots.MODULE.isin(most_relevant_modules)]\n",
    "        .assign(MODULE = lambda x: clean_categorical_columns(x.MODULE))\n",
    "    ),\n",
    "    x = 'MONTH',\n",
    "    y = 'value',\n",
    "    hue = 'variable',\n",
    "    col = \"MODULE\",\n",
    "    col_wrap = 4,\n",
    "    kind=\"line\",\n",
    "    estimator = sum,\n",
    "    ci = False,\n",
    "    facet_kws={'sharey': True, 'sharex': False}\n",
    ")\n",
    "\n",
    "# Rotates the labels\n",
    "for ax in g.axes.ravel():\n",
    "    ax.set_xticklabels(ax.get_xticklabels(), rotation=30)\n",
    "\n",
    "g.fig.suptitle(f'Contributions to Variation of Open Bugs per Month and Module ({today})\\n\\n', fontsize=20)\n",
    "\n",
    "# To avoid overlaps\n",
    "g.fig.tight_layout()\n",
    "plt.tight_layout()\n",
    "\n",
    "filename = os.path.join(outputs_folder, 'contribs_variation_open_bugs_per_month_and_module')\n",
    "plt.savefig(filename + '.png', dpi=300)\n",
    "plt.savefig(filename + '.svg')\n",
    "\n",
    "plt.show()"
   ]
  },
  {
   "cell_type": "markdown",
   "metadata": {},
   "source": [
    "TODO: (table) Evolution of the number of open bugs per module in the last 6 months"
   ]
  },
  {
   "cell_type": "markdown",
   "metadata": {},
   "source": [
    "## 4. Top contributors"
   ]
  },
  {
   "cell_type": "markdown",
   "metadata": {},
   "source": [
    "### 4.1 Top reporters of bugs"
   ]
  },
  {
   "cell_type": "markdown",
   "metadata": {},
   "source": [
    "Individual contributors:"
   ]
  },
  {
   "cell_type": "code",
   "execution_count": null,
   "metadata": {},
   "outputs": [],
   "source": [
    "df_bug_reporters = (\n",
    "    df_current_bug_state.ISSUER\n",
    "    .value_counts()\n",
    "    .to_frame()\n",
    "    .reset_index()\n",
    "    .rename(columns={'index': 'issuer', 'ISSUER': 'reported_bugs'})\n",
    "    .assign(company = lambda x: x.issuer.str.split('@', expand=True)[1])\n",
    ")"
   ]
  },
  {
   "cell_type": "code",
   "execution_count": null,
   "metadata": {},
   "outputs": [],
   "source": [
    "topN = 25\n",
    "\n",
    "df_top_bug_reporters = (\n",
    "    pd.concat(\n",
    "        [\n",
    "            df_bug_reporters[0:topN],\n",
    "            pd.DataFrame(\n",
    "                {\n",
    "                    'issuer': 'Other',\n",
    "                    'reported_bugs': df_bug_reporters[topN:].reported_bugs.sum(),\n",
    "                    'company': 'Other'\n",
    "                },\n",
    "                index = [topN]\n",
    "            )\n",
    "        ]\n",
    "    )\n",
    ")"
   ]
  },
  {
   "cell_type": "code",
   "execution_count": null,
   "metadata": {},
   "outputs": [],
   "source": [
    "fig, ax = plt.subplots(figsize = (10, 15))\n",
    "\n",
    "sns.barplot(\n",
    "    data = df_top_bug_reporters,\n",
    "    y = 'issuer',\n",
    "    x = 'reported_bugs',\n",
    "    ax = ax\n",
    ")\n",
    "\n",
    "ax.set_title(f'Top Individual Bug Reporters ({today})\\n', fontsize=20)\n",
    "ax.set_xlabel('No. Reported Bugs', fontsize=14)\n",
    "ax.set_ylabel(None)\n",
    "\n",
    "fig.tight_layout()\n",
    "\n",
    "filename = os.path.join(outputs_folder, 'top_bug_reporters_individual')\n",
    "fig.savefig(filename + '.png', dpi=300)\n",
    "fig.savefig(filename + '.svg')\n",
    "\n",
    "plt.show()"
   ]
  },
  {
   "cell_type": "code",
   "execution_count": null,
   "metadata": {},
   "outputs": [],
   "source": [
    "df_top_bug_reporters"
   ]
  },
  {
   "cell_type": "markdown",
   "metadata": {},
   "source": [
    "Contributions per company:"
   ]
  },
  {
   "cell_type": "code",
   "execution_count": null,
   "metadata": {},
   "outputs": [],
   "source": [
    "df_bug_reporting_companies = (\n",
    "    df_bug_reporters\n",
    "    .groupby('company')\n",
    "    .reported_bugs\n",
    "    .sum()\n",
    "    .sort_values(ascending=False)\n",
    ")"
   ]
  },
  {
   "cell_type": "code",
   "execution_count": null,
   "metadata": {},
   "outputs": [],
   "source": [
    "topN = 15\n",
    "\n",
    "df_top_bug_reporting_companies = (\n",
    "    pd.concat(\n",
    "        [\n",
    "            df_bug_reporting_companies[0:topN].to_frame().reset_index(),\n",
    "            pd.DataFrame(\n",
    "                {\n",
    "                    'company': 'Other',\n",
    "                    'reported_bugs': df_bug_reporting_companies[topN:].sum()\n",
    "                },\n",
    "                index = [topN]\n",
    "            )\n",
    "        ]\n",
    "    )\n",
    ")"
   ]
  },
  {
   "cell_type": "code",
   "execution_count": null,
   "metadata": {},
   "outputs": [],
   "source": [
    "fig, ax = plt.subplots(figsize = (10, 10))\n",
    "\n",
    "sns.barplot(\n",
    "    data = df_top_bug_reporting_companies,\n",
    "    y = 'company',\n",
    "    x = 'reported_bugs',\n",
    "    ax = ax\n",
    ")\n",
    "\n",
    "ax.set_title(f'Top Bug Reporters per Organization ({today})\\n', fontsize=20)\n",
    "ax.set_xlabel('No. Reported Bugs', fontsize=14)\n",
    "ax.set_ylabel(None)\n",
    "\n",
    "fig.tight_layout()\n",
    "\n",
    "filename = os.path.join(outputs_folder, 'top_bug_reporters_per_organization')\n",
    "fig.savefig(filename + '.png', dpi=300)\n",
    "fig.savefig(filename + '.svg')\n",
    "\n",
    "plt.show()"
   ]
  },
  {
   "cell_type": "code",
   "execution_count": null,
   "metadata": {},
   "outputs": [],
   "source": [
    "df_top_bug_reporting_companies"
   ]
  },
  {
   "cell_type": "markdown",
   "metadata": {},
   "source": [
    "### 4.2 Bugs assignments"
   ]
  },
  {
   "cell_type": "code",
   "execution_count": null,
   "metadata": {},
   "outputs": [],
   "source": [
    "df_owner_events_by_bug = df_bug_full[ df_bug_full.OPERATION=='assigned_to' ]"
   ]
  },
  {
   "cell_type": "code",
   "execution_count": null,
   "metadata": {},
   "outputs": [],
   "source": [
    "def get_current_owner_bug(df):\n",
    "    return (\n",
    "        df\n",
    "        .reset_index()\n",
    "        .groupby('BUG_ID')\n",
    "        .last()\n",
    "        .reset_index()\n",
    "        .set_index('index')\n",
    "        .pipe(remove_index_name)\n",
    "    )"
   ]
  },
  {
   "cell_type": "code",
   "execution_count": null,
   "metadata": {},
   "outputs": [],
   "source": [
    "df_current_owner_bug = get_current_owner_bug(df_owner_events_by_bug)"
   ]
  },
  {
   "cell_type": "code",
   "execution_count": null,
   "metadata": {},
   "outputs": [],
   "source": [
    "print(f'Share of bugs with owner: {df_current_owner_bug.shape[0] / df_bug_full.BUG_ID.nunique() * 100:.2f}%')"
   ]
  },
  {
   "cell_type": "markdown",
   "metadata": {},
   "source": [
    "TODO: Top assignees of bugs (needs to be filtered by bugs still open)"
   ]
  },
  {
   "cell_type": "markdown",
   "metadata": {},
   "source": [
    "### 4.3 TODO: Top closers of bugs"
   ]
  },
  {
   "cell_type": "code",
   "execution_count": null,
   "metadata": {},
   "outputs": [],
   "source": []
  },
  {
   "cell_type": "markdown",
   "metadata": {},
   "source": [
    "## 5. Last significant events"
   ]
  },
  {
   "cell_type": "markdown",
   "metadata": {},
   "source": [
    "### 5.1 Last reported bugs"
   ]
  },
  {
   "cell_type": "code",
   "execution_count": null,
   "metadata": {},
   "outputs": [],
   "source": [
    "df_current_bug_state.sort_values('TIMESTAMP').tail(10)"
   ]
  },
  {
   "cell_type": "markdown",
   "metadata": {},
   "source": [
    "### 5.2 Last bug assignments"
   ]
  },
  {
   "cell_type": "code",
   "execution_count": null,
   "metadata": {},
   "outputs": [],
   "source": [
    "df_current_owner_bug.sort_values('TIMESTAMP', ascending=True).tail(10)"
   ]
  },
  {
   "cell_type": "markdown",
   "metadata": {},
   "source": [
    "### 5.3 TODO: Last resolved bugs"
   ]
  },
  {
   "cell_type": "code",
   "execution_count": null,
   "metadata": {},
   "outputs": [],
   "source": []
  },
  {
   "cell_type": "markdown",
   "metadata": {},
   "source": [
    "## 6. Saving the notebook as webpage"
   ]
  },
  {
   "cell_type": "code",
   "execution_count": null,
   "metadata": {},
   "outputs": [],
   "source": [
    "!jupyter nbconvert --to html --output outputs/bugzilla_analysis.html --TemplateExporter.exclude_input=True bugzilla_analysis.ipynb"
   ]
  },
  {
   "cell_type": "code",
   "execution_count": null,
   "metadata": {},
   "outputs": [],
   "source": [
    "print('DONE')"
   ]
  },
  {
   "cell_type": "markdown",
   "metadata": {},
   "source": [
    "---\n"
   ]
  },
  {
   "cell_type": "markdown",
   "metadata": {},
   "source": []
  }
 ],
 "metadata": {
  "interpreter": {
   "hash": "436f2814f1f12011c00cf6933038a969dd0edc275127d459a28a14c2140dfae0"
  },
  "kernelspec": {
   "display_name": "Python 3.8.5 64-bit ('osm-analytics': conda)",
   "name": "python3"
  },
  "language_info": {
   "codemirror_mode": {
    "name": "ipython",
    "version": 3
   },
   "file_extension": ".py",
   "mimetype": "text/x-python",
   "name": "python",
   "nbconvert_exporter": "python",
   "pygments_lexer": "ipython3",
   "version": "3.8.5"
  }
 },
 "nbformat": 4,
 "nbformat_minor": 4
}
