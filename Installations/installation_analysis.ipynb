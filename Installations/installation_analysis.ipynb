{
 "cells": [
  {
   "cell_type": "markdown",
   "metadata": {
    "id": "W2Ms-IHao7T1"
   },
   "source": [
    "# Analysis of OSM installations"
   ]
  },
  {
   "cell_type": "code",
   "execution_count": null,
   "metadata": {
    "id": "xsr_maq9o7T6"
   },
   "outputs": [],
   "source": [
    "import os\n",
    "from pathlib import Path\n",
    "import pandas as pd\n",
    "from pandas.api.types import CategoricalDtype\n",
    "import numpy as np\n",
    "import datetime as dt\n",
    "import matplotlib.pyplot as plt\n",
    "%matplotlib inline\n",
    "import seaborn as sns\n",
    "import plotly.express as px\n",
    "import plotly.io as pio\n",
    "from IPython.display import display, Markdown"
   ]
  },
  {
   "cell_type": "code",
   "execution_count": null,
   "metadata": {
    "id": "9ge6OIDjo7T8"
   },
   "outputs": [],
   "source": [
    "# Sets a bigger default size for figures\n",
    "plt.rcParams['figure.figsize'] = [14, 8]\n",
    "plt.rcParams['figure.dpi'] = 80 # 100 gives great resolution and 200 gives optimal resolution, but much slower\n",
    "sns.set(rc={'figure.figsize':(12,8)})"
   ]
  },
  {
   "cell_type": "code",
   "execution_count": null,
   "metadata": {
    "id": "ritmR90mo7T8"
   },
   "outputs": [],
   "source": [
    "pio.renderers.default = \"notebook\""
   ]
  },
  {
   "cell_type": "code",
   "execution_count": null,
   "metadata": {
    "id": "a3SWx3cgo7T9"
   },
   "outputs": [],
   "source": [
    "plt.style.use('fivethirtyeight')"
   ]
  },
  {
   "cell_type": "code",
   "execution_count": null,
   "metadata": {
    "id": "zPeHPUZno7T9"
   },
   "outputs": [],
   "source": [
    "## 1. Input parameters"
   ]
  },
  {
   "cell_type": "code",
   "execution_count": null,
   "metadata": {
    "id": "gu0aQmzio7T-"
   },
   "outputs": [],
   "source": [
    "install_events_uri = 'https://osm.etsi.org/stats/install-log.csv'\n",
    "\n",
    "date_first_valid_sample = '2021-11-29'"
   ]
  },
  {
   "cell_type": "code",
   "execution_count": null,
   "metadata": {
    "id": "D3scinCNo7T_"
   },
   "outputs": [],
   "source": [
    "skip_export_to_html = False"
   ]
  },
  {
   "cell_type": "code",
   "execution_count": null,
   "metadata": {
    "id": "SuhRtKyMo7UA"
   },
   "outputs": [],
   "source": [
    "inputs_folder = 'inputs'\n",
    "outputs_folder = 'outputs'\n",
    "outputs_path = Path(outputs_folder)"
   ]
  },
  {
   "cell_type": "code",
   "execution_count": null,
   "metadata": {
    "id": "536S0jxEo7UB"
   },
   "outputs": [],
   "source": [
    "relevant_releases = [\n",
    "    # '11.0.0rc1',\n",
    "    'ReleaseTWELVE',\n",
    "    'Release TWELVE',\n",
    "    'ReleaseTWELVE-daily',\n",
    "    'Release TWELVE-daily',\n",
    "    'ReleaseELEVEN',\n",
    "    'Release ELEVEN',\n",
    "    'ReleaseELEVEN-daily',\n",
    "    'Release ELEVEN-daily',\n",
    "    'release',\n",
    "    'testing-daily'\n",
    "]"
   ]
  },
  {
   "cell_type": "code",
   "execution_count": null,
   "metadata": {
    "id": "ZLiRvClSo7UC"
   },
   "outputs": [],
   "source": [
    "sorted_types_of_install_events = [\n",
    "    'start',\n",
    "    'checks',\n",
    "    'prereq',\n",
    "    'docker_ce',\n",
    "    'k8scluster',\n",
    "    # Order to be confirmed:\n",
    "    'bootstrap_k8s',\n",
    "    # Order to be confirmed:\n",
    "    'bootstrap_lxd',\n",
    "    'juju',\n",
    "    'docker_images',\n",
    "    'osm_files',\n",
    "    'deploy_osm',\n",
    "    'osmclient',\n",
    "    'healthchecks',\n",
    "    'final_ops',\n",
    "    'end',\n",
    "\n",
    "    # To be sorted\n",
    "    'install_microstack_ok'\n",
    "]\n",
    "\n",
    "events_to_discard = ['hola', 'hola2', 'my-event', 'my-second-event', 'test-event']\n",
    "\n",
    "events_renaming = {\n",
    "    'add_local_k8scluster': 'final_ops',\n",
    "    'after_healthcheck': 'healthchecks',\n",
    "    'checkingroot': 'checks',\n",
    "    'deploy_osm_pla': 'deploy_osm',\n",
    "    'deploy_osm_services_k8s': 'deploy_osm',\n",
    "    'docker_build': 'docker_images',\n",
    "    'env_files': 'osm_files',\n",
    "    'init_k8s': 'k8scluster',\n",
    "    'install_helm': 'k8scluster',\n",
    "    'install_k8s': 'k8scluster',\n",
    "    'juju_controller': 'juju',\n",
    "    'juju_install': 'juju',\n",
    "    'k8s_metallb': 'k8scluster',\n",
    "    'k8s_ready': 'k8scluster',\n",
    "    'k8s_storageclass': 'k8scluster',\n",
    "    'manifest_files': 'osm_files',\n",
    "    'noroot': 'checks',\n",
    "    'osm_unhealthy': 'healthchecks',\n",
    "    'prereqok': 'prereq',\n",
    "    'proceed': 'checks'\n",
    "}\n",
    "\n",
    "sorted_types_of_install_operations = [\n",
    "    'start_ok',\n",
    "    'release',\n",
    "    'docker_tag',\n",
    "    'installation_type',\n",
    "    'checkingroot_ok',\n",
    "    'noroot_ok',\n",
    "    'proceed_ok',\n",
    "    'prereqok_ok',\n",
    "    'docker_ce_ok',\n",
    "    'install_k8s_ok',\n",
    "    'init_k8s_ok',\n",
    "    'install_helm_ok',\n",
    "    'k8s_storageclass_ok',\n",
    "    'k8s_metallb_ok',\n",
    "    'k8s_ready_ok',\n",
    "    'k8scluster_ok',\n",
    "    'juju_install_ok',\n",
    "    'juju_controller_ok',\n",
    "    # Order to be confirmed:\n",
    "    'bootstrap_k8s_ok',\n",
    "    # Order to be confirmed:\n",
    "    'bootstrap_lxd_ok',\n",
    "    'juju_ok',\n",
    "    'docker_images_ok',\n",
    "    'manifest_files_ok',\n",
    "    'env_files_ok',\n",
    "    'deploy_charmed_services_ok',\n",
    "    'kube_secrets_ok',\n",
    "    'update_manifest_files_ok',\n",
    "    'namespace_vol_ok',\n",
    "    'deploy_osm_pla_ok',\n",
    "    'deploy_osm_services_k8s_ok',\n",
    "    'osmclient_ok',\n",
    "    'osm_unhealthy',\n",
    "    'after_healthcheck_ok',\n",
    "    'add_local_k8scluster_ok',\n",
    "    'end',\n",
    "    'fatal',\n",
    "\n",
    "    # To be sorted\n",
    "    'apt_proxy_configured_ok',\n",
    "    'install_k8s_monitoring_ok',\n",
    "\n",
    "    'install_microstack_ok'\n",
    "]\n",
    "\n",
    "operations_to_discard = ['start', 'my-op', 'op1', 'op2', 'fatal_my-event', 'test-event', 'fatal_test-event']\n",
    "\n",
    "operations_renaming = {\n",
    "    'apt_proxy_configured': 'apt_proxy_configured_ok',\n",
    "    'checkingroot': 'checkingroot_ok',\n",
    "    'noroot': 'noroot_ok',\n",
    "    'proceed': 'proceed_ok',\n",
    "    'prereqok': 'prereqok_ok',\n",
    "    'docker_ce': 'docker_ce_ok',\n",
    "    'install_k8s': 'install_k8s_ok',\n",
    "    'init_k8s': 'init_k8s_ok',\n",
    "    'install_helm': 'install_helm_ok',\n",
    "    'k8s_storageclass': 'k8s_storageclass_ok',\n",
    "    'k8s_metallb': 'k8s_metallb_ok',\n",
    "    'k8scluster': 'k8scluster_ok',\n",
    "    'juju_controller': 'juju_controller_ok',\n",
    "    'juju': 'juju_ok',\n",
    "    'docker_build': 'docker_images_ok',\n",
    "    'docker_build_ok': 'docker_images_ok',\n",
    "    'manifest_files': 'manifest_files_ok',\n",
    "    'env_files': 'env_files_ok',\n",
    "    'deploy_osm_pla': 'deploy_osm_pla_ok',\n",
    "    'deploy_osm_services_k8s': 'deploy_osm_services_k8s_ok',\n",
    "    'osmclient': 'osmclient_ok',\n",
    "    'after_healthcheck': 'after_healthcheck_ok',\n",
    "    'add_local_k8scluster': 'add_local_k8scluster_ok'\n",
    "}"
   ]
  },
  {
   "cell_type": "code",
   "execution_count": null,
   "metadata": {
    "colab": {
     "base_uri": "https://localhost:8080/",
     "height": 46
    },
    "id": "ApKyErRLo7UD",
    "outputId": "d2909974-087d-40f3-9441-1ff58a175aa5"
   },
   "outputs": [],
   "source": [
    "today_as_datetime = pd.to_datetime(\"today\")\n",
    "today = today_as_datetime.strftime('%Y-%m-%d')\n",
    "\n",
    "display(Markdown(f'**Date and time of the report:** {today_as_datetime}'))"
   ]
  },
  {
   "cell_type": "markdown",
   "metadata": {
    "id": "pNiopxWuo7UD"
   },
   "source": [
    "## 1. Loading and processing installation events"
   ]
  },
  {
   "cell_type": "code",
   "execution_count": null,
   "metadata": {
    "id": "G5dSSjSwo7UE"
   },
   "outputs": [],
   "source": [
    "column_names = ['timestamp', 'location', 'queries']"
   ]
  },
  {
   "cell_type": "code",
   "execution_count": null,
   "metadata": {
    "id": "x15oLyzoo7UF"
   },
   "outputs": [],
   "source": [
    "def convert_keyvalues_to_series(df_with_keys):\n",
    "    cols = df_with_keys.columns\n",
    "    df_with_series = df_with_keys.copy()\n",
    "\n",
    "    for col in cols:\n",
    "        # Breaks down each column into 2 columns: keys and values\n",
    "        df = df_with_keys[col].str.split('=', expand=True)\n",
    "\n",
    "        # If there are values, adds them; else, the column should be empty\n",
    "        df_with_series[col] = df[1] if (df.shape[1] == 2) else pd.NA\n",
    "\n",
    "        # New name for the column, from the key name\n",
    "        df_with_series.rename(columns={col: df.iloc[0, 0]}, inplace=True)\n",
    "\n",
    "    return df_with_series"
   ]
  },
  {
   "cell_type": "code",
   "execution_count": null,
   "metadata": {
    "id": "hEomqBjbo7UF"
   },
   "outputs": [],
   "source": [
    "def drop_undesired_categories(df, col_name, undesired_categories):\n",
    "    mask = ~ df.loc[:, col_name].isin(undesired_categories)\n",
    "    return df.loc[mask].copy()"
   ]
  },
  {
   "cell_type": "code",
   "execution_count": null,
   "metadata": {
    "id": "28FYJ_ppo7UF"
   },
   "outputs": [],
   "source": [
    "def fix_categories(input_serie, known_categories):\n",
    "    unknown = input_serie[~ input_serie.isin(known_categories)].unique().tolist()\n",
    "    return [known_categories + unknown, unknown]\n",
    "\n",
    "def make_sorted_categorical(sr, known_categories):\n",
    "    extended_categories, unknown_categories = fix_categories(sr, known_categories)\n",
    "    # display(pd.Series(extended_categories).value_counts())\n",
    "    new_category = CategoricalDtype(categories=extended_categories, ordered=True)\n",
    "    if unknown_categories:\n",
    "        print(f\"Unknown categories: {unknown_categories}\")\n",
    "    return sr.astype(new_category)\n",
    "\n",
    "def remove_spurious_columns(df):\n",
    "    # Removes any spurious (`None`) columns as result from malformed queries\n",
    "    return df.loc[:, [col for col in df.columns if col]]"
   ]
  },
  {
   "cell_type": "code",
   "execution_count": null,
   "metadata": {
    "id": "GFjQROa6o7UG"
   },
   "outputs": [],
   "source": [
    "def load_install_events_and_operations():\n",
    "    # df_raw_install_events = pd.read_csv(install_events_uri, sep=';', header=0, names=column_names, skiprows=120)\n",
    "    # df_raw_install_events = pd.read_csv(install_events_uri, sep=';', header=0, names=column_names, skiprows=15139)\n",
    "    df_raw_install_events = pd.read_csv(\n",
    "        install_events_uri,\n",
    "        sep=';',\n",
    "        header=0,\n",
    "        names=column_names,\n",
    "        skiprows=120,\n",
    "        error_bad_lines=False\n",
    "    )\n",
    "\n",
    "    return (\n",
    "        df_raw_install_events\n",
    "        .drop(columns='queries')\n",
    "        .join(\n",
    "            (\n",
    "                df_raw_install_events\n",
    "                ['queries']\n",
    "                .str.split('&', expand=True)\n",
    "                .drop(columns=0)    # 1st column should be empty due to `&`\n",
    "                .pipe(convert_keyvalues_to_series)\n",
    "            )\n",
    "        )\n",
    "\n",
    "        # Empty strings should be NA\n",
    "        .replace(\"\", pd.NA)\n",
    "\n",
    "        # Removes malformed lines ('installation_id' will be missing, among others)\n",
    "        .dropna(subset=['installation_id'])\n",
    "\n",
    "        # Removes lines with undesired 'event' or 'operation' categories\n",
    "        .pipe(drop_undesired_categories, 'event', events_to_discard)\n",
    "        .pipe(drop_undesired_categories, 'operation', operations_to_discard)\n",
    "\n",
    "        # Replaces values of old 'event' or 'operation' categories by their new names\n",
    "        .assign(event = lambda x: x.event.replace(events_renaming))\n",
    "        .assign(operation = lambda x: x.operation.replace(operations_renaming))\n",
    "\n",
    "        # If within the same installation attempt we have a duplicate 'operation', only last sample is kept\n",
    "        .drop_duplicates(subset=['installation_id', 'operation'], keep='last')\n",
    "\n",
    "        # Drops lines with NA in `event` or `operation`\n",
    "        .dropna(subset=['event', 'operation'])\n",
    "\n",
    "        # Fixes data types\n",
    "        # .assign(timestamp = lambda x: pd.to_datetime(x.timestamp))\n",
    "        .assign(timestamp = lambda x: pd.to_datetime(x.timestamp, errors='coerce'))\n",
    "        .dropna(subset=['timestamp'])\n",
    "        .assign(location = lambda x: x.location.astype('category'))\n",
    "        .assign(event = lambda x: make_sorted_categorical(x.event, sorted_types_of_install_events))\n",
    "        .assign(operation = lambda x: make_sorted_categorical(x.operation, sorted_types_of_install_operations))\n",
    "\n",
    "        # Removes any spurious (`None`) columns as result from malformed queries\n",
    "        .pipe(remove_spurious_columns)\n",
    "    )"
   ]
  },
  {
   "cell_type": "code",
   "execution_count": null,
   "metadata": {
    "id": "duif8W6Co7UG"
   },
   "outputs": [],
   "source": [
    "# load_install_events_and_operations()"
   ]
  },
  {
   "cell_type": "code",
   "execution_count": null,
   "metadata": {
    "colab": {
     "base_uri": "https://localhost:8080/"
    },
    "id": "47Gw6Nkxo7UH",
    "outputId": "03f57145-161d-4c81-a265-3fb2dab33723"
   },
   "outputs": [],
   "source": [
    "df_install_events_and_operations = (\n",
    "    load_install_events_and_operations()\n",
    "    .query(\"timestamp >= @date_first_valid_sample\")\n",
    ")"
   ]
  },
  {
   "cell_type": "code",
   "execution_count": null,
   "metadata": {
    "id": "DNVz0FPEo7UH"
   },
   "outputs": [],
   "source": [
    "# Uncomment For CSV debugging\n",
    "#\n",
    "# !wget -N ${install_events_uri}\n",
    "#\n",
    "## Uncomment to extract specific line\n",
    "##!awk \"{if(NR==36972) print $0}\" install-log.csv"
   ]
  },
  {
   "cell_type": "code",
   "execution_count": null,
   "metadata": {
    "id": "Nuc2TODHo7UH"
   },
   "outputs": [],
   "source": [
    "# Uncomment To force removal of unknown categories if needed\n",
    "#\n",
    "# mask = df_install_events.event.isin(sorted_types_of_install_events) & df_install_events.operation.isin(sorted_types_of_install_operations)\n",
    "# df_install_events = df_install_events.loc[mask]"
   ]
  },
  {
   "cell_type": "code",
   "execution_count": null,
   "metadata": {
    "id": "h0ARMCXTo7UH"
   },
   "outputs": [],
   "source": [
    "# df_install_events_and_operations.info()"
   ]
  },
  {
   "cell_type": "code",
   "execution_count": null,
   "metadata": {
    "id": "RUOINJJCo7UI"
   },
   "outputs": [],
   "source": [
    "# df_install_events_and_operations.location.value_counts()"
   ]
  },
  {
   "cell_type": "code",
   "execution_count": null,
   "metadata": {
    "id": "QwsDC70Fo7UI"
   },
   "outputs": [],
   "source": [
    "# df_install_events_and_operations.head()"
   ]
  },
  {
   "cell_type": "code",
   "execution_count": null,
   "metadata": {
    "id": "nal71eGPo7UI"
   },
   "outputs": [],
   "source": [
    "##############################\n",
    "## 2. Preprocessing\n",
    "##############################"
   ]
  },
  {
   "cell_type": "code",
   "execution_count": null,
   "metadata": {
    "id": "BdMex_a_o7UI"
   },
   "outputs": [],
   "source": [
    "# Organization in wide format"
   ]
  },
  {
   "cell_type": "code",
   "execution_count": null,
   "metadata": {
    "id": "giEOraRxo7UJ"
   },
   "outputs": [],
   "source": [
    "def get_achieved_operations(df):\n",
    "    return (\n",
    "        pd.concat(\n",
    "            [\n",
    "                # All operations that explicitly show progress in the installation\n",
    "                (\n",
    "                    df\n",
    "                    .assign(value = lambda x: x.value.fillna(True))\n",
    "                    .query(\"value == True\")\n",
    "                    .rename(columns={'operation': 'achievement'})\n",
    "                    .drop(columns='value')\n",
    "                ),\n",
    "\n",
    "                # Adds extra rows to flag the beginning of the installation\n",
    "                (\n",
    "                    df\n",
    "                    .query(\"(event == 'start') & (operation == 'release')\")\n",
    "                    .assign(operation = 'start_ok')\n",
    "                    .rename(columns={'operation': 'achievement'})\n",
    "                    .drop(columns='value')\n",
    "                )\n",
    "            ]\n",
    "        )\n",
    "        .sort_index()\n",
    "        .assign(achievement = lambda x: make_sorted_categorical(x.achievement, sorted_types_of_install_operations).cat.remove_unused_categories())\n",
    "    )"
   ]
  },
  {
   "cell_type": "code",
   "execution_count": null,
   "metadata": {
    "id": "xM4EQKKEo7UJ"
   },
   "outputs": [],
   "source": [
    "df_achieved_operations = get_achieved_operations(df_install_events_and_operations)"
   ]
  },
  {
   "cell_type": "code",
   "execution_count": null,
   "metadata": {
    "id": "T4-0wr_Po7UJ"
   },
   "outputs": [],
   "source": [
    "# df_achieved_operations.info()"
   ]
  },
  {
   "cell_type": "code",
   "execution_count": null,
   "metadata": {
    "id": "Rh9QPvB-o7UJ"
   },
   "outputs": [],
   "source": [
    "# df_achieved_operations.head()"
   ]
  },
  {
   "cell_type": "code",
   "execution_count": null,
   "metadata": {
    "id": "S_AvrgLpo7UJ"
   },
   "outputs": [],
   "source": [
    "def cast_axis_to_str(df):\n",
    "    df.columns = df.columns.astype(str)\n",
    "    return df\n",
    "\n",
    "def remove_column_axis_name(df):\n",
    "    df.columns.name = None\n",
    "    return df\n",
    "\n",
    "def get_info_operations_wide(df):\n",
    "    return (\n",
    "        df\n",
    "        .loc[:, ['installation_id', 'operation', 'value']]\n",
    "        .assign(value = lambda x: x.value.fillna(True))\n",
    "        .query(\"value != True\")\n",
    "        .pivot(\n",
    "            index = 'installation_id',\n",
    "            columns = 'operation',\n",
    "            values = 'value'\n",
    "        )\n",
    "        .pipe(cast_axis_to_str)\n",
    "        .pipe(remove_column_axis_name)\n",
    "        .reset_index()\n",
    "    )"
   ]
  },
  {
   "cell_type": "code",
   "execution_count": null,
   "metadata": {
    "id": "k2yHS-0Ho7UK"
   },
   "outputs": [],
   "source": [
    "df_info_operations_wide = get_info_operations_wide(df_install_events_and_operations)"
   ]
  },
  {
   "cell_type": "code",
   "execution_count": null,
   "metadata": {
    "id": "3CHLce_yo7UK"
   },
   "outputs": [],
   "source": [
    "# df_info_operations_wide.info()"
   ]
  },
  {
   "cell_type": "code",
   "execution_count": null,
   "metadata": {
    "id": "RZmZM-S7o7UK"
   },
   "outputs": [],
   "source": [
    "# df_info_operations_wide.head()"
   ]
  },
  {
   "cell_type": "code",
   "execution_count": null,
   "metadata": {
    "id": "LzBLqecpo7UK"
   },
   "outputs": [],
   "source": [
    "# df_install_events_and_operations.query(\"operation == 'fatal'\")"
   ]
  },
  {
   "cell_type": "code",
   "execution_count": null,
   "metadata": {
    "id": "phw0R9wxo7UK"
   },
   "outputs": [],
   "source": [
    "# df_info_operations_wide[~ df_info_operations_wide.fatal.isna()]"
   ]
  },
  {
   "cell_type": "code",
   "execution_count": null,
   "metadata": {
    "id": "l6C0dNcto7UK"
   },
   "outputs": [],
   "source": [
    "df_installations_wide = (\n",
    "    df_achieved_operations\n",
    "    .merge(\n",
    "        df_info_operations_wide,\n",
    "        how = 'left',\n",
    "        on = 'installation_id'\n",
    "    )\n",
    ")"
   ]
  },
  {
   "cell_type": "code",
   "execution_count": null,
   "metadata": {
    "id": "MqtCCgWwo7UL"
   },
   "outputs": [],
   "source": [
    "# Uncomment to dump the dataframe as Excel file\n",
    "#\n",
    "# df_installations_wide.to_excel('df_installations_wide.xlsx')"
   ]
  },
  {
   "cell_type": "code",
   "execution_count": null,
   "metadata": {
    "id": "qSZ_c2Epo7UL"
   },
   "outputs": [],
   "source": [
    "# df_installations_wide.info()"
   ]
  },
  {
   "cell_type": "code",
   "execution_count": null,
   "metadata": {
    "id": "pmapJbUTo7UL"
   },
   "outputs": [],
   "source": [
    "# df_installations_wide.head()"
   ]
  },
  {
   "cell_type": "code",
   "execution_count": null,
   "metadata": {
    "id": "oyFOdUd9o7UL"
   },
   "outputs": [],
   "source": [
    "# df_installations_wide.tail()"
   ]
  },
  {
   "cell_type": "markdown",
   "metadata": {
    "id": "eP6z9V0Ko7UL"
   },
   "source": [
    "## 2. Number of installations"
   ]
  },
  {
   "cell_type": "code",
   "execution_count": null,
   "metadata": {
    "id": "KDsT6gOGo7UL"
   },
   "outputs": [],
   "source": [
    "# Uncomment to check if external vs. internal installations are distinguished\n",
    "#\n",
    "# df_installations_wide.location.value_counts()"
   ]
  },
  {
   "cell_type": "markdown",
   "metadata": {
    "id": "52yfbbfyo7UO"
   },
   "source": [
    "### 2.1 Number of installations per release"
   ]
  },
  {
   "cell_type": "code",
   "execution_count": null,
   "metadata": {
    "colab": {
     "base_uri": "https://localhost:8080/",
     "height": 0
    },
    "id": "u07BSjAKo7UO",
    "outputId": "550283b1-5177-4e82-af70-cf4e77298b84"
   },
   "outputs": [],
   "source": [
    "sns.countplot(\n",
    "    # data = df_installations_wide.drop_duplicates(subset='installation_id'),\n",
    "    data = df_installations_wide.drop_duplicates(subset='installation_id').loc[:, 'release'].to_frame(),\n",
    "    x = 'release',\n",
    ")\n",
    "\n",
    "plt.tight_layout()\n",
    "plt.xticks(rotation=45, ha='right')\n",
    "\n",
    "plt.title('Number of installations per release')\n",
    "plt.ylabel(None)\n",
    "\n",
    "plt.show()"
   ]
  },
  {
   "cell_type": "code",
   "execution_count": null,
   "metadata": {
    "colab": {
     "base_uri": "https://localhost:8080/",
     "height": 0
    },
    "id": "_TfuQNmco7UO",
    "outputId": "641ccc5c-2d8d-4cbe-c225-f4d36568a5cc"
   },
   "outputs": [],
   "source": [
    "# Companion table with number of installations per release\n",
    "(\n",
    "    df_installations_wide\n",
    "    .drop_duplicates(subset='installation_id')\n",
    "    .release\n",
    "    .value_counts()\n",
    "    .to_frame()\n",
    "    .reset_index()\n",
    "    .rename(columns={'release': 'INSTALLATIONS', 'index': 'RELEASE'})\n",
    ")"
   ]
  },
  {
   "cell_type": "markdown",
   "metadata": {
    "id": "Gh8xhe9do7UO"
   },
   "source": [
    "### 2.2 Temporal evolution of installations"
   ]
  },
  {
   "cell_type": "code",
   "execution_count": null,
   "metadata": {
    "id": "bDAPrWYoo7UO"
   },
   "outputs": [],
   "source": [
    "df_installations_per_week = (\n",
    "    df_installations_wide\n",
    "    .drop_duplicates(subset='installation_id')\n",
    "    # .resample('W-MON', on='timestamp')\n",
    "    .groupby(\n",
    "        # [pd.Grouper(key='timestamp', freq='W-MON'), 'release']\n",
    "        [pd.Grouper(key='timestamp', freq='W'), 'release']\n",
    "    )\n",
    "    .installation_id\n",
    "    .count()\n",
    "    .reset_index()\n",
    "    .rename({'installation_id': 'weekly_installations'}, axis=1)\n",
    "    .assign(total_installations = lambda x: x.groupby('release').weekly_installations.cumsum())\n",
    ")"
   ]
  },
  {
   "cell_type": "code",
   "execution_count": null,
   "metadata": {
    "colab": {
     "base_uri": "https://localhost:8080/",
     "height": 614
    },
    "id": "jHrqV7nRo7UO",
    "outputId": "f7d12a6a-8cf0-42dc-f167-472fc9b37fa7"
   },
   "outputs": [],
   "source": [
    "sns.lineplot(\n",
    "    data = df_installations_per_week,\n",
    "    x = 'timestamp',\n",
    "    y = 'total_installations',\n",
    "    hue = 'release',\n",
    ")\n",
    "\n",
    "plt.title('Total installations per release')\n",
    "\n",
    "plt.show()"
   ]
  },
  {
   "cell_type": "code",
   "execution_count": null,
   "metadata": {
    "colab": {
     "base_uri": "https://localhost:8080/",
     "height": 708
    },
    "id": "x3u7utVuo7UP",
    "outputId": "741e02bf-c417-485d-cd97-4053f6c98953"
   },
   "outputs": [],
   "source": [
    "sns.pointplot(\n",
    "    data = (\n",
    "        df_installations_per_week\n",
    "        .assign(timestamp = lambda x: x.timestamp.astype(str))\n",
    "    ),\n",
    "    x = 'timestamp',\n",
    "    y = 'weekly_installations',\n",
    "    hue = 'release',\n",
    "    scale = 0.5,\n",
    ")\n",
    "\n",
    "plt.tight_layout()\n",
    "plt.xticks(rotation=45, ha='right')\n",
    "\n",
    "plt.title('Weekly installations per release')\n",
    "\n",
    "plt.show()"
   ]
  },
  {
   "cell_type": "markdown",
   "metadata": {
    "id": "EjBVx6Pso7UP"
   },
   "source": [
    "Summary as of the week of the last sample per release:"
   ]
  },
  {
   "cell_type": "code",
   "execution_count": null,
   "metadata": {
    "colab": {
     "base_uri": "https://localhost:8080/",
     "height": 488
    },
    "id": "TNpWzE3ko7UP",
    "outputId": "d32c4495-969d-4abc-d144-2d721c961736"
   },
   "outputs": [],
   "source": [
    "# Companion table of installations\n",
    "df_installations_per_week.groupby('release').last().sort_values('total_installations', ascending=False).reset_index()"
   ]
  },
  {
   "cell_type": "markdown",
   "metadata": {
    "id": "ouWzMz6wo7UP"
   },
   "source": [
    "Detail of weekly installations per release (last 36 weeks):"
   ]
  },
  {
   "cell_type": "code",
   "execution_count": null,
   "metadata": {
    "colab": {
     "base_uri": "https://localhost:8080/",
     "height": 865
    },
    "id": "YUSy6KP3o7UP",
    "outputId": "6f31d4bf-60b9-436c-a1d8-cf5acc41ded6"
   },
   "outputs": [],
   "source": [
    "(\n",
    "    df_installations_per_week\n",
    "    # .query(\"release.isin(@relevant_releases)\")\n",
    "    .loc[df_installations_per_week.release.isin(relevant_releases)]\n",
    "    .drop(columns = 'total_installations')\n",
    "    .pivot_table(\n",
    "        index = 'timestamp',\n",
    "        columns = 'release'\n",
    "    )\n",
    "    .fillna(0)\n",
    "    .astype('int')\n",
    ").tail(36)"
   ]
  },
  {
   "cell_type": "markdown",
   "metadata": {
    "id": "_cTWx0Ipo7UP"
   },
   "source": [
    "## 3. Progress during installation"
   ]
  },
  {
   "cell_type": "markdown",
   "metadata": {
    "id": "5rXDp-eWo7UP"
   },
   "source": [
    "### 3.1 Overview of successful installation steps"
   ]
  },
  {
   "cell_type": "code",
   "execution_count": null,
   "metadata": {
    "colab": {
     "base_uri": "https://localhost:8080/",
     "height": 1000
    },
    "id": "uVToeafMo7UQ",
    "outputId": "1dadc9a0-e309-44cd-998d-118d7aeb011b"
   },
   "outputs": [],
   "source": [
    "\n",
    "ax = sns.catplot(\n",
    "    # data = df_installations_wide,\n",
    "    data = df_installations_wide.loc[:, ['release', 'achievement']],\n",
    "    y = 'achievement',\n",
    "    col = 'release',\n",
    "    col_wrap = 4,\n",
    "    kind = 'count',\n",
    "    sharex = False\n",
    ")\n",
    "\n",
    "ax.fig.suptitle('Installation steps achieved per release\\n\\n', fontsize = 22)\n",
    "ax.tight_layout()\n",
    "\n",
    "plt.show()"
   ]
  },
  {
   "cell_type": "code",
   "execution_count": null,
   "metadata": {
    "id": "jK7WLvoQo7UQ"
   },
   "outputs": [],
   "source": [
    "# TODO: Apply at the beginning of the notebook and adapt next processing steps accordingly\n",
    "name_mappings = {\n",
    "    'ReleaseTWELVE': 'Release TWELVE',\n",
    "    'ReleaseTWELVE-daily': 'Release TWELVE-daily',\n",
    "    'ReleaseELEVEN': 'Release ELEVEN',\n",
    "    'ReleaseELEVEN-daily': 'Release ELEVEN-daily'\n",
    "}"
   ]
  },
  {
   "cell_type": "code",
   "execution_count": null,
   "metadata": {
    "id": "mn6I8otUo7UQ"
   },
   "outputs": [],
   "source": [
    "def add_pct(df):\n",
    "    return (\n",
    "        df\n",
    "        .assign(percentage =\n",
    "            (\n",
    "                df\n",
    "                # .groupby(['release'])['count']\n",
    "                .groupby(['release', 'installation_type'])['count']\n",
    "\n",
    "                # TODO: Remove if mapping is applied at the beginning of the notebook\n",
    "                .transform(lambda x: x / x.max())\n",
    "            )\n",
    "        )\n",
    "    )"
   ]
  },
  {
   "cell_type": "code",
   "execution_count": null,
   "metadata": {
    "id": "ikxo2cTEo7UQ"
   },
   "outputs": [],
   "source": [
    "# df_installations_wide.tail()"
   ]
  },
  {
   "cell_type": "markdown",
   "metadata": {
    "id": "PAKyG-Bko7UQ"
   },
   "source": [
    "### 3.2 Installation funnels per release"
   ]
  },
  {
   "cell_type": "code",
   "execution_count": null,
   "metadata": {
    "id": "CFw0ATIZo7UQ"
   },
   "outputs": [],
   "source": [
    "# df_installations_wide.head()"
   ]
  },
  {
   "cell_type": "code",
   "execution_count": null,
   "metadata": {
    "id": "mYbzuDcTo7UQ"
   },
   "outputs": [],
   "source": [
    "def get_funnels_per_release(df_installations_wide):\n",
    "    return (\n",
    "        df_installations_wide\n",
    "        # .groupby(['achievement', 'release'])\n",
    "        .groupby(['achievement', 'release', 'installation_type'])\n",
    "        .installation_id\n",
    "        .count()\n",
    "        .reset_index()\n",
    "        .rename(columns={'installation_id': 'count'})\n",
    "        .replace({'release': name_mappings})\n",
    "        .pipe(add_pct)\n",
    "        # .fillna(0)\n",
    "        .fillna(value = {'percentage': 0})\n",
    "    )"
   ]
  },
  {
   "cell_type": "code",
   "execution_count": null,
   "metadata": {
    "id": "VYdejJaio7UR"
   },
   "outputs": [],
   "source": [
    "df_funnels_per_release = get_funnels_per_release(df_installations_wide)"
   ]
  },
  {
   "cell_type": "code",
   "execution_count": null,
   "metadata": {
    "id": "DS9GMQ9So7UR"
   },
   "outputs": [],
   "source": [
    "# df_funnels_per_release.info()"
   ]
  },
  {
   "cell_type": "code",
   "execution_count": null,
   "metadata": {
    "id": "JzpLPPdpo7UR"
   },
   "outputs": [],
   "source": [
    "# df_funnels_per_release.tail()"
   ]
  },
  {
   "cell_type": "code",
   "execution_count": null,
   "metadata": {
    "id": "Qz3-7BDIo7UR"
   },
   "outputs": [],
   "source": [
    "# df_funnels_per_release"
   ]
  },
  {
   "cell_type": "code",
   "execution_count": null,
   "metadata": {
    "id": "oDmRUeqpo7UR"
   },
   "outputs": [],
   "source": [
    "def plot_funnel(df_funnel, x='count', title=None, filename=None):\n",
    "\n",
    "    df = (\n",
    "        df_funnel\n",
    "        .query(\"achievement != 'osm_unhealthy'\")\n",
    "        .assign(achievement = lambda x: x.achievement.cat.remove_unused_categories())\n",
    "        .query(\"count > 0 | (achievement == 'start_ok') | (achievement == 'end')\")\n",
    "    )\n",
    "\n",
    "    fig = px.funnel(\n",
    "        df,\n",
    "        x = x,\n",
    "        y = 'achievement',\n",
    "        title = title\n",
    "    )\n",
    "\n",
    "    fig.update_layout(\n",
    "        width = 800,\n",
    "        height = 1200,\n",
    "        title_font_size = 24,\n",
    "        title_font_family = \"Arial\",\n",
    "        # paper_bgcolor=\"LightSteelBlue\",\n",
    "    )\n",
    "\n",
    "    fig.update_traces(\n",
    "        textinfo=\"value+percent initial\",\n",
    "        textposition = \"inside\"\n",
    "    )\n",
    "\n",
    "    if filename:\n",
    "        # TODO:\n",
    "        # fig.write_image(\"images/fig1.png\")\n",
    "        pass\n",
    "\n",
    "    fig.show()"
   ]
  },
  {
   "cell_type": "code",
   "execution_count": null,
   "metadata": {
    "id": "svIWWsjjo7US"
   },
   "outputs": [],
   "source": [
    "# list(pio.templates)"
   ]
  },
  {
   "cell_type": "code",
   "execution_count": null,
   "metadata": {
    "id": "AyN3jcRro7US"
   },
   "outputs": [],
   "source": [
    "# OPTIONS:\n",
    "# - 'ggplot2'\n",
    "# - 'seaborn'\n",
    "# - 'simple_white'\n",
    "# - 'plotly'\n",
    "# - 'plotly_white'\n",
    "# - 'plotly_dark'\n",
    "# - 'presentation'\n",
    "# - 'xgridoff'\n",
    "# - 'ygridoff'\n",
    "# - 'gridon'\n",
    "# - 'none'\n",
    "\n",
    "pio.templates.default = \"seaborn\"\n",
    "# pio.templates.default = \"plotly_white\"\n"
   ]
  },
  {
   "cell_type": "code",
   "execution_count": null,
   "metadata": {
    "id": "3yVCbtJso7US"
   },
   "outputs": [],
   "source": [
    "# df_funnels_per_release.head()"
   ]
  },
  {
   "cell_type": "code",
   "execution_count": null,
   "metadata": {
    "id": "K7LEEKhmo7US"
   },
   "outputs": [],
   "source": [
    "# funnels_per_release = df_funnels_per_release.groupby('release')\n",
    "\n",
    "# # releases_to_plot = [release for release in df_funnels_per_release.release.unique() if release in relevant_releases]\n",
    "# releases_to_plot = [release for release in relevant_releases if release in df_funnels_per_release.release.unique()]\n",
    "\n",
    "# for release in releases_to_plot:\n",
    "#     df_funnel = funnels_per_release.get_group(release)\n",
    "#     display(\n",
    "#         _ = plot_funnel(\n",
    "#             df_funnel,\n",
    "#             x = 'count',\n",
    "#             title = f'Funnel of {release} installations'\n",
    "#         )\n",
    "#     )"
   ]
  },
  {
   "cell_type": "code",
   "execution_count": null,
   "metadata": {
    "colab": {
     "base_uri": "https://localhost:8080/",
     "height": 1000
    },
    "id": "L6Fry37jo7US",
    "outputId": "c99339f5-37d9-43a9-d0c4-1a16cf8923d7"
   },
   "outputs": [],
   "source": [
    "for installation_type in ['Default', 'Charmed']:\n",
    "\n",
    "    funnels_per_release = df_funnels_per_release.query(\"installation_type == @installation_type\").groupby('release')\n",
    "\n",
    "    # releases_to_plot = [release for release in df_funnels_per_release.release.unique() if release in relevant_releases]\n",
    "    releases_to_plot = [release for release in relevant_releases if release in df_funnels_per_release.release.unique()]\n",
    "\n",
    "    for release in releases_to_plot:\n",
    "        df_funnel = funnels_per_release.get_group(release)\n",
    "        display(\n",
    "            _ = plot_funnel(\n",
    "                df_funnel,\n",
    "                x = 'count',\n",
    "                title = f'Funnel of {release} installations ({installation_type.lower()} installer)'\n",
    "            )\n",
    "        )"
   ]
  },
  {
   "cell_type": "code",
   "execution_count": null,
   "metadata": {
    "colab": {
     "base_uri": "https://localhost:8080/",
     "height": 1000
    },
    "id": "qc6rz2Cro7US",
    "outputId": "780c0f12-6af2-4729-f9bc-d4d28b27a353"
   },
   "outputs": [],
   "source": [
    "# Companion tables of funnels\n",
    "for installation_type in ['Default', 'Charmed']:\n",
    "\n",
    "    print(f\"\\n{installation_type} installer:\")\n",
    "    display(\n",
    "        df_funnels_per_release\n",
    "        .query(\"installation_type == @installation_type\")\n",
    "        .query(\"achievement == 'end' or achievement == 'start_ok'\")\n",
    "        .drop(columns='percentage')\n",
    "        .pivot(\n",
    "            index = 'release',\n",
    "            values = 'count',\n",
    "            columns = 'achievement'\n",
    "            # columns = ['installation_type', 'achievement']\n",
    "        )\n",
    "        .pipe(cast_axis_to_str)\n",
    "        .reset_index()\n",
    "        .pipe(remove_column_axis_name)\n",
    "        .rename(columns = {'release': 'RELEASE', 'start_ok': 'TOTAL_INSTALLS', 'end': 'SUCCESSFUL_INSTALLS'})\n",
    "        .assign(SUCCESS_RATIO = lambda x: (x.SUCCESSFUL_INSTALLS / x.TOTAL_INSTALLS).fillna(0))\n",
    "    )"
   ]
  },
  {
   "cell_type": "code",
   "execution_count": null,
   "metadata": {
    "id": "thl1eSUABbmN"
   },
   "outputs": [],
   "source": []
  },
  {
   "cell_type": "markdown",
   "metadata": {
    "id": "JcyzlPcBo7UT"
   },
   "source": [
    "## 4. Analysis of failed installation attempts"
   ]
  },
  {
   "cell_type": "code",
   "execution_count": null,
   "metadata": {
    "id": "ZhiFNi83o7UT"
   },
   "outputs": [],
   "source": [
    "df_fatal_errors = (\n",
    "    df_installations_wide\n",
    "    .query(\"event == 'start'\")\n",
    "    [['location', 'release', 'installation_type', 'fatal', 'installation_id']]\n",
    "    .groupby(['location', 'release', 'installation_type', 'fatal'], dropna=False)\n",
    "    .count()\n",
    "    .reset_index()\n",
    "    .rename(columns = {'installation_id': 'count'})\n",
    "    .assign(installation_type = lambda x: x.installation_type.fillna('Other'))\n",
    ")"
   ]
  },
  {
   "cell_type": "code",
   "execution_count": null,
   "metadata": {
    "id": "LuTUGpnxo7UT"
   },
   "outputs": [],
   "source": [
    "# df_fatal_errors.info()"
   ]
  },
  {
   "cell_type": "code",
   "execution_count": null,
   "metadata": {
    "id": "yEfDXLuRo7UT"
   },
   "outputs": [],
   "source": [
    "# df_fatal_errors.tail()"
   ]
  },
  {
   "cell_type": "code",
   "execution_count": null,
   "metadata": {
    "colab": {
     "base_uri": "https://localhost:8080/",
     "height": 1000
    },
    "id": "oQS2MBtjo7UU",
    "outputId": "611ffbde-9151-4a86-bb65-cc1ff0832231"
   },
   "outputs": [],
   "source": [
    "width = 7\n",
    "height = 6\n",
    "\n",
    "g = sns.catplot(\n",
    "    # data = df_fatal_errors,\n",
    "    data = df_fatal_errors[df_fatal_errors.release.isin(relevant_releases)],\n",
    "    y = 'count',\n",
    "    x = 'fatal',\n",
    "    hue = 'installation_type',\n",
    "    col = 'release',\n",
    "    col_wrap = 2,\n",
    "    kind = 'bar',\n",
    "    sharex = False,\n",
    "    ci = None,\n",
    "    height = height,\n",
    "    aspect = width / height,\n",
    ")\n",
    "\n",
    "g.set_xticklabels(rotation=30)\n",
    "g.fig.suptitle('Root causes of fatal installation errors, per release\\n\\n', fontsize = 22)\n",
    "g.tight_layout()\n",
    "\n",
    "plt.show()"
   ]
  },
  {
   "cell_type": "code",
   "execution_count": null,
   "metadata": {
    "colab": {
     "base_uri": "https://localhost:8080/",
     "height": 1000
    },
    "id": "aox9lEbbo7UU",
    "outputId": "c8dd4314-691a-439e-ba4c-5be9e99014e6"
   },
   "outputs": [],
   "source": [
    "# Companion table\n",
    "df_fatal_errors.pivot_table(\n",
    "    index = ['location', 'release'],\n",
    "    columns = ['installation_type', 'fatal'],\n",
    "    values = 'count'\n",
    ")"
   ]
  },
  {
   "cell_type": "code",
   "execution_count": null,
   "metadata": {
    "id": "n6FiIUAko7UU"
   },
   "outputs": [],
   "source": [
    "df_unhealthy_installs = (\n",
    "    df_installations_wide\n",
    "    .query(\"event == 'start'\")\n",
    "    [['location', 'release', 'installation_type', 'osm_unhealthy', 'installation_id']]\n",
    "    .groupby(['location', 'release', 'installation_type', 'osm_unhealthy'], dropna=False)\n",
    "    .count()\n",
    "    .reset_index()\n",
    "    .rename(columns = {'installation_id': 'count'})\n",
    "    .assign(installation_type = lambda x: x.installation_type.fillna('Other'))\n",
    ")"
   ]
  },
  {
   "cell_type": "code",
   "execution_count": null,
   "metadata": {
    "id": "ZDU1QOuMo7UU"
   },
   "outputs": [],
   "source": [
    "# df_unhealthy_installs.info()"
   ]
  },
  {
   "cell_type": "code",
   "execution_count": null,
   "metadata": {
    "id": "blo-2l5Po7UU"
   },
   "outputs": [],
   "source": [
    "# df_unhealthy_installs.tail()"
   ]
  },
  {
   "cell_type": "code",
   "execution_count": null,
   "metadata": {
    "colab": {
     "base_uri": "https://localhost:8080/",
     "height": 1000
    },
    "id": "5VeGyf4_o7UU",
    "outputId": "1ddd665a-e398-4ca2-b4e0-17155cc24f1f"
   },
   "outputs": [],
   "source": [
    "ax = sns.catplot(\n",
    "    data = df_unhealthy_installs[df_unhealthy_installs.release.isin(relevant_releases)],\n",
    "    y = 'count',\n",
    "    x = 'osm_unhealthy',\n",
    "    hue = 'installation_type',\n",
    "    col = 'release',\n",
    "    col_wrap = 2,\n",
    "    kind = 'bar',\n",
    "    sharex = False,\n",
    "    ci = None\n",
    ")\n",
    "\n",
    "# ax.set_xticklabels(rotation=30)\n",
    "ax.fig.suptitle('Causes of unhealthy installations per release\\n\\n', fontsize = 22)\n",
    "\n",
    "ax.tight_layout()\n",
    "\n",
    "plt.show()"
   ]
  },
  {
   "cell_type": "code",
   "execution_count": null,
   "metadata": {
    "colab": {
     "base_uri": "https://localhost:8080/",
     "height": 990
    },
    "id": "eigcM5Jpo7UU",
    "outputId": "d120c009-576a-48a4-c38d-0136b9a5e879"
   },
   "outputs": [],
   "source": [
    "# Companion table of unhealthy installations\n",
    "df_unhealthy_installs.pivot_table(\n",
    "    index = ['location', 'release'],\n",
    "    columns = ['installation_type', 'osm_unhealthy'],\n",
    "    values = 'count'\n",
    ")"
   ]
  },
  {
   "cell_type": "code",
   "execution_count": null,
   "metadata": {
    "id": "nngV-GqPmepo"
   },
   "outputs": [],
   "source": []
  },
  {
   "cell_type": "markdown",
   "metadata": {
    "id": "4JfD0vFYmw9L"
   },
   "source": [
    "## ANNEX: Analysis of anomalies in progress logs"
   ]
  },
  {
   "cell_type": "code",
   "execution_count": null,
   "metadata": {
    "id": "2CINSzGKmflA"
   },
   "outputs": [],
   "source": [
    "# Obtais a matrix of achievements of installations per release and type of installer\n",
    "# Returns a dataframe where:\n",
    "# - Index: `installation_id`\n",
    "# - Columns: `achievement`\n",
    "# - Values: 1 if achieved; 0 otherwise.\n",
    "def get_achievement_matrix_per_install_type(df_installations_wide, release, installer):\n",
    "  return (\n",
    "      df_installations_wide\n",
    "      .query(\"(release == @release) and (installation_type == @installer)\")\n",
    "      .assign(achievement = lambda x: x.achievement.cat.remove_unused_categories())\n",
    "      .pivot_table(\n",
    "          index = 'installation_id',\n",
    "          columns = 'achievement',\n",
    "          values = 'timestamp',\n",
    "          aggfunc = 'count'\n",
    "      )\n",
    "      .pipe(remove_column_axis_name)\n",
    "  )\n",
    "\n",
    "# Obtains a matrix of changes in a given matrix of installation sequences (for one release and one installer)\n",
    "# Returns a dataframe where:\n",
    "# - Index: `installation_id`\n",
    "# - Columns: `achievement`\n",
    "# - Values: 1 if changed; 0 otherwise.\n",
    "def get_changes_in_installation_sequence(df):\n",
    "  return df.T.apply(lambda x: (x != x.shift()).astype(int)).T\n",
    "\n",
    "# get_changes_in_installation_sequence(df)\n",
    "\n",
    "# # Number of changes per installation attempt\n",
    "# get_changes_in_installation_sequence(df).T.sum(axis=0) - 1\n",
    "\n",
    "# Obtains a matrix of DOUBLE CHANGES in a given matrix of installation sequences (for one release and one installer)\n",
    "# - THESE ARE A SIGN OF ERRORS IN THE TRACKING\n",
    "# Returns a dataframe where:\n",
    "# - Index: `installation_id`\n",
    "# - Columns: `achievement`\n",
    "# - Values: 1 if double change; 0 otherwise.\n",
    "def get_double_changes_in_installation_sequence(df):\n",
    "  return (\n",
    "    df.T\n",
    "    # .apply(lambda x: ((x != x.shift()) & (x != x.shift(-1))).astype(int))\n",
    "    .apply(lambda x: ((x.shift() == 1) & (x == 0) & (x.shift(-1) == 1)).astype(int))\n",
    "    .T\n",
    "    .assign(start_ok = 0)\n",
    "    .assign(end = 0)\n",
    "  )\n",
    "\n",
    "\n",
    "def plot_double_changes_per_operation(double_changes_per_operation, title):\n",
    "\n",
    "  fig, ax = plt.subplots(figsize = (7,10))\n",
    "  # fig, ax = plt.subplots()\n",
    "\n",
    "  sns.barplot(\n",
    "      data = double_changes_per_operation,\n",
    "      y = 'operation',\n",
    "      x = 'number_double_changes',\n",
    "      ci = None,\n",
    "      ax = ax,\n",
    "      order = (\n",
    "          double_changes_per_operation\n",
    "          .sort_values('number_double_changes', ascending=False)\n",
    "          .operation\n",
    "      )\n",
    "  )\n",
    "\n",
    "  # fig.suptitle(title, fontsize=20)\n",
    "  ax.set_title(title, fontsize=18)\n",
    "  ax.set_xlabel('Number of double changes')\n",
    "  ax.set_ylabel('Operation')\n",
    "  fig.tight_layout()\n",
    "\n",
    "  plt.show()"
   ]
  },
  {
   "cell_type": "code",
   "execution_count": null,
   "metadata": {
    "colab": {
     "base_uri": "https://localhost:8080/",
     "height": 1000
    },
    "id": "pvj35P8DmflB",
    "outputId": "b217cbd8-47e0-4331-c20b-9eb8e8987a6b"
   },
   "outputs": [],
   "source": [
    "for installer in ['Default', 'Charmed']:\n",
    "# for installer in ['Default']:\n",
    "    # for release in [r for r in df_installations_wide.release.unique() if r in relevant_releases]:\n",
    "    for release in ['ReleaseTWELVE', 'ReleaseELEVEN']:\n",
    "\n",
    "        # Gets matrix of double changes for a given release and installer\n",
    "        df_double_changes = (\n",
    "            df_installations_wide\n",
    "            .pipe(get_achievement_matrix_per_install_type, release, installer)\n",
    "            .pipe(get_double_changes_in_installation_sequence)\n",
    "        )\n",
    "\n",
    "        # Installation IDs with at least one double change\n",
    "        installs_with_double_changes = (\n",
    "            df_double_changes\n",
    "            .sum(axis=1)\n",
    "            .sort_values(ascending=False)\n",
    "            .to_frame(name='count_double_changes')\n",
    "            .query(\"count_double_changes > 0\")\n",
    "            .assign(release = release)\n",
    "            .replace({'release': name_mappings})\n",
    "            .assign(installer = installer)\n",
    "        )\n",
    "        # installs_with_double_changes\n",
    "\n",
    "        # Number of double changes found per operation\n",
    "        double_changes_per_operation = (\n",
    "            df_double_changes\n",
    "            .sum(axis=0)\n",
    "            .sort_values(ascending=False)\n",
    "            .to_frame(name='number_double_changes')\n",
    "            .reset_index()\n",
    "            .rename(columns = {'index': 'operation'})\n",
    "            .query(\"number_double_changes > 0\")\n",
    "            .assign(release = release)\n",
    "            .replace({'release': name_mappings})\n",
    "            .assign(installer = installer)\n",
    "        )\n",
    "        # double_changes_per_operation\n",
    "\n",
    "        # Plots the top operations with doble changes per release and installer\n",
    "        if len(double_changes_per_operation):\n",
    "          display(\n",
    "              _ = plot_double_changes_per_operation(\n",
    "                double_changes_per_operation,\n",
    "                f\"Double changes per operation - {name_mappings[release]} ({installer.lower()} installer)\\n\"\n",
    "              )\n",
    "          )\n",
    "        else:\n",
    "          print(f\"\\n{name_mappings[release]} with {installer.lower()} installer does not have double changes.\\n\")"
   ]
  },
  {
   "cell_type": "code",
   "execution_count": null,
   "metadata": {
    "id": "zeEFHVGXcI-t"
   },
   "outputs": [],
   "source": []
  },
  {
   "cell_type": "code",
   "execution_count": null,
   "metadata": {
    "id": "cgxl5iFpo7UV"
   },
   "outputs": [],
   "source": [
    "## Saving the notebook as webpage"
   ]
  },
  {
   "cell_type": "code",
   "execution_count": null,
   "metadata": {
    "colab": {
     "base_uri": "https://localhost:8080/"
    },
    "id": "Pn1mHKE4o7UV",
    "outputId": "dfbb9fd6-cbe9-4042-a046-86d272143564"
   },
   "outputs": [],
   "source": [
    "if not skip_export_to_html:\n",
    "    !jupyter nbconvert --to html --output outputs/installation_analysis.html --TemplateExporter.exclude_input=True installation_analysis.ipynb"
   ]
  },
  {
   "cell_type": "code",
   "execution_count": null,
   "metadata": {
    "colab": {
     "base_uri": "https://localhost:8080/"
    },
    "id": "0RPnN8bTo7UV",
    "outputId": "d3d55ab0-be53-4e04-e3b5-ec2629f14209"
   },
   "outputs": [],
   "source": [
    "print('DONE')"
   ]
  },
  {
   "cell_type": "markdown",
   "metadata": {
    "id": "n3nhEN8go7UV"
   },
   "source": [
    "---\n"
   ]
  }
 ],
 "metadata": {
  "colab": {
   "name": "installation_analysis.ipynb",
   "provenance": [],
   "toc_visible": true
  },
  "interpreter": {
   "hash": "436f2814f1f12011c00cf6933038a969dd0edc275127d459a28a14c2140dfae0"
  },
  "kernelspec": {
   "display_name": "osm-analytics",
   "language": "python",
   "name": "osm-analytics"
  },
  "language_info": {
   "codemirror_mode": {
    "name": "ipython",
    "version": 3
   },
   "file_extension": ".py",
   "mimetype": "text/x-python",
   "name": "python",
   "nbconvert_exporter": "python",
   "pygments_lexer": "ipython3",
   "version": "3.8.5"
  }
 },
 "nbformat": 4,
 "nbformat_minor": 0
}
